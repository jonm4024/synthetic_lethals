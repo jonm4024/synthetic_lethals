{
 "metadata": {
  "name": "",
  "signature": "sha256:3a9cd6c7722d1e8775e4af17d4ea2518380a0542632f461e58935eebd8c7fb1d"
 },
 "nbformat": 3,
 "nbformat_minor": 0,
 "worksheets": [
  {
   "cells": [
    {
     "cell_type": "markdown",
     "metadata": {},
     "source": [
      "#Run double deletions"
     ]
    },
    {
     "cell_type": "code",
     "collapsed": false,
     "input": [
      "from cobra.flux_analysis.double_deletion import double_gene_deletion_fba\n",
      "from cobra.io import load_matlab_model, save_matlab_model\n",
      "import pandas as pd"
     ],
     "language": "python",
     "metadata": {},
     "outputs": [
      {
       "output_type": "stream",
       "stream": "stderr",
       "text": [
        "cobra/io/__init__.py:17 \u001b[1;31mUserWarning\u001b[0m: cobra.io.sbml requires libsbml\n"
       ]
      }
     ],
     "prompt_number": 1
    },
    {
     "cell_type": "code",
     "collapsed": false,
     "input": [
      "import os\n",
      "os.chdir('/media/users/jmonk/helper/models/')"
     ],
     "language": "python",
     "metadata": {},
     "outputs": [],
     "prompt_number": 2
    },
    {
     "cell_type": "code",
     "collapsed": false,
     "input": [
      "# need to get iJO, EDL933 and KP models here in mat format\n",
      "!ls"
     ],
     "language": "python",
     "metadata": {},
     "outputs": [
      {
       "output_type": "stream",
       "stream": "stdout",
       "text": [
        "convert.py\t\t iJO1366.xml\t     iZ1308_LB.mat\r\n",
        "ecoli_core_textbook.xml  iPC805_fix.pickle   iZ_1308.mat\r\n",
        "EDL933.mat\t\t iPC805_fix.xml      iZ1308.mat\r\n",
        "gurobi.log\t\t iPC805_LB.mat\t     iZ_1308.xml\r\n",
        "iAF1260.mat\t\t iPC805.mat\t     STM_v1.0_fix.pickle\r\n",
        "iJO1366_LB.mat\t\t iYL1228_fix.pickle  STM_v1.0_fix.xml\r\n",
        "iJO1366.mat\t\t iYL1228_fix.xml     STM_v1.0_LB.mat\r\n",
        "iJO1366_old.pickle\t iYL1228_LB.mat      STM_v1.0.mat\r\n",
        "iJO1366.pickle\t\t iYL1228.mat\t     test.mat\r\n"
       ]
      }
     ],
     "prompt_number": 3
    },
    {
     "cell_type": "code",
     "collapsed": false,
     "input": [
      "#model = load_matlab_model('iYL1228.mat')\n",
      "#model = load_matlab_model('iJO1366.mat')\n",
      "#model = load_matlab_model('iZ1308.mat')\n",
      "model = load_matlab_model('iPC805.mat')\n",
      "#model = load_matlab_model('STM_v1.0.mat')"
     ],
     "language": "python",
     "metadata": {},
     "outputs": [],
     "prompt_number": 4
    },
    {
     "cell_type": "code",
     "collapsed": false,
     "input": [
      "model.reactions.ENTERH.gene_reaction_rule = 'Z1191 or Z1631 or Z0725'\n",
      "model.reactions.UREA.gene_reaction_rule = '(Z1144 or Z1583) and (Z1145 or Z1584) and (Z1143 or Z1582)'"
     ],
     "language": "python",
     "metadata": {},
     "outputs": [],
     "prompt_number": 16
    },
    {
     "cell_type": "code",
     "collapsed": false,
     "input": [
      "for r in model.reactions:\n",
      "    if r.id.startswith('EX_') and r.lower_bound < 0:\n",
      "        print r, r.name, r.lower_bound\n",
      "        "
     ],
     "language": "python",
     "metadata": {},
     "outputs": [
      {
       "output_type": "stream",
       "stream": "stdout",
       "text": [
        "EX_ca2_LPAREN_e_RPAREN_ ca2[e] Exchange -1000.0\n",
        "EX_cit_LPAREN_e_RPAREN_ cit[e] Exchange -7.4\n",
        "EX_cl_LPAREN_e_RPAREN_ cl[e] Exchange -1000.0\n",
        "EX_cys_L_LPAREN_e_RPAREN_ cys-L[e] Exchange -1.0\n",
        "EX_fe2_LPAREN_e_RPAREN_ fe2[e] Exchange -1000.0\n",
        "EX_glc_D_LPAREN_e_RPAREN_ glc-D[e] Exchange -2.0\n",
        "EX_gly_LPAREN_e_RPAREN_ gly[e] Exchange -2.2\n",
        "EX_h2o_LPAREN_e_RPAREN_ h2o[e] Exchange -1000.0\n",
        "EX_h_LPAREN_e_RPAREN_ h[e] Exchange -1000.0\n",
        "EX_k_LPAREN_e_RPAREN_ k[e] Exchange -1000.0\n",
        "EX_lys_L_LPAREN_e_RPAREN_ lys-L[e] Exchange -1.0\n",
        "EX_met_L_LPAREN_e_RPAREN_ met-L[e] Exchange -1.5\n",
        "EX_mg2_LPAREN_e_RPAREN_ mg2[e] Exchange -1000.0\n",
        "EX_mn2_LPAREN_e_RPAREN_ mn2[e] Exchange -1000.0\n",
        "EX_o2_LPAREN_e_RPAREN_ o2[e] Exchange -20.0\n",
        "EX_phe_L_LPAREN_e_RPAREN_ phe-L[e] Exchange -2.4\n",
        "EX_pi_LPAREN_e_RPAREN_ pi[e] Exchange -1000.0\n",
        "EX_pnto_R_LPAREN_e_RPAREN_ pnto-R[e] Exchange -1000.0\n",
        "EX_so4_LPAREN_e_RPAREN_ so4[e] Exchange -1000.0\n",
        "EX_thm_LPAREN_e_RPAREN_ thm[e] Exchange -1000.0\n",
        "EX_tyr_L_LPAREN_e_RPAREN_ tyr-L[e] Exchange -1.1\n"
       ]
      }
     ],
     "prompt_number": 5
    },
    {
     "cell_type": "code",
     "collapsed": false,
     "input": [
      "model.optimize()"
     ],
     "language": "python",
     "metadata": {},
     "outputs": [
      {
       "metadata": {},
       "output_type": "pyout",
       "prompt_number": 38,
       "text": [
        "<Solution 0.28315692362 at 0x7f1f93434850>"
       ]
      }
     ],
     "prompt_number": 38
    },
    {
     "cell_type": "code",
     "collapsed": false,
     "input": [
      "LBMEDIA = {}\n",
      "rxn_exchange_dict = {}\n",
      "\n",
      "LBMEDIA['EX_glc_LPAREN_e_RPAREN_'] = -5\n",
      "LBMEDIA['EX_ala_DASH_L_LPAREN_e_RPAREN_'] = -5\n",
      "LBMEDIA['EX_arg_DASH_L_LPAREN_e_RPAREN_'] = -5\n",
      "LBMEDIA['EX_asp_DASH_L_LPAREN_e_RPAREN_'] = -5\n",
      "LBMEDIA['EX_cys_DASH_L_LPAREN_e_RPAREN_'] = -5\n",
      "LBMEDIA['EX_glu_DASH_L_LPAREN_e_RPAREN_'] = -5\n",
      "LBMEDIA['EX_gly_LPAREN_e_RPAREN_'] = -5\n",
      "LBMEDIA['EX_his_DASH_L_LPAREN_e_RPAREN_'] = -5\n",
      "LBMEDIA['EX_ile_DASH_L_LPAREN_e_RPAREN_'] = -5\n",
      "LBMEDIA['EX_leu_DASH_L_LPAREN_e_RPAREN_'] = -5\n",
      "LBMEDIA['EX_lys_DASH_L_LPAREN_e_RPAREN_'] = -5\n",
      "LBMEDIA['EX_met_DASH_L_LPAREN_e_RPAREN_'] = -5\n",
      "LBMEDIA['EX_pro_DASH_L_LPAREN_e_RPAREN_'] = -5\n",
      "LBMEDIA['EX_thr_DASH_L_LPAREN_e_RPAREN_'] = -5\n",
      "LBMEDIA['EX_tyr_DASH_L_LPAREN_e_RPAREN_'] = -5\n",
      "LBMEDIA['EX_phe_DASH_L_LPAREN_e_RPAREN_'] = -5\n",
      "LBMEDIA['EX_ser_DASH_L_LPAREN_e_RPAREN_'] = -5\n",
      "LBMEDIA['EX_trp_DASH_L_LPAREN_e_RPAREN_'] = -5\n",
      "LBMEDIA['EX_val_DASH_L_LPAREN_e_RPAREN_'] = -5\n",
      "LBMEDIA['EX_pnto_DASH_R_LPAREN_e_RPAREN_'] = -5\n",
      "LBMEDIA['EX_nac_LPAREN_e_RPAREN_'] = -5\n",
      "LBMEDIA['EX_na1_LPAREN_e_RPAREN_'] = -1000\n",
      "LBMEDIA['EX_cl_LPAREN_e_RPAREN_'] = -1000\n",
      "LBMEDIA['EX_so4_LPAREN_e_RPAREN_'] = -1000\n",
      "LBMEDIA['EX_k_LPAREN_e_RPAREN_'] = -1000\n",
      "LBMEDIA['EX_pi_LPAREN_e_RPAREN_'] = -1000\n",
      "LBMEDIA['EX_ca2_LPAREN_e_RPAREN_'] = -1000\n",
      "LBMEDIA['EX_mg2_LPAREN_e_RPAREN_'] = -1000\n",
      "LBMEDIA['EX_zn2_LPAREN_e_RPAREN_'] = -1000\n",
      "LBMEDIA['EX_aso3_LPAREN_e_RPAREN_'] = -1000\n",
      "LBMEDIA['EX_cd2_LPAREN_e_RPAREN_'] = -1000\n",
      "LBMEDIA['EX_hg2_LPAREN_e_RPAREN_'] = -1000\n",
      "LBMEDIA['EX_h_LPAREN_e_RPAREN_'] = -100\n",
      "LBMEDIA['EX_h2o_LPAREN_e_RPAREN_'] = -100\n",
      "LBMEDIA['EX_o2_LPAREN_e_RPAREN_'] = -18.5\n",
      "LBMEDIA['EX_ins_LPAREN_e_RPAREN_'] = -5\n",
      "LBMEDIA['EX_hxan_LPAREN_e_RPAREN_'] = -5\n",
      "LBMEDIA['EX_dcyt_LPAREN_e_RPAREN_'] = -5\n",
      "LBMEDIA['EX_thymd_LPAREN_e_RPAREN_'] = -5\n",
      "LBMEDIA['EX_ura_LPAREN_e_RPAREN_'] = -5\n",
      "LBMEDIA['EX_uri_LPAREN_e_RPAREN_'] = -5\n",
      "LBMEDIA['EX_dad_DASH_2_LPAREN_e_RPAREN_'] = -5\n",
      "LBMEDIA['EX_adn_LPAREN_e_RPAREN_'] = -5\n",
      "LBMEDIA['EX_co2_LPAREN_e_RPAREN_'] = -1000\n",
      "LBMEDIA['EX_cobalt2_LPAREN_e_RPAREN_'] = -1000\n",
      "LBMEDIA['EX_cu2_LPAREN_e_RPAREN_'] = -1000\n",
      "LBMEDIA['EX_fe2_LPAREN_e_RPAREN_'] = -1000\n",
      "LBMEDIA['EX_fe3_LPAREN_e_RPAREN_'] = -1000\n",
      "LBMEDIA['EX_mn2_LPAREN_e_RPAREN_'] = -1000\n",
      "LBMEDIA['EX_mobd_LPAREN_e_RPAREN_'] = -1000\n",
      "LBMEDIA['EX_tungs_LPAREN_e_RPAREN_'] = -1000\n",
      "LBMEDIA['EX_cbl1_LPAREN_e_RPAREN_'] = -0.01\n",
      "\n",
      "#additions on Pep's request:\n",
      "LBMEDIA['EX_fru_LPAREN_e_RPAREN_'] = -5\n",
      "LBMEDIA['EX_gal_LPAREN_e_RPAREN_'] = -5\n",
      "\n",
      "# additions to LB media...\n",
      "LBMEDIA['EX_ni2_LPAREN_e_RPAREN_'] = -1000.0\n",
      "LBMEDIA['EX_sel_LPAREN_e_RPAREN_'] = -1000.0\n",
      "LBMEDIA['EX_slnt_LPAREN_e_RPAREN_'] = -1000.0\n",
      "\n",
      "# for yersinia\n",
      "\n",
      "LBMEDIA['EX_ca2_LPAREN_e_RPAREN_'] = -5\n",
      "LBMEDIA['EX_cit_LPAREN_e_RPAREN_'] = -5\n",
      "LBMEDIA['EX_cl_LPAREN_e_RPAREN_'] = -5\n",
      "LBMEDIA['EX_cys_L_LPAREN_e_RPAREN_'] = -5\n",
      "LBMEDIA['EX_fe2_LPAREN_e_RPAREN_'] = -5\n",
      "LBMEDIA['EX_glc_D_LPAREN_e_RPAREN_'] = -5\n",
      "LBMEDIA['EX_gly_LPAREN_e_RPAREN_'] = -5\n",
      "LBMEDIA['EX_h2o_LPAREN_e_RPAREN_'] = -5\n",
      "LBMEDIA['EX_h_LPAREN_e_RPAREN_'] = -5\n",
      "LBMEDIA['EX_k_LPAREN_e_RPAREN_'] = -5\n",
      "LBMEDIA['EX_lys_L_LPAREN_e_RPAREN_'] = -5\n",
      "LBMEDIA['EX_met_L_LPAREN_e_RPAREN_'] = -5\n",
      "LBMEDIA['EX_mg2_LPAREN_e_RPAREN_'] = -5\n",
      "LBMEDIA['EX_mn2_LPAREN_e_RPAREN_'] = -5\n",
      "LBMEDIA['EX_o2_LPAREN_e_RPAREN_'] = -5\n",
      "LBMEDIA['EX_phe_L_LPAREN_e_RPAREN_'] = -5\n",
      "LBMEDIA['EX_pi_LPAREN_e_RPAREN_'] = -5\n",
      "LBMEDIA['EX_pnto_R_LPAREN_e_RPAREN_'] = -5\n",
      "LBMEDIA['EX_so4_LPAREN_e_RPAREN_'] = -5\n",
      "LBMEDIA['EX_thm_LPAREN_e_RPAREN_'] = -5\n",
      "LBMEDIA['EX_tyr_L_LPAREN_e_RPAREN_'] = -5\n",
      "\n",
      "LBMEDIA['EX_ala_L_LPAREN_e_RPAREN_'] = -5\n",
      "LBMEDIA['EX_arg_L_LPAREN_e_RPAREN_'] = -5\n",
      "LBMEDIA['EX_asp_L_LPAREN_e_RPAREN_'] = -5\n",
      "LBMEDIA['EX_cys_L_LPAREN_e_RPAREN_'] = -5\n",
      "LBMEDIA['EX_glu_L_LPAREN_e_RPAREN_'] = -5\n",
      "LBMEDIA['EX_his_LPAREN_e_RPAREN_'] = -5\n",
      "LBMEDIA['EX_ile_L_LPAREN_e_RPAREN_'] = -5\n",
      "LBMEDIA['EX_leu_L_LPAREN_e_RPAREN_'] = -5\n",
      "LBMEDIA['EX_lys_L_LPAREN_e_RPAREN_'] = -5\n",
      "LBMEDIA['EX_met_L_LPAREN_e_RPAREN_'] = -5\n",
      "LBMEDIA['EX_pro_L_LPAREN_e_RPAREN_'] = -5\n",
      "LBMEDIA['EX_thr_L_LPAREN_e_RPAREN_'] = -5\n",
      "LBMEDIA['EX_tyr_L_LPAREN_e_RPAREN_'] = -5\n",
      "LBMEDIA['EX_phe_L_LPAREN_e_RPAREN_'] = -5\n",
      "LBMEDIA['EX_ser_L_LPAREN_e_RPAREN_'] = -5\n",
      "LBMEDIA['EX_trp_L_LPAREN_e_RPAREN_'] = -5\n",
      "LBMEDIA['EX_val_L_LPAREN_e_RPAREN_'] = -5\n",
      "LBMEDIA['EX_pnto_R_LPAREN_e_RPAREN_'] = -5\n",
      "\n"
     ],
     "language": "python",
     "metadata": {},
     "outputs": [],
     "prompt_number": 40
    },
    {
     "cell_type": "code",
     "collapsed": false,
     "input": [
      "# to define yersinia minimal BCS glucose media:\n",
      "LBMEDIA = {}\n",
      "rxn_exchange_dict = {}\n",
      "LBMEDIA['EX_ca2_LPAREN_e_RPAREN_']= -1000.0\n",
      "LBMEDIA['EX_cl_LPAREN_e_RPAREN_']= -1000.0\n",
      "LBMEDIA['EX_fe2_LPAREN_e_RPAREN_']= -1000.0\n",
      "LBMEDIA['EX_h2o_LPAREN_e_RPAREN_']= -1000.0\n",
      "LBMEDIA['EX_h_LPAREN_e_RPAREN_']= -1000.0\n",
      "LBMEDIA['EX_k_LPAREN_e_RPAREN_']= -1000.0\n",
      "LBMEDIA['EX_mg2_LPAREN_e_RPAREN_']= -1000.0\n",
      "LBMEDIA['EX_mn2_LPAREN_e_RPAREN_']= -1000.0\n",
      "LBMEDIA['EX_o2_LPAREN_e_RPAREN_']= -20.0\n",
      "LBMEDIA['EX_pi_LPAREN_e_RPAREN_']= -1000.0\n",
      "LBMEDIA['EX_pnto_R_LPAREN_e_RPAREN_']= -1000.0\n",
      "LBMEDIA['EX_so4_LPAREN_e_RPAREN_']= -1000.0\n",
      "\n",
      "LBMEDIA['EX_glc_D_LPAREN_e_RPAREN_']= -2.0\n",
      "LBMEDIA['EX_cit_LPAREN_e_RPAREN_']= -7.4\n",
      "\n",
      "LBMEDIA['EX_thm_LPAREN_e_RPAREN_']= -1000.0\n",
      "\n",
      "LBMEDIA['EX_ala_L_LPAREN_e_RPAREN_'] = -4.5\n",
      "LBMEDIA['EX_ala_D_LPAREN_e_RPAREN_'] = -4.5\n",
      "LBMEDIA['EX_ile_L_LPAREN_e_RPAREN_'] = -3.8\n",
      "LBMEDIA['EX_leu_L_LPAREN_e_RPAREN_'] = -2.0\n",
      "LBMEDIA['EX_met_L_LPAREN_e_RPAREN_']= -1.6\n",
      "LBMEDIA['EX_phe_L_LPAREN_e_RPAREN_']= -2.4\n",
      "LBMEDIA['EX_thr_L_LPAREN_e_RPAREN_'] = -1.4\n",
      "LBMEDIA['EX_val_L_LPAREN_e_RPAREN_'] = -6.8\n",
      "LBMEDIA['EX_arg_L_LPAREN_e_RPAREN_'] = -1\n",
      "LBMEDIA['EX_pro_L_LPAREN_e_RPAREN_'] = -7\n",
      "LBMEDIA['EX_lys_L_LPAREN_e_RPAREN_']= -1.1\n",
      "LBMEDIA['EX_tyr_L_LPAREN_e_RPAREN_']= -1.1\n",
      "LBMEDIA['EX_gly_LPAREN_e_RPAREN_']= -2.6\n",
      "LBMEDIA['EX_trp_L_LPAREN_e_RPAREN_'] = -1.0\n",
      "LBMEDIA['EX_cys_L_LPAREN_e_RPAREN_']= -1.0\n",
      "\n"
     ],
     "language": "python",
     "metadata": {},
     "outputs": [],
     "prompt_number": 25
    },
    {
     "cell_type": "code",
     "collapsed": false,
     "input": [
      "from cobra.manipulation import initialize_growth_medium\n",
      "\n",
      "the_media = {}\n",
      "the_media['LB'] = LBMEDIA\n",
      "\n",
      "model.media_compositions = the_media\n"
     ],
     "language": "python",
     "metadata": {},
     "outputs": [],
     "prompt_number": 41
    },
    {
     "cell_type": "code",
     "collapsed": false,
     "input": [
      "for r in model.reactions:\n",
      "    if r.startswith('EX_'):\n",
      "        r.lower_bound = 0\n",
      "        #print r\n",
      "    if r.id in LBMEDIA.keys():\n",
      "        print r, LBMEDIA[r.id]\n",
      "        r.lower_bound = LBMEDIA[r.id]"
     ],
     "language": "python",
     "metadata": {},
     "outputs": [
      {
       "output_type": "stream",
       "stream": "stdout",
       "text": [
        "EX_adn_LPAREN_e_RPAREN_ -5\n",
        "EX_ala_L_LPAREN_e_RPAREN_ -5\n",
        "EX_arg_L_LPAREN_e_RPAREN_ -5\n",
        "EX_aso3_LPAREN_e_RPAREN_ -1000\n",
        "EX_asp_L_LPAREN_e_RPAREN_ -5\n",
        "EX_ca2_LPAREN_e_RPAREN_ -5\n",
        "EX_cbl1_LPAREN_e_RPAREN_ -0.01\n",
        "EX_cd2_LPAREN_e_RPAREN_ -1000\n",
        "EX_cit_LPAREN_e_RPAREN_ -5\n",
        "EX_cl_LPAREN_e_RPAREN_ -5\n",
        "EX_co2_LPAREN_e_RPAREN_ -1000\n",
        "EX_cobalt2_LPAREN_e_RPAREN_ -1000\n",
        "EX_cu2_LPAREN_e_RPAREN_ -1000\n",
        "EX_cys_L_LPAREN_e_RPAREN_ -5\n",
        "EX_dcyt_LPAREN_e_RPAREN_ -5\n",
        "EX_fe2_LPAREN_e_RPAREN_ -5\n",
        "EX_fe3_LPAREN_e_RPAREN_ -1000\n",
        "EX_fru_LPAREN_e_RPAREN_ -5\n",
        "EX_gal_LPAREN_e_RPAREN_ -5\n",
        "EX_glc_D_LPAREN_e_RPAREN_ -5\n",
        "EX_glu_L_LPAREN_e_RPAREN_ -5\n",
        "EX_gly_LPAREN_e_RPAREN_ -5\n",
        "EX_h2o_LPAREN_e_RPAREN_ -5\n",
        "EX_hg2_LPAREN_e_RPAREN_ -1000\n",
        "EX_h_LPAREN_e_RPAREN_ -5\n",
        "EX_hxan_LPAREN_e_RPAREN_ -5\n",
        "EX_ile_L_LPAREN_e_RPAREN_ -5\n",
        "EX_k_LPAREN_e_RPAREN_ -5\n",
        "EX_leu_L_LPAREN_e_RPAREN_ -5\n",
        "EX_lys_L_LPAREN_e_RPAREN_ -5\n",
        "EX_met_L_LPAREN_e_RPAREN_ -5\n",
        "EX_mg2_LPAREN_e_RPAREN_ -5\n",
        "EX_mn2_LPAREN_e_RPAREN_ -5\n",
        "EX_mobd_LPAREN_e_RPAREN_ -1000\n",
        "EX_nac_LPAREN_e_RPAREN_ -5\n",
        "EX_na1_LPAREN_e_RPAREN_ -1000\n",
        "EX_ni2_LPAREN_e_RPAREN_ -1000.0\n",
        "EX_o2_LPAREN_e_RPAREN_ -5\n",
        "EX_phe_L_LPAREN_e_RPAREN_ -5\n",
        "EX_pi_LPAREN_e_RPAREN_ -5\n",
        "EX_pnto_R_LPAREN_e_RPAREN_ -5\n",
        "EX_pro_L_LPAREN_e_RPAREN_ -5\n",
        "EX_ser_L_LPAREN_e_RPAREN_ -5\n",
        "EX_so4_LPAREN_e_RPAREN_ -5\n",
        "EX_thymd_LPAREN_e_RPAREN_ -5\n",
        "EX_thm_LPAREN_e_RPAREN_ -5\n",
        "EX_thr_L_LPAREN_e_RPAREN_ -5\n",
        "EX_trp_L_LPAREN_e_RPAREN_ -5\n",
        "EX_tungs_LPAREN_e_RPAREN_ -1000\n",
        "EX_tyr_L_LPAREN_e_RPAREN_ -5\n",
        "EX_ura_LPAREN_e_RPAREN_ -5\n",
        "EX_uri_LPAREN_e_RPAREN_ -5\n",
        "EX_val_L_LPAREN_e_RPAREN_ -5\n",
        "EX_zn2_LPAREN_e_RPAREN_ -1000\n"
       ]
      }
     ],
     "prompt_number": 43
    },
    {
     "cell_type": "code",
     "collapsed": false,
     "input": [
      "model.optimize()"
     ],
     "language": "python",
     "metadata": {},
     "outputs": [
      {
       "metadata": {},
       "output_type": "pyout",
       "prompt_number": 44,
       "text": [
        "<Solution 1.86215748903 at 0x7f1f92d6b7d0>"
       ]
      }
     ],
     "prompt_number": 44
    },
    {
     "cell_type": "code",
     "collapsed": false,
     "input": [
      "save_matlab_model(model, 'iPC805_LB.mat')"
     ],
     "language": "python",
     "metadata": {},
     "outputs": []
    },
    {
     "cell_type": "code",
     "collapsed": false,
     "input": [
      "from cobra.manipulation import delete_model_genes\n",
      "delete_model_genes(model, ['STM3468']) # argD"
     ],
     "language": "python",
     "metadata": {},
     "outputs": [],
     "prompt_number": 38
    },
    {
     "cell_type": "code",
     "collapsed": false,
     "input": [
      "model._trimmed_reactions"
     ],
     "language": "python",
     "metadata": {},
     "outputs": [
      {
       "metadata": {},
       "output_type": "pyout",
       "prompt_number": 40,
       "text": [
        "{<Reaction SDPTA at 0x7f982fa69fd0>: (-1000.0, 1000.0)}"
       ]
      }
     ],
     "prompt_number": 40
    },
    {
     "cell_type": "code",
     "collapsed": false,
     "input": [
      "test = double_gene_deletion_fba(model, return_frame=True)"
     ],
     "language": "python",
     "metadata": {},
     "outputs": [],
     "prompt_number": 24
    },
    {
     "cell_type": "code",
     "collapsed": false,
     "input": [
      "# Deleting RXNs (instead of genes)"
     ],
     "language": "python",
     "metadata": {},
     "outputs": []
    },
    {
     "cell_type": "code",
     "collapsed": false,
     "input": [
      "from cobra.flux_analysis.double_deletion import double_reaction_deletion_fba\n",
      "\n",
      "test2 = double_reaction_deletion_fba(model, return_frame=True)\n",
      "\n",
      "#frame = double_deletion(model, element_list_1=model.reactions,element_type=\"reaction\", return_frame=True)\n"
     ],
     "language": "python",
     "metadata": {},
     "outputs": [],
     "prompt_number": 58
    },
    {
     "cell_type": "code",
     "collapsed": false,
     "input": [
      "test2"
     ],
     "language": "python",
     "metadata": {},
     "outputs": [
      {
       "html": [
        "<div style=\"max-height:1000px;max-width:1500px;overflow:auto;\">\n",
        "<table border=\"1\" class=\"dataframe\">\n",
        "  <thead>\n",
        "    <tr style=\"text-align: right;\">\n",
        "      <th></th>\n",
        "      <th>DM_4CRSOL</th>\n",
        "      <th>DM_5DRIB</th>\n",
        "      <th>DM_AACALD</th>\n",
        "      <th>DM_AMOB</th>\n",
        "      <th>DM_MTHTHF</th>\n",
        "      <th>DM_OXAM</th>\n",
        "      <th>Ec_biomass_iJO1366_WT_53p95M</th>\n",
        "      <th>Ec_biomass_iJO1366_core_53p95M</th>\n",
        "      <th>EX_12ppd_DASH_R_LPAREN_e_RPAREN_</th>\n",
        "      <th>EX_12ppd_DASH_S_LPAREN_e_RPAREN_</th>\n",
        "      <th>EX_14glucan_LPAREN_e_RPAREN_</th>\n",
        "      <th>EX_15dap_LPAREN_e_RPAREN_</th>\n",
        "      <th>EX_23camp_LPAREN_e_RPAREN_</th>\n",
        "      <th>EX_23ccmp_LPAREN_e_RPAREN_</th>\n",
        "      <th>EX_23cgmp_LPAREN_e_RPAREN_</th>\n",
        "      <th>EX_23cump_LPAREN_e_RPAREN_</th>\n",
        "      <th>EX_23dappa_LPAREN_e_RPAREN_</th>\n",
        "      <th>EX_26dap_DASH_M_LPAREN_e_RPAREN_</th>\n",
        "      <th>EX_2ddglcn_LPAREN_e_RPAREN_</th>\n",
        "      <th>EX_34dhpac_LPAREN_e_RPAREN_</th>\n",
        "      <th></th>\n",
        "    </tr>\n",
        "  </thead>\n",
        "  <tbody>\n",
        "    <tr>\n",
        "      <th>DM_4CRSOL</th>\n",
        "      <td> 2.212817</td>\n",
        "      <td> 0</td>\n",
        "      <td> 2.212817</td>\n",
        "      <td> 0</td>\n",
        "      <td> 0</td>\n",
        "      <td> 2.212817</td>\n",
        "      <td> 2.212817</td>\n",
        "      <td> 0</td>\n",
        "      <td> 2.212817</td>\n",
        "      <td> 2.212817</td>\n",
        "      <td> 2.212817</td>\n",
        "      <td> 2.212817</td>\n",
        "      <td> 2.212817</td>\n",
        "      <td> 2.212817</td>\n",
        "      <td> 2.212817</td>\n",
        "      <td> 2.212817</td>\n",
        "      <td> 2.212817</td>\n",
        "      <td> 2.212817</td>\n",
        "      <td> 2.212817</td>\n",
        "      <td> 2.212817</td>\n",
        "      <td>...</td>\n",
        "    </tr>\n",
        "    <tr>\n",
        "      <th>DM_5DRIB</th>\n",
        "      <td> 0.000000</td>\n",
        "      <td> 0</td>\n",
        "      <td> 0.000000</td>\n",
        "      <td> 0</td>\n",
        "      <td> 0</td>\n",
        "      <td> 0.000000</td>\n",
        "      <td> 0.000000</td>\n",
        "      <td> 0</td>\n",
        "      <td> 0.000000</td>\n",
        "      <td> 0.000000</td>\n",
        "      <td> 0.000000</td>\n",
        "      <td> 0.000000</td>\n",
        "      <td> 0.000000</td>\n",
        "      <td> 0.000000</td>\n",
        "      <td> 0.000000</td>\n",
        "      <td> 0.000000</td>\n",
        "      <td> 0.000000</td>\n",
        "      <td> 0.000000</td>\n",
        "      <td> 0.000000</td>\n",
        "      <td> 0.000000</td>\n",
        "      <td>...</td>\n",
        "    </tr>\n",
        "    <tr>\n",
        "      <th>DM_AACALD</th>\n",
        "      <td> 2.212817</td>\n",
        "      <td> 0</td>\n",
        "      <td> 2.212817</td>\n",
        "      <td> 0</td>\n",
        "      <td> 0</td>\n",
        "      <td> 2.212817</td>\n",
        "      <td> 2.212817</td>\n",
        "      <td> 0</td>\n",
        "      <td> 2.212817</td>\n",
        "      <td> 2.212817</td>\n",
        "      <td> 2.212817</td>\n",
        "      <td> 2.212817</td>\n",
        "      <td> 2.212817</td>\n",
        "      <td> 2.212817</td>\n",
        "      <td> 2.212817</td>\n",
        "      <td> 2.212817</td>\n",
        "      <td> 2.212817</td>\n",
        "      <td> 2.212817</td>\n",
        "      <td> 2.212817</td>\n",
        "      <td> 2.212817</td>\n",
        "      <td>...</td>\n",
        "    </tr>\n",
        "    <tr>\n",
        "      <th>DM_AMOB</th>\n",
        "      <td> 0.000000</td>\n",
        "      <td> 0</td>\n",
        "      <td> 0.000000</td>\n",
        "      <td> 0</td>\n",
        "      <td> 0</td>\n",
        "      <td> 0.000000</td>\n",
        "      <td> 0.000000</td>\n",
        "      <td> 0</td>\n",
        "      <td> 0.000000</td>\n",
        "      <td> 0.000000</td>\n",
        "      <td> 0.000000</td>\n",
        "      <td> 0.000000</td>\n",
        "      <td> 0.000000</td>\n",
        "      <td> 0.000000</td>\n",
        "      <td> 0.000000</td>\n",
        "      <td> 0.000000</td>\n",
        "      <td> 0.000000</td>\n",
        "      <td> 0.000000</td>\n",
        "      <td> 0.000000</td>\n",
        "      <td> 0.000000</td>\n",
        "      <td>...</td>\n",
        "    </tr>\n",
        "    <tr>\n",
        "      <th>DM_MTHTHF</th>\n",
        "      <td> 0.000000</td>\n",
        "      <td> 0</td>\n",
        "      <td> 0.000000</td>\n",
        "      <td> 0</td>\n",
        "      <td> 0</td>\n",
        "      <td> 0.000000</td>\n",
        "      <td> 0.000000</td>\n",
        "      <td> 0</td>\n",
        "      <td> 0.000000</td>\n",
        "      <td> 0.000000</td>\n",
        "      <td> 0.000000</td>\n",
        "      <td> 0.000000</td>\n",
        "      <td> 0.000000</td>\n",
        "      <td> 0.000000</td>\n",
        "      <td> 0.000000</td>\n",
        "      <td> 0.000000</td>\n",
        "      <td> 0.000000</td>\n",
        "      <td> 0.000000</td>\n",
        "      <td> 0.000000</td>\n",
        "      <td> 0.000000</td>\n",
        "      <td>...</td>\n",
        "    </tr>\n",
        "    <tr>\n",
        "      <th>DM_OXAM</th>\n",
        "      <td> 2.212817</td>\n",
        "      <td> 0</td>\n",
        "      <td> 2.212817</td>\n",
        "      <td> 0</td>\n",
        "      <td> 0</td>\n",
        "      <td> 2.212817</td>\n",
        "      <td> 2.212817</td>\n",
        "      <td> 0</td>\n",
        "      <td> 2.212817</td>\n",
        "      <td> 2.212817</td>\n",
        "      <td> 2.212817</td>\n",
        "      <td> 2.212817</td>\n",
        "      <td> 2.212817</td>\n",
        "      <td> 2.212817</td>\n",
        "      <td> 2.212817</td>\n",
        "      <td> 2.212817</td>\n",
        "      <td> 2.212817</td>\n",
        "      <td> 2.212817</td>\n",
        "      <td> 2.212817</td>\n",
        "      <td> 2.212817</td>\n",
        "      <td>...</td>\n",
        "    </tr>\n",
        "    <tr>\n",
        "      <th>Ec_biomass_iJO1366_WT_53p95M</th>\n",
        "      <td> 2.212817</td>\n",
        "      <td> 0</td>\n",
        "      <td> 2.212817</td>\n",
        "      <td> 0</td>\n",
        "      <td> 0</td>\n",
        "      <td> 2.212817</td>\n",
        "      <td> 2.212817</td>\n",
        "      <td> 0</td>\n",
        "      <td> 2.212817</td>\n",
        "      <td> 2.212817</td>\n",
        "      <td> 2.212817</td>\n",
        "      <td> 2.212817</td>\n",
        "      <td> 2.212817</td>\n",
        "      <td> 2.212817</td>\n",
        "      <td> 2.212817</td>\n",
        "      <td> 2.212817</td>\n",
        "      <td> 2.212817</td>\n",
        "      <td> 2.212817</td>\n",
        "      <td> 2.212817</td>\n",
        "      <td> 2.212817</td>\n",
        "      <td>...</td>\n",
        "    </tr>\n",
        "    <tr>\n",
        "      <th>Ec_biomass_iJO1366_core_53p95M</th>\n",
        "      <td> 0.000000</td>\n",
        "      <td> 0</td>\n",
        "      <td> 0.000000</td>\n",
        "      <td> 0</td>\n",
        "      <td> 0</td>\n",
        "      <td> 0.000000</td>\n",
        "      <td> 0.000000</td>\n",
        "      <td> 0</td>\n",
        "      <td> 0.000000</td>\n",
        "      <td> 0.000000</td>\n",
        "      <td> 0.000000</td>\n",
        "      <td> 0.000000</td>\n",
        "      <td> 0.000000</td>\n",
        "      <td> 0.000000</td>\n",
        "      <td> 0.000000</td>\n",
        "      <td> 0.000000</td>\n",
        "      <td> 0.000000</td>\n",
        "      <td> 0.000000</td>\n",
        "      <td> 0.000000</td>\n",
        "      <td> 0.000000</td>\n",
        "      <td>...</td>\n",
        "    </tr>\n",
        "    <tr>\n",
        "      <th>EX_12ppd_DASH_R_LPAREN_e_RPAREN_</th>\n",
        "      <td> 2.212817</td>\n",
        "      <td> 0</td>\n",
        "      <td> 2.212817</td>\n",
        "      <td> 0</td>\n",
        "      <td> 0</td>\n",
        "      <td> 2.212817</td>\n",
        "      <td> 2.212817</td>\n",
        "      <td> 0</td>\n",
        "      <td> 2.212817</td>\n",
        "      <td> 2.212817</td>\n",
        "      <td> 2.212817</td>\n",
        "      <td> 2.212817</td>\n",
        "      <td> 2.212817</td>\n",
        "      <td> 2.212817</td>\n",
        "      <td> 2.212817</td>\n",
        "      <td> 2.212817</td>\n",
        "      <td> 2.212817</td>\n",
        "      <td> 2.212817</td>\n",
        "      <td> 2.212817</td>\n",
        "      <td> 2.212817</td>\n",
        "      <td>...</td>\n",
        "    </tr>\n",
        "    <tr>\n",
        "      <th>EX_12ppd_DASH_S_LPAREN_e_RPAREN_</th>\n",
        "      <td> 2.212817</td>\n",
        "      <td> 0</td>\n",
        "      <td> 2.212817</td>\n",
        "      <td> 0</td>\n",
        "      <td> 0</td>\n",
        "      <td> 2.212817</td>\n",
        "      <td> 2.212817</td>\n",
        "      <td> 0</td>\n",
        "      <td> 2.212817</td>\n",
        "      <td> 2.212817</td>\n",
        "      <td> 2.212817</td>\n",
        "      <td> 2.212817</td>\n",
        "      <td> 2.212817</td>\n",
        "      <td> 2.212817</td>\n",
        "      <td> 2.212817</td>\n",
        "      <td> 2.212817</td>\n",
        "      <td> 2.212817</td>\n",
        "      <td> 2.212817</td>\n",
        "      <td> 2.212817</td>\n",
        "      <td> 2.212817</td>\n",
        "      <td>...</td>\n",
        "    </tr>\n",
        "    <tr>\n",
        "      <th>EX_14glucan_LPAREN_e_RPAREN_</th>\n",
        "      <td> 2.212817</td>\n",
        "      <td> 0</td>\n",
        "      <td> 2.212817</td>\n",
        "      <td> 0</td>\n",
        "      <td> 0</td>\n",
        "      <td> 2.212817</td>\n",
        "      <td> 2.212817</td>\n",
        "      <td> 0</td>\n",
        "      <td> 2.212817</td>\n",
        "      <td> 2.212817</td>\n",
        "      <td> 2.212817</td>\n",
        "      <td> 2.212817</td>\n",
        "      <td> 2.212817</td>\n",
        "      <td> 2.212817</td>\n",
        "      <td> 2.212817</td>\n",
        "      <td> 2.212817</td>\n",
        "      <td> 2.212817</td>\n",
        "      <td> 2.212817</td>\n",
        "      <td> 2.212817</td>\n",
        "      <td> 2.212817</td>\n",
        "      <td>...</td>\n",
        "    </tr>\n",
        "    <tr>\n",
        "      <th>EX_15dap_LPAREN_e_RPAREN_</th>\n",
        "      <td> 2.212817</td>\n",
        "      <td> 0</td>\n",
        "      <td> 2.212817</td>\n",
        "      <td> 0</td>\n",
        "      <td> 0</td>\n",
        "      <td> 2.212817</td>\n",
        "      <td> 2.212817</td>\n",
        "      <td> 0</td>\n",
        "      <td> 2.212817</td>\n",
        "      <td> 2.212817</td>\n",
        "      <td> 2.212817</td>\n",
        "      <td> 2.212817</td>\n",
        "      <td> 2.212817</td>\n",
        "      <td> 2.212817</td>\n",
        "      <td> 2.212817</td>\n",
        "      <td> 2.212817</td>\n",
        "      <td> 2.212817</td>\n",
        "      <td> 2.212817</td>\n",
        "      <td> 2.212817</td>\n",
        "      <td> 2.212817</td>\n",
        "      <td>...</td>\n",
        "    </tr>\n",
        "    <tr>\n",
        "      <th>EX_23camp_LPAREN_e_RPAREN_</th>\n",
        "      <td> 2.212817</td>\n",
        "      <td> 0</td>\n",
        "      <td> 2.212817</td>\n",
        "      <td> 0</td>\n",
        "      <td> 0</td>\n",
        "      <td> 2.212817</td>\n",
        "      <td> 2.212817</td>\n",
        "      <td> 0</td>\n",
        "      <td> 2.212817</td>\n",
        "      <td> 2.212817</td>\n",
        "      <td> 2.212817</td>\n",
        "      <td> 2.212817</td>\n",
        "      <td> 2.212817</td>\n",
        "      <td> 2.212817</td>\n",
        "      <td> 2.212817</td>\n",
        "      <td> 2.212817</td>\n",
        "      <td> 2.212817</td>\n",
        "      <td> 2.212817</td>\n",
        "      <td> 2.212817</td>\n",
        "      <td> 2.212817</td>\n",
        "      <td>...</td>\n",
        "    </tr>\n",
        "    <tr>\n",
        "      <th>EX_23ccmp_LPAREN_e_RPAREN_</th>\n",
        "      <td> 2.212817</td>\n",
        "      <td> 0</td>\n",
        "      <td> 2.212817</td>\n",
        "      <td> 0</td>\n",
        "      <td> 0</td>\n",
        "      <td> 2.212817</td>\n",
        "      <td> 2.212817</td>\n",
        "      <td> 0</td>\n",
        "      <td> 2.212817</td>\n",
        "      <td> 2.212817</td>\n",
        "      <td> 2.212817</td>\n",
        "      <td> 2.212817</td>\n",
        "      <td> 2.212817</td>\n",
        "      <td> 2.212817</td>\n",
        "      <td> 2.212817</td>\n",
        "      <td> 2.212817</td>\n",
        "      <td> 2.212817</td>\n",
        "      <td> 2.212817</td>\n",
        "      <td> 2.212817</td>\n",
        "      <td> 2.212817</td>\n",
        "      <td>...</td>\n",
        "    </tr>\n",
        "    <tr>\n",
        "      <th>EX_23cgmp_LPAREN_e_RPAREN_</th>\n",
        "      <td> 2.212817</td>\n",
        "      <td> 0</td>\n",
        "      <td> 2.212817</td>\n",
        "      <td> 0</td>\n",
        "      <td> 0</td>\n",
        "      <td> 2.212817</td>\n",
        "      <td> 2.212817</td>\n",
        "      <td> 0</td>\n",
        "      <td> 2.212817</td>\n",
        "      <td> 2.212817</td>\n",
        "      <td> 2.212817</td>\n",
        "      <td> 2.212817</td>\n",
        "      <td> 2.212817</td>\n",
        "      <td> 2.212817</td>\n",
        "      <td> 2.212817</td>\n",
        "      <td> 2.212817</td>\n",
        "      <td> 2.212817</td>\n",
        "      <td> 2.212817</td>\n",
        "      <td> 2.212817</td>\n",
        "      <td> 2.212817</td>\n",
        "      <td>...</td>\n",
        "    </tr>\n",
        "    <tr>\n",
        "      <th>EX_23cump_LPAREN_e_RPAREN_</th>\n",
        "      <td> 2.212817</td>\n",
        "      <td> 0</td>\n",
        "      <td> 2.212817</td>\n",
        "      <td> 0</td>\n",
        "      <td> 0</td>\n",
        "      <td> 2.212817</td>\n",
        "      <td> 2.212817</td>\n",
        "      <td> 0</td>\n",
        "      <td> 2.212817</td>\n",
        "      <td> 2.212817</td>\n",
        "      <td> 2.212817</td>\n",
        "      <td> 2.212817</td>\n",
        "      <td> 2.212817</td>\n",
        "      <td> 2.212817</td>\n",
        "      <td> 2.212817</td>\n",
        "      <td> 2.212817</td>\n",
        "      <td> 2.212817</td>\n",
        "      <td> 2.212817</td>\n",
        "      <td> 2.212817</td>\n",
        "      <td> 2.212817</td>\n",
        "      <td>...</td>\n",
        "    </tr>\n",
        "    <tr>\n",
        "      <th>EX_23dappa_LPAREN_e_RPAREN_</th>\n",
        "      <td> 2.212817</td>\n",
        "      <td> 0</td>\n",
        "      <td> 2.212817</td>\n",
        "      <td> 0</td>\n",
        "      <td> 0</td>\n",
        "      <td> 2.212817</td>\n",
        "      <td> 2.212817</td>\n",
        "      <td> 0</td>\n",
        "      <td> 2.212817</td>\n",
        "      <td> 2.212817</td>\n",
        "      <td> 2.212817</td>\n",
        "      <td> 2.212817</td>\n",
        "      <td> 2.212817</td>\n",
        "      <td> 2.212817</td>\n",
        "      <td> 2.212817</td>\n",
        "      <td> 2.212817</td>\n",
        "      <td> 2.212817</td>\n",
        "      <td> 2.212817</td>\n",
        "      <td> 2.212817</td>\n",
        "      <td> 2.212817</td>\n",
        "      <td>...</td>\n",
        "    </tr>\n",
        "    <tr>\n",
        "      <th>EX_26dap_DASH_M_LPAREN_e_RPAREN_</th>\n",
        "      <td> 2.212817</td>\n",
        "      <td> 0</td>\n",
        "      <td> 2.212817</td>\n",
        "      <td> 0</td>\n",
        "      <td> 0</td>\n",
        "      <td> 2.212817</td>\n",
        "      <td> 2.212817</td>\n",
        "      <td> 0</td>\n",
        "      <td> 2.212817</td>\n",
        "      <td> 2.212817</td>\n",
        "      <td> 2.212817</td>\n",
        "      <td> 2.212817</td>\n",
        "      <td> 2.212817</td>\n",
        "      <td> 2.212817</td>\n",
        "      <td> 2.212817</td>\n",
        "      <td> 2.212817</td>\n",
        "      <td> 2.212817</td>\n",
        "      <td> 2.212817</td>\n",
        "      <td> 2.212817</td>\n",
        "      <td> 2.212817</td>\n",
        "      <td>...</td>\n",
        "    </tr>\n",
        "    <tr>\n",
        "      <th>EX_2ddglcn_LPAREN_e_RPAREN_</th>\n",
        "      <td> 2.212817</td>\n",
        "      <td> 0</td>\n",
        "      <td> 2.212817</td>\n",
        "      <td> 0</td>\n",
        "      <td> 0</td>\n",
        "      <td> 2.212817</td>\n",
        "      <td> 2.212817</td>\n",
        "      <td> 0</td>\n",
        "      <td> 2.212817</td>\n",
        "      <td> 2.212817</td>\n",
        "      <td> 2.212817</td>\n",
        "      <td> 2.212817</td>\n",
        "      <td> 2.212817</td>\n",
        "      <td> 2.212817</td>\n",
        "      <td> 2.212817</td>\n",
        "      <td> 2.212817</td>\n",
        "      <td> 2.212817</td>\n",
        "      <td> 2.212817</td>\n",
        "      <td> 2.212817</td>\n",
        "      <td> 2.212817</td>\n",
        "      <td>...</td>\n",
        "    </tr>\n",
        "    <tr>\n",
        "      <th>EX_34dhpac_LPAREN_e_RPAREN_</th>\n",
        "      <td> 2.212817</td>\n",
        "      <td> 0</td>\n",
        "      <td> 2.212817</td>\n",
        "      <td> 0</td>\n",
        "      <td> 0</td>\n",
        "      <td> 2.212817</td>\n",
        "      <td> 2.212817</td>\n",
        "      <td> 0</td>\n",
        "      <td> 2.212817</td>\n",
        "      <td> 2.212817</td>\n",
        "      <td> 2.212817</td>\n",
        "      <td> 2.212817</td>\n",
        "      <td> 2.212817</td>\n",
        "      <td> 2.212817</td>\n",
        "      <td> 2.212817</td>\n",
        "      <td> 2.212817</td>\n",
        "      <td> 2.212817</td>\n",
        "      <td> 2.212817</td>\n",
        "      <td> 2.212817</td>\n",
        "      <td> 2.212817</td>\n",
        "      <td>...</td>\n",
        "    </tr>\n",
        "    <tr>\n",
        "      <th>EX_3amp_LPAREN_e_RPAREN_</th>\n",
        "      <td> 2.212817</td>\n",
        "      <td> 0</td>\n",
        "      <td> 2.212817</td>\n",
        "      <td> 0</td>\n",
        "      <td> 0</td>\n",
        "      <td> 2.212817</td>\n",
        "      <td> 2.212817</td>\n",
        "      <td> 0</td>\n",
        "      <td> 2.212817</td>\n",
        "      <td> 2.212817</td>\n",
        "      <td> 2.212817</td>\n",
        "      <td> 2.212817</td>\n",
        "      <td> 2.212817</td>\n",
        "      <td> 2.212817</td>\n",
        "      <td> 2.212817</td>\n",
        "      <td> 2.212817</td>\n",
        "      <td> 2.212817</td>\n",
        "      <td> 2.212817</td>\n",
        "      <td> 2.212817</td>\n",
        "      <td> 2.212817</td>\n",
        "      <td>...</td>\n",
        "    </tr>\n",
        "    <tr>\n",
        "      <th>EX_3cmp_LPAREN_e_RPAREN_</th>\n",
        "      <td> 2.212817</td>\n",
        "      <td> 0</td>\n",
        "      <td> 2.212817</td>\n",
        "      <td> 0</td>\n",
        "      <td> 0</td>\n",
        "      <td> 2.212817</td>\n",
        "      <td> 2.212817</td>\n",
        "      <td> 0</td>\n",
        "      <td> 2.212817</td>\n",
        "      <td> 2.212817</td>\n",
        "      <td> 2.212817</td>\n",
        "      <td> 2.212817</td>\n",
        "      <td> 2.212817</td>\n",
        "      <td> 2.212817</td>\n",
        "      <td> 2.212817</td>\n",
        "      <td> 2.212817</td>\n",
        "      <td> 2.212817</td>\n",
        "      <td> 2.212817</td>\n",
        "      <td> 2.212817</td>\n",
        "      <td> 2.212817</td>\n",
        "      <td>...</td>\n",
        "    </tr>\n",
        "    <tr>\n",
        "      <th>EX_3gmp_LPAREN_e_RPAREN_</th>\n",
        "      <td> 2.212817</td>\n",
        "      <td> 0</td>\n",
        "      <td> 2.212817</td>\n",
        "      <td> 0</td>\n",
        "      <td> 0</td>\n",
        "      <td> 2.212817</td>\n",
        "      <td> 2.212817</td>\n",
        "      <td> 0</td>\n",
        "      <td> 2.212817</td>\n",
        "      <td> 2.212817</td>\n",
        "      <td> 2.212817</td>\n",
        "      <td> 2.212817</td>\n",
        "      <td> 2.212817</td>\n",
        "      <td> 2.212817</td>\n",
        "      <td> 2.212817</td>\n",
        "      <td> 2.212817</td>\n",
        "      <td> 2.212817</td>\n",
        "      <td> 2.212817</td>\n",
        "      <td> 2.212817</td>\n",
        "      <td> 2.212817</td>\n",
        "      <td>...</td>\n",
        "    </tr>\n",
        "    <tr>\n",
        "      <th>EX_3hcinnm_LPAREN_e_RPAREN_</th>\n",
        "      <td> 2.212817</td>\n",
        "      <td> 0</td>\n",
        "      <td> 2.212817</td>\n",
        "      <td> 0</td>\n",
        "      <td> 0</td>\n",
        "      <td> 2.212817</td>\n",
        "      <td> 2.212817</td>\n",
        "      <td> 0</td>\n",
        "      <td> 2.212817</td>\n",
        "      <td> 2.212817</td>\n",
        "      <td> 2.212817</td>\n",
        "      <td> 2.212817</td>\n",
        "      <td> 2.212817</td>\n",
        "      <td> 2.212817</td>\n",
        "      <td> 2.212817</td>\n",
        "      <td> 2.212817</td>\n",
        "      <td> 2.212817</td>\n",
        "      <td> 2.212817</td>\n",
        "      <td> 2.212817</td>\n",
        "      <td> 2.212817</td>\n",
        "      <td>...</td>\n",
        "    </tr>\n",
        "    <tr>\n",
        "      <th>EX_3hpp_LPAREN_e_RPAREN_</th>\n",
        "      <td> 2.212817</td>\n",
        "      <td> 0</td>\n",
        "      <td> 2.212817</td>\n",
        "      <td> 0</td>\n",
        "      <td> 0</td>\n",
        "      <td> 2.212817</td>\n",
        "      <td> 2.212817</td>\n",
        "      <td> 0</td>\n",
        "      <td> 2.212817</td>\n",
        "      <td> 2.212817</td>\n",
        "      <td> 2.212817</td>\n",
        "      <td> 2.212817</td>\n",
        "      <td> 2.212817</td>\n",
        "      <td> 2.212817</td>\n",
        "      <td> 2.212817</td>\n",
        "      <td> 2.212817</td>\n",
        "      <td> 2.212817</td>\n",
        "      <td> 2.212817</td>\n",
        "      <td> 2.212817</td>\n",
        "      <td> 2.212817</td>\n",
        "      <td>...</td>\n",
        "    </tr>\n",
        "    <tr>\n",
        "      <th>EX_3hpppn_LPAREN_e_RPAREN_</th>\n",
        "      <td> 2.212817</td>\n",
        "      <td> 0</td>\n",
        "      <td> 2.212817</td>\n",
        "      <td> 0</td>\n",
        "      <td> 0</td>\n",
        "      <td> 2.212817</td>\n",
        "      <td> 2.212817</td>\n",
        "      <td> 0</td>\n",
        "      <td> 2.212817</td>\n",
        "      <td> 2.212817</td>\n",
        "      <td> 2.212817</td>\n",
        "      <td> 2.212817</td>\n",
        "      <td> 2.212817</td>\n",
        "      <td> 2.212817</td>\n",
        "      <td> 2.212817</td>\n",
        "      <td> 2.212817</td>\n",
        "      <td> 2.212817</td>\n",
        "      <td> 2.212817</td>\n",
        "      <td> 2.212817</td>\n",
        "      <td> 2.212817</td>\n",
        "      <td>...</td>\n",
        "    </tr>\n",
        "    <tr>\n",
        "      <th>EX_3ump_LPAREN_e_RPAREN_</th>\n",
        "      <td> 2.212817</td>\n",
        "      <td> 0</td>\n",
        "      <td> 2.212817</td>\n",
        "      <td> 0</td>\n",
        "      <td> 0</td>\n",
        "      <td> 2.212817</td>\n",
        "      <td> 2.212817</td>\n",
        "      <td> 0</td>\n",
        "      <td> 2.212817</td>\n",
        "      <td> 2.212817</td>\n",
        "      <td> 2.212817</td>\n",
        "      <td> 2.212817</td>\n",
        "      <td> 2.212817</td>\n",
        "      <td> 2.212817</td>\n",
        "      <td> 2.212817</td>\n",
        "      <td> 2.212817</td>\n",
        "      <td> 2.212817</td>\n",
        "      <td> 2.212817</td>\n",
        "      <td> 2.212817</td>\n",
        "      <td> 2.212817</td>\n",
        "      <td>...</td>\n",
        "    </tr>\n",
        "    <tr>\n",
        "      <th>EX_4abut_LPAREN_e_RPAREN_</th>\n",
        "      <td> 2.212817</td>\n",
        "      <td> 0</td>\n",
        "      <td> 2.212817</td>\n",
        "      <td> 0</td>\n",
        "      <td> 0</td>\n",
        "      <td> 2.212817</td>\n",
        "      <td> 2.212817</td>\n",
        "      <td> 0</td>\n",
        "      <td> 2.212817</td>\n",
        "      <td> 2.212817</td>\n",
        "      <td> 2.212817</td>\n",
        "      <td> 2.212817</td>\n",
        "      <td> 2.212817</td>\n",
        "      <td> 2.212817</td>\n",
        "      <td> 2.212817</td>\n",
        "      <td> 2.212817</td>\n",
        "      <td> 2.212817</td>\n",
        "      <td> 2.212817</td>\n",
        "      <td> 2.212817</td>\n",
        "      <td> 2.212817</td>\n",
        "      <td>...</td>\n",
        "    </tr>\n",
        "    <tr>\n",
        "      <th>EX_4hoxpacd_LPAREN_e_RPAREN_</th>\n",
        "      <td> 2.212817</td>\n",
        "      <td> 0</td>\n",
        "      <td> 2.212817</td>\n",
        "      <td> 0</td>\n",
        "      <td> 0</td>\n",
        "      <td> 2.212817</td>\n",
        "      <td> 2.212817</td>\n",
        "      <td> 0</td>\n",
        "      <td> 2.212817</td>\n",
        "      <td> 2.212817</td>\n",
        "      <td> 2.212817</td>\n",
        "      <td> 2.212817</td>\n",
        "      <td> 2.212817</td>\n",
        "      <td> 2.212817</td>\n",
        "      <td> 2.212817</td>\n",
        "      <td> 2.212817</td>\n",
        "      <td> 2.212817</td>\n",
        "      <td> 2.212817</td>\n",
        "      <td> 2.212817</td>\n",
        "      <td> 2.212817</td>\n",
        "      <td>...</td>\n",
        "    </tr>\n",
        "    <tr>\n",
        "      <th>EX_5dglcn_LPAREN_e_RPAREN_</th>\n",
        "      <td> 2.212817</td>\n",
        "      <td> 0</td>\n",
        "      <td> 2.212817</td>\n",
        "      <td> 0</td>\n",
        "      <td> 0</td>\n",
        "      <td> 2.212817</td>\n",
        "      <td> 2.212817</td>\n",
        "      <td> 0</td>\n",
        "      <td> 2.212817</td>\n",
        "      <td> 2.212817</td>\n",
        "      <td> 2.212817</td>\n",
        "      <td> 2.212817</td>\n",
        "      <td> 2.212817</td>\n",
        "      <td> 2.212817</td>\n",
        "      <td> 2.212817</td>\n",
        "      <td> 2.212817</td>\n",
        "      <td> 2.212817</td>\n",
        "      <td> 2.212817</td>\n",
        "      <td> 2.212817</td>\n",
        "      <td> 2.212817</td>\n",
        "      <td>...</td>\n",
        "    </tr>\n",
        "    <tr>\n",
        "      <th>EX_5mtr_LPAREN_e_RPAREN_</th>\n",
        "      <td> 2.212817</td>\n",
        "      <td> 0</td>\n",
        "      <td> 2.212817</td>\n",
        "      <td> 0</td>\n",
        "      <td> 0</td>\n",
        "      <td> 2.212817</td>\n",
        "      <td> 2.212817</td>\n",
        "      <td> 0</td>\n",
        "      <td> 2.212817</td>\n",
        "      <td> 2.212817</td>\n",
        "      <td> 2.212817</td>\n",
        "      <td> 2.212817</td>\n",
        "      <td> 2.212817</td>\n",
        "      <td> 2.212817</td>\n",
        "      <td> 2.212817</td>\n",
        "      <td> 2.212817</td>\n",
        "      <td> 2.212817</td>\n",
        "      <td> 2.212817</td>\n",
        "      <td> 2.212817</td>\n",
        "      <td> 2.212817</td>\n",
        "      <td>...</td>\n",
        "    </tr>\n",
        "    <tr>\n",
        "      <th>EX_LalaDglu_LPAREN_e_RPAREN_</th>\n",
        "      <td> 2.212817</td>\n",
        "      <td> 0</td>\n",
        "      <td> 2.212817</td>\n",
        "      <td> 0</td>\n",
        "      <td> 0</td>\n",
        "      <td> 2.212817</td>\n",
        "      <td> 2.212817</td>\n",
        "      <td> 0</td>\n",
        "      <td> 2.212817</td>\n",
        "      <td> 2.212817</td>\n",
        "      <td> 2.212817</td>\n",
        "      <td> 2.212817</td>\n",
        "      <td> 2.212817</td>\n",
        "      <td> 2.212817</td>\n",
        "      <td> 2.212817</td>\n",
        "      <td> 2.212817</td>\n",
        "      <td> 2.212817</td>\n",
        "      <td> 2.212817</td>\n",
        "      <td> 2.212817</td>\n",
        "      <td> 2.212817</td>\n",
        "      <td>...</td>\n",
        "    </tr>\n",
        "    <tr>\n",
        "      <th>EX_LalaDgluMdap_LPAREN_e_RPAREN_</th>\n",
        "      <td> 2.212817</td>\n",
        "      <td> 0</td>\n",
        "      <td> 2.212817</td>\n",
        "      <td> 0</td>\n",
        "      <td> 0</td>\n",
        "      <td> 2.212817</td>\n",
        "      <td> 2.212817</td>\n",
        "      <td> 0</td>\n",
        "      <td> 2.212817</td>\n",
        "      <td> 2.212817</td>\n",
        "      <td> 2.212817</td>\n",
        "      <td> 2.212817</td>\n",
        "      <td> 2.212817</td>\n",
        "      <td> 2.212817</td>\n",
        "      <td> 2.212817</td>\n",
        "      <td> 2.212817</td>\n",
        "      <td> 2.212817</td>\n",
        "      <td> 2.212817</td>\n",
        "      <td> 2.212817</td>\n",
        "      <td> 2.212817</td>\n",
        "      <td>...</td>\n",
        "    </tr>\n",
        "    <tr>\n",
        "      <th>EX_LalaDgluMdapDala_LPAREN_e_RPAREN_</th>\n",
        "      <td> 2.212817</td>\n",
        "      <td> 0</td>\n",
        "      <td> 2.212817</td>\n",
        "      <td> 0</td>\n",
        "      <td> 0</td>\n",
        "      <td> 2.212817</td>\n",
        "      <td> 2.212817</td>\n",
        "      <td> 0</td>\n",
        "      <td> 2.212817</td>\n",
        "      <td> 2.212817</td>\n",
        "      <td> 2.212817</td>\n",
        "      <td> 2.212817</td>\n",
        "      <td> 2.212817</td>\n",
        "      <td> 2.212817</td>\n",
        "      <td> 2.212817</td>\n",
        "      <td> 2.212817</td>\n",
        "      <td> 2.212817</td>\n",
        "      <td> 2.212817</td>\n",
        "      <td> 2.212817</td>\n",
        "      <td> 2.212817</td>\n",
        "      <td>...</td>\n",
        "    </tr>\n",
        "    <tr>\n",
        "      <th>EX_LalaLglu_LPAREN_e_RPAREN_</th>\n",
        "      <td> 2.212817</td>\n",
        "      <td> 0</td>\n",
        "      <td> 2.212817</td>\n",
        "      <td> 0</td>\n",
        "      <td> 0</td>\n",
        "      <td> 2.212817</td>\n",
        "      <td> 2.212817</td>\n",
        "      <td> 0</td>\n",
        "      <td> 2.212817</td>\n",
        "      <td> 2.212817</td>\n",
        "      <td> 2.212817</td>\n",
        "      <td> 2.212817</td>\n",
        "      <td> 2.212817</td>\n",
        "      <td> 2.212817</td>\n",
        "      <td> 2.212817</td>\n",
        "      <td> 2.212817</td>\n",
        "      <td> 2.212817</td>\n",
        "      <td> 2.212817</td>\n",
        "      <td> 2.212817</td>\n",
        "      <td> 2.212817</td>\n",
        "      <td>...</td>\n",
        "    </tr>\n",
        "    <tr>\n",
        "      <th>EX_ac_LPAREN_e_RPAREN_</th>\n",
        "      <td> 1.976664</td>\n",
        "      <td> 0</td>\n",
        "      <td> 1.976664</td>\n",
        "      <td> 0</td>\n",
        "      <td> 0</td>\n",
        "      <td> 1.965691</td>\n",
        "      <td> 1.976664</td>\n",
        "      <td> 0</td>\n",
        "      <td> 1.976664</td>\n",
        "      <td> 1.976664</td>\n",
        "      <td> 1.976664</td>\n",
        "      <td> 1.976664</td>\n",
        "      <td> 1.976664</td>\n",
        "      <td> 1.976664</td>\n",
        "      <td> 1.976664</td>\n",
        "      <td> 1.976664</td>\n",
        "      <td> 1.976664</td>\n",
        "      <td> 1.976664</td>\n",
        "      <td> 1.976664</td>\n",
        "      <td> 1.976664</td>\n",
        "      <td>...</td>\n",
        "    </tr>\n",
        "    <tr>\n",
        "      <th>EX_acac_LPAREN_e_RPAREN_</th>\n",
        "      <td> 2.212817</td>\n",
        "      <td> 0</td>\n",
        "      <td> 2.212817</td>\n",
        "      <td> 0</td>\n",
        "      <td> 0</td>\n",
        "      <td> 2.212817</td>\n",
        "      <td> 2.212817</td>\n",
        "      <td> 0</td>\n",
        "      <td> 2.212817</td>\n",
        "      <td> 2.212817</td>\n",
        "      <td> 2.212817</td>\n",
        "      <td> 2.212817</td>\n",
        "      <td> 2.212817</td>\n",
        "      <td> 2.212817</td>\n",
        "      <td> 2.212817</td>\n",
        "      <td> 2.212817</td>\n",
        "      <td> 2.212817</td>\n",
        "      <td> 2.212817</td>\n",
        "      <td> 2.212817</td>\n",
        "      <td> 2.212817</td>\n",
        "      <td>...</td>\n",
        "    </tr>\n",
        "    <tr>\n",
        "      <th>EX_acald_LPAREN_e_RPAREN_</th>\n",
        "      <td> 2.212817</td>\n",
        "      <td> 0</td>\n",
        "      <td> 2.212817</td>\n",
        "      <td> 0</td>\n",
        "      <td> 0</td>\n",
        "      <td> 2.212817</td>\n",
        "      <td> 2.212817</td>\n",
        "      <td> 0</td>\n",
        "      <td> 2.212817</td>\n",
        "      <td> 2.212817</td>\n",
        "      <td> 2.212817</td>\n",
        "      <td> 2.212817</td>\n",
        "      <td> 2.212817</td>\n",
        "      <td> 2.212817</td>\n",
        "      <td> 2.212817</td>\n",
        "      <td> 2.212817</td>\n",
        "      <td> 2.212817</td>\n",
        "      <td> 2.212817</td>\n",
        "      <td> 2.212817</td>\n",
        "      <td> 2.212817</td>\n",
        "      <td>...</td>\n",
        "    </tr>\n",
        "    <tr>\n",
        "      <th>EX_acgal_LPAREN_e_RPAREN_</th>\n",
        "      <td> 2.212817</td>\n",
        "      <td> 0</td>\n",
        "      <td> 2.212817</td>\n",
        "      <td> 0</td>\n",
        "      <td> 0</td>\n",
        "      <td> 2.212817</td>\n",
        "      <td> 2.212817</td>\n",
        "      <td> 0</td>\n",
        "      <td> 2.212817</td>\n",
        "      <td> 2.212817</td>\n",
        "      <td> 2.212817</td>\n",
        "      <td> 2.212817</td>\n",
        "      <td> 2.212817</td>\n",
        "      <td> 2.212817</td>\n",
        "      <td> 2.212817</td>\n",
        "      <td> 2.212817</td>\n",
        "      <td> 2.212817</td>\n",
        "      <td> 2.212817</td>\n",
        "      <td> 2.212817</td>\n",
        "      <td> 2.212817</td>\n",
        "      <td>...</td>\n",
        "    </tr>\n",
        "    <tr>\n",
        "      <th>EX_acgal1p_LPAREN_e_RPAREN_</th>\n",
        "      <td> 2.212817</td>\n",
        "      <td> 0</td>\n",
        "      <td> 2.212817</td>\n",
        "      <td> 0</td>\n",
        "      <td> 0</td>\n",
        "      <td> 2.212817</td>\n",
        "      <td> 2.212817</td>\n",
        "      <td> 0</td>\n",
        "      <td> 2.212817</td>\n",
        "      <td> 2.212817</td>\n",
        "      <td> 2.212817</td>\n",
        "      <td> 2.212817</td>\n",
        "      <td> 2.212817</td>\n",
        "      <td> 2.212817</td>\n",
        "      <td> 2.212817</td>\n",
        "      <td> 2.212817</td>\n",
        "      <td> 2.212817</td>\n",
        "      <td> 2.212817</td>\n",
        "      <td> 2.212817</td>\n",
        "      <td> 2.212817</td>\n",
        "      <td>...</td>\n",
        "    </tr>\n",
        "    <tr>\n",
        "      <th>EX_acgam_LPAREN_e_RPAREN_</th>\n",
        "      <td> 2.212817</td>\n",
        "      <td> 0</td>\n",
        "      <td> 2.212817</td>\n",
        "      <td> 0</td>\n",
        "      <td> 0</td>\n",
        "      <td> 2.212817</td>\n",
        "      <td> 2.212817</td>\n",
        "      <td> 0</td>\n",
        "      <td> 2.212817</td>\n",
        "      <td> 2.212817</td>\n",
        "      <td> 2.212817</td>\n",
        "      <td> 2.212817</td>\n",
        "      <td> 2.212817</td>\n",
        "      <td> 2.212817</td>\n",
        "      <td> 2.212817</td>\n",
        "      <td> 2.212817</td>\n",
        "      <td> 2.212817</td>\n",
        "      <td> 2.212817</td>\n",
        "      <td> 2.212817</td>\n",
        "      <td> 2.212817</td>\n",
        "      <td>...</td>\n",
        "    </tr>\n",
        "    <tr>\n",
        "      <th>EX_acgam1p_LPAREN_e_RPAREN_</th>\n",
        "      <td> 2.212817</td>\n",
        "      <td> 0</td>\n",
        "      <td> 2.212817</td>\n",
        "      <td> 0</td>\n",
        "      <td> 0</td>\n",
        "      <td> 2.212817</td>\n",
        "      <td> 2.212817</td>\n",
        "      <td> 0</td>\n",
        "      <td> 2.212817</td>\n",
        "      <td> 2.212817</td>\n",
        "      <td> 2.212817</td>\n",
        "      <td> 2.212817</td>\n",
        "      <td> 2.212817</td>\n",
        "      <td> 2.212817</td>\n",
        "      <td> 2.212817</td>\n",
        "      <td> 2.212817</td>\n",
        "      <td> 2.212817</td>\n",
        "      <td> 2.212817</td>\n",
        "      <td> 2.212817</td>\n",
        "      <td> 2.212817</td>\n",
        "      <td>...</td>\n",
        "    </tr>\n",
        "    <tr>\n",
        "      <th>EX_acmana_LPAREN_e_RPAREN_</th>\n",
        "      <td> 2.212817</td>\n",
        "      <td> 0</td>\n",
        "      <td> 2.212817</td>\n",
        "      <td> 0</td>\n",
        "      <td> 0</td>\n",
        "      <td> 2.212817</td>\n",
        "      <td> 2.212817</td>\n",
        "      <td> 0</td>\n",
        "      <td> 2.212817</td>\n",
        "      <td> 2.212817</td>\n",
        "      <td> 2.212817</td>\n",
        "      <td> 2.212817</td>\n",
        "      <td> 2.212817</td>\n",
        "      <td> 2.212817</td>\n",
        "      <td> 2.212817</td>\n",
        "      <td> 2.212817</td>\n",
        "      <td> 2.212817</td>\n",
        "      <td> 2.212817</td>\n",
        "      <td> 2.212817</td>\n",
        "      <td> 2.212817</td>\n",
        "      <td>...</td>\n",
        "    </tr>\n",
        "    <tr>\n",
        "      <th>EX_acmum_LPAREN_e_RPAREN_</th>\n",
        "      <td> 2.212817</td>\n",
        "      <td> 0</td>\n",
        "      <td> 2.212817</td>\n",
        "      <td> 0</td>\n",
        "      <td> 0</td>\n",
        "      <td> 2.212817</td>\n",
        "      <td> 2.212817</td>\n",
        "      <td> 0</td>\n",
        "      <td> 2.212817</td>\n",
        "      <td> 2.212817</td>\n",
        "      <td> 2.212817</td>\n",
        "      <td> 2.212817</td>\n",
        "      <td> 2.212817</td>\n",
        "      <td> 2.212817</td>\n",
        "      <td> 2.212817</td>\n",
        "      <td> 2.212817</td>\n",
        "      <td> 2.212817</td>\n",
        "      <td> 2.212817</td>\n",
        "      <td> 2.212817</td>\n",
        "      <td> 2.212817</td>\n",
        "      <td>...</td>\n",
        "    </tr>\n",
        "    <tr>\n",
        "      <th>EX_acnam_LPAREN_e_RPAREN_</th>\n",
        "      <td> 2.212817</td>\n",
        "      <td> 0</td>\n",
        "      <td> 2.212817</td>\n",
        "      <td> 0</td>\n",
        "      <td> 0</td>\n",
        "      <td> 2.212817</td>\n",
        "      <td> 2.212817</td>\n",
        "      <td> 0</td>\n",
        "      <td> 2.212817</td>\n",
        "      <td> 2.212817</td>\n",
        "      <td> 2.212817</td>\n",
        "      <td> 2.212817</td>\n",
        "      <td> 2.212817</td>\n",
        "      <td> 2.212817</td>\n",
        "      <td> 2.212817</td>\n",
        "      <td> 2.212817</td>\n",
        "      <td> 2.212817</td>\n",
        "      <td> 2.212817</td>\n",
        "      <td> 2.212817</td>\n",
        "      <td> 2.212817</td>\n",
        "      <td>...</td>\n",
        "    </tr>\n",
        "    <tr>\n",
        "      <th>EX_acolipa_LPAREN_e_RPAREN_</th>\n",
        "      <td> 2.212817</td>\n",
        "      <td> 0</td>\n",
        "      <td> 2.212817</td>\n",
        "      <td> 0</td>\n",
        "      <td> 0</td>\n",
        "      <td> 2.212817</td>\n",
        "      <td> 2.212817</td>\n",
        "      <td> 0</td>\n",
        "      <td> 2.212817</td>\n",
        "      <td> 2.212817</td>\n",
        "      <td> 2.212817</td>\n",
        "      <td> 2.212817</td>\n",
        "      <td> 2.212817</td>\n",
        "      <td> 2.212817</td>\n",
        "      <td> 2.212817</td>\n",
        "      <td> 2.212817</td>\n",
        "      <td> 2.212817</td>\n",
        "      <td> 2.212817</td>\n",
        "      <td> 2.212817</td>\n",
        "      <td> 2.212817</td>\n",
        "      <td>...</td>\n",
        "    </tr>\n",
        "    <tr>\n",
        "      <th>EX_acser_LPAREN_e_RPAREN_</th>\n",
        "      <td> 2.212817</td>\n",
        "      <td> 0</td>\n",
        "      <td> 2.212817</td>\n",
        "      <td> 0</td>\n",
        "      <td> 0</td>\n",
        "      <td> 2.212817</td>\n",
        "      <td> 2.212817</td>\n",
        "      <td> 0</td>\n",
        "      <td> 2.212817</td>\n",
        "      <td> 2.212817</td>\n",
        "      <td> 2.212817</td>\n",
        "      <td> 2.212817</td>\n",
        "      <td> 2.212817</td>\n",
        "      <td> 2.212817</td>\n",
        "      <td> 2.212817</td>\n",
        "      <td> 2.212817</td>\n",
        "      <td> 2.212817</td>\n",
        "      <td> 2.212817</td>\n",
        "      <td> 2.212817</td>\n",
        "      <td> 2.212817</td>\n",
        "      <td>...</td>\n",
        "    </tr>\n",
        "    <tr>\n",
        "      <th>EX_ade_LPAREN_e_RPAREN_</th>\n",
        "      <td> 2.131005</td>\n",
        "      <td> 0</td>\n",
        "      <td> 2.131005</td>\n",
        "      <td> 0</td>\n",
        "      <td> 0</td>\n",
        "      <td> 2.131005</td>\n",
        "      <td> 2.131005</td>\n",
        "      <td> 0</td>\n",
        "      <td> 2.131005</td>\n",
        "      <td> 2.131005</td>\n",
        "      <td> 2.131005</td>\n",
        "      <td> 2.131005</td>\n",
        "      <td> 2.131005</td>\n",
        "      <td> 2.131005</td>\n",
        "      <td> 2.131005</td>\n",
        "      <td> 2.131005</td>\n",
        "      <td> 2.131005</td>\n",
        "      <td> 2.131005</td>\n",
        "      <td> 2.131005</td>\n",
        "      <td> 2.131005</td>\n",
        "      <td>...</td>\n",
        "    </tr>\n",
        "    <tr>\n",
        "      <th>EX_adn_LPAREN_e_RPAREN_</th>\n",
        "      <td> 2.027489</td>\n",
        "      <td> 0</td>\n",
        "      <td> 2.027489</td>\n",
        "      <td> 0</td>\n",
        "      <td> 0</td>\n",
        "      <td> 2.027489</td>\n",
        "      <td> 2.027489</td>\n",
        "      <td> 0</td>\n",
        "      <td> 2.027489</td>\n",
        "      <td> 2.027489</td>\n",
        "      <td> 2.027489</td>\n",
        "      <td> 2.027489</td>\n",
        "      <td> 2.027489</td>\n",
        "      <td> 2.027489</td>\n",
        "      <td> 2.027489</td>\n",
        "      <td> 2.027489</td>\n",
        "      <td> 2.027489</td>\n",
        "      <td> 2.027489</td>\n",
        "      <td> 2.027489</td>\n",
        "      <td> 2.027489</td>\n",
        "      <td>...</td>\n",
        "    </tr>\n",
        "    <tr>\n",
        "      <th>EX_adocbl_LPAREN_e_RPAREN_</th>\n",
        "      <td> 2.212817</td>\n",
        "      <td> 0</td>\n",
        "      <td> 2.212817</td>\n",
        "      <td> 0</td>\n",
        "      <td> 0</td>\n",
        "      <td> 2.212817</td>\n",
        "      <td> 2.212817</td>\n",
        "      <td> 0</td>\n",
        "      <td> 2.212817</td>\n",
        "      <td> 2.212817</td>\n",
        "      <td> 2.212817</td>\n",
        "      <td> 2.212817</td>\n",
        "      <td> 2.212817</td>\n",
        "      <td> 2.212817</td>\n",
        "      <td> 2.212817</td>\n",
        "      <td> 2.212817</td>\n",
        "      <td> 2.212817</td>\n",
        "      <td> 2.212817</td>\n",
        "      <td> 2.212817</td>\n",
        "      <td> 2.212817</td>\n",
        "      <td>...</td>\n",
        "    </tr>\n",
        "    <tr>\n",
        "      <th>EX_ag_LPAREN_e_RPAREN_</th>\n",
        "      <td> 2.212817</td>\n",
        "      <td> 0</td>\n",
        "      <td> 2.212817</td>\n",
        "      <td> 0</td>\n",
        "      <td> 0</td>\n",
        "      <td> 2.212817</td>\n",
        "      <td> 2.212817</td>\n",
        "      <td> 0</td>\n",
        "      <td> 2.212817</td>\n",
        "      <td> 2.212817</td>\n",
        "      <td> 2.212817</td>\n",
        "      <td> 2.212817</td>\n",
        "      <td> 2.212817</td>\n",
        "      <td> 2.212817</td>\n",
        "      <td> 2.212817</td>\n",
        "      <td> 2.212817</td>\n",
        "      <td> 2.212817</td>\n",
        "      <td> 2.212817</td>\n",
        "      <td> 2.212817</td>\n",
        "      <td> 2.212817</td>\n",
        "      <td>...</td>\n",
        "    </tr>\n",
        "    <tr>\n",
        "      <th>EX_agm_LPAREN_e_RPAREN_</th>\n",
        "      <td> 2.194209</td>\n",
        "      <td> 0</td>\n",
        "      <td> 2.194209</td>\n",
        "      <td> 0</td>\n",
        "      <td> 0</td>\n",
        "      <td> 2.194209</td>\n",
        "      <td> 2.194209</td>\n",
        "      <td> 0</td>\n",
        "      <td> 2.194209</td>\n",
        "      <td> 2.194209</td>\n",
        "      <td> 2.194209</td>\n",
        "      <td> 2.194209</td>\n",
        "      <td> 2.194209</td>\n",
        "      <td> 2.194209</td>\n",
        "      <td> 2.194209</td>\n",
        "      <td> 2.194209</td>\n",
        "      <td> 2.194209</td>\n",
        "      <td> 2.194209</td>\n",
        "      <td> 2.194209</td>\n",
        "      <td> 2.194209</td>\n",
        "      <td>...</td>\n",
        "    </tr>\n",
        "    <tr>\n",
        "      <th>EX_akg_LPAREN_e_RPAREN_</th>\n",
        "      <td> 2.212817</td>\n",
        "      <td> 0</td>\n",
        "      <td> 2.212817</td>\n",
        "      <td> 0</td>\n",
        "      <td> 0</td>\n",
        "      <td> 2.212817</td>\n",
        "      <td> 2.212817</td>\n",
        "      <td> 0</td>\n",
        "      <td> 2.212817</td>\n",
        "      <td> 2.212817</td>\n",
        "      <td> 2.212817</td>\n",
        "      <td> 2.212817</td>\n",
        "      <td> 2.212817</td>\n",
        "      <td> 2.212817</td>\n",
        "      <td> 2.212817</td>\n",
        "      <td> 2.212817</td>\n",
        "      <td> 2.212817</td>\n",
        "      <td> 2.212817</td>\n",
        "      <td> 2.212817</td>\n",
        "      <td> 2.212817</td>\n",
        "      <td>...</td>\n",
        "    </tr>\n",
        "    <tr>\n",
        "      <th>EX_ala_DASH_B_LPAREN_e_RPAREN_</th>\n",
        "      <td> 2.212817</td>\n",
        "      <td> 0</td>\n",
        "      <td> 2.212817</td>\n",
        "      <td> 0</td>\n",
        "      <td> 0</td>\n",
        "      <td> 2.212817</td>\n",
        "      <td> 2.212817</td>\n",
        "      <td> 0</td>\n",
        "      <td> 2.212817</td>\n",
        "      <td> 2.212817</td>\n",
        "      <td> 2.212817</td>\n",
        "      <td> 2.212817</td>\n",
        "      <td> 2.212817</td>\n",
        "      <td> 2.212817</td>\n",
        "      <td> 2.212817</td>\n",
        "      <td> 2.212817</td>\n",
        "      <td> 2.212817</td>\n",
        "      <td> 2.212817</td>\n",
        "      <td> 2.212817</td>\n",
        "      <td> 2.212817</td>\n",
        "      <td>...</td>\n",
        "    </tr>\n",
        "    <tr>\n",
        "      <th>EX_ala_DASH_D_LPAREN_e_RPAREN_</th>\n",
        "      <td> 2.212817</td>\n",
        "      <td> 0</td>\n",
        "      <td> 2.212817</td>\n",
        "      <td> 0</td>\n",
        "      <td> 0</td>\n",
        "      <td> 2.212817</td>\n",
        "      <td> 2.212817</td>\n",
        "      <td> 0</td>\n",
        "      <td> 2.212817</td>\n",
        "      <td> 2.212817</td>\n",
        "      <td> 2.212817</td>\n",
        "      <td> 2.212817</td>\n",
        "      <td> 2.212817</td>\n",
        "      <td> 2.212817</td>\n",
        "      <td> 2.212817</td>\n",
        "      <td> 2.212817</td>\n",
        "      <td> 2.212817</td>\n",
        "      <td> 2.212817</td>\n",
        "      <td> 2.212817</td>\n",
        "      <td> 2.212817</td>\n",
        "      <td>...</td>\n",
        "    </tr>\n",
        "    <tr>\n",
        "      <th>EX_ala_DASH_L_LPAREN_e_RPAREN_</th>\n",
        "      <td> 2.212817</td>\n",
        "      <td> 0</td>\n",
        "      <td> 2.212817</td>\n",
        "      <td> 0</td>\n",
        "      <td> 0</td>\n",
        "      <td> 2.212817</td>\n",
        "      <td> 2.212817</td>\n",
        "      <td> 0</td>\n",
        "      <td> 2.212817</td>\n",
        "      <td> 2.212817</td>\n",
        "      <td> 2.212817</td>\n",
        "      <td> 2.212817</td>\n",
        "      <td> 2.212817</td>\n",
        "      <td> 2.212817</td>\n",
        "      <td> 2.212817</td>\n",
        "      <td> 2.212817</td>\n",
        "      <td> 2.212817</td>\n",
        "      <td> 2.212817</td>\n",
        "      <td> 2.212817</td>\n",
        "      <td> 2.212817</td>\n",
        "      <td>...</td>\n",
        "    </tr>\n",
        "    <tr>\n",
        "      <th>EX_alaala_LPAREN_e_RPAREN_</th>\n",
        "      <td> 2.212817</td>\n",
        "      <td> 0</td>\n",
        "      <td> 2.212817</td>\n",
        "      <td> 0</td>\n",
        "      <td> 0</td>\n",
        "      <td> 2.212817</td>\n",
        "      <td> 2.212817</td>\n",
        "      <td> 0</td>\n",
        "      <td> 2.212817</td>\n",
        "      <td> 2.212817</td>\n",
        "      <td> 2.212817</td>\n",
        "      <td> 2.212817</td>\n",
        "      <td> 2.212817</td>\n",
        "      <td> 2.212817</td>\n",
        "      <td> 2.212817</td>\n",
        "      <td> 2.212817</td>\n",
        "      <td> 2.212817</td>\n",
        "      <td> 2.212817</td>\n",
        "      <td> 2.212817</td>\n",
        "      <td> 2.212817</td>\n",
        "      <td>...</td>\n",
        "    </tr>\n",
        "    <tr>\n",
        "      <th>EX_all_DASH_D_LPAREN_e_RPAREN_</th>\n",
        "      <td> 2.212817</td>\n",
        "      <td> 0</td>\n",
        "      <td> 2.212817</td>\n",
        "      <td> 0</td>\n",
        "      <td> 0</td>\n",
        "      <td> 2.212817</td>\n",
        "      <td> 2.212817</td>\n",
        "      <td> 0</td>\n",
        "      <td> 2.212817</td>\n",
        "      <td> 2.212817</td>\n",
        "      <td> 2.212817</td>\n",
        "      <td> 2.212817</td>\n",
        "      <td> 2.212817</td>\n",
        "      <td> 2.212817</td>\n",
        "      <td> 2.212817</td>\n",
        "      <td> 2.212817</td>\n",
        "      <td> 2.212817</td>\n",
        "      <td> 2.212817</td>\n",
        "      <td> 2.212817</td>\n",
        "      <td> 2.212817</td>\n",
        "      <td>...</td>\n",
        "    </tr>\n",
        "    <tr>\n",
        "      <th>EX_alltn_LPAREN_e_RPAREN_</th>\n",
        "      <td> 2.212817</td>\n",
        "      <td> 0</td>\n",
        "      <td> 2.212817</td>\n",
        "      <td> 0</td>\n",
        "      <td> 0</td>\n",
        "      <td> 2.212817</td>\n",
        "      <td> 2.212817</td>\n",
        "      <td> 0</td>\n",
        "      <td> 2.212817</td>\n",
        "      <td> 2.212817</td>\n",
        "      <td> 2.212817</td>\n",
        "      <td> 2.212817</td>\n",
        "      <td> 2.212817</td>\n",
        "      <td> 2.212817</td>\n",
        "      <td> 2.212817</td>\n",
        "      <td> 2.212817</td>\n",
        "      <td> 2.212817</td>\n",
        "      <td> 2.212817</td>\n",
        "      <td> 2.212817</td>\n",
        "      <td> 2.212817</td>\n",
        "      <td>...</td>\n",
        "    </tr>\n",
        "    <tr>\n",
        "      <th>EX_amp_LPAREN_e_RPAREN_</th>\n",
        "      <td> 2.212817</td>\n",
        "      <td> 0</td>\n",
        "      <td> 2.212817</td>\n",
        "      <td> 0</td>\n",
        "      <td> 0</td>\n",
        "      <td> 2.212817</td>\n",
        "      <td> 2.212817</td>\n",
        "      <td> 0</td>\n",
        "      <td> 2.212817</td>\n",
        "      <td> 2.212817</td>\n",
        "      <td> 2.212817</td>\n",
        "      <td> 2.212817</td>\n",
        "      <td> 2.212817</td>\n",
        "      <td> 2.212817</td>\n",
        "      <td> 2.212817</td>\n",
        "      <td> 2.212817</td>\n",
        "      <td> 2.212817</td>\n",
        "      <td> 2.212817</td>\n",
        "      <td> 2.212817</td>\n",
        "      <td> 2.212817</td>\n",
        "      <td>...</td>\n",
        "    </tr>\n",
        "    <tr>\n",
        "      <th></th>\n",
        "      <td>...</td>\n",
        "      <td>...</td>\n",
        "      <td>...</td>\n",
        "      <td>...</td>\n",
        "      <td>...</td>\n",
        "      <td>...</td>\n",
        "      <td>...</td>\n",
        "      <td>...</td>\n",
        "      <td>...</td>\n",
        "      <td>...</td>\n",
        "      <td>...</td>\n",
        "      <td>...</td>\n",
        "      <td>...</td>\n",
        "      <td>...</td>\n",
        "      <td>...</td>\n",
        "      <td>...</td>\n",
        "      <td>...</td>\n",
        "      <td>...</td>\n",
        "      <td>...</td>\n",
        "      <td>...</td>\n",
        "    </tr>\n",
        "  </tbody>\n",
        "</table>\n",
        "<p>2583 rows \u00d7 2583 columns</p>\n",
        "</div>"
       ],
       "metadata": {},
       "output_type": "pyout",
       "prompt_number": 169,
       "text": [
        "                                      DM_4CRSOL  DM_5DRIB  DM_AACALD  DM_AMOB  \\\n",
        "DM_4CRSOL                              2.212817         0   2.212817        0   \n",
        "DM_5DRIB                               0.000000         0   0.000000        0   \n",
        "DM_AACALD                              2.212817         0   2.212817        0   \n",
        "DM_AMOB                                0.000000         0   0.000000        0   \n",
        "DM_MTHTHF                              0.000000         0   0.000000        0   \n",
        "DM_OXAM                                2.212817         0   2.212817        0   \n",
        "Ec_biomass_iJO1366_WT_53p95M           2.212817         0   2.212817        0   \n",
        "Ec_biomass_iJO1366_core_53p95M         0.000000         0   0.000000        0   \n",
        "EX_12ppd_DASH_R_LPAREN_e_RPAREN_       2.212817         0   2.212817        0   \n",
        "EX_12ppd_DASH_S_LPAREN_e_RPAREN_       2.212817         0   2.212817        0   \n",
        "EX_14glucan_LPAREN_e_RPAREN_           2.212817         0   2.212817        0   \n",
        "EX_15dap_LPAREN_e_RPAREN_              2.212817         0   2.212817        0   \n",
        "EX_23camp_LPAREN_e_RPAREN_             2.212817         0   2.212817        0   \n",
        "EX_23ccmp_LPAREN_e_RPAREN_             2.212817         0   2.212817        0   \n",
        "EX_23cgmp_LPAREN_e_RPAREN_             2.212817         0   2.212817        0   \n",
        "EX_23cump_LPAREN_e_RPAREN_             2.212817         0   2.212817        0   \n",
        "EX_23dappa_LPAREN_e_RPAREN_            2.212817         0   2.212817        0   \n",
        "EX_26dap_DASH_M_LPAREN_e_RPAREN_       2.212817         0   2.212817        0   \n",
        "EX_2ddglcn_LPAREN_e_RPAREN_            2.212817         0   2.212817        0   \n",
        "EX_34dhpac_LPAREN_e_RPAREN_            2.212817         0   2.212817        0   \n",
        "EX_3amp_LPAREN_e_RPAREN_               2.212817         0   2.212817        0   \n",
        "EX_3cmp_LPAREN_e_RPAREN_               2.212817         0   2.212817        0   \n",
        "EX_3gmp_LPAREN_e_RPAREN_               2.212817         0   2.212817        0   \n",
        "EX_3hcinnm_LPAREN_e_RPAREN_            2.212817         0   2.212817        0   \n",
        "EX_3hpp_LPAREN_e_RPAREN_               2.212817         0   2.212817        0   \n",
        "EX_3hpppn_LPAREN_e_RPAREN_             2.212817         0   2.212817        0   \n",
        "EX_3ump_LPAREN_e_RPAREN_               2.212817         0   2.212817        0   \n",
        "EX_4abut_LPAREN_e_RPAREN_              2.212817         0   2.212817        0   \n",
        "EX_4hoxpacd_LPAREN_e_RPAREN_           2.212817         0   2.212817        0   \n",
        "EX_5dglcn_LPAREN_e_RPAREN_             2.212817         0   2.212817        0   \n",
        "EX_5mtr_LPAREN_e_RPAREN_               2.212817         0   2.212817        0   \n",
        "EX_LalaDglu_LPAREN_e_RPAREN_           2.212817         0   2.212817        0   \n",
        "EX_LalaDgluMdap_LPAREN_e_RPAREN_       2.212817         0   2.212817        0   \n",
        "EX_LalaDgluMdapDala_LPAREN_e_RPAREN_   2.212817         0   2.212817        0   \n",
        "EX_LalaLglu_LPAREN_e_RPAREN_           2.212817         0   2.212817        0   \n",
        "EX_ac_LPAREN_e_RPAREN_                 1.976664         0   1.976664        0   \n",
        "EX_acac_LPAREN_e_RPAREN_               2.212817         0   2.212817        0   \n",
        "EX_acald_LPAREN_e_RPAREN_              2.212817         0   2.212817        0   \n",
        "EX_acgal_LPAREN_e_RPAREN_              2.212817         0   2.212817        0   \n",
        "EX_acgal1p_LPAREN_e_RPAREN_            2.212817         0   2.212817        0   \n",
        "EX_acgam_LPAREN_e_RPAREN_              2.212817         0   2.212817        0   \n",
        "EX_acgam1p_LPAREN_e_RPAREN_            2.212817         0   2.212817        0   \n",
        "EX_acmana_LPAREN_e_RPAREN_             2.212817         0   2.212817        0   \n",
        "EX_acmum_LPAREN_e_RPAREN_              2.212817         0   2.212817        0   \n",
        "EX_acnam_LPAREN_e_RPAREN_              2.212817         0   2.212817        0   \n",
        "EX_acolipa_LPAREN_e_RPAREN_            2.212817         0   2.212817        0   \n",
        "EX_acser_LPAREN_e_RPAREN_              2.212817         0   2.212817        0   \n",
        "EX_ade_LPAREN_e_RPAREN_                2.131005         0   2.131005        0   \n",
        "EX_adn_LPAREN_e_RPAREN_                2.027489         0   2.027489        0   \n",
        "EX_adocbl_LPAREN_e_RPAREN_             2.212817         0   2.212817        0   \n",
        "EX_ag_LPAREN_e_RPAREN_                 2.212817         0   2.212817        0   \n",
        "EX_agm_LPAREN_e_RPAREN_                2.194209         0   2.194209        0   \n",
        "EX_akg_LPAREN_e_RPAREN_                2.212817         0   2.212817        0   \n",
        "EX_ala_DASH_B_LPAREN_e_RPAREN_         2.212817         0   2.212817        0   \n",
        "EX_ala_DASH_D_LPAREN_e_RPAREN_         2.212817         0   2.212817        0   \n",
        "EX_ala_DASH_L_LPAREN_e_RPAREN_         2.212817         0   2.212817        0   \n",
        "EX_alaala_LPAREN_e_RPAREN_             2.212817         0   2.212817        0   \n",
        "EX_all_DASH_D_LPAREN_e_RPAREN_         2.212817         0   2.212817        0   \n",
        "EX_alltn_LPAREN_e_RPAREN_              2.212817         0   2.212817        0   \n",
        "EX_amp_LPAREN_e_RPAREN_                2.212817         0   2.212817        0   \n",
        "                                            ...       ...        ...      ...   \n",
        "\n",
        "                                      DM_MTHTHF   DM_OXAM  \\\n",
        "DM_4CRSOL                                     0  2.212817   \n",
        "DM_5DRIB                                      0  0.000000   \n",
        "DM_AACALD                                     0  2.212817   \n",
        "DM_AMOB                                       0  0.000000   \n",
        "DM_MTHTHF                                     0  0.000000   \n",
        "DM_OXAM                                       0  2.212817   \n",
        "Ec_biomass_iJO1366_WT_53p95M                  0  2.212817   \n",
        "Ec_biomass_iJO1366_core_53p95M                0  0.000000   \n",
        "EX_12ppd_DASH_R_LPAREN_e_RPAREN_              0  2.212817   \n",
        "EX_12ppd_DASH_S_LPAREN_e_RPAREN_              0  2.212817   \n",
        "EX_14glucan_LPAREN_e_RPAREN_                  0  2.212817   \n",
        "EX_15dap_LPAREN_e_RPAREN_                     0  2.212817   \n",
        "EX_23camp_LPAREN_e_RPAREN_                    0  2.212817   \n",
        "EX_23ccmp_LPAREN_e_RPAREN_                    0  2.212817   \n",
        "EX_23cgmp_LPAREN_e_RPAREN_                    0  2.212817   \n",
        "EX_23cump_LPAREN_e_RPAREN_                    0  2.212817   \n",
        "EX_23dappa_LPAREN_e_RPAREN_                   0  2.212817   \n",
        "EX_26dap_DASH_M_LPAREN_e_RPAREN_              0  2.212817   \n",
        "EX_2ddglcn_LPAREN_e_RPAREN_                   0  2.212817   \n",
        "EX_34dhpac_LPAREN_e_RPAREN_                   0  2.212817   \n",
        "EX_3amp_LPAREN_e_RPAREN_                      0  2.212817   \n",
        "EX_3cmp_LPAREN_e_RPAREN_                      0  2.212817   \n",
        "EX_3gmp_LPAREN_e_RPAREN_                      0  2.212817   \n",
        "EX_3hcinnm_LPAREN_e_RPAREN_                   0  2.212817   \n",
        "EX_3hpp_LPAREN_e_RPAREN_                      0  2.212817   \n",
        "EX_3hpppn_LPAREN_e_RPAREN_                    0  2.212817   \n",
        "EX_3ump_LPAREN_e_RPAREN_                      0  2.212817   \n",
        "EX_4abut_LPAREN_e_RPAREN_                     0  2.212817   \n",
        "EX_4hoxpacd_LPAREN_e_RPAREN_                  0  2.212817   \n",
        "EX_5dglcn_LPAREN_e_RPAREN_                    0  2.212817   \n",
        "EX_5mtr_LPAREN_e_RPAREN_                      0  2.212817   \n",
        "EX_LalaDglu_LPAREN_e_RPAREN_                  0  2.212817   \n",
        "EX_LalaDgluMdap_LPAREN_e_RPAREN_              0  2.212817   \n",
        "EX_LalaDgluMdapDala_LPAREN_e_RPAREN_          0  2.212817   \n",
        "EX_LalaLglu_LPAREN_e_RPAREN_                  0  2.212817   \n",
        "EX_ac_LPAREN_e_RPAREN_                        0  1.965691   \n",
        "EX_acac_LPAREN_e_RPAREN_                      0  2.212817   \n",
        "EX_acald_LPAREN_e_RPAREN_                     0  2.212817   \n",
        "EX_acgal_LPAREN_e_RPAREN_                     0  2.212817   \n",
        "EX_acgal1p_LPAREN_e_RPAREN_                   0  2.212817   \n",
        "EX_acgam_LPAREN_e_RPAREN_                     0  2.212817   \n",
        "EX_acgam1p_LPAREN_e_RPAREN_                   0  2.212817   \n",
        "EX_acmana_LPAREN_e_RPAREN_                    0  2.212817   \n",
        "EX_acmum_LPAREN_e_RPAREN_                     0  2.212817   \n",
        "EX_acnam_LPAREN_e_RPAREN_                     0  2.212817   \n",
        "EX_acolipa_LPAREN_e_RPAREN_                   0  2.212817   \n",
        "EX_acser_LPAREN_e_RPAREN_                     0  2.212817   \n",
        "EX_ade_LPAREN_e_RPAREN_                       0  2.131005   \n",
        "EX_adn_LPAREN_e_RPAREN_                       0  2.027489   \n",
        "EX_adocbl_LPAREN_e_RPAREN_                    0  2.212817   \n",
        "EX_ag_LPAREN_e_RPAREN_                        0  2.212817   \n",
        "EX_agm_LPAREN_e_RPAREN_                       0  2.194209   \n",
        "EX_akg_LPAREN_e_RPAREN_                       0  2.212817   \n",
        "EX_ala_DASH_B_LPAREN_e_RPAREN_                0  2.212817   \n",
        "EX_ala_DASH_D_LPAREN_e_RPAREN_                0  2.212817   \n",
        "EX_ala_DASH_L_LPAREN_e_RPAREN_                0  2.212817   \n",
        "EX_alaala_LPAREN_e_RPAREN_                    0  2.212817   \n",
        "EX_all_DASH_D_LPAREN_e_RPAREN_                0  2.212817   \n",
        "EX_alltn_LPAREN_e_RPAREN_                     0  2.212817   \n",
        "EX_amp_LPAREN_e_RPAREN_                       0  2.212817   \n",
        "                                            ...       ...   \n",
        "\n",
        "                                      Ec_biomass_iJO1366_WT_53p95M  \\\n",
        "DM_4CRSOL                                                 2.212817   \n",
        "DM_5DRIB                                                  0.000000   \n",
        "DM_AACALD                                                 2.212817   \n",
        "DM_AMOB                                                   0.000000   \n",
        "DM_MTHTHF                                                 0.000000   \n",
        "DM_OXAM                                                   2.212817   \n",
        "Ec_biomass_iJO1366_WT_53p95M                              2.212817   \n",
        "Ec_biomass_iJO1366_core_53p95M                            0.000000   \n",
        "EX_12ppd_DASH_R_LPAREN_e_RPAREN_                          2.212817   \n",
        "EX_12ppd_DASH_S_LPAREN_e_RPAREN_                          2.212817   \n",
        "EX_14glucan_LPAREN_e_RPAREN_                              2.212817   \n",
        "EX_15dap_LPAREN_e_RPAREN_                                 2.212817   \n",
        "EX_23camp_LPAREN_e_RPAREN_                                2.212817   \n",
        "EX_23ccmp_LPAREN_e_RPAREN_                                2.212817   \n",
        "EX_23cgmp_LPAREN_e_RPAREN_                                2.212817   \n",
        "EX_23cump_LPAREN_e_RPAREN_                                2.212817   \n",
        "EX_23dappa_LPAREN_e_RPAREN_                               2.212817   \n",
        "EX_26dap_DASH_M_LPAREN_e_RPAREN_                          2.212817   \n",
        "EX_2ddglcn_LPAREN_e_RPAREN_                               2.212817   \n",
        "EX_34dhpac_LPAREN_e_RPAREN_                               2.212817   \n",
        "EX_3amp_LPAREN_e_RPAREN_                                  2.212817   \n",
        "EX_3cmp_LPAREN_e_RPAREN_                                  2.212817   \n",
        "EX_3gmp_LPAREN_e_RPAREN_                                  2.212817   \n",
        "EX_3hcinnm_LPAREN_e_RPAREN_                               2.212817   \n",
        "EX_3hpp_LPAREN_e_RPAREN_                                  2.212817   \n",
        "EX_3hpppn_LPAREN_e_RPAREN_                                2.212817   \n",
        "EX_3ump_LPAREN_e_RPAREN_                                  2.212817   \n",
        "EX_4abut_LPAREN_e_RPAREN_                                 2.212817   \n",
        "EX_4hoxpacd_LPAREN_e_RPAREN_                              2.212817   \n",
        "EX_5dglcn_LPAREN_e_RPAREN_                                2.212817   \n",
        "EX_5mtr_LPAREN_e_RPAREN_                                  2.212817   \n",
        "EX_LalaDglu_LPAREN_e_RPAREN_                              2.212817   \n",
        "EX_LalaDgluMdap_LPAREN_e_RPAREN_                          2.212817   \n",
        "EX_LalaDgluMdapDala_LPAREN_e_RPAREN_                      2.212817   \n",
        "EX_LalaLglu_LPAREN_e_RPAREN_                              2.212817   \n",
        "EX_ac_LPAREN_e_RPAREN_                                    1.976664   \n",
        "EX_acac_LPAREN_e_RPAREN_                                  2.212817   \n",
        "EX_acald_LPAREN_e_RPAREN_                                 2.212817   \n",
        "EX_acgal_LPAREN_e_RPAREN_                                 2.212817   \n",
        "EX_acgal1p_LPAREN_e_RPAREN_                               2.212817   \n",
        "EX_acgam_LPAREN_e_RPAREN_                                 2.212817   \n",
        "EX_acgam1p_LPAREN_e_RPAREN_                               2.212817   \n",
        "EX_acmana_LPAREN_e_RPAREN_                                2.212817   \n",
        "EX_acmum_LPAREN_e_RPAREN_                                 2.212817   \n",
        "EX_acnam_LPAREN_e_RPAREN_                                 2.212817   \n",
        "EX_acolipa_LPAREN_e_RPAREN_                               2.212817   \n",
        "EX_acser_LPAREN_e_RPAREN_                                 2.212817   \n",
        "EX_ade_LPAREN_e_RPAREN_                                   2.131005   \n",
        "EX_adn_LPAREN_e_RPAREN_                                   2.027489   \n",
        "EX_adocbl_LPAREN_e_RPAREN_                                2.212817   \n",
        "EX_ag_LPAREN_e_RPAREN_                                    2.212817   \n",
        "EX_agm_LPAREN_e_RPAREN_                                   2.194209   \n",
        "EX_akg_LPAREN_e_RPAREN_                                   2.212817   \n",
        "EX_ala_DASH_B_LPAREN_e_RPAREN_                            2.212817   \n",
        "EX_ala_DASH_D_LPAREN_e_RPAREN_                            2.212817   \n",
        "EX_ala_DASH_L_LPAREN_e_RPAREN_                            2.212817   \n",
        "EX_alaala_LPAREN_e_RPAREN_                                2.212817   \n",
        "EX_all_DASH_D_LPAREN_e_RPAREN_                            2.212817   \n",
        "EX_alltn_LPAREN_e_RPAREN_                                 2.212817   \n",
        "EX_amp_LPAREN_e_RPAREN_                                   2.212817   \n",
        "                                                               ...   \n",
        "\n",
        "                                      Ec_biomass_iJO1366_core_53p95M  \\\n",
        "DM_4CRSOL                                                          0   \n",
        "DM_5DRIB                                                           0   \n",
        "DM_AACALD                                                          0   \n",
        "DM_AMOB                                                            0   \n",
        "DM_MTHTHF                                                          0   \n",
        "DM_OXAM                                                            0   \n",
        "Ec_biomass_iJO1366_WT_53p95M                                       0   \n",
        "Ec_biomass_iJO1366_core_53p95M                                     0   \n",
        "EX_12ppd_DASH_R_LPAREN_e_RPAREN_                                   0   \n",
        "EX_12ppd_DASH_S_LPAREN_e_RPAREN_                                   0   \n",
        "EX_14glucan_LPAREN_e_RPAREN_                                       0   \n",
        "EX_15dap_LPAREN_e_RPAREN_                                          0   \n",
        "EX_23camp_LPAREN_e_RPAREN_                                         0   \n",
        "EX_23ccmp_LPAREN_e_RPAREN_                                         0   \n",
        "EX_23cgmp_LPAREN_e_RPAREN_                                         0   \n",
        "EX_23cump_LPAREN_e_RPAREN_                                         0   \n",
        "EX_23dappa_LPAREN_e_RPAREN_                                        0   \n",
        "EX_26dap_DASH_M_LPAREN_e_RPAREN_                                   0   \n",
        "EX_2ddglcn_LPAREN_e_RPAREN_                                        0   \n",
        "EX_34dhpac_LPAREN_e_RPAREN_                                        0   \n",
        "EX_3amp_LPAREN_e_RPAREN_                                           0   \n",
        "EX_3cmp_LPAREN_e_RPAREN_                                           0   \n",
        "EX_3gmp_LPAREN_e_RPAREN_                                           0   \n",
        "EX_3hcinnm_LPAREN_e_RPAREN_                                        0   \n",
        "EX_3hpp_LPAREN_e_RPAREN_                                           0   \n",
        "EX_3hpppn_LPAREN_e_RPAREN_                                         0   \n",
        "EX_3ump_LPAREN_e_RPAREN_                                           0   \n",
        "EX_4abut_LPAREN_e_RPAREN_                                          0   \n",
        "EX_4hoxpacd_LPAREN_e_RPAREN_                                       0   \n",
        "EX_5dglcn_LPAREN_e_RPAREN_                                         0   \n",
        "EX_5mtr_LPAREN_e_RPAREN_                                           0   \n",
        "EX_LalaDglu_LPAREN_e_RPAREN_                                       0   \n",
        "EX_LalaDgluMdap_LPAREN_e_RPAREN_                                   0   \n",
        "EX_LalaDgluMdapDala_LPAREN_e_RPAREN_                               0   \n",
        "EX_LalaLglu_LPAREN_e_RPAREN_                                       0   \n",
        "EX_ac_LPAREN_e_RPAREN_                                             0   \n",
        "EX_acac_LPAREN_e_RPAREN_                                           0   \n",
        "EX_acald_LPAREN_e_RPAREN_                                          0   \n",
        "EX_acgal_LPAREN_e_RPAREN_                                          0   \n",
        "EX_acgal1p_LPAREN_e_RPAREN_                                        0   \n",
        "EX_acgam_LPAREN_e_RPAREN_                                          0   \n",
        "EX_acgam1p_LPAREN_e_RPAREN_                                        0   \n",
        "EX_acmana_LPAREN_e_RPAREN_                                         0   \n",
        "EX_acmum_LPAREN_e_RPAREN_                                          0   \n",
        "EX_acnam_LPAREN_e_RPAREN_                                          0   \n",
        "EX_acolipa_LPAREN_e_RPAREN_                                        0   \n",
        "EX_acser_LPAREN_e_RPAREN_                                          0   \n",
        "EX_ade_LPAREN_e_RPAREN_                                            0   \n",
        "EX_adn_LPAREN_e_RPAREN_                                            0   \n",
        "EX_adocbl_LPAREN_e_RPAREN_                                         0   \n",
        "EX_ag_LPAREN_e_RPAREN_                                             0   \n",
        "EX_agm_LPAREN_e_RPAREN_                                            0   \n",
        "EX_akg_LPAREN_e_RPAREN_                                            0   \n",
        "EX_ala_DASH_B_LPAREN_e_RPAREN_                                     0   \n",
        "EX_ala_DASH_D_LPAREN_e_RPAREN_                                     0   \n",
        "EX_ala_DASH_L_LPAREN_e_RPAREN_                                     0   \n",
        "EX_alaala_LPAREN_e_RPAREN_                                         0   \n",
        "EX_all_DASH_D_LPAREN_e_RPAREN_                                     0   \n",
        "EX_alltn_LPAREN_e_RPAREN_                                          0   \n",
        "EX_amp_LPAREN_e_RPAREN_                                            0   \n",
        "                                                                 ...   \n",
        "\n",
        "                                      EX_12ppd_DASH_R_LPAREN_e_RPAREN_  \\\n",
        "DM_4CRSOL                                                     2.212817   \n",
        "DM_5DRIB                                                      0.000000   \n",
        "DM_AACALD                                                     2.212817   \n",
        "DM_AMOB                                                       0.000000   \n",
        "DM_MTHTHF                                                     0.000000   \n",
        "DM_OXAM                                                       2.212817   \n",
        "Ec_biomass_iJO1366_WT_53p95M                                  2.212817   \n",
        "Ec_biomass_iJO1366_core_53p95M                                0.000000   \n",
        "EX_12ppd_DASH_R_LPAREN_e_RPAREN_                              2.212817   \n",
        "EX_12ppd_DASH_S_LPAREN_e_RPAREN_                              2.212817   \n",
        "EX_14glucan_LPAREN_e_RPAREN_                                  2.212817   \n",
        "EX_15dap_LPAREN_e_RPAREN_                                     2.212817   \n",
        "EX_23camp_LPAREN_e_RPAREN_                                    2.212817   \n",
        "EX_23ccmp_LPAREN_e_RPAREN_                                    2.212817   \n",
        "EX_23cgmp_LPAREN_e_RPAREN_                                    2.212817   \n",
        "EX_23cump_LPAREN_e_RPAREN_                                    2.212817   \n",
        "EX_23dappa_LPAREN_e_RPAREN_                                   2.212817   \n",
        "EX_26dap_DASH_M_LPAREN_e_RPAREN_                              2.212817   \n",
        "EX_2ddglcn_LPAREN_e_RPAREN_                                   2.212817   \n",
        "EX_34dhpac_LPAREN_e_RPAREN_                                   2.212817   \n",
        "EX_3amp_LPAREN_e_RPAREN_                                      2.212817   \n",
        "EX_3cmp_LPAREN_e_RPAREN_                                      2.212817   \n",
        "EX_3gmp_LPAREN_e_RPAREN_                                      2.212817   \n",
        "EX_3hcinnm_LPAREN_e_RPAREN_                                   2.212817   \n",
        "EX_3hpp_LPAREN_e_RPAREN_                                      2.212817   \n",
        "EX_3hpppn_LPAREN_e_RPAREN_                                    2.212817   \n",
        "EX_3ump_LPAREN_e_RPAREN_                                      2.212817   \n",
        "EX_4abut_LPAREN_e_RPAREN_                                     2.212817   \n",
        "EX_4hoxpacd_LPAREN_e_RPAREN_                                  2.212817   \n",
        "EX_5dglcn_LPAREN_e_RPAREN_                                    2.212817   \n",
        "EX_5mtr_LPAREN_e_RPAREN_                                      2.212817   \n",
        "EX_LalaDglu_LPAREN_e_RPAREN_                                  2.212817   \n",
        "EX_LalaDgluMdap_LPAREN_e_RPAREN_                              2.212817   \n",
        "EX_LalaDgluMdapDala_LPAREN_e_RPAREN_                          2.212817   \n",
        "EX_LalaLglu_LPAREN_e_RPAREN_                                  2.212817   \n",
        "EX_ac_LPAREN_e_RPAREN_                                        1.976664   \n",
        "EX_acac_LPAREN_e_RPAREN_                                      2.212817   \n",
        "EX_acald_LPAREN_e_RPAREN_                                     2.212817   \n",
        "EX_acgal_LPAREN_e_RPAREN_                                     2.212817   \n",
        "EX_acgal1p_LPAREN_e_RPAREN_                                   2.212817   \n",
        "EX_acgam_LPAREN_e_RPAREN_                                     2.212817   \n",
        "EX_acgam1p_LPAREN_e_RPAREN_                                   2.212817   \n",
        "EX_acmana_LPAREN_e_RPAREN_                                    2.212817   \n",
        "EX_acmum_LPAREN_e_RPAREN_                                     2.212817   \n",
        "EX_acnam_LPAREN_e_RPAREN_                                     2.212817   \n",
        "EX_acolipa_LPAREN_e_RPAREN_                                   2.212817   \n",
        "EX_acser_LPAREN_e_RPAREN_                                     2.212817   \n",
        "EX_ade_LPAREN_e_RPAREN_                                       2.131005   \n",
        "EX_adn_LPAREN_e_RPAREN_                                       2.027489   \n",
        "EX_adocbl_LPAREN_e_RPAREN_                                    2.212817   \n",
        "EX_ag_LPAREN_e_RPAREN_                                        2.212817   \n",
        "EX_agm_LPAREN_e_RPAREN_                                       2.194209   \n",
        "EX_akg_LPAREN_e_RPAREN_                                       2.212817   \n",
        "EX_ala_DASH_B_LPAREN_e_RPAREN_                                2.212817   \n",
        "EX_ala_DASH_D_LPAREN_e_RPAREN_                                2.212817   \n",
        "EX_ala_DASH_L_LPAREN_e_RPAREN_                                2.212817   \n",
        "EX_alaala_LPAREN_e_RPAREN_                                    2.212817   \n",
        "EX_all_DASH_D_LPAREN_e_RPAREN_                                2.212817   \n",
        "EX_alltn_LPAREN_e_RPAREN_                                     2.212817   \n",
        "EX_amp_LPAREN_e_RPAREN_                                       2.212817   \n",
        "                                                                   ...   \n",
        "\n",
        "                                      EX_12ppd_DASH_S_LPAREN_e_RPAREN_  \\\n",
        "DM_4CRSOL                                                     2.212817   \n",
        "DM_5DRIB                                                      0.000000   \n",
        "DM_AACALD                                                     2.212817   \n",
        "DM_AMOB                                                       0.000000   \n",
        "DM_MTHTHF                                                     0.000000   \n",
        "DM_OXAM                                                       2.212817   \n",
        "Ec_biomass_iJO1366_WT_53p95M                                  2.212817   \n",
        "Ec_biomass_iJO1366_core_53p95M                                0.000000   \n",
        "EX_12ppd_DASH_R_LPAREN_e_RPAREN_                              2.212817   \n",
        "EX_12ppd_DASH_S_LPAREN_e_RPAREN_                              2.212817   \n",
        "EX_14glucan_LPAREN_e_RPAREN_                                  2.212817   \n",
        "EX_15dap_LPAREN_e_RPAREN_                                     2.212817   \n",
        "EX_23camp_LPAREN_e_RPAREN_                                    2.212817   \n",
        "EX_23ccmp_LPAREN_e_RPAREN_                                    2.212817   \n",
        "EX_23cgmp_LPAREN_e_RPAREN_                                    2.212817   \n",
        "EX_23cump_LPAREN_e_RPAREN_                                    2.212817   \n",
        "EX_23dappa_LPAREN_e_RPAREN_                                   2.212817   \n",
        "EX_26dap_DASH_M_LPAREN_e_RPAREN_                              2.212817   \n",
        "EX_2ddglcn_LPAREN_e_RPAREN_                                   2.212817   \n",
        "EX_34dhpac_LPAREN_e_RPAREN_                                   2.212817   \n",
        "EX_3amp_LPAREN_e_RPAREN_                                      2.212817   \n",
        "EX_3cmp_LPAREN_e_RPAREN_                                      2.212817   \n",
        "EX_3gmp_LPAREN_e_RPAREN_                                      2.212817   \n",
        "EX_3hcinnm_LPAREN_e_RPAREN_                                   2.212817   \n",
        "EX_3hpp_LPAREN_e_RPAREN_                                      2.212817   \n",
        "EX_3hpppn_LPAREN_e_RPAREN_                                    2.212817   \n",
        "EX_3ump_LPAREN_e_RPAREN_                                      2.212817   \n",
        "EX_4abut_LPAREN_e_RPAREN_                                     2.212817   \n",
        "EX_4hoxpacd_LPAREN_e_RPAREN_                                  2.212817   \n",
        "EX_5dglcn_LPAREN_e_RPAREN_                                    2.212817   \n",
        "EX_5mtr_LPAREN_e_RPAREN_                                      2.212817   \n",
        "EX_LalaDglu_LPAREN_e_RPAREN_                                  2.212817   \n",
        "EX_LalaDgluMdap_LPAREN_e_RPAREN_                              2.212817   \n",
        "EX_LalaDgluMdapDala_LPAREN_e_RPAREN_                          2.212817   \n",
        "EX_LalaLglu_LPAREN_e_RPAREN_                                  2.212817   \n",
        "EX_ac_LPAREN_e_RPAREN_                                        1.976664   \n",
        "EX_acac_LPAREN_e_RPAREN_                                      2.212817   \n",
        "EX_acald_LPAREN_e_RPAREN_                                     2.212817   \n",
        "EX_acgal_LPAREN_e_RPAREN_                                     2.212817   \n",
        "EX_acgal1p_LPAREN_e_RPAREN_                                   2.212817   \n",
        "EX_acgam_LPAREN_e_RPAREN_                                     2.212817   \n",
        "EX_acgam1p_LPAREN_e_RPAREN_                                   2.212817   \n",
        "EX_acmana_LPAREN_e_RPAREN_                                    2.212817   \n",
        "EX_acmum_LPAREN_e_RPAREN_                                     2.212817   \n",
        "EX_acnam_LPAREN_e_RPAREN_                                     2.212817   \n",
        "EX_acolipa_LPAREN_e_RPAREN_                                   2.212817   \n",
        "EX_acser_LPAREN_e_RPAREN_                                     2.212817   \n",
        "EX_ade_LPAREN_e_RPAREN_                                       2.131005   \n",
        "EX_adn_LPAREN_e_RPAREN_                                       2.027489   \n",
        "EX_adocbl_LPAREN_e_RPAREN_                                    2.212817   \n",
        "EX_ag_LPAREN_e_RPAREN_                                        2.212817   \n",
        "EX_agm_LPAREN_e_RPAREN_                                       2.194209   \n",
        "EX_akg_LPAREN_e_RPAREN_                                       2.212817   \n",
        "EX_ala_DASH_B_LPAREN_e_RPAREN_                                2.212817   \n",
        "EX_ala_DASH_D_LPAREN_e_RPAREN_                                2.212817   \n",
        "EX_ala_DASH_L_LPAREN_e_RPAREN_                                2.212817   \n",
        "EX_alaala_LPAREN_e_RPAREN_                                    2.212817   \n",
        "EX_all_DASH_D_LPAREN_e_RPAREN_                                2.212817   \n",
        "EX_alltn_LPAREN_e_RPAREN_                                     2.212817   \n",
        "EX_amp_LPAREN_e_RPAREN_                                       2.212817   \n",
        "                                                                   ...   \n",
        "\n",
        "                                      EX_14glucan_LPAREN_e_RPAREN_  \\\n",
        "DM_4CRSOL                                                 2.212817   \n",
        "DM_5DRIB                                                  0.000000   \n",
        "DM_AACALD                                                 2.212817   \n",
        "DM_AMOB                                                   0.000000   \n",
        "DM_MTHTHF                                                 0.000000   \n",
        "DM_OXAM                                                   2.212817   \n",
        "Ec_biomass_iJO1366_WT_53p95M                              2.212817   \n",
        "Ec_biomass_iJO1366_core_53p95M                            0.000000   \n",
        "EX_12ppd_DASH_R_LPAREN_e_RPAREN_                          2.212817   \n",
        "EX_12ppd_DASH_S_LPAREN_e_RPAREN_                          2.212817   \n",
        "EX_14glucan_LPAREN_e_RPAREN_                              2.212817   \n",
        "EX_15dap_LPAREN_e_RPAREN_                                 2.212817   \n",
        "EX_23camp_LPAREN_e_RPAREN_                                2.212817   \n",
        "EX_23ccmp_LPAREN_e_RPAREN_                                2.212817   \n",
        "EX_23cgmp_LPAREN_e_RPAREN_                                2.212817   \n",
        "EX_23cump_LPAREN_e_RPAREN_                                2.212817   \n",
        "EX_23dappa_LPAREN_e_RPAREN_                               2.212817   \n",
        "EX_26dap_DASH_M_LPAREN_e_RPAREN_                          2.212817   \n",
        "EX_2ddglcn_LPAREN_e_RPAREN_                               2.212817   \n",
        "EX_34dhpac_LPAREN_e_RPAREN_                               2.212817   \n",
        "EX_3amp_LPAREN_e_RPAREN_                                  2.212817   \n",
        "EX_3cmp_LPAREN_e_RPAREN_                                  2.212817   \n",
        "EX_3gmp_LPAREN_e_RPAREN_                                  2.212817   \n",
        "EX_3hcinnm_LPAREN_e_RPAREN_                               2.212817   \n",
        "EX_3hpp_LPAREN_e_RPAREN_                                  2.212817   \n",
        "EX_3hpppn_LPAREN_e_RPAREN_                                2.212817   \n",
        "EX_3ump_LPAREN_e_RPAREN_                                  2.212817   \n",
        "EX_4abut_LPAREN_e_RPAREN_                                 2.212817   \n",
        "EX_4hoxpacd_LPAREN_e_RPAREN_                              2.212817   \n",
        "EX_5dglcn_LPAREN_e_RPAREN_                                2.212817   \n",
        "EX_5mtr_LPAREN_e_RPAREN_                                  2.212817   \n",
        "EX_LalaDglu_LPAREN_e_RPAREN_                              2.212817   \n",
        "EX_LalaDgluMdap_LPAREN_e_RPAREN_                          2.212817   \n",
        "EX_LalaDgluMdapDala_LPAREN_e_RPAREN_                      2.212817   \n",
        "EX_LalaLglu_LPAREN_e_RPAREN_                              2.212817   \n",
        "EX_ac_LPAREN_e_RPAREN_                                    1.976664   \n",
        "EX_acac_LPAREN_e_RPAREN_                                  2.212817   \n",
        "EX_acald_LPAREN_e_RPAREN_                                 2.212817   \n",
        "EX_acgal_LPAREN_e_RPAREN_                                 2.212817   \n",
        "EX_acgal1p_LPAREN_e_RPAREN_                               2.212817   \n",
        "EX_acgam_LPAREN_e_RPAREN_                                 2.212817   \n",
        "EX_acgam1p_LPAREN_e_RPAREN_                               2.212817   \n",
        "EX_acmana_LPAREN_e_RPAREN_                                2.212817   \n",
        "EX_acmum_LPAREN_e_RPAREN_                                 2.212817   \n",
        "EX_acnam_LPAREN_e_RPAREN_                                 2.212817   \n",
        "EX_acolipa_LPAREN_e_RPAREN_                               2.212817   \n",
        "EX_acser_LPAREN_e_RPAREN_                                 2.212817   \n",
        "EX_ade_LPAREN_e_RPAREN_                                   2.131005   \n",
        "EX_adn_LPAREN_e_RPAREN_                                   2.027489   \n",
        "EX_adocbl_LPAREN_e_RPAREN_                                2.212817   \n",
        "EX_ag_LPAREN_e_RPAREN_                                    2.212817   \n",
        "EX_agm_LPAREN_e_RPAREN_                                   2.194209   \n",
        "EX_akg_LPAREN_e_RPAREN_                                   2.212817   \n",
        "EX_ala_DASH_B_LPAREN_e_RPAREN_                            2.212817   \n",
        "EX_ala_DASH_D_LPAREN_e_RPAREN_                            2.212817   \n",
        "EX_ala_DASH_L_LPAREN_e_RPAREN_                            2.212817   \n",
        "EX_alaala_LPAREN_e_RPAREN_                                2.212817   \n",
        "EX_all_DASH_D_LPAREN_e_RPAREN_                            2.212817   \n",
        "EX_alltn_LPAREN_e_RPAREN_                                 2.212817   \n",
        "EX_amp_LPAREN_e_RPAREN_                                   2.212817   \n",
        "                                                               ...   \n",
        "\n",
        "                                      EX_15dap_LPAREN_e_RPAREN_  \\\n",
        "DM_4CRSOL                                              2.212817   \n",
        "DM_5DRIB                                               0.000000   \n",
        "DM_AACALD                                              2.212817   \n",
        "DM_AMOB                                                0.000000   \n",
        "DM_MTHTHF                                              0.000000   \n",
        "DM_OXAM                                                2.212817   \n",
        "Ec_biomass_iJO1366_WT_53p95M                           2.212817   \n",
        "Ec_biomass_iJO1366_core_53p95M                         0.000000   \n",
        "EX_12ppd_DASH_R_LPAREN_e_RPAREN_                       2.212817   \n",
        "EX_12ppd_DASH_S_LPAREN_e_RPAREN_                       2.212817   \n",
        "EX_14glucan_LPAREN_e_RPAREN_                           2.212817   \n",
        "EX_15dap_LPAREN_e_RPAREN_                              2.212817   \n",
        "EX_23camp_LPAREN_e_RPAREN_                             2.212817   \n",
        "EX_23ccmp_LPAREN_e_RPAREN_                             2.212817   \n",
        "EX_23cgmp_LPAREN_e_RPAREN_                             2.212817   \n",
        "EX_23cump_LPAREN_e_RPAREN_                             2.212817   \n",
        "EX_23dappa_LPAREN_e_RPAREN_                            2.212817   \n",
        "EX_26dap_DASH_M_LPAREN_e_RPAREN_                       2.212817   \n",
        "EX_2ddglcn_LPAREN_e_RPAREN_                            2.212817   \n",
        "EX_34dhpac_LPAREN_e_RPAREN_                            2.212817   \n",
        "EX_3amp_LPAREN_e_RPAREN_                               2.212817   \n",
        "EX_3cmp_LPAREN_e_RPAREN_                               2.212817   \n",
        "EX_3gmp_LPAREN_e_RPAREN_                               2.212817   \n",
        "EX_3hcinnm_LPAREN_e_RPAREN_                            2.212817   \n",
        "EX_3hpp_LPAREN_e_RPAREN_                               2.212817   \n",
        "EX_3hpppn_LPAREN_e_RPAREN_                             2.212817   \n",
        "EX_3ump_LPAREN_e_RPAREN_                               2.212817   \n",
        "EX_4abut_LPAREN_e_RPAREN_                              2.212817   \n",
        "EX_4hoxpacd_LPAREN_e_RPAREN_                           2.212817   \n",
        "EX_5dglcn_LPAREN_e_RPAREN_                             2.212817   \n",
        "EX_5mtr_LPAREN_e_RPAREN_                               2.212817   \n",
        "EX_LalaDglu_LPAREN_e_RPAREN_                           2.212817   \n",
        "EX_LalaDgluMdap_LPAREN_e_RPAREN_                       2.212817   \n",
        "EX_LalaDgluMdapDala_LPAREN_e_RPAREN_                   2.212817   \n",
        "EX_LalaLglu_LPAREN_e_RPAREN_                           2.212817   \n",
        "EX_ac_LPAREN_e_RPAREN_                                 1.976664   \n",
        "EX_acac_LPAREN_e_RPAREN_                               2.212817   \n",
        "EX_acald_LPAREN_e_RPAREN_                              2.212817   \n",
        "EX_acgal_LPAREN_e_RPAREN_                              2.212817   \n",
        "EX_acgal1p_LPAREN_e_RPAREN_                            2.212817   \n",
        "EX_acgam_LPAREN_e_RPAREN_                              2.212817   \n",
        "EX_acgam1p_LPAREN_e_RPAREN_                            2.212817   \n",
        "EX_acmana_LPAREN_e_RPAREN_                             2.212817   \n",
        "EX_acmum_LPAREN_e_RPAREN_                              2.212817   \n",
        "EX_acnam_LPAREN_e_RPAREN_                              2.212817   \n",
        "EX_acolipa_LPAREN_e_RPAREN_                            2.212817   \n",
        "EX_acser_LPAREN_e_RPAREN_                              2.212817   \n",
        "EX_ade_LPAREN_e_RPAREN_                                2.131005   \n",
        "EX_adn_LPAREN_e_RPAREN_                                2.027489   \n",
        "EX_adocbl_LPAREN_e_RPAREN_                             2.212817   \n",
        "EX_ag_LPAREN_e_RPAREN_                                 2.212817   \n",
        "EX_agm_LPAREN_e_RPAREN_                                2.194209   \n",
        "EX_akg_LPAREN_e_RPAREN_                                2.212817   \n",
        "EX_ala_DASH_B_LPAREN_e_RPAREN_                         2.212817   \n",
        "EX_ala_DASH_D_LPAREN_e_RPAREN_                         2.212817   \n",
        "EX_ala_DASH_L_LPAREN_e_RPAREN_                         2.212817   \n",
        "EX_alaala_LPAREN_e_RPAREN_                             2.212817   \n",
        "EX_all_DASH_D_LPAREN_e_RPAREN_                         2.212817   \n",
        "EX_alltn_LPAREN_e_RPAREN_                              2.212817   \n",
        "EX_amp_LPAREN_e_RPAREN_                                2.212817   \n",
        "                                                            ...   \n",
        "\n",
        "                                      EX_23camp_LPAREN_e_RPAREN_  \\\n",
        "DM_4CRSOL                                               2.212817   \n",
        "DM_5DRIB                                                0.000000   \n",
        "DM_AACALD                                               2.212817   \n",
        "DM_AMOB                                                 0.000000   \n",
        "DM_MTHTHF                                               0.000000   \n",
        "DM_OXAM                                                 2.212817   \n",
        "Ec_biomass_iJO1366_WT_53p95M                            2.212817   \n",
        "Ec_biomass_iJO1366_core_53p95M                          0.000000   \n",
        "EX_12ppd_DASH_R_LPAREN_e_RPAREN_                        2.212817   \n",
        "EX_12ppd_DASH_S_LPAREN_e_RPAREN_                        2.212817   \n",
        "EX_14glucan_LPAREN_e_RPAREN_                            2.212817   \n",
        "EX_15dap_LPAREN_e_RPAREN_                               2.212817   \n",
        "EX_23camp_LPAREN_e_RPAREN_                              2.212817   \n",
        "EX_23ccmp_LPAREN_e_RPAREN_                              2.212817   \n",
        "EX_23cgmp_LPAREN_e_RPAREN_                              2.212817   \n",
        "EX_23cump_LPAREN_e_RPAREN_                              2.212817   \n",
        "EX_23dappa_LPAREN_e_RPAREN_                             2.212817   \n",
        "EX_26dap_DASH_M_LPAREN_e_RPAREN_                        2.212817   \n",
        "EX_2ddglcn_LPAREN_e_RPAREN_                             2.212817   \n",
        "EX_34dhpac_LPAREN_e_RPAREN_                             2.212817   \n",
        "EX_3amp_LPAREN_e_RPAREN_                                2.212817   \n",
        "EX_3cmp_LPAREN_e_RPAREN_                                2.212817   \n",
        "EX_3gmp_LPAREN_e_RPAREN_                                2.212817   \n",
        "EX_3hcinnm_LPAREN_e_RPAREN_                             2.212817   \n",
        "EX_3hpp_LPAREN_e_RPAREN_                                2.212817   \n",
        "EX_3hpppn_LPAREN_e_RPAREN_                              2.212817   \n",
        "EX_3ump_LPAREN_e_RPAREN_                                2.212817   \n",
        "EX_4abut_LPAREN_e_RPAREN_                               2.212817   \n",
        "EX_4hoxpacd_LPAREN_e_RPAREN_                            2.212817   \n",
        "EX_5dglcn_LPAREN_e_RPAREN_                              2.212817   \n",
        "EX_5mtr_LPAREN_e_RPAREN_                                2.212817   \n",
        "EX_LalaDglu_LPAREN_e_RPAREN_                            2.212817   \n",
        "EX_LalaDgluMdap_LPAREN_e_RPAREN_                        2.212817   \n",
        "EX_LalaDgluMdapDala_LPAREN_e_RPAREN_                    2.212817   \n",
        "EX_LalaLglu_LPAREN_e_RPAREN_                            2.212817   \n",
        "EX_ac_LPAREN_e_RPAREN_                                  1.976664   \n",
        "EX_acac_LPAREN_e_RPAREN_                                2.212817   \n",
        "EX_acald_LPAREN_e_RPAREN_                               2.212817   \n",
        "EX_acgal_LPAREN_e_RPAREN_                               2.212817   \n",
        "EX_acgal1p_LPAREN_e_RPAREN_                             2.212817   \n",
        "EX_acgam_LPAREN_e_RPAREN_                               2.212817   \n",
        "EX_acgam1p_LPAREN_e_RPAREN_                             2.212817   \n",
        "EX_acmana_LPAREN_e_RPAREN_                              2.212817   \n",
        "EX_acmum_LPAREN_e_RPAREN_                               2.212817   \n",
        "EX_acnam_LPAREN_e_RPAREN_                               2.212817   \n",
        "EX_acolipa_LPAREN_e_RPAREN_                             2.212817   \n",
        "EX_acser_LPAREN_e_RPAREN_                               2.212817   \n",
        "EX_ade_LPAREN_e_RPAREN_                                 2.131005   \n",
        "EX_adn_LPAREN_e_RPAREN_                                 2.027489   \n",
        "EX_adocbl_LPAREN_e_RPAREN_                              2.212817   \n",
        "EX_ag_LPAREN_e_RPAREN_                                  2.212817   \n",
        "EX_agm_LPAREN_e_RPAREN_                                 2.194209   \n",
        "EX_akg_LPAREN_e_RPAREN_                                 2.212817   \n",
        "EX_ala_DASH_B_LPAREN_e_RPAREN_                          2.212817   \n",
        "EX_ala_DASH_D_LPAREN_e_RPAREN_                          2.212817   \n",
        "EX_ala_DASH_L_LPAREN_e_RPAREN_                          2.212817   \n",
        "EX_alaala_LPAREN_e_RPAREN_                              2.212817   \n",
        "EX_all_DASH_D_LPAREN_e_RPAREN_                          2.212817   \n",
        "EX_alltn_LPAREN_e_RPAREN_                               2.212817   \n",
        "EX_amp_LPAREN_e_RPAREN_                                 2.212817   \n",
        "                                                             ...   \n",
        "\n",
        "                                      EX_23ccmp_LPAREN_e_RPAREN_  \\\n",
        "DM_4CRSOL                                               2.212817   \n",
        "DM_5DRIB                                                0.000000   \n",
        "DM_AACALD                                               2.212817   \n",
        "DM_AMOB                                                 0.000000   \n",
        "DM_MTHTHF                                               0.000000   \n",
        "DM_OXAM                                                 2.212817   \n",
        "Ec_biomass_iJO1366_WT_53p95M                            2.212817   \n",
        "Ec_biomass_iJO1366_core_53p95M                          0.000000   \n",
        "EX_12ppd_DASH_R_LPAREN_e_RPAREN_                        2.212817   \n",
        "EX_12ppd_DASH_S_LPAREN_e_RPAREN_                        2.212817   \n",
        "EX_14glucan_LPAREN_e_RPAREN_                            2.212817   \n",
        "EX_15dap_LPAREN_e_RPAREN_                               2.212817   \n",
        "EX_23camp_LPAREN_e_RPAREN_                              2.212817   \n",
        "EX_23ccmp_LPAREN_e_RPAREN_                              2.212817   \n",
        "EX_23cgmp_LPAREN_e_RPAREN_                              2.212817   \n",
        "EX_23cump_LPAREN_e_RPAREN_                              2.212817   \n",
        "EX_23dappa_LPAREN_e_RPAREN_                             2.212817   \n",
        "EX_26dap_DASH_M_LPAREN_e_RPAREN_                        2.212817   \n",
        "EX_2ddglcn_LPAREN_e_RPAREN_                             2.212817   \n",
        "EX_34dhpac_LPAREN_e_RPAREN_                             2.212817   \n",
        "EX_3amp_LPAREN_e_RPAREN_                                2.212817   \n",
        "EX_3cmp_LPAREN_e_RPAREN_                                2.212817   \n",
        "EX_3gmp_LPAREN_e_RPAREN_                                2.212817   \n",
        "EX_3hcinnm_LPAREN_e_RPAREN_                             2.212817   \n",
        "EX_3hpp_LPAREN_e_RPAREN_                                2.212817   \n",
        "EX_3hpppn_LPAREN_e_RPAREN_                              2.212817   \n",
        "EX_3ump_LPAREN_e_RPAREN_                                2.212817   \n",
        "EX_4abut_LPAREN_e_RPAREN_                               2.212817   \n",
        "EX_4hoxpacd_LPAREN_e_RPAREN_                            2.212817   \n",
        "EX_5dglcn_LPAREN_e_RPAREN_                              2.212817   \n",
        "EX_5mtr_LPAREN_e_RPAREN_                                2.212817   \n",
        "EX_LalaDglu_LPAREN_e_RPAREN_                            2.212817   \n",
        "EX_LalaDgluMdap_LPAREN_e_RPAREN_                        2.212817   \n",
        "EX_LalaDgluMdapDala_LPAREN_e_RPAREN_                    2.212817   \n",
        "EX_LalaLglu_LPAREN_e_RPAREN_                            2.212817   \n",
        "EX_ac_LPAREN_e_RPAREN_                                  1.976664   \n",
        "EX_acac_LPAREN_e_RPAREN_                                2.212817   \n",
        "EX_acald_LPAREN_e_RPAREN_                               2.212817   \n",
        "EX_acgal_LPAREN_e_RPAREN_                               2.212817   \n",
        "EX_acgal1p_LPAREN_e_RPAREN_                             2.212817   \n",
        "EX_acgam_LPAREN_e_RPAREN_                               2.212817   \n",
        "EX_acgam1p_LPAREN_e_RPAREN_                             2.212817   \n",
        "EX_acmana_LPAREN_e_RPAREN_                              2.212817   \n",
        "EX_acmum_LPAREN_e_RPAREN_                               2.212817   \n",
        "EX_acnam_LPAREN_e_RPAREN_                               2.212817   \n",
        "EX_acolipa_LPAREN_e_RPAREN_                             2.212817   \n",
        "EX_acser_LPAREN_e_RPAREN_                               2.212817   \n",
        "EX_ade_LPAREN_e_RPAREN_                                 2.131005   \n",
        "EX_adn_LPAREN_e_RPAREN_                                 2.027489   \n",
        "EX_adocbl_LPAREN_e_RPAREN_                              2.212817   \n",
        "EX_ag_LPAREN_e_RPAREN_                                  2.212817   \n",
        "EX_agm_LPAREN_e_RPAREN_                                 2.194209   \n",
        "EX_akg_LPAREN_e_RPAREN_                                 2.212817   \n",
        "EX_ala_DASH_B_LPAREN_e_RPAREN_                          2.212817   \n",
        "EX_ala_DASH_D_LPAREN_e_RPAREN_                          2.212817   \n",
        "EX_ala_DASH_L_LPAREN_e_RPAREN_                          2.212817   \n",
        "EX_alaala_LPAREN_e_RPAREN_                              2.212817   \n",
        "EX_all_DASH_D_LPAREN_e_RPAREN_                          2.212817   \n",
        "EX_alltn_LPAREN_e_RPAREN_                               2.212817   \n",
        "EX_amp_LPAREN_e_RPAREN_                                 2.212817   \n",
        "                                                             ...   \n",
        "\n",
        "                                      EX_23cgmp_LPAREN_e_RPAREN_  \\\n",
        "DM_4CRSOL                                               2.212817   \n",
        "DM_5DRIB                                                0.000000   \n",
        "DM_AACALD                                               2.212817   \n",
        "DM_AMOB                                                 0.000000   \n",
        "DM_MTHTHF                                               0.000000   \n",
        "DM_OXAM                                                 2.212817   \n",
        "Ec_biomass_iJO1366_WT_53p95M                            2.212817   \n",
        "Ec_biomass_iJO1366_core_53p95M                          0.000000   \n",
        "EX_12ppd_DASH_R_LPAREN_e_RPAREN_                        2.212817   \n",
        "EX_12ppd_DASH_S_LPAREN_e_RPAREN_                        2.212817   \n",
        "EX_14glucan_LPAREN_e_RPAREN_                            2.212817   \n",
        "EX_15dap_LPAREN_e_RPAREN_                               2.212817   \n",
        "EX_23camp_LPAREN_e_RPAREN_                              2.212817   \n",
        "EX_23ccmp_LPAREN_e_RPAREN_                              2.212817   \n",
        "EX_23cgmp_LPAREN_e_RPAREN_                              2.212817   \n",
        "EX_23cump_LPAREN_e_RPAREN_                              2.212817   \n",
        "EX_23dappa_LPAREN_e_RPAREN_                             2.212817   \n",
        "EX_26dap_DASH_M_LPAREN_e_RPAREN_                        2.212817   \n",
        "EX_2ddglcn_LPAREN_e_RPAREN_                             2.212817   \n",
        "EX_34dhpac_LPAREN_e_RPAREN_                             2.212817   \n",
        "EX_3amp_LPAREN_e_RPAREN_                                2.212817   \n",
        "EX_3cmp_LPAREN_e_RPAREN_                                2.212817   \n",
        "EX_3gmp_LPAREN_e_RPAREN_                                2.212817   \n",
        "EX_3hcinnm_LPAREN_e_RPAREN_                             2.212817   \n",
        "EX_3hpp_LPAREN_e_RPAREN_                                2.212817   \n",
        "EX_3hpppn_LPAREN_e_RPAREN_                              2.212817   \n",
        "EX_3ump_LPAREN_e_RPAREN_                                2.212817   \n",
        "EX_4abut_LPAREN_e_RPAREN_                               2.212817   \n",
        "EX_4hoxpacd_LPAREN_e_RPAREN_                            2.212817   \n",
        "EX_5dglcn_LPAREN_e_RPAREN_                              2.212817   \n",
        "EX_5mtr_LPAREN_e_RPAREN_                                2.212817   \n",
        "EX_LalaDglu_LPAREN_e_RPAREN_                            2.212817   \n",
        "EX_LalaDgluMdap_LPAREN_e_RPAREN_                        2.212817   \n",
        "EX_LalaDgluMdapDala_LPAREN_e_RPAREN_                    2.212817   \n",
        "EX_LalaLglu_LPAREN_e_RPAREN_                            2.212817   \n",
        "EX_ac_LPAREN_e_RPAREN_                                  1.976664   \n",
        "EX_acac_LPAREN_e_RPAREN_                                2.212817   \n",
        "EX_acald_LPAREN_e_RPAREN_                               2.212817   \n",
        "EX_acgal_LPAREN_e_RPAREN_                               2.212817   \n",
        "EX_acgal1p_LPAREN_e_RPAREN_                             2.212817   \n",
        "EX_acgam_LPAREN_e_RPAREN_                               2.212817   \n",
        "EX_acgam1p_LPAREN_e_RPAREN_                             2.212817   \n",
        "EX_acmana_LPAREN_e_RPAREN_                              2.212817   \n",
        "EX_acmum_LPAREN_e_RPAREN_                               2.212817   \n",
        "EX_acnam_LPAREN_e_RPAREN_                               2.212817   \n",
        "EX_acolipa_LPAREN_e_RPAREN_                             2.212817   \n",
        "EX_acser_LPAREN_e_RPAREN_                               2.212817   \n",
        "EX_ade_LPAREN_e_RPAREN_                                 2.131005   \n",
        "EX_adn_LPAREN_e_RPAREN_                                 2.027489   \n",
        "EX_adocbl_LPAREN_e_RPAREN_                              2.212817   \n",
        "EX_ag_LPAREN_e_RPAREN_                                  2.212817   \n",
        "EX_agm_LPAREN_e_RPAREN_                                 2.194209   \n",
        "EX_akg_LPAREN_e_RPAREN_                                 2.212817   \n",
        "EX_ala_DASH_B_LPAREN_e_RPAREN_                          2.212817   \n",
        "EX_ala_DASH_D_LPAREN_e_RPAREN_                          2.212817   \n",
        "EX_ala_DASH_L_LPAREN_e_RPAREN_                          2.212817   \n",
        "EX_alaala_LPAREN_e_RPAREN_                              2.212817   \n",
        "EX_all_DASH_D_LPAREN_e_RPAREN_                          2.212817   \n",
        "EX_alltn_LPAREN_e_RPAREN_                               2.212817   \n",
        "EX_amp_LPAREN_e_RPAREN_                                 2.212817   \n",
        "                                                             ...   \n",
        "\n",
        "                                      EX_23cump_LPAREN_e_RPAREN_  \\\n",
        "DM_4CRSOL                                               2.212817   \n",
        "DM_5DRIB                                                0.000000   \n",
        "DM_AACALD                                               2.212817   \n",
        "DM_AMOB                                                 0.000000   \n",
        "DM_MTHTHF                                               0.000000   \n",
        "DM_OXAM                                                 2.212817   \n",
        "Ec_biomass_iJO1366_WT_53p95M                            2.212817   \n",
        "Ec_biomass_iJO1366_core_53p95M                          0.000000   \n",
        "EX_12ppd_DASH_R_LPAREN_e_RPAREN_                        2.212817   \n",
        "EX_12ppd_DASH_S_LPAREN_e_RPAREN_                        2.212817   \n",
        "EX_14glucan_LPAREN_e_RPAREN_                            2.212817   \n",
        "EX_15dap_LPAREN_e_RPAREN_                               2.212817   \n",
        "EX_23camp_LPAREN_e_RPAREN_                              2.212817   \n",
        "EX_23ccmp_LPAREN_e_RPAREN_                              2.212817   \n",
        "EX_23cgmp_LPAREN_e_RPAREN_                              2.212817   \n",
        "EX_23cump_LPAREN_e_RPAREN_                              2.212817   \n",
        "EX_23dappa_LPAREN_e_RPAREN_                             2.212817   \n",
        "EX_26dap_DASH_M_LPAREN_e_RPAREN_                        2.212817   \n",
        "EX_2ddglcn_LPAREN_e_RPAREN_                             2.212817   \n",
        "EX_34dhpac_LPAREN_e_RPAREN_                             2.212817   \n",
        "EX_3amp_LPAREN_e_RPAREN_                                2.212817   \n",
        "EX_3cmp_LPAREN_e_RPAREN_                                2.212817   \n",
        "EX_3gmp_LPAREN_e_RPAREN_                                2.212817   \n",
        "EX_3hcinnm_LPAREN_e_RPAREN_                             2.212817   \n",
        "EX_3hpp_LPAREN_e_RPAREN_                                2.212817   \n",
        "EX_3hpppn_LPAREN_e_RPAREN_                              2.212817   \n",
        "EX_3ump_LPAREN_e_RPAREN_                                2.212817   \n",
        "EX_4abut_LPAREN_e_RPAREN_                               2.212817   \n",
        "EX_4hoxpacd_LPAREN_e_RPAREN_                            2.212817   \n",
        "EX_5dglcn_LPAREN_e_RPAREN_                              2.212817   \n",
        "EX_5mtr_LPAREN_e_RPAREN_                                2.212817   \n",
        "EX_LalaDglu_LPAREN_e_RPAREN_                            2.212817   \n",
        "EX_LalaDgluMdap_LPAREN_e_RPAREN_                        2.212817   \n",
        "EX_LalaDgluMdapDala_LPAREN_e_RPAREN_                    2.212817   \n",
        "EX_LalaLglu_LPAREN_e_RPAREN_                            2.212817   \n",
        "EX_ac_LPAREN_e_RPAREN_                                  1.976664   \n",
        "EX_acac_LPAREN_e_RPAREN_                                2.212817   \n",
        "EX_acald_LPAREN_e_RPAREN_                               2.212817   \n",
        "EX_acgal_LPAREN_e_RPAREN_                               2.212817   \n",
        "EX_acgal1p_LPAREN_e_RPAREN_                             2.212817   \n",
        "EX_acgam_LPAREN_e_RPAREN_                               2.212817   \n",
        "EX_acgam1p_LPAREN_e_RPAREN_                             2.212817   \n",
        "EX_acmana_LPAREN_e_RPAREN_                              2.212817   \n",
        "EX_acmum_LPAREN_e_RPAREN_                               2.212817   \n",
        "EX_acnam_LPAREN_e_RPAREN_                               2.212817   \n",
        "EX_acolipa_LPAREN_e_RPAREN_                             2.212817   \n",
        "EX_acser_LPAREN_e_RPAREN_                               2.212817   \n",
        "EX_ade_LPAREN_e_RPAREN_                                 2.131005   \n",
        "EX_adn_LPAREN_e_RPAREN_                                 2.027489   \n",
        "EX_adocbl_LPAREN_e_RPAREN_                              2.212817   \n",
        "EX_ag_LPAREN_e_RPAREN_                                  2.212817   \n",
        "EX_agm_LPAREN_e_RPAREN_                                 2.194209   \n",
        "EX_akg_LPAREN_e_RPAREN_                                 2.212817   \n",
        "EX_ala_DASH_B_LPAREN_e_RPAREN_                          2.212817   \n",
        "EX_ala_DASH_D_LPAREN_e_RPAREN_                          2.212817   \n",
        "EX_ala_DASH_L_LPAREN_e_RPAREN_                          2.212817   \n",
        "EX_alaala_LPAREN_e_RPAREN_                              2.212817   \n",
        "EX_all_DASH_D_LPAREN_e_RPAREN_                          2.212817   \n",
        "EX_alltn_LPAREN_e_RPAREN_                               2.212817   \n",
        "EX_amp_LPAREN_e_RPAREN_                                 2.212817   \n",
        "                                                             ...   \n",
        "\n",
        "                                      EX_23dappa_LPAREN_e_RPAREN_  \\\n",
        "DM_4CRSOL                                                2.212817   \n",
        "DM_5DRIB                                                 0.000000   \n",
        "DM_AACALD                                                2.212817   \n",
        "DM_AMOB                                                  0.000000   \n",
        "DM_MTHTHF                                                0.000000   \n",
        "DM_OXAM                                                  2.212817   \n",
        "Ec_biomass_iJO1366_WT_53p95M                             2.212817   \n",
        "Ec_biomass_iJO1366_core_53p95M                           0.000000   \n",
        "EX_12ppd_DASH_R_LPAREN_e_RPAREN_                         2.212817   \n",
        "EX_12ppd_DASH_S_LPAREN_e_RPAREN_                         2.212817   \n",
        "EX_14glucan_LPAREN_e_RPAREN_                             2.212817   \n",
        "EX_15dap_LPAREN_e_RPAREN_                                2.212817   \n",
        "EX_23camp_LPAREN_e_RPAREN_                               2.212817   \n",
        "EX_23ccmp_LPAREN_e_RPAREN_                               2.212817   \n",
        "EX_23cgmp_LPAREN_e_RPAREN_                               2.212817   \n",
        "EX_23cump_LPAREN_e_RPAREN_                               2.212817   \n",
        "EX_23dappa_LPAREN_e_RPAREN_                              2.212817   \n",
        "EX_26dap_DASH_M_LPAREN_e_RPAREN_                         2.212817   \n",
        "EX_2ddglcn_LPAREN_e_RPAREN_                              2.212817   \n",
        "EX_34dhpac_LPAREN_e_RPAREN_                              2.212817   \n",
        "EX_3amp_LPAREN_e_RPAREN_                                 2.212817   \n",
        "EX_3cmp_LPAREN_e_RPAREN_                                 2.212817   \n",
        "EX_3gmp_LPAREN_e_RPAREN_                                 2.212817   \n",
        "EX_3hcinnm_LPAREN_e_RPAREN_                              2.212817   \n",
        "EX_3hpp_LPAREN_e_RPAREN_                                 2.212817   \n",
        "EX_3hpppn_LPAREN_e_RPAREN_                               2.212817   \n",
        "EX_3ump_LPAREN_e_RPAREN_                                 2.212817   \n",
        "EX_4abut_LPAREN_e_RPAREN_                                2.212817   \n",
        "EX_4hoxpacd_LPAREN_e_RPAREN_                             2.212817   \n",
        "EX_5dglcn_LPAREN_e_RPAREN_                               2.212817   \n",
        "EX_5mtr_LPAREN_e_RPAREN_                                 2.212817   \n",
        "EX_LalaDglu_LPAREN_e_RPAREN_                             2.212817   \n",
        "EX_LalaDgluMdap_LPAREN_e_RPAREN_                         2.212817   \n",
        "EX_LalaDgluMdapDala_LPAREN_e_RPAREN_                     2.212817   \n",
        "EX_LalaLglu_LPAREN_e_RPAREN_                             2.212817   \n",
        "EX_ac_LPAREN_e_RPAREN_                                   1.976664   \n",
        "EX_acac_LPAREN_e_RPAREN_                                 2.212817   \n",
        "EX_acald_LPAREN_e_RPAREN_                                2.212817   \n",
        "EX_acgal_LPAREN_e_RPAREN_                                2.212817   \n",
        "EX_acgal1p_LPAREN_e_RPAREN_                              2.212817   \n",
        "EX_acgam_LPAREN_e_RPAREN_                                2.212817   \n",
        "EX_acgam1p_LPAREN_e_RPAREN_                              2.212817   \n",
        "EX_acmana_LPAREN_e_RPAREN_                               2.212817   \n",
        "EX_acmum_LPAREN_e_RPAREN_                                2.212817   \n",
        "EX_acnam_LPAREN_e_RPAREN_                                2.212817   \n",
        "EX_acolipa_LPAREN_e_RPAREN_                              2.212817   \n",
        "EX_acser_LPAREN_e_RPAREN_                                2.212817   \n",
        "EX_ade_LPAREN_e_RPAREN_                                  2.131005   \n",
        "EX_adn_LPAREN_e_RPAREN_                                  2.027489   \n",
        "EX_adocbl_LPAREN_e_RPAREN_                               2.212817   \n",
        "EX_ag_LPAREN_e_RPAREN_                                   2.212817   \n",
        "EX_agm_LPAREN_e_RPAREN_                                  2.194209   \n",
        "EX_akg_LPAREN_e_RPAREN_                                  2.212817   \n",
        "EX_ala_DASH_B_LPAREN_e_RPAREN_                           2.212817   \n",
        "EX_ala_DASH_D_LPAREN_e_RPAREN_                           2.212817   \n",
        "EX_ala_DASH_L_LPAREN_e_RPAREN_                           2.212817   \n",
        "EX_alaala_LPAREN_e_RPAREN_                               2.212817   \n",
        "EX_all_DASH_D_LPAREN_e_RPAREN_                           2.212817   \n",
        "EX_alltn_LPAREN_e_RPAREN_                                2.212817   \n",
        "EX_amp_LPAREN_e_RPAREN_                                  2.212817   \n",
        "                                                              ...   \n",
        "\n",
        "                                      EX_26dap_DASH_M_LPAREN_e_RPAREN_  \\\n",
        "DM_4CRSOL                                                     2.212817   \n",
        "DM_5DRIB                                                      0.000000   \n",
        "DM_AACALD                                                     2.212817   \n",
        "DM_AMOB                                                       0.000000   \n",
        "DM_MTHTHF                                                     0.000000   \n",
        "DM_OXAM                                                       2.212817   \n",
        "Ec_biomass_iJO1366_WT_53p95M                                  2.212817   \n",
        "Ec_biomass_iJO1366_core_53p95M                                0.000000   \n",
        "EX_12ppd_DASH_R_LPAREN_e_RPAREN_                              2.212817   \n",
        "EX_12ppd_DASH_S_LPAREN_e_RPAREN_                              2.212817   \n",
        "EX_14glucan_LPAREN_e_RPAREN_                                  2.212817   \n",
        "EX_15dap_LPAREN_e_RPAREN_                                     2.212817   \n",
        "EX_23camp_LPAREN_e_RPAREN_                                    2.212817   \n",
        "EX_23ccmp_LPAREN_e_RPAREN_                                    2.212817   \n",
        "EX_23cgmp_LPAREN_e_RPAREN_                                    2.212817   \n",
        "EX_23cump_LPAREN_e_RPAREN_                                    2.212817   \n",
        "EX_23dappa_LPAREN_e_RPAREN_                                   2.212817   \n",
        "EX_26dap_DASH_M_LPAREN_e_RPAREN_                              2.212817   \n",
        "EX_2ddglcn_LPAREN_e_RPAREN_                                   2.212817   \n",
        "EX_34dhpac_LPAREN_e_RPAREN_                                   2.212817   \n",
        "EX_3amp_LPAREN_e_RPAREN_                                      2.212817   \n",
        "EX_3cmp_LPAREN_e_RPAREN_                                      2.212817   \n",
        "EX_3gmp_LPAREN_e_RPAREN_                                      2.212817   \n",
        "EX_3hcinnm_LPAREN_e_RPAREN_                                   2.212817   \n",
        "EX_3hpp_LPAREN_e_RPAREN_                                      2.212817   \n",
        "EX_3hpppn_LPAREN_e_RPAREN_                                    2.212817   \n",
        "EX_3ump_LPAREN_e_RPAREN_                                      2.212817   \n",
        "EX_4abut_LPAREN_e_RPAREN_                                     2.212817   \n",
        "EX_4hoxpacd_LPAREN_e_RPAREN_                                  2.212817   \n",
        "EX_5dglcn_LPAREN_e_RPAREN_                                    2.212817   \n",
        "EX_5mtr_LPAREN_e_RPAREN_                                      2.212817   \n",
        "EX_LalaDglu_LPAREN_e_RPAREN_                                  2.212817   \n",
        "EX_LalaDgluMdap_LPAREN_e_RPAREN_                              2.212817   \n",
        "EX_LalaDgluMdapDala_LPAREN_e_RPAREN_                          2.212817   \n",
        "EX_LalaLglu_LPAREN_e_RPAREN_                                  2.212817   \n",
        "EX_ac_LPAREN_e_RPAREN_                                        1.976664   \n",
        "EX_acac_LPAREN_e_RPAREN_                                      2.212817   \n",
        "EX_acald_LPAREN_e_RPAREN_                                     2.212817   \n",
        "EX_acgal_LPAREN_e_RPAREN_                                     2.212817   \n",
        "EX_acgal1p_LPAREN_e_RPAREN_                                   2.212817   \n",
        "EX_acgam_LPAREN_e_RPAREN_                                     2.212817   \n",
        "EX_acgam1p_LPAREN_e_RPAREN_                                   2.212817   \n",
        "EX_acmana_LPAREN_e_RPAREN_                                    2.212817   \n",
        "EX_acmum_LPAREN_e_RPAREN_                                     2.212817   \n",
        "EX_acnam_LPAREN_e_RPAREN_                                     2.212817   \n",
        "EX_acolipa_LPAREN_e_RPAREN_                                   2.212817   \n",
        "EX_acser_LPAREN_e_RPAREN_                                     2.212817   \n",
        "EX_ade_LPAREN_e_RPAREN_                                       2.131005   \n",
        "EX_adn_LPAREN_e_RPAREN_                                       2.027489   \n",
        "EX_adocbl_LPAREN_e_RPAREN_                                    2.212817   \n",
        "EX_ag_LPAREN_e_RPAREN_                                        2.212817   \n",
        "EX_agm_LPAREN_e_RPAREN_                                       2.194209   \n",
        "EX_akg_LPAREN_e_RPAREN_                                       2.212817   \n",
        "EX_ala_DASH_B_LPAREN_e_RPAREN_                                2.212817   \n",
        "EX_ala_DASH_D_LPAREN_e_RPAREN_                                2.212817   \n",
        "EX_ala_DASH_L_LPAREN_e_RPAREN_                                2.212817   \n",
        "EX_alaala_LPAREN_e_RPAREN_                                    2.212817   \n",
        "EX_all_DASH_D_LPAREN_e_RPAREN_                                2.212817   \n",
        "EX_alltn_LPAREN_e_RPAREN_                                     2.212817   \n",
        "EX_amp_LPAREN_e_RPAREN_                                       2.212817   \n",
        "                                                                   ...   \n",
        "\n",
        "                                      EX_2ddglcn_LPAREN_e_RPAREN_  \\\n",
        "DM_4CRSOL                                                2.212817   \n",
        "DM_5DRIB                                                 0.000000   \n",
        "DM_AACALD                                                2.212817   \n",
        "DM_AMOB                                                  0.000000   \n",
        "DM_MTHTHF                                                0.000000   \n",
        "DM_OXAM                                                  2.212817   \n",
        "Ec_biomass_iJO1366_WT_53p95M                             2.212817   \n",
        "Ec_biomass_iJO1366_core_53p95M                           0.000000   \n",
        "EX_12ppd_DASH_R_LPAREN_e_RPAREN_                         2.212817   \n",
        "EX_12ppd_DASH_S_LPAREN_e_RPAREN_                         2.212817   \n",
        "EX_14glucan_LPAREN_e_RPAREN_                             2.212817   \n",
        "EX_15dap_LPAREN_e_RPAREN_                                2.212817   \n",
        "EX_23camp_LPAREN_e_RPAREN_                               2.212817   \n",
        "EX_23ccmp_LPAREN_e_RPAREN_                               2.212817   \n",
        "EX_23cgmp_LPAREN_e_RPAREN_                               2.212817   \n",
        "EX_23cump_LPAREN_e_RPAREN_                               2.212817   \n",
        "EX_23dappa_LPAREN_e_RPAREN_                              2.212817   \n",
        "EX_26dap_DASH_M_LPAREN_e_RPAREN_                         2.212817   \n",
        "EX_2ddglcn_LPAREN_e_RPAREN_                              2.212817   \n",
        "EX_34dhpac_LPAREN_e_RPAREN_                              2.212817   \n",
        "EX_3amp_LPAREN_e_RPAREN_                                 2.212817   \n",
        "EX_3cmp_LPAREN_e_RPAREN_                                 2.212817   \n",
        "EX_3gmp_LPAREN_e_RPAREN_                                 2.212817   \n",
        "EX_3hcinnm_LPAREN_e_RPAREN_                              2.212817   \n",
        "EX_3hpp_LPAREN_e_RPAREN_                                 2.212817   \n",
        "EX_3hpppn_LPAREN_e_RPAREN_                               2.212817   \n",
        "EX_3ump_LPAREN_e_RPAREN_                                 2.212817   \n",
        "EX_4abut_LPAREN_e_RPAREN_                                2.212817   \n",
        "EX_4hoxpacd_LPAREN_e_RPAREN_                             2.212817   \n",
        "EX_5dglcn_LPAREN_e_RPAREN_                               2.212817   \n",
        "EX_5mtr_LPAREN_e_RPAREN_                                 2.212817   \n",
        "EX_LalaDglu_LPAREN_e_RPAREN_                             2.212817   \n",
        "EX_LalaDgluMdap_LPAREN_e_RPAREN_                         2.212817   \n",
        "EX_LalaDgluMdapDala_LPAREN_e_RPAREN_                     2.212817   \n",
        "EX_LalaLglu_LPAREN_e_RPAREN_                             2.212817   \n",
        "EX_ac_LPAREN_e_RPAREN_                                   1.976664   \n",
        "EX_acac_LPAREN_e_RPAREN_                                 2.212817   \n",
        "EX_acald_LPAREN_e_RPAREN_                                2.212817   \n",
        "EX_acgal_LPAREN_e_RPAREN_                                2.212817   \n",
        "EX_acgal1p_LPAREN_e_RPAREN_                              2.212817   \n",
        "EX_acgam_LPAREN_e_RPAREN_                                2.212817   \n",
        "EX_acgam1p_LPAREN_e_RPAREN_                              2.212817   \n",
        "EX_acmana_LPAREN_e_RPAREN_                               2.212817   \n",
        "EX_acmum_LPAREN_e_RPAREN_                                2.212817   \n",
        "EX_acnam_LPAREN_e_RPAREN_                                2.212817   \n",
        "EX_acolipa_LPAREN_e_RPAREN_                              2.212817   \n",
        "EX_acser_LPAREN_e_RPAREN_                                2.212817   \n",
        "EX_ade_LPAREN_e_RPAREN_                                  2.131005   \n",
        "EX_adn_LPAREN_e_RPAREN_                                  2.027489   \n",
        "EX_adocbl_LPAREN_e_RPAREN_                               2.212817   \n",
        "EX_ag_LPAREN_e_RPAREN_                                   2.212817   \n",
        "EX_agm_LPAREN_e_RPAREN_                                  2.194209   \n",
        "EX_akg_LPAREN_e_RPAREN_                                  2.212817   \n",
        "EX_ala_DASH_B_LPAREN_e_RPAREN_                           2.212817   \n",
        "EX_ala_DASH_D_LPAREN_e_RPAREN_                           2.212817   \n",
        "EX_ala_DASH_L_LPAREN_e_RPAREN_                           2.212817   \n",
        "EX_alaala_LPAREN_e_RPAREN_                               2.212817   \n",
        "EX_all_DASH_D_LPAREN_e_RPAREN_                           2.212817   \n",
        "EX_alltn_LPAREN_e_RPAREN_                                2.212817   \n",
        "EX_amp_LPAREN_e_RPAREN_                                  2.212817   \n",
        "                                                              ...   \n",
        "\n",
        "                                      EX_34dhpac_LPAREN_e_RPAREN_      \n",
        "DM_4CRSOL                                                2.212817 ...  \n",
        "DM_5DRIB                                                 0.000000 ...  \n",
        "DM_AACALD                                                2.212817 ...  \n",
        "DM_AMOB                                                  0.000000 ...  \n",
        "DM_MTHTHF                                                0.000000 ...  \n",
        "DM_OXAM                                                  2.212817 ...  \n",
        "Ec_biomass_iJO1366_WT_53p95M                             2.212817 ...  \n",
        "Ec_biomass_iJO1366_core_53p95M                           0.000000 ...  \n",
        "EX_12ppd_DASH_R_LPAREN_e_RPAREN_                         2.212817 ...  \n",
        "EX_12ppd_DASH_S_LPAREN_e_RPAREN_                         2.212817 ...  \n",
        "EX_14glucan_LPAREN_e_RPAREN_                             2.212817 ...  \n",
        "EX_15dap_LPAREN_e_RPAREN_                                2.212817 ...  \n",
        "EX_23camp_LPAREN_e_RPAREN_                               2.212817 ...  \n",
        "EX_23ccmp_LPAREN_e_RPAREN_                               2.212817 ...  \n",
        "EX_23cgmp_LPAREN_e_RPAREN_                               2.212817 ...  \n",
        "EX_23cump_LPAREN_e_RPAREN_                               2.212817 ...  \n",
        "EX_23dappa_LPAREN_e_RPAREN_                              2.212817 ...  \n",
        "EX_26dap_DASH_M_LPAREN_e_RPAREN_                         2.212817 ...  \n",
        "EX_2ddglcn_LPAREN_e_RPAREN_                              2.212817 ...  \n",
        "EX_34dhpac_LPAREN_e_RPAREN_                              2.212817 ...  \n",
        "EX_3amp_LPAREN_e_RPAREN_                                 2.212817 ...  \n",
        "EX_3cmp_LPAREN_e_RPAREN_                                 2.212817 ...  \n",
        "EX_3gmp_LPAREN_e_RPAREN_                                 2.212817 ...  \n",
        "EX_3hcinnm_LPAREN_e_RPAREN_                              2.212817 ...  \n",
        "EX_3hpp_LPAREN_e_RPAREN_                                 2.212817 ...  \n",
        "EX_3hpppn_LPAREN_e_RPAREN_                               2.212817 ...  \n",
        "EX_3ump_LPAREN_e_RPAREN_                                 2.212817 ...  \n",
        "EX_4abut_LPAREN_e_RPAREN_                                2.212817 ...  \n",
        "EX_4hoxpacd_LPAREN_e_RPAREN_                             2.212817 ...  \n",
        "EX_5dglcn_LPAREN_e_RPAREN_                               2.212817 ...  \n",
        "EX_5mtr_LPAREN_e_RPAREN_                                 2.212817 ...  \n",
        "EX_LalaDglu_LPAREN_e_RPAREN_                             2.212817 ...  \n",
        "EX_LalaDgluMdap_LPAREN_e_RPAREN_                         2.212817 ...  \n",
        "EX_LalaDgluMdapDala_LPAREN_e_RPAREN_                     2.212817 ...  \n",
        "EX_LalaLglu_LPAREN_e_RPAREN_                             2.212817 ...  \n",
        "EX_ac_LPAREN_e_RPAREN_                                   1.976664 ...  \n",
        "EX_acac_LPAREN_e_RPAREN_                                 2.212817 ...  \n",
        "EX_acald_LPAREN_e_RPAREN_                                2.212817 ...  \n",
        "EX_acgal_LPAREN_e_RPAREN_                                2.212817 ...  \n",
        "EX_acgal1p_LPAREN_e_RPAREN_                              2.212817 ...  \n",
        "EX_acgam_LPAREN_e_RPAREN_                                2.212817 ...  \n",
        "EX_acgam1p_LPAREN_e_RPAREN_                              2.212817 ...  \n",
        "EX_acmana_LPAREN_e_RPAREN_                               2.212817 ...  \n",
        "EX_acmum_LPAREN_e_RPAREN_                                2.212817 ...  \n",
        "EX_acnam_LPAREN_e_RPAREN_                                2.212817 ...  \n",
        "EX_acolipa_LPAREN_e_RPAREN_                              2.212817 ...  \n",
        "EX_acser_LPAREN_e_RPAREN_                                2.212817 ...  \n",
        "EX_ade_LPAREN_e_RPAREN_                                  2.131005 ...  \n",
        "EX_adn_LPAREN_e_RPAREN_                                  2.027489 ...  \n",
        "EX_adocbl_LPAREN_e_RPAREN_                               2.212817 ...  \n",
        "EX_ag_LPAREN_e_RPAREN_                                   2.212817 ...  \n",
        "EX_agm_LPAREN_e_RPAREN_                                  2.194209 ...  \n",
        "EX_akg_LPAREN_e_RPAREN_                                  2.212817 ...  \n",
        "EX_ala_DASH_B_LPAREN_e_RPAREN_                           2.212817 ...  \n",
        "EX_ala_DASH_D_LPAREN_e_RPAREN_                           2.212817 ...  \n",
        "EX_ala_DASH_L_LPAREN_e_RPAREN_                           2.212817 ...  \n",
        "EX_alaala_LPAREN_e_RPAREN_                               2.212817 ...  \n",
        "EX_all_DASH_D_LPAREN_e_RPAREN_                           2.212817 ...  \n",
        "EX_alltn_LPAREN_e_RPAREN_                                2.212817 ...  \n",
        "EX_amp_LPAREN_e_RPAREN_                                  2.212817 ...  \n",
        "                                                              ...      \n",
        "\n",
        "[2583 rows x 2583 columns]"
       ]
      }
     ],
     "prompt_number": 169
    },
    {
     "cell_type": "code",
     "collapsed": false,
     "input": [
      "test2.to_csv('/home/ssbio/sal_reaction_dkos.csv')"
     ],
     "language": "python",
     "metadata": {},
     "outputs": [],
     "prompt_number": 60
    },
    {
     "cell_type": "code",
     "collapsed": false,
     "input": [
      "test.to_csv('/home/ssbio/yp_m9_dkos.csv')"
     ],
     "language": "python",
     "metadata": {},
     "outputs": [],
     "prompt_number": 74
    },
    {
     "cell_type": "markdown",
     "metadata": {},
     "source": [
      "# Analyze DKOs"
     ]
    },
    {
     "cell_type": "code",
     "collapsed": false,
     "input": [
      "import os\n",
      "import pandas as pd\n",
      "os.chdir('/home/ssbio/')"
     ],
     "language": "python",
     "metadata": {},
     "outputs": [],
     "prompt_number": 6
    },
    {
     "cell_type": "code",
     "collapsed": false,
     "input": [
      "!ls"
     ],
     "language": "python",
     "metadata": {},
     "outputs": [
      {
       "output_type": "stream",
       "stream": "stdout",
       "text": [
        "cache.0.txt\t\t    ijo_m9_dkos.csv   sal_m9.pickle\r\n",
        "dkos\t\t\t    jon\t\t      sal_m9_reaction_dkos.csv\r\n",
        "ecoli_m9_reaction_dkos.csv  kleb_dkos.csv     sal.pickle\r\n",
        "ecoli_reaction_dkos.csv     kpn_m9_dkos.csv   sal_reaction_dkos.csv\r\n",
        "eco.pickle\t\t    kpn.pickle\t      sampling\r\n",
        "edl933.csv\t\t    liz\t\t      sampling_example.ipynb\r\n",
        "edl_m9_dkos.csv\t\t    mycert.pem\t      test\r\n",
        "gaby\t\t\t    openbabel.ipynb   yp_dkos.csv\r\n",
        "gurobi.lic\t\t    optGpSamplerLibs  ype_m9.pickle\r\n",
        "gurobi.log\t\t    sal_dkos.csv      ype.pickle\r\n",
        "ijo_dkos.csv\t\t    sal_m9_dkos.csv   yp_m9_dkos.csv\r\n"
       ]
      }
     ],
     "prompt_number": 7
    },
    {
     "cell_type": "code",
     "collapsed": false,
     "input": [
      "def uniprot_metadata(uniprot_id):\n",
      "    '''\n",
      "    Input: UniProt ID\n",
      "    Output: dictionary of metadata associated with the UniProt ID\n",
      "    '''\n",
      "    import warnings\n",
      "    import uniprot\n",
      "\n",
      "    uniprot_metadata_dict = {}\n",
      "    metadata = uniprot.batch_uniprot_metadata([uniprot_id])\n",
      "\n",
      "    if metadata[uniprot_id]['is_reviewed'] == False:\n",
      "        warnings.warn('Warning: unreviewed UniProt entry')\n",
      "\n",
      "    uniprot_metadata_dict['UNIPROT'] = uniprot_id\n",
      "    uniprot_metadata_dict['DESCRIPTION'] = [x.encode('ascii','ignore') for x in metadata[uniprot_id]['descriptions']]\n",
      "    uniprot_metadata_dict['KEGG'] = [x.encode('ascii','ignore') for x in metadata[uniprot_id]['kegg']]\n",
      "    uniprot_metadata_dict['SEQ'] = metadata[uniprot_id]['sequence'].encode('ascii','ignore')\n",
      "    uniprot_metadata_dict['GENENAME'] = metadata[uniprot_id]['gene'].encode('ascii','ignore')\n",
      "\n",
      "    if 'pdbs' in metadata[uniprot_id]:\n",
      "        uniprot_metadata_dict['PDB'] = list(set([x.encode('ascii','ignore') for x in metadata[uniprot_id]['pdbs']]))\n",
      "    elif 'pdb' in metadata[uniprot_id]:\n",
      "        uniprot_metadata_dict['PDB'] = metadata[uniprot_id]['pdb'].encode('ascii','ignore')\n",
      "\n",
      "    return uniprot_metadata_dict\n",
      "\n",
      "\n",
      "\n",
      "def kegg_mapper(kegg_organism, map_db='uniprot'):\n",
      "    '''\n",
      "    Generates a dictionary that maps KEGG gene IDs to NCBI Entrez gene IDs ('ncbi-geneid') or UniProt ('uniprot').\n",
      "    Input:  kegg_organism - the KEGG organism name which you can determine from http://www.genome.jp/kegg/catalog/org_list.html\n",
      "            map_db - ncbi-geneid OR uniprot (default): the database you want to map to\n",
      "    Output: id_mapper - a dictionary of {KEGG_ID: mapped_ID}\n",
      "    '''\n",
      "    \n",
      "    import requests\n",
      "\n",
      "    id_mapper = {}\n",
      "    r = requests.post('http://rest.kegg.jp/conv/%s/%s' % (map_db,kegg_organism))\n",
      "\n",
      "    for line in r.content.split('\\n'):\n",
      "        if not line: continue\n",
      "\n",
      "        idents = line.split('\\t')\n",
      "\n",
      "        orig = idents[0].split(':')\n",
      "        orig_database = orig[0]\n",
      "        orig_id = orig[1]\n",
      "\n",
      "        conv = idents[1].split(':')\n",
      "        conv_database = conv[0]\n",
      "        conv_id = conv[1]\n",
      "\n",
      "        id_mapper[orig_id] = conv_id\n",
      "\n",
      "    return id_mapper\n",
      "\n",
      "def run_all(dko_file, org):\n",
      "    dkos = pd.read_csv(dko_file, index_col=0)\n",
      "    \n",
      "    essential = []\n",
      "    syn_lethal = []\n",
      "    for i in dkos.index:\n",
      "        if sum(dkos.ix[i]) < 0.01:\n",
      "            essential.append(i)\n",
      "        else:\n",
      "            for g in dkos.ix[i].index:\n",
      "                if dkos[g].sum() > 0.01:\n",
      "                    if dkos.ix[i][g] < 0.01:\n",
      "                        syn_lethal.append(str(i)+','+str(g))\n",
      "    print len(essential), 'essential genes'\n",
      "    print len(syn_lethal), 'syn lethal genes'\n",
      "    uniprot_map = kegg_mapper(org)\n",
      "    syn_lethal_genes = []\n",
      "    \n",
      "    for g in syn_lethal:\n",
      "        out = {}\n",
      "        count =1\n",
      "        for gg in g.split(','):\n",
      "            \n",
      "            print gg\n",
      "            out['locus'+str(count)] = gg\n",
      "            if gg in uniprot_map.keys():\n",
      "                gene = uniprot_metadata(uniprot_map[gg])['GENENAME']\n",
      "            elif gg[:6] in uniprot_map.keys(): # for salmonella genes\n",
      "                gg = gg[:6]\n",
      "                gene = uniprot_metadata(uniprot_map[gg])['GENENAME']     \n",
      "            else:\n",
      "                gene = gg\n",
      "            out['gene'+str(count)] = gene\n",
      "            count+=1\n",
      "        #print out\n",
      "        syn_lethal_genes.append(out)\n",
      "        #print syn_lethal_genes\n",
      "    essential_genes = []\n",
      "    \n",
      "    for g in essential:\n",
      "        out = {}\n",
      "        if g in uniprot_map.keys():\n",
      "            gene = uniprot_metadata(uniprot_map[g])['GENENAME']\n",
      "            out[g]=gene\n",
      "        essential_genes.append(out)\n",
      "    return {'syn':syn_lethal_genes,'essential':essential_genes}\n"
     ],
     "language": "python",
     "metadata": {},
     "outputs": [],
     "prompt_number": 17
    },
    {
     "cell_type": "code",
     "collapsed": false,
     "input": [
      "# Check dkos media...\n",
      "edl_dkos = pd.read_csv('edl933.csv', index_col=0)\n",
      "kleb_dkos = pd.read_csv('kleb_dkos.csv', index_col=0)\n",
      "ijo_dkos = pd.read_csv('ijo_dkos.csv', index_col=0)\n",
      "edl_m9_dkos = pd.read_csv('edl_m9_dkos.csv', index_col=0)\n",
      "kleb_m9_dkos = pd.read_csv('kpn_m9_dkos.csv', index_col=0)\n",
      "ijo_m9_dkos = pd.read_csv('ijo_m9_dkos.csv', index_col=0)\n",
      "sal_m9_dkos = pd.read_csv('sal_m9_dkos.csv', index_col=0)\n",
      "sal_dkos = pd.read_csv('sal_dkos.csv', index_col=0)\n",
      "yp_dkos = pd.read_csv('yp_dkos.csv', index_col=0)"
     ],
     "language": "python",
     "metadata": {},
     "outputs": [],
     "prompt_number": 8
    },
    {
     "cell_type": "code",
     "collapsed": false,
     "input": [
      "kleb_dkos"
     ],
     "language": "python",
     "metadata": {},
     "outputs": [
      {
       "html": [
        "<div style=\"max-height:1000px;max-width:1500px;overflow:auto;\">\n",
        "<table border=\"1\" class=\"dataframe\">\n",
        "  <thead>\n",
        "    <tr style=\"text-align: right;\">\n",
        "      <th></th>\n",
        "      <th>KPN_03202</th>\n",
        "      <th>KPN_03491</th>\n",
        "      <th>KPN_04421</th>\n",
        "      <th>KPN_04422</th>\n",
        "      <th>KPN_04424</th>\n",
        "      <th>KPN_04423</th>\n",
        "      <th>KPN_04425</th>\n",
        "      <th>KPN_00956</th>\n",
        "      <th>KPN_02636</th>\n",
        "      <th>KPN_00282</th>\n",
        "      <th>KPN_02430</th>\n",
        "      <th>KPN_01445</th>\n",
        "      <th>KPN_04607</th>\n",
        "      <th>KPN_03244</th>\n",
        "      <th>KPN_03245</th>\n",
        "      <th>KPN_03915</th>\n",
        "      <th>KPN_04677</th>\n",
        "      <th>KPN_00408</th>\n",
        "      <th>KPN_01142</th>\n",
        "      <th>KPN_00983</th>\n",
        "      <th></th>\n",
        "    </tr>\n",
        "  </thead>\n",
        "  <tbody>\n",
        "    <tr>\n",
        "      <th>KPN_03202</th>\n",
        "      <td> 1.370632</td>\n",
        "      <td> 1.370632</td>\n",
        "      <td> 1.370632</td>\n",
        "      <td> 1.370632</td>\n",
        "      <td> 1.370632</td>\n",
        "      <td> 1.370632</td>\n",
        "      <td> 1.370632</td>\n",
        "      <td> 1.370632</td>\n",
        "      <td> 1.370632</td>\n",
        "      <td> 1.370632</td>\n",
        "      <td> 1.370632</td>\n",
        "      <td> 1.370632</td>\n",
        "      <td> 1.370632</td>\n",
        "      <td> 1.370632</td>\n",
        "      <td> 1.370632</td>\n",
        "      <td> 1.370632</td>\n",
        "      <td> 1.370632</td>\n",
        "      <td> 1.370632</td>\n",
        "      <td> 1.370632</td>\n",
        "      <td> 0</td>\n",
        "      <td>...</td>\n",
        "    </tr>\n",
        "    <tr>\n",
        "      <th>KPN_03491</th>\n",
        "      <td> 1.370632</td>\n",
        "      <td> 1.370632</td>\n",
        "      <td> 1.370632</td>\n",
        "      <td> 1.370632</td>\n",
        "      <td> 1.370632</td>\n",
        "      <td> 1.370632</td>\n",
        "      <td> 1.370632</td>\n",
        "      <td> 1.370632</td>\n",
        "      <td> 1.370632</td>\n",
        "      <td> 1.370632</td>\n",
        "      <td> 1.370632</td>\n",
        "      <td> 1.370632</td>\n",
        "      <td> 1.370632</td>\n",
        "      <td> 1.370632</td>\n",
        "      <td> 1.370632</td>\n",
        "      <td> 1.370632</td>\n",
        "      <td> 1.370632</td>\n",
        "      <td> 1.370632</td>\n",
        "      <td> 1.370632</td>\n",
        "      <td> 0</td>\n",
        "      <td>...</td>\n",
        "    </tr>\n",
        "    <tr>\n",
        "      <th>KPN_04421</th>\n",
        "      <td> 1.370632</td>\n",
        "      <td> 1.370632</td>\n",
        "      <td> 1.370632</td>\n",
        "      <td> 1.370632</td>\n",
        "      <td> 1.370632</td>\n",
        "      <td> 1.370632</td>\n",
        "      <td> 1.370632</td>\n",
        "      <td> 1.370632</td>\n",
        "      <td> 1.370632</td>\n",
        "      <td> 1.370632</td>\n",
        "      <td> 1.370632</td>\n",
        "      <td> 1.370632</td>\n",
        "      <td> 1.370632</td>\n",
        "      <td> 1.370632</td>\n",
        "      <td> 1.370632</td>\n",
        "      <td> 1.370632</td>\n",
        "      <td> 1.370632</td>\n",
        "      <td> 1.370632</td>\n",
        "      <td> 1.370632</td>\n",
        "      <td> 0</td>\n",
        "      <td>...</td>\n",
        "    </tr>\n",
        "    <tr>\n",
        "      <th>KPN_04422</th>\n",
        "      <td> 1.370632</td>\n",
        "      <td> 1.370632</td>\n",
        "      <td> 1.370632</td>\n",
        "      <td> 1.370632</td>\n",
        "      <td> 1.370632</td>\n",
        "      <td> 1.370632</td>\n",
        "      <td> 1.370632</td>\n",
        "      <td> 1.370632</td>\n",
        "      <td> 1.370632</td>\n",
        "      <td> 1.370632</td>\n",
        "      <td> 1.370632</td>\n",
        "      <td> 1.370632</td>\n",
        "      <td> 1.370632</td>\n",
        "      <td> 1.370632</td>\n",
        "      <td> 1.370632</td>\n",
        "      <td> 1.370632</td>\n",
        "      <td> 1.370632</td>\n",
        "      <td> 1.370632</td>\n",
        "      <td> 1.370632</td>\n",
        "      <td> 0</td>\n",
        "      <td>...</td>\n",
        "    </tr>\n",
        "    <tr>\n",
        "      <th>KPN_04424</th>\n",
        "      <td> 1.370632</td>\n",
        "      <td> 1.370632</td>\n",
        "      <td> 1.370632</td>\n",
        "      <td> 1.370632</td>\n",
        "      <td> 1.370632</td>\n",
        "      <td> 1.370632</td>\n",
        "      <td> 1.370632</td>\n",
        "      <td> 1.370632</td>\n",
        "      <td> 1.370632</td>\n",
        "      <td> 1.370632</td>\n",
        "      <td> 1.370632</td>\n",
        "      <td> 1.370632</td>\n",
        "      <td> 1.370632</td>\n",
        "      <td> 1.370632</td>\n",
        "      <td> 1.370632</td>\n",
        "      <td> 1.370632</td>\n",
        "      <td> 1.370632</td>\n",
        "      <td> 1.370632</td>\n",
        "      <td> 1.370632</td>\n",
        "      <td> 0</td>\n",
        "      <td>...</td>\n",
        "    </tr>\n",
        "    <tr>\n",
        "      <th>KPN_04423</th>\n",
        "      <td> 1.370632</td>\n",
        "      <td> 1.370632</td>\n",
        "      <td> 1.370632</td>\n",
        "      <td> 1.370632</td>\n",
        "      <td> 1.370632</td>\n",
        "      <td> 1.370632</td>\n",
        "      <td> 1.370632</td>\n",
        "      <td> 1.370632</td>\n",
        "      <td> 1.370632</td>\n",
        "      <td> 1.370632</td>\n",
        "      <td> 1.370632</td>\n",
        "      <td> 1.370632</td>\n",
        "      <td> 1.370632</td>\n",
        "      <td> 1.370632</td>\n",
        "      <td> 1.370632</td>\n",
        "      <td> 1.370632</td>\n",
        "      <td> 1.370632</td>\n",
        "      <td> 1.370632</td>\n",
        "      <td> 1.370632</td>\n",
        "      <td> 0</td>\n",
        "      <td>...</td>\n",
        "    </tr>\n",
        "    <tr>\n",
        "      <th>KPN_04425</th>\n",
        "      <td> 1.370632</td>\n",
        "      <td> 1.370632</td>\n",
        "      <td> 1.370632</td>\n",
        "      <td> 1.370632</td>\n",
        "      <td> 1.370632</td>\n",
        "      <td> 1.370632</td>\n",
        "      <td> 1.370632</td>\n",
        "      <td> 1.370632</td>\n",
        "      <td> 1.370632</td>\n",
        "      <td> 1.370632</td>\n",
        "      <td> 1.370632</td>\n",
        "      <td> 1.370632</td>\n",
        "      <td> 1.370632</td>\n",
        "      <td> 1.370632</td>\n",
        "      <td> 1.370632</td>\n",
        "      <td> 1.370632</td>\n",
        "      <td> 1.370632</td>\n",
        "      <td> 1.370632</td>\n",
        "      <td> 1.370632</td>\n",
        "      <td> 0</td>\n",
        "      <td>...</td>\n",
        "    </tr>\n",
        "    <tr>\n",
        "      <th>KPN_00956</th>\n",
        "      <td> 1.370632</td>\n",
        "      <td> 1.370632</td>\n",
        "      <td> 1.370632</td>\n",
        "      <td> 1.370632</td>\n",
        "      <td> 1.370632</td>\n",
        "      <td> 1.370632</td>\n",
        "      <td> 1.370632</td>\n",
        "      <td> 1.370632</td>\n",
        "      <td> 1.370632</td>\n",
        "      <td> 1.370632</td>\n",
        "      <td> 1.370632</td>\n",
        "      <td> 1.370632</td>\n",
        "      <td> 1.370632</td>\n",
        "      <td> 1.370632</td>\n",
        "      <td> 1.370632</td>\n",
        "      <td> 1.370632</td>\n",
        "      <td> 1.370632</td>\n",
        "      <td> 1.370632</td>\n",
        "      <td> 1.370632</td>\n",
        "      <td> 0</td>\n",
        "      <td>...</td>\n",
        "    </tr>\n",
        "    <tr>\n",
        "      <th>KPN_02636</th>\n",
        "      <td> 1.370632</td>\n",
        "      <td> 1.370632</td>\n",
        "      <td> 1.370632</td>\n",
        "      <td> 1.370632</td>\n",
        "      <td> 1.370632</td>\n",
        "      <td> 1.370632</td>\n",
        "      <td> 1.370632</td>\n",
        "      <td> 1.370632</td>\n",
        "      <td> 1.370632</td>\n",
        "      <td> 1.370632</td>\n",
        "      <td> 1.370632</td>\n",
        "      <td> 1.370632</td>\n",
        "      <td> 1.370632</td>\n",
        "      <td> 1.370632</td>\n",
        "      <td> 1.370632</td>\n",
        "      <td> 1.370632</td>\n",
        "      <td> 1.370632</td>\n",
        "      <td> 1.370632</td>\n",
        "      <td> 1.370632</td>\n",
        "      <td> 0</td>\n",
        "      <td>...</td>\n",
        "    </tr>\n",
        "    <tr>\n",
        "      <th>KPN_00282</th>\n",
        "      <td> 1.370632</td>\n",
        "      <td> 1.370632</td>\n",
        "      <td> 1.370632</td>\n",
        "      <td> 1.370632</td>\n",
        "      <td> 1.370632</td>\n",
        "      <td> 1.370632</td>\n",
        "      <td> 1.370632</td>\n",
        "      <td> 1.370632</td>\n",
        "      <td> 1.370632</td>\n",
        "      <td> 1.370632</td>\n",
        "      <td> 1.370632</td>\n",
        "      <td> 1.370632</td>\n",
        "      <td> 1.370632</td>\n",
        "      <td> 1.370632</td>\n",
        "      <td> 1.370632</td>\n",
        "      <td> 1.370632</td>\n",
        "      <td> 1.370632</td>\n",
        "      <td> 1.370632</td>\n",
        "      <td> 1.370632</td>\n",
        "      <td> 0</td>\n",
        "      <td>...</td>\n",
        "    </tr>\n",
        "    <tr>\n",
        "      <th>KPN_02430</th>\n",
        "      <td> 1.370632</td>\n",
        "      <td> 1.370632</td>\n",
        "      <td> 1.370632</td>\n",
        "      <td> 1.370632</td>\n",
        "      <td> 1.370632</td>\n",
        "      <td> 1.370632</td>\n",
        "      <td> 1.370632</td>\n",
        "      <td> 1.370632</td>\n",
        "      <td> 1.370632</td>\n",
        "      <td> 1.370632</td>\n",
        "      <td> 1.370632</td>\n",
        "      <td> 1.370632</td>\n",
        "      <td> 1.370632</td>\n",
        "      <td> 1.370632</td>\n",
        "      <td> 1.370632</td>\n",
        "      <td> 1.370632</td>\n",
        "      <td> 1.370632</td>\n",
        "      <td> 1.370632</td>\n",
        "      <td> 1.370632</td>\n",
        "      <td> 0</td>\n",
        "      <td>...</td>\n",
        "    </tr>\n",
        "    <tr>\n",
        "      <th>KPN_01445</th>\n",
        "      <td> 1.370632</td>\n",
        "      <td> 1.370632</td>\n",
        "      <td> 1.370632</td>\n",
        "      <td> 1.370632</td>\n",
        "      <td> 1.370632</td>\n",
        "      <td> 1.370632</td>\n",
        "      <td> 1.370632</td>\n",
        "      <td> 1.370632</td>\n",
        "      <td> 1.370632</td>\n",
        "      <td> 1.370632</td>\n",
        "      <td> 1.370632</td>\n",
        "      <td> 1.370632</td>\n",
        "      <td> 1.370632</td>\n",
        "      <td> 1.370632</td>\n",
        "      <td> 1.370632</td>\n",
        "      <td> 1.370632</td>\n",
        "      <td> 1.370632</td>\n",
        "      <td> 1.370632</td>\n",
        "      <td> 1.370632</td>\n",
        "      <td> 0</td>\n",
        "      <td>...</td>\n",
        "    </tr>\n",
        "    <tr>\n",
        "      <th>KPN_04607</th>\n",
        "      <td> 1.370632</td>\n",
        "      <td> 1.370632</td>\n",
        "      <td> 1.370632</td>\n",
        "      <td> 1.370632</td>\n",
        "      <td> 1.370632</td>\n",
        "      <td> 1.370632</td>\n",
        "      <td> 1.370632</td>\n",
        "      <td> 1.370632</td>\n",
        "      <td> 1.370632</td>\n",
        "      <td> 1.370632</td>\n",
        "      <td> 1.370632</td>\n",
        "      <td> 1.370632</td>\n",
        "      <td> 1.370632</td>\n",
        "      <td> 1.370632</td>\n",
        "      <td> 1.370632</td>\n",
        "      <td> 1.370632</td>\n",
        "      <td> 1.370632</td>\n",
        "      <td> 1.370632</td>\n",
        "      <td> 1.370632</td>\n",
        "      <td> 0</td>\n",
        "      <td>...</td>\n",
        "    </tr>\n",
        "    <tr>\n",
        "      <th>KPN_03244</th>\n",
        "      <td> 1.370632</td>\n",
        "      <td> 1.370632</td>\n",
        "      <td> 1.370632</td>\n",
        "      <td> 1.370632</td>\n",
        "      <td> 1.370632</td>\n",
        "      <td> 1.370632</td>\n",
        "      <td> 1.370632</td>\n",
        "      <td> 1.370632</td>\n",
        "      <td> 1.370632</td>\n",
        "      <td> 1.370632</td>\n",
        "      <td> 1.370632</td>\n",
        "      <td> 1.370632</td>\n",
        "      <td> 1.370632</td>\n",
        "      <td> 1.370632</td>\n",
        "      <td> 1.370632</td>\n",
        "      <td> 1.370632</td>\n",
        "      <td> 1.370632</td>\n",
        "      <td> 1.370632</td>\n",
        "      <td> 1.370632</td>\n",
        "      <td> 0</td>\n",
        "      <td>...</td>\n",
        "    </tr>\n",
        "    <tr>\n",
        "      <th>KPN_03245</th>\n",
        "      <td> 1.370632</td>\n",
        "      <td> 1.370632</td>\n",
        "      <td> 1.370632</td>\n",
        "      <td> 1.370632</td>\n",
        "      <td> 1.370632</td>\n",
        "      <td> 1.370632</td>\n",
        "      <td> 1.370632</td>\n",
        "      <td> 1.370632</td>\n",
        "      <td> 1.370632</td>\n",
        "      <td> 1.370632</td>\n",
        "      <td> 1.370632</td>\n",
        "      <td> 1.370632</td>\n",
        "      <td> 1.370632</td>\n",
        "      <td> 1.370632</td>\n",
        "      <td> 1.370632</td>\n",
        "      <td> 1.370632</td>\n",
        "      <td> 1.370632</td>\n",
        "      <td> 1.370632</td>\n",
        "      <td> 1.370632</td>\n",
        "      <td> 0</td>\n",
        "      <td>...</td>\n",
        "    </tr>\n",
        "    <tr>\n",
        "      <th>KPN_03915</th>\n",
        "      <td> 1.370632</td>\n",
        "      <td> 1.370632</td>\n",
        "      <td> 1.370632</td>\n",
        "      <td> 1.370632</td>\n",
        "      <td> 1.370632</td>\n",
        "      <td> 1.370632</td>\n",
        "      <td> 1.370632</td>\n",
        "      <td> 1.370632</td>\n",
        "      <td> 1.370632</td>\n",
        "      <td> 1.370632</td>\n",
        "      <td> 1.370632</td>\n",
        "      <td> 1.370632</td>\n",
        "      <td> 1.370632</td>\n",
        "      <td> 1.370632</td>\n",
        "      <td> 1.370632</td>\n",
        "      <td> 1.370632</td>\n",
        "      <td> 1.370632</td>\n",
        "      <td> 1.370632</td>\n",
        "      <td> 1.370632</td>\n",
        "      <td> 0</td>\n",
        "      <td>...</td>\n",
        "    </tr>\n",
        "    <tr>\n",
        "      <th>KPN_04677</th>\n",
        "      <td> 1.370632</td>\n",
        "      <td> 1.370632</td>\n",
        "      <td> 1.370632</td>\n",
        "      <td> 1.370632</td>\n",
        "      <td> 1.370632</td>\n",
        "      <td> 1.370632</td>\n",
        "      <td> 1.370632</td>\n",
        "      <td> 1.370632</td>\n",
        "      <td> 1.370632</td>\n",
        "      <td> 1.370632</td>\n",
        "      <td> 1.370632</td>\n",
        "      <td> 1.370632</td>\n",
        "      <td> 1.370632</td>\n",
        "      <td> 1.370632</td>\n",
        "      <td> 1.370632</td>\n",
        "      <td> 1.370632</td>\n",
        "      <td> 1.370632</td>\n",
        "      <td> 1.370632</td>\n",
        "      <td> 1.370632</td>\n",
        "      <td> 0</td>\n",
        "      <td>...</td>\n",
        "    </tr>\n",
        "    <tr>\n",
        "      <th>KPN_00408</th>\n",
        "      <td> 1.370632</td>\n",
        "      <td> 1.370632</td>\n",
        "      <td> 1.370632</td>\n",
        "      <td> 1.370632</td>\n",
        "      <td> 1.370632</td>\n",
        "      <td> 1.370632</td>\n",
        "      <td> 1.370632</td>\n",
        "      <td> 1.370632</td>\n",
        "      <td> 1.370632</td>\n",
        "      <td> 1.370632</td>\n",
        "      <td> 1.370632</td>\n",
        "      <td> 1.370632</td>\n",
        "      <td> 1.370632</td>\n",
        "      <td> 1.370632</td>\n",
        "      <td> 1.370632</td>\n",
        "      <td> 1.370632</td>\n",
        "      <td> 1.370632</td>\n",
        "      <td> 1.370632</td>\n",
        "      <td> 1.370632</td>\n",
        "      <td> 0</td>\n",
        "      <td>...</td>\n",
        "    </tr>\n",
        "    <tr>\n",
        "      <th>KPN_01142</th>\n",
        "      <td> 1.370632</td>\n",
        "      <td> 1.370632</td>\n",
        "      <td> 1.370632</td>\n",
        "      <td> 1.370632</td>\n",
        "      <td> 1.370632</td>\n",
        "      <td> 1.370632</td>\n",
        "      <td> 1.370632</td>\n",
        "      <td> 1.370632</td>\n",
        "      <td> 1.370632</td>\n",
        "      <td> 1.370632</td>\n",
        "      <td> 1.370632</td>\n",
        "      <td> 1.370632</td>\n",
        "      <td> 1.370632</td>\n",
        "      <td> 1.370632</td>\n",
        "      <td> 1.370632</td>\n",
        "      <td> 1.370632</td>\n",
        "      <td> 1.370632</td>\n",
        "      <td> 1.370632</td>\n",
        "      <td> 1.370632</td>\n",
        "      <td> 0</td>\n",
        "      <td>...</td>\n",
        "    </tr>\n",
        "    <tr>\n",
        "      <th>KPN_00983</th>\n",
        "      <td> 0.000000</td>\n",
        "      <td> 0.000000</td>\n",
        "      <td> 0.000000</td>\n",
        "      <td> 0.000000</td>\n",
        "      <td> 0.000000</td>\n",
        "      <td> 0.000000</td>\n",
        "      <td> 0.000000</td>\n",
        "      <td> 0.000000</td>\n",
        "      <td> 0.000000</td>\n",
        "      <td> 0.000000</td>\n",
        "      <td> 0.000000</td>\n",
        "      <td> 0.000000</td>\n",
        "      <td> 0.000000</td>\n",
        "      <td> 0.000000</td>\n",
        "      <td> 0.000000</td>\n",
        "      <td> 0.000000</td>\n",
        "      <td> 0.000000</td>\n",
        "      <td> 0.000000</td>\n",
        "      <td> 0.000000</td>\n",
        "      <td> 0</td>\n",
        "      <td>...</td>\n",
        "    </tr>\n",
        "    <tr>\n",
        "      <th>KPN_00193</th>\n",
        "      <td> 1.370632</td>\n",
        "      <td> 1.370632</td>\n",
        "      <td> 1.370632</td>\n",
        "      <td> 1.370632</td>\n",
        "      <td> 1.370632</td>\n",
        "      <td> 1.370632</td>\n",
        "      <td> 1.370632</td>\n",
        "      <td> 1.370632</td>\n",
        "      <td> 1.370632</td>\n",
        "      <td> 1.370632</td>\n",
        "      <td> 1.370632</td>\n",
        "      <td> 1.370632</td>\n",
        "      <td> 1.370632</td>\n",
        "      <td> 1.370632</td>\n",
        "      <td> 1.370632</td>\n",
        "      <td> 1.370632</td>\n",
        "      <td> 1.370632</td>\n",
        "      <td> 1.370632</td>\n",
        "      <td> 1.370632</td>\n",
        "      <td> 0</td>\n",
        "      <td>...</td>\n",
        "    </tr>\n",
        "    <tr>\n",
        "      <th>KPN_02122</th>\n",
        "      <td> 1.370632</td>\n",
        "      <td> 1.370632</td>\n",
        "      <td> 1.370632</td>\n",
        "      <td> 1.370632</td>\n",
        "      <td> 1.370632</td>\n",
        "      <td> 1.370632</td>\n",
        "      <td> 1.370632</td>\n",
        "      <td> 1.370632</td>\n",
        "      <td> 1.370632</td>\n",
        "      <td> 1.370632</td>\n",
        "      <td> 1.370632</td>\n",
        "      <td> 1.370632</td>\n",
        "      <td> 1.370632</td>\n",
        "      <td> 1.370632</td>\n",
        "      <td> 1.370632</td>\n",
        "      <td> 1.370632</td>\n",
        "      <td> 1.370632</td>\n",
        "      <td> 1.370632</td>\n",
        "      <td> 1.370632</td>\n",
        "      <td> 0</td>\n",
        "      <td>...</td>\n",
        "    </tr>\n",
        "    <tr>\n",
        "      <th>KPN_01538</th>\n",
        "      <td> 1.370632</td>\n",
        "      <td> 1.370632</td>\n",
        "      <td> 1.370632</td>\n",
        "      <td> 1.370632</td>\n",
        "      <td> 1.370632</td>\n",
        "      <td> 1.370632</td>\n",
        "      <td> 1.370632</td>\n",
        "      <td> 1.370632</td>\n",
        "      <td> 1.370632</td>\n",
        "      <td> 1.370632</td>\n",
        "      <td> 1.370632</td>\n",
        "      <td> 1.370632</td>\n",
        "      <td> 1.370632</td>\n",
        "      <td> 1.370632</td>\n",
        "      <td> 1.370632</td>\n",
        "      <td> 1.370632</td>\n",
        "      <td> 1.370632</td>\n",
        "      <td> 1.370632</td>\n",
        "      <td> 1.370632</td>\n",
        "      <td> 0</td>\n",
        "      <td>...</td>\n",
        "    </tr>\n",
        "    <tr>\n",
        "      <th>KPN_01539</th>\n",
        "      <td> 1.370632</td>\n",
        "      <td> 1.370632</td>\n",
        "      <td> 1.370632</td>\n",
        "      <td> 1.370632</td>\n",
        "      <td> 1.370632</td>\n",
        "      <td> 1.370632</td>\n",
        "      <td> 1.370632</td>\n",
        "      <td> 1.370632</td>\n",
        "      <td> 1.370632</td>\n",
        "      <td> 1.370632</td>\n",
        "      <td> 1.370632</td>\n",
        "      <td> 1.370632</td>\n",
        "      <td> 1.370632</td>\n",
        "      <td> 1.370632</td>\n",
        "      <td> 1.370632</td>\n",
        "      <td> 1.370632</td>\n",
        "      <td> 1.370632</td>\n",
        "      <td> 1.370632</td>\n",
        "      <td> 1.370632</td>\n",
        "      <td> 0</td>\n",
        "      <td>...</td>\n",
        "    </tr>\n",
        "    <tr>\n",
        "      <th>KPN_01091</th>\n",
        "      <td> 0.000000</td>\n",
        "      <td> 0.000000</td>\n",
        "      <td> 0.000000</td>\n",
        "      <td> 0.000000</td>\n",
        "      <td> 0.000000</td>\n",
        "      <td> 0.000000</td>\n",
        "      <td> 0.000000</td>\n",
        "      <td> 0.000000</td>\n",
        "      <td> 0.000000</td>\n",
        "      <td> 0.000000</td>\n",
        "      <td> 0.000000</td>\n",
        "      <td> 0.000000</td>\n",
        "      <td> 0.000000</td>\n",
        "      <td> 0.000000</td>\n",
        "      <td> 0.000000</td>\n",
        "      <td> 0.000000</td>\n",
        "      <td> 0.000000</td>\n",
        "      <td> 0.000000</td>\n",
        "      <td> 0.000000</td>\n",
        "      <td> 0</td>\n",
        "      <td>...</td>\n",
        "    </tr>\n",
        "    <tr>\n",
        "      <th>KPN_02713</th>\n",
        "      <td> 0.000000</td>\n",
        "      <td> 0.000000</td>\n",
        "      <td> 0.000000</td>\n",
        "      <td> 0.000000</td>\n",
        "      <td> 0.000000</td>\n",
        "      <td> 0.000000</td>\n",
        "      <td> 0.000000</td>\n",
        "      <td> 0.000000</td>\n",
        "      <td> 0.000000</td>\n",
        "      <td> 0.000000</td>\n",
        "      <td> 0.000000</td>\n",
        "      <td> 0.000000</td>\n",
        "      <td> 0.000000</td>\n",
        "      <td> 0.000000</td>\n",
        "      <td> 0.000000</td>\n",
        "      <td> 0.000000</td>\n",
        "      <td> 0.000000</td>\n",
        "      <td> 0.000000</td>\n",
        "      <td> 0.000000</td>\n",
        "      <td> 0</td>\n",
        "      <td>...</td>\n",
        "    </tr>\n",
        "    <tr>\n",
        "      <th>KPN_01093</th>\n",
        "      <td> 0.000000</td>\n",
        "      <td> 0.000000</td>\n",
        "      <td> 0.000000</td>\n",
        "      <td> 0.000000</td>\n",
        "      <td> 0.000000</td>\n",
        "      <td> 0.000000</td>\n",
        "      <td> 0.000000</td>\n",
        "      <td> 0.000000</td>\n",
        "      <td> 0.000000</td>\n",
        "      <td> 0.000000</td>\n",
        "      <td> 0.000000</td>\n",
        "      <td> 0.000000</td>\n",
        "      <td> 0.000000</td>\n",
        "      <td> 0.000000</td>\n",
        "      <td> 0.000000</td>\n",
        "      <td> 0.000000</td>\n",
        "      <td> 0.000000</td>\n",
        "      <td> 0.000000</td>\n",
        "      <td> 0.000000</td>\n",
        "      <td> 0</td>\n",
        "      <td>...</td>\n",
        "    </tr>\n",
        "    <tr>\n",
        "      <th>KPN_03268</th>\n",
        "      <td> 1.370632</td>\n",
        "      <td> 1.370632</td>\n",
        "      <td> 1.370632</td>\n",
        "      <td> 1.370632</td>\n",
        "      <td> 1.370632</td>\n",
        "      <td> 1.370632</td>\n",
        "      <td> 1.370632</td>\n",
        "      <td> 1.370632</td>\n",
        "      <td> 1.370632</td>\n",
        "      <td> 1.370632</td>\n",
        "      <td> 1.370632</td>\n",
        "      <td> 1.370632</td>\n",
        "      <td> 1.370632</td>\n",
        "      <td> 1.370632</td>\n",
        "      <td> 1.370632</td>\n",
        "      <td> 1.370632</td>\n",
        "      <td> 1.370632</td>\n",
        "      <td> 1.370632</td>\n",
        "      <td> 1.370632</td>\n",
        "      <td> 0</td>\n",
        "      <td>...</td>\n",
        "    </tr>\n",
        "    <tr>\n",
        "      <th>KPN_02055</th>\n",
        "      <td> 1.370632</td>\n",
        "      <td> 1.370632</td>\n",
        "      <td> 1.370632</td>\n",
        "      <td> 1.370632</td>\n",
        "      <td> 1.370632</td>\n",
        "      <td> 1.370632</td>\n",
        "      <td> 1.370632</td>\n",
        "      <td> 1.370632</td>\n",
        "      <td> 1.370632</td>\n",
        "      <td> 1.370632</td>\n",
        "      <td> 1.370632</td>\n",
        "      <td> 1.370632</td>\n",
        "      <td> 1.370632</td>\n",
        "      <td> 1.370632</td>\n",
        "      <td> 1.370632</td>\n",
        "      <td> 1.370632</td>\n",
        "      <td> 1.370632</td>\n",
        "      <td> 1.370632</td>\n",
        "      <td> 1.370632</td>\n",
        "      <td> 0</td>\n",
        "      <td>...</td>\n",
        "    </tr>\n",
        "    <tr>\n",
        "      <th>KPN_01540</th>\n",
        "      <td> 1.370632</td>\n",
        "      <td> 1.370632</td>\n",
        "      <td> 1.370632</td>\n",
        "      <td> 1.370632</td>\n",
        "      <td> 1.370632</td>\n",
        "      <td> 1.370632</td>\n",
        "      <td> 1.370632</td>\n",
        "      <td> 1.370632</td>\n",
        "      <td> 1.370632</td>\n",
        "      <td> 1.370632</td>\n",
        "      <td> 1.370632</td>\n",
        "      <td> 1.370632</td>\n",
        "      <td> 1.370632</td>\n",
        "      <td> 1.370632</td>\n",
        "      <td> 1.370632</td>\n",
        "      <td> 1.370632</td>\n",
        "      <td> 1.370632</td>\n",
        "      <td> 1.370632</td>\n",
        "      <td> 1.370632</td>\n",
        "      <td> 0</td>\n",
        "      <td>...</td>\n",
        "    </tr>\n",
        "    <tr>\n",
        "      <th>KPN_02195</th>\n",
        "      <td> 1.370632</td>\n",
        "      <td> 1.370632</td>\n",
        "      <td> 1.370632</td>\n",
        "      <td> 1.370632</td>\n",
        "      <td> 1.370632</td>\n",
        "      <td> 1.370632</td>\n",
        "      <td> 1.370632</td>\n",
        "      <td> 1.370632</td>\n",
        "      <td> 1.370632</td>\n",
        "      <td> 1.370632</td>\n",
        "      <td> 1.370632</td>\n",
        "      <td> 1.370632</td>\n",
        "      <td> 1.370632</td>\n",
        "      <td> 1.370632</td>\n",
        "      <td> 1.370632</td>\n",
        "      <td> 1.370632</td>\n",
        "      <td> 1.370632</td>\n",
        "      <td> 1.370632</td>\n",
        "      <td> 1.370632</td>\n",
        "      <td> 0</td>\n",
        "      <td>...</td>\n",
        "    </tr>\n",
        "    <tr>\n",
        "      <th>KPN_02196</th>\n",
        "      <td> 1.370632</td>\n",
        "      <td> 1.370632</td>\n",
        "      <td> 1.370632</td>\n",
        "      <td> 1.370632</td>\n",
        "      <td> 1.370632</td>\n",
        "      <td> 1.370632</td>\n",
        "      <td> 1.370632</td>\n",
        "      <td> 1.370632</td>\n",
        "      <td> 1.370632</td>\n",
        "      <td> 1.370632</td>\n",
        "      <td> 1.370632</td>\n",
        "      <td> 1.370632</td>\n",
        "      <td> 1.370632</td>\n",
        "      <td> 1.370632</td>\n",
        "      <td> 1.370632</td>\n",
        "      <td> 1.370632</td>\n",
        "      <td> 1.370632</td>\n",
        "      <td> 1.370632</td>\n",
        "      <td> 1.370632</td>\n",
        "      <td> 0</td>\n",
        "      <td>...</td>\n",
        "    </tr>\n",
        "    <tr>\n",
        "      <th>KPN_02193</th>\n",
        "      <td> 1.370632</td>\n",
        "      <td> 1.370632</td>\n",
        "      <td> 1.370632</td>\n",
        "      <td> 1.370632</td>\n",
        "      <td> 1.370632</td>\n",
        "      <td> 1.370632</td>\n",
        "      <td> 1.370632</td>\n",
        "      <td> 1.370632</td>\n",
        "      <td> 1.370632</td>\n",
        "      <td> 1.370632</td>\n",
        "      <td> 1.370632</td>\n",
        "      <td> 1.370632</td>\n",
        "      <td> 1.370632</td>\n",
        "      <td> 1.370632</td>\n",
        "      <td> 1.370632</td>\n",
        "      <td> 1.370632</td>\n",
        "      <td> 1.370632</td>\n",
        "      <td> 1.370632</td>\n",
        "      <td> 1.370632</td>\n",
        "      <td> 0</td>\n",
        "      <td>...</td>\n",
        "    </tr>\n",
        "    <tr>\n",
        "      <th>KPN_02194</th>\n",
        "      <td> 1.370632</td>\n",
        "      <td> 1.370632</td>\n",
        "      <td> 1.370632</td>\n",
        "      <td> 1.370632</td>\n",
        "      <td> 1.370632</td>\n",
        "      <td> 1.370632</td>\n",
        "      <td> 1.370632</td>\n",
        "      <td> 1.370632</td>\n",
        "      <td> 1.370632</td>\n",
        "      <td> 1.370632</td>\n",
        "      <td> 1.370632</td>\n",
        "      <td> 1.370632</td>\n",
        "      <td> 1.370632</td>\n",
        "      <td> 1.370632</td>\n",
        "      <td> 1.370632</td>\n",
        "      <td> 1.370632</td>\n",
        "      <td> 1.370632</td>\n",
        "      <td> 1.370632</td>\n",
        "      <td> 1.370632</td>\n",
        "      <td> 0</td>\n",
        "      <td>...</td>\n",
        "    </tr>\n",
        "    <tr>\n",
        "      <th>KPN_01310</th>\n",
        "      <td> 1.370632</td>\n",
        "      <td> 1.370632</td>\n",
        "      <td> 1.370632</td>\n",
        "      <td> 1.370632</td>\n",
        "      <td> 1.370632</td>\n",
        "      <td> 1.370632</td>\n",
        "      <td> 1.370632</td>\n",
        "      <td> 1.370632</td>\n",
        "      <td> 1.370632</td>\n",
        "      <td> 1.370632</td>\n",
        "      <td> 1.370632</td>\n",
        "      <td> 1.370632</td>\n",
        "      <td> 1.370632</td>\n",
        "      <td> 1.370632</td>\n",
        "      <td> 1.370632</td>\n",
        "      <td> 1.370632</td>\n",
        "      <td> 1.370632</td>\n",
        "      <td> 1.370632</td>\n",
        "      <td> 1.370632</td>\n",
        "      <td> 0</td>\n",
        "      <td>...</td>\n",
        "    </tr>\n",
        "    <tr>\n",
        "      <th>KPN_01467</th>\n",
        "      <td> 1.370632</td>\n",
        "      <td> 1.370632</td>\n",
        "      <td> 1.370632</td>\n",
        "      <td> 1.370632</td>\n",
        "      <td> 1.370632</td>\n",
        "      <td> 1.370632</td>\n",
        "      <td> 1.370632</td>\n",
        "      <td> 1.370632</td>\n",
        "      <td> 1.370632</td>\n",
        "      <td> 1.370632</td>\n",
        "      <td> 1.370632</td>\n",
        "      <td> 1.370632</td>\n",
        "      <td> 1.370632</td>\n",
        "      <td> 1.370632</td>\n",
        "      <td> 1.370632</td>\n",
        "      <td> 1.370632</td>\n",
        "      <td> 1.370632</td>\n",
        "      <td> 1.370632</td>\n",
        "      <td> 1.370632</td>\n",
        "      <td> 0</td>\n",
        "      <td>...</td>\n",
        "    </tr>\n",
        "    <tr>\n",
        "      <th>KPN_00004</th>\n",
        "      <td> 0.000000</td>\n",
        "      <td> 0.000000</td>\n",
        "      <td> 0.000000</td>\n",
        "      <td> 0.000000</td>\n",
        "      <td> 0.000000</td>\n",
        "      <td> 0.000000</td>\n",
        "      <td> 0.000000</td>\n",
        "      <td> 0.000000</td>\n",
        "      <td> 0.000000</td>\n",
        "      <td> 0.000000</td>\n",
        "      <td> 0.000000</td>\n",
        "      <td> 0.000000</td>\n",
        "      <td> 0.000000</td>\n",
        "      <td> 0.000000</td>\n",
        "      <td> 0.000000</td>\n",
        "      <td> 0.000000</td>\n",
        "      <td> 0.000000</td>\n",
        "      <td> 0.000000</td>\n",
        "      <td> 0.000000</td>\n",
        "      <td> 0</td>\n",
        "      <td>...</td>\n",
        "    </tr>\n",
        "    <tr>\n",
        "      <th>KPN_02306</th>\n",
        "      <td> 1.370632</td>\n",
        "      <td> 1.370632</td>\n",
        "      <td> 1.370632</td>\n",
        "      <td> 1.370632</td>\n",
        "      <td> 1.370632</td>\n",
        "      <td> 1.370632</td>\n",
        "      <td> 1.370632</td>\n",
        "      <td> 1.370632</td>\n",
        "      <td> 1.370632</td>\n",
        "      <td> 1.370632</td>\n",
        "      <td> 1.370632</td>\n",
        "      <td> 1.370632</td>\n",
        "      <td> 1.370632</td>\n",
        "      <td> 1.370632</td>\n",
        "      <td> 1.370632</td>\n",
        "      <td> 1.370632</td>\n",
        "      <td> 1.370632</td>\n",
        "      <td> 1.370632</td>\n",
        "      <td> 1.370632</td>\n",
        "      <td> 0</td>\n",
        "      <td>...</td>\n",
        "    </tr>\n",
        "    <tr>\n",
        "      <th>KPN_02197</th>\n",
        "      <td> 1.370632</td>\n",
        "      <td> 1.370632</td>\n",
        "      <td> 1.370632</td>\n",
        "      <td> 1.370632</td>\n",
        "      <td> 1.370632</td>\n",
        "      <td> 1.370632</td>\n",
        "      <td> 1.370632</td>\n",
        "      <td> 1.370632</td>\n",
        "      <td> 1.370632</td>\n",
        "      <td> 1.370632</td>\n",
        "      <td> 1.370632</td>\n",
        "      <td> 1.370632</td>\n",
        "      <td> 1.370632</td>\n",
        "      <td> 1.370632</td>\n",
        "      <td> 1.370632</td>\n",
        "      <td> 1.370632</td>\n",
        "      <td> 1.370632</td>\n",
        "      <td> 1.370632</td>\n",
        "      <td> 1.370632</td>\n",
        "      <td> 0</td>\n",
        "      <td>...</td>\n",
        "    </tr>\n",
        "    <tr>\n",
        "      <th>KPN_00174</th>\n",
        "      <td> 1.370632</td>\n",
        "      <td> 1.370632</td>\n",
        "      <td> 1.370632</td>\n",
        "      <td> 1.370632</td>\n",
        "      <td> 1.370632</td>\n",
        "      <td> 1.370632</td>\n",
        "      <td> 1.370632</td>\n",
        "      <td> 1.370632</td>\n",
        "      <td> 1.370632</td>\n",
        "      <td> 1.370632</td>\n",
        "      <td> 1.370632</td>\n",
        "      <td> 1.370632</td>\n",
        "      <td> 1.370632</td>\n",
        "      <td> 1.370632</td>\n",
        "      <td> 1.370632</td>\n",
        "      <td> 1.370632</td>\n",
        "      <td> 1.370632</td>\n",
        "      <td> 1.370632</td>\n",
        "      <td> 1.370632</td>\n",
        "      <td> 0</td>\n",
        "      <td>...</td>\n",
        "    </tr>\n",
        "    <tr>\n",
        "      <th>KPN_03607</th>\n",
        "      <td> 1.370632</td>\n",
        "      <td> 1.370632</td>\n",
        "      <td> 1.370632</td>\n",
        "      <td> 1.370632</td>\n",
        "      <td> 1.370632</td>\n",
        "      <td> 1.370632</td>\n",
        "      <td> 1.370632</td>\n",
        "      <td> 1.370632</td>\n",
        "      <td> 1.370632</td>\n",
        "      <td> 1.370632</td>\n",
        "      <td> 1.370632</td>\n",
        "      <td> 1.370632</td>\n",
        "      <td> 1.370632</td>\n",
        "      <td> 1.370632</td>\n",
        "      <td> 1.370632</td>\n",
        "      <td> 1.370632</td>\n",
        "      <td> 1.370632</td>\n",
        "      <td> 1.370632</td>\n",
        "      <td> 1.370632</td>\n",
        "      <td> 0</td>\n",
        "      <td>...</td>\n",
        "    </tr>\n",
        "    <tr>\n",
        "      <th>KPN_03043</th>\n",
        "      <td> 1.370632</td>\n",
        "      <td> 1.370632</td>\n",
        "      <td> 1.370632</td>\n",
        "      <td> 1.370632</td>\n",
        "      <td> 1.370632</td>\n",
        "      <td> 1.370632</td>\n",
        "      <td> 1.370632</td>\n",
        "      <td> 1.370632</td>\n",
        "      <td> 1.370632</td>\n",
        "      <td> 1.370632</td>\n",
        "      <td> 1.370632</td>\n",
        "      <td> 1.370632</td>\n",
        "      <td> 1.370632</td>\n",
        "      <td> 1.370632</td>\n",
        "      <td> 1.370632</td>\n",
        "      <td> 1.370632</td>\n",
        "      <td> 1.370632</td>\n",
        "      <td> 1.370632</td>\n",
        "      <td> 1.370632</td>\n",
        "      <td> 0</td>\n",
        "      <td>...</td>\n",
        "    </tr>\n",
        "    <tr>\n",
        "      <th>KPN_01092</th>\n",
        "      <td> 0.000000</td>\n",
        "      <td> 0.000000</td>\n",
        "      <td> 0.000000</td>\n",
        "      <td> 0.000000</td>\n",
        "      <td> 0.000000</td>\n",
        "      <td> 0.000000</td>\n",
        "      <td> 0.000000</td>\n",
        "      <td> 0.000000</td>\n",
        "      <td> 0.000000</td>\n",
        "      <td> 0.000000</td>\n",
        "      <td> 0.000000</td>\n",
        "      <td> 0.000000</td>\n",
        "      <td> 0.000000</td>\n",
        "      <td> 0.000000</td>\n",
        "      <td> 0.000000</td>\n",
        "      <td> 0.000000</td>\n",
        "      <td> 0.000000</td>\n",
        "      <td> 0.000000</td>\n",
        "      <td> 0.000000</td>\n",
        "      <td> 0</td>\n",
        "      <td>...</td>\n",
        "    </tr>\n",
        "    <tr>\n",
        "      <th>KPN_04294</th>\n",
        "      <td> 1.370632</td>\n",
        "      <td> 1.370632</td>\n",
        "      <td> 1.370632</td>\n",
        "      <td> 1.370632</td>\n",
        "      <td> 1.370632</td>\n",
        "      <td> 1.370632</td>\n",
        "      <td> 1.370632</td>\n",
        "      <td> 1.370632</td>\n",
        "      <td> 1.370632</td>\n",
        "      <td> 1.370632</td>\n",
        "      <td> 1.370632</td>\n",
        "      <td> 1.370632</td>\n",
        "      <td> 1.370632</td>\n",
        "      <td> 1.370632</td>\n",
        "      <td> 1.370632</td>\n",
        "      <td> 1.370632</td>\n",
        "      <td> 1.370632</td>\n",
        "      <td> 1.370632</td>\n",
        "      <td> 1.370632</td>\n",
        "      <td> 0</td>\n",
        "      <td>...</td>\n",
        "    </tr>\n",
        "    <tr>\n",
        "      <th>KPN_02419</th>\n",
        "      <td> 1.370632</td>\n",
        "      <td> 1.370632</td>\n",
        "      <td> 1.370632</td>\n",
        "      <td> 1.370632</td>\n",
        "      <td> 1.370632</td>\n",
        "      <td> 1.370632</td>\n",
        "      <td> 1.370632</td>\n",
        "      <td> 1.370632</td>\n",
        "      <td> 1.370632</td>\n",
        "      <td> 1.370632</td>\n",
        "      <td> 1.370632</td>\n",
        "      <td> 1.370632</td>\n",
        "      <td> 1.370632</td>\n",
        "      <td> 1.370632</td>\n",
        "      <td> 1.370632</td>\n",
        "      <td> 1.370632</td>\n",
        "      <td> 1.370632</td>\n",
        "      <td> 1.370632</td>\n",
        "      <td> 1.370632</td>\n",
        "      <td> 0</td>\n",
        "      <td>...</td>\n",
        "    </tr>\n",
        "    <tr>\n",
        "      <th>KPN_03935</th>\n",
        "      <td> 1.370632</td>\n",
        "      <td> 1.370632</td>\n",
        "      <td> 1.370632</td>\n",
        "      <td> 1.370632</td>\n",
        "      <td> 1.370632</td>\n",
        "      <td> 1.370632</td>\n",
        "      <td> 1.370632</td>\n",
        "      <td> 1.370632</td>\n",
        "      <td> 1.370632</td>\n",
        "      <td> 1.370632</td>\n",
        "      <td> 1.370632</td>\n",
        "      <td> 1.370632</td>\n",
        "      <td> 1.370632</td>\n",
        "      <td> 1.370632</td>\n",
        "      <td> 1.370632</td>\n",
        "      <td> 1.370632</td>\n",
        "      <td> 1.370632</td>\n",
        "      <td> 1.370632</td>\n",
        "      <td> 1.370632</td>\n",
        "      <td> 0</td>\n",
        "      <td>...</td>\n",
        "    </tr>\n",
        "    <tr>\n",
        "      <th>KPN_03330</th>\n",
        "      <td> 1.370632</td>\n",
        "      <td> 1.370632</td>\n",
        "      <td> 1.370632</td>\n",
        "      <td> 1.370632</td>\n",
        "      <td> 1.370632</td>\n",
        "      <td> 1.370632</td>\n",
        "      <td> 1.370632</td>\n",
        "      <td> 1.370632</td>\n",
        "      <td> 1.370632</td>\n",
        "      <td> 1.370632</td>\n",
        "      <td> 1.370632</td>\n",
        "      <td> 1.370632</td>\n",
        "      <td> 1.370632</td>\n",
        "      <td> 1.370632</td>\n",
        "      <td> 1.370632</td>\n",
        "      <td> 1.370632</td>\n",
        "      <td> 1.370632</td>\n",
        "      <td> 1.370632</td>\n",
        "      <td> 1.370632</td>\n",
        "      <td> 0</td>\n",
        "      <td>...</td>\n",
        "    </tr>\n",
        "    <tr>\n",
        "      <th>KPN_00255</th>\n",
        "      <td> 1.370632</td>\n",
        "      <td> 1.370632</td>\n",
        "      <td> 1.370632</td>\n",
        "      <td> 1.370632</td>\n",
        "      <td> 1.370632</td>\n",
        "      <td> 1.370632</td>\n",
        "      <td> 1.370632</td>\n",
        "      <td> 1.370632</td>\n",
        "      <td> 1.370632</td>\n",
        "      <td> 1.370632</td>\n",
        "      <td> 1.370632</td>\n",
        "      <td> 1.370632</td>\n",
        "      <td> 1.370632</td>\n",
        "      <td> 1.370632</td>\n",
        "      <td> 1.370632</td>\n",
        "      <td> 1.370632</td>\n",
        "      <td> 1.370632</td>\n",
        "      <td> 1.370632</td>\n",
        "      <td> 1.370632</td>\n",
        "      <td> 0</td>\n",
        "      <td>...</td>\n",
        "    </tr>\n",
        "    <tr>\n",
        "      <th>KPN_03825</th>\n",
        "      <td> 1.370632</td>\n",
        "      <td> 1.370632</td>\n",
        "      <td> 1.370632</td>\n",
        "      <td> 1.370632</td>\n",
        "      <td> 1.370632</td>\n",
        "      <td> 1.370632</td>\n",
        "      <td> 1.370632</td>\n",
        "      <td> 1.370632</td>\n",
        "      <td> 1.370632</td>\n",
        "      <td> 1.370632</td>\n",
        "      <td> 1.370632</td>\n",
        "      <td> 1.370632</td>\n",
        "      <td> 1.370632</td>\n",
        "      <td> 1.370632</td>\n",
        "      <td> 1.370632</td>\n",
        "      <td> 1.370632</td>\n",
        "      <td> 1.370632</td>\n",
        "      <td> 1.370632</td>\n",
        "      <td> 1.370632</td>\n",
        "      <td> 0</td>\n",
        "      <td>...</td>\n",
        "    </tr>\n",
        "    <tr>\n",
        "      <th>KPN_02543</th>\n",
        "      <td> 1.370632</td>\n",
        "      <td> 1.370632</td>\n",
        "      <td> 1.370632</td>\n",
        "      <td> 1.370632</td>\n",
        "      <td> 1.370632</td>\n",
        "      <td> 1.370632</td>\n",
        "      <td> 1.370632</td>\n",
        "      <td> 1.370632</td>\n",
        "      <td> 1.370632</td>\n",
        "      <td> 1.370632</td>\n",
        "      <td> 1.370632</td>\n",
        "      <td> 1.370632</td>\n",
        "      <td> 1.370632</td>\n",
        "      <td> 1.370632</td>\n",
        "      <td> 1.370632</td>\n",
        "      <td> 1.370632</td>\n",
        "      <td> 1.370632</td>\n",
        "      <td> 1.370632</td>\n",
        "      <td> 1.370632</td>\n",
        "      <td> 0</td>\n",
        "      <td>...</td>\n",
        "    </tr>\n",
        "    <tr>\n",
        "      <th>KPN_01924</th>\n",
        "      <td> 1.370632</td>\n",
        "      <td> 1.370632</td>\n",
        "      <td> 1.370632</td>\n",
        "      <td> 1.370632</td>\n",
        "      <td> 1.370632</td>\n",
        "      <td> 1.370632</td>\n",
        "      <td> 1.370632</td>\n",
        "      <td> 1.370632</td>\n",
        "      <td> 1.370632</td>\n",
        "      <td> 1.370632</td>\n",
        "      <td> 1.370632</td>\n",
        "      <td> 1.370632</td>\n",
        "      <td> 1.370632</td>\n",
        "      <td> 1.370632</td>\n",
        "      <td> 1.370632</td>\n",
        "      <td> 1.370632</td>\n",
        "      <td> 1.370632</td>\n",
        "      <td> 1.370632</td>\n",
        "      <td> 1.370632</td>\n",
        "      <td> 0</td>\n",
        "      <td>...</td>\n",
        "    </tr>\n",
        "    <tr>\n",
        "      <th>KPN_00254</th>\n",
        "      <td> 1.370632</td>\n",
        "      <td> 1.370632</td>\n",
        "      <td> 1.370632</td>\n",
        "      <td> 1.370632</td>\n",
        "      <td> 1.370632</td>\n",
        "      <td> 1.370632</td>\n",
        "      <td> 1.370632</td>\n",
        "      <td> 1.370632</td>\n",
        "      <td> 1.370632</td>\n",
        "      <td> 1.370632</td>\n",
        "      <td> 1.370632</td>\n",
        "      <td> 1.370632</td>\n",
        "      <td> 1.370632</td>\n",
        "      <td> 1.370632</td>\n",
        "      <td> 1.370632</td>\n",
        "      <td> 1.370632</td>\n",
        "      <td> 1.370632</td>\n",
        "      <td> 1.370632</td>\n",
        "      <td> 1.370632</td>\n",
        "      <td> 0</td>\n",
        "      <td>...</td>\n",
        "    </tr>\n",
        "    <tr>\n",
        "      <th>KPN_02199</th>\n",
        "      <td> 1.370632</td>\n",
        "      <td> 1.370632</td>\n",
        "      <td> 1.370632</td>\n",
        "      <td> 1.370632</td>\n",
        "      <td> 1.370632</td>\n",
        "      <td> 1.370632</td>\n",
        "      <td> 1.370632</td>\n",
        "      <td> 1.370632</td>\n",
        "      <td> 1.370632</td>\n",
        "      <td> 1.370632</td>\n",
        "      <td> 1.370632</td>\n",
        "      <td> 1.370632</td>\n",
        "      <td> 1.370632</td>\n",
        "      <td> 1.370632</td>\n",
        "      <td> 1.370632</td>\n",
        "      <td> 1.370632</td>\n",
        "      <td> 1.370632</td>\n",
        "      <td> 1.370632</td>\n",
        "      <td> 1.370632</td>\n",
        "      <td> 0</td>\n",
        "      <td>...</td>\n",
        "    </tr>\n",
        "    <tr>\n",
        "      <th>KPN_02118</th>\n",
        "      <td> 1.370632</td>\n",
        "      <td> 1.370632</td>\n",
        "      <td> 1.370632</td>\n",
        "      <td> 1.370632</td>\n",
        "      <td> 1.370632</td>\n",
        "      <td> 1.370632</td>\n",
        "      <td> 1.370632</td>\n",
        "      <td> 1.370632</td>\n",
        "      <td> 1.370632</td>\n",
        "      <td> 1.370632</td>\n",
        "      <td> 1.370632</td>\n",
        "      <td> 1.370632</td>\n",
        "      <td> 1.370632</td>\n",
        "      <td> 1.370632</td>\n",
        "      <td> 1.370632</td>\n",
        "      <td> 1.370632</td>\n",
        "      <td> 1.370632</td>\n",
        "      <td> 1.370632</td>\n",
        "      <td> 1.370632</td>\n",
        "      <td> 0</td>\n",
        "      <td>...</td>\n",
        "    </tr>\n",
        "    <tr>\n",
        "      <th>KPN_SPONT</th>\n",
        "      <td> 0.000000</td>\n",
        "      <td> 0.000000</td>\n",
        "      <td> 0.000000</td>\n",
        "      <td> 0.000000</td>\n",
        "      <td> 0.000000</td>\n",
        "      <td> 0.000000</td>\n",
        "      <td> 0.000000</td>\n",
        "      <td> 0.000000</td>\n",
        "      <td> 0.000000</td>\n",
        "      <td> 0.000000</td>\n",
        "      <td> 0.000000</td>\n",
        "      <td> 0.000000</td>\n",
        "      <td> 0.000000</td>\n",
        "      <td> 0.000000</td>\n",
        "      <td> 0.000000</td>\n",
        "      <td> 0.000000</td>\n",
        "      <td> 0.000000</td>\n",
        "      <td> 0.000000</td>\n",
        "      <td> 0.000000</td>\n",
        "      <td> 0</td>\n",
        "      <td>...</td>\n",
        "    </tr>\n",
        "    <tr>\n",
        "      <th>KPN_01884</th>\n",
        "      <td> 1.370632</td>\n",
        "      <td> 1.370632</td>\n",
        "      <td> 1.370632</td>\n",
        "      <td> 1.370632</td>\n",
        "      <td> 1.370632</td>\n",
        "      <td> 1.370632</td>\n",
        "      <td> 1.370632</td>\n",
        "      <td> 1.370632</td>\n",
        "      <td> 1.370632</td>\n",
        "      <td> 1.370632</td>\n",
        "      <td> 1.370632</td>\n",
        "      <td> 1.370632</td>\n",
        "      <td> 1.370632</td>\n",
        "      <td> 1.370632</td>\n",
        "      <td> 1.370632</td>\n",
        "      <td> 1.370632</td>\n",
        "      <td> 1.370632</td>\n",
        "      <td> 1.370632</td>\n",
        "      <td> 1.370632</td>\n",
        "      <td> 0</td>\n",
        "      <td>...</td>\n",
        "    </tr>\n",
        "    <tr>\n",
        "      <th>KPN_03183</th>\n",
        "      <td> 1.370632</td>\n",
        "      <td> 1.370632</td>\n",
        "      <td> 1.370632</td>\n",
        "      <td> 1.370632</td>\n",
        "      <td> 1.370632</td>\n",
        "      <td> 1.370632</td>\n",
        "      <td> 1.370632</td>\n",
        "      <td> 1.370632</td>\n",
        "      <td> 1.370632</td>\n",
        "      <td> 1.370632</td>\n",
        "      <td> 1.370632</td>\n",
        "      <td> 1.370632</td>\n",
        "      <td> 1.370632</td>\n",
        "      <td> 1.370632</td>\n",
        "      <td> 1.370632</td>\n",
        "      <td> 1.370632</td>\n",
        "      <td> 1.370632</td>\n",
        "      <td> 1.370632</td>\n",
        "      <td> 1.370632</td>\n",
        "      <td> 0</td>\n",
        "      <td>...</td>\n",
        "    </tr>\n",
        "    <tr>\n",
        "      <th>KPN_00198</th>\n",
        "      <td> 0.000000</td>\n",
        "      <td> 0.000000</td>\n",
        "      <td> 0.000000</td>\n",
        "      <td> 0.000000</td>\n",
        "      <td> 0.000000</td>\n",
        "      <td> 0.000000</td>\n",
        "      <td> 0.000000</td>\n",
        "      <td> 0.000000</td>\n",
        "      <td> 0.000000</td>\n",
        "      <td> 0.000000</td>\n",
        "      <td> 0.000000</td>\n",
        "      <td> 0.000000</td>\n",
        "      <td> 0.000000</td>\n",
        "      <td> 0.000000</td>\n",
        "      <td> 0.000000</td>\n",
        "      <td> 0.000000</td>\n",
        "      <td> 0.000000</td>\n",
        "      <td> 0.000000</td>\n",
        "      <td> 0.000000</td>\n",
        "      <td> 0</td>\n",
        "      <td>...</td>\n",
        "    </tr>\n",
        "    <tr>\n",
        "      <th>KPN_03665</th>\n",
        "      <td> 0.000000</td>\n",
        "      <td> 0.000000</td>\n",
        "      <td> 0.000000</td>\n",
        "      <td> 0.000000</td>\n",
        "      <td> 0.000000</td>\n",
        "      <td> 0.000000</td>\n",
        "      <td> 0.000000</td>\n",
        "      <td> 0.000000</td>\n",
        "      <td> 0.000000</td>\n",
        "      <td> 0.000000</td>\n",
        "      <td> 0.000000</td>\n",
        "      <td> 0.000000</td>\n",
        "      <td> 0.000000</td>\n",
        "      <td> 0.000000</td>\n",
        "      <td> 0.000000</td>\n",
        "      <td> 0.000000</td>\n",
        "      <td> 0.000000</td>\n",
        "      <td> 0.000000</td>\n",
        "      <td> 0.000000</td>\n",
        "      <td> 0</td>\n",
        "      <td>...</td>\n",
        "    </tr>\n",
        "    <tr>\n",
        "      <th>KPN_03664</th>\n",
        "      <td> 0.000000</td>\n",
        "      <td> 0.000000</td>\n",
        "      <td> 0.000000</td>\n",
        "      <td> 0.000000</td>\n",
        "      <td> 0.000000</td>\n",
        "      <td> 0.000000</td>\n",
        "      <td> 0.000000</td>\n",
        "      <td> 0.000000</td>\n",
        "      <td> 0.000000</td>\n",
        "      <td> 0.000000</td>\n",
        "      <td> 0.000000</td>\n",
        "      <td> 0.000000</td>\n",
        "      <td> 0.000000</td>\n",
        "      <td> 0.000000</td>\n",
        "      <td> 0.000000</td>\n",
        "      <td> 0.000000</td>\n",
        "      <td> 0.000000</td>\n",
        "      <td> 0.000000</td>\n",
        "      <td> 0.000000</td>\n",
        "      <td> 0</td>\n",
        "      <td>...</td>\n",
        "    </tr>\n",
        "    <tr>\n",
        "      <th></th>\n",
        "      <td>...</td>\n",
        "      <td>...</td>\n",
        "      <td>...</td>\n",
        "      <td>...</td>\n",
        "      <td>...</td>\n",
        "      <td>...</td>\n",
        "      <td>...</td>\n",
        "      <td>...</td>\n",
        "      <td>...</td>\n",
        "      <td>...</td>\n",
        "      <td>...</td>\n",
        "      <td>...</td>\n",
        "      <td>...</td>\n",
        "      <td>...</td>\n",
        "      <td>...</td>\n",
        "      <td>...</td>\n",
        "      <td>...</td>\n",
        "      <td>...</td>\n",
        "      <td>...</td>\n",
        "      <td>...</td>\n",
        "    </tr>\n",
        "  </tbody>\n",
        "</table>\n",
        "<p>1229 rows \u00d7 1229 columns</p>\n",
        "</div>"
       ],
       "metadata": {},
       "output_type": "pyout",
       "prompt_number": 9,
       "text": [
        "           KPN_03202  KPN_03491  KPN_04421  KPN_04422  KPN_04424  KPN_04423  \\\n",
        "KPN_03202   1.370632   1.370632   1.370632   1.370632   1.370632   1.370632   \n",
        "KPN_03491   1.370632   1.370632   1.370632   1.370632   1.370632   1.370632   \n",
        "KPN_04421   1.370632   1.370632   1.370632   1.370632   1.370632   1.370632   \n",
        "KPN_04422   1.370632   1.370632   1.370632   1.370632   1.370632   1.370632   \n",
        "KPN_04424   1.370632   1.370632   1.370632   1.370632   1.370632   1.370632   \n",
        "KPN_04423   1.370632   1.370632   1.370632   1.370632   1.370632   1.370632   \n",
        "KPN_04425   1.370632   1.370632   1.370632   1.370632   1.370632   1.370632   \n",
        "KPN_00956   1.370632   1.370632   1.370632   1.370632   1.370632   1.370632   \n",
        "KPN_02636   1.370632   1.370632   1.370632   1.370632   1.370632   1.370632   \n",
        "KPN_00282   1.370632   1.370632   1.370632   1.370632   1.370632   1.370632   \n",
        "KPN_02430   1.370632   1.370632   1.370632   1.370632   1.370632   1.370632   \n",
        "KPN_01445   1.370632   1.370632   1.370632   1.370632   1.370632   1.370632   \n",
        "KPN_04607   1.370632   1.370632   1.370632   1.370632   1.370632   1.370632   \n",
        "KPN_03244   1.370632   1.370632   1.370632   1.370632   1.370632   1.370632   \n",
        "KPN_03245   1.370632   1.370632   1.370632   1.370632   1.370632   1.370632   \n",
        "KPN_03915   1.370632   1.370632   1.370632   1.370632   1.370632   1.370632   \n",
        "KPN_04677   1.370632   1.370632   1.370632   1.370632   1.370632   1.370632   \n",
        "KPN_00408   1.370632   1.370632   1.370632   1.370632   1.370632   1.370632   \n",
        "KPN_01142   1.370632   1.370632   1.370632   1.370632   1.370632   1.370632   \n",
        "KPN_00983   0.000000   0.000000   0.000000   0.000000   0.000000   0.000000   \n",
        "KPN_00193   1.370632   1.370632   1.370632   1.370632   1.370632   1.370632   \n",
        "KPN_02122   1.370632   1.370632   1.370632   1.370632   1.370632   1.370632   \n",
        "KPN_01538   1.370632   1.370632   1.370632   1.370632   1.370632   1.370632   \n",
        "KPN_01539   1.370632   1.370632   1.370632   1.370632   1.370632   1.370632   \n",
        "KPN_01091   0.000000   0.000000   0.000000   0.000000   0.000000   0.000000   \n",
        "KPN_02713   0.000000   0.000000   0.000000   0.000000   0.000000   0.000000   \n",
        "KPN_01093   0.000000   0.000000   0.000000   0.000000   0.000000   0.000000   \n",
        "KPN_03268   1.370632   1.370632   1.370632   1.370632   1.370632   1.370632   \n",
        "KPN_02055   1.370632   1.370632   1.370632   1.370632   1.370632   1.370632   \n",
        "KPN_01540   1.370632   1.370632   1.370632   1.370632   1.370632   1.370632   \n",
        "KPN_02195   1.370632   1.370632   1.370632   1.370632   1.370632   1.370632   \n",
        "KPN_02196   1.370632   1.370632   1.370632   1.370632   1.370632   1.370632   \n",
        "KPN_02193   1.370632   1.370632   1.370632   1.370632   1.370632   1.370632   \n",
        "KPN_02194   1.370632   1.370632   1.370632   1.370632   1.370632   1.370632   \n",
        "KPN_01310   1.370632   1.370632   1.370632   1.370632   1.370632   1.370632   \n",
        "KPN_01467   1.370632   1.370632   1.370632   1.370632   1.370632   1.370632   \n",
        "KPN_00004   0.000000   0.000000   0.000000   0.000000   0.000000   0.000000   \n",
        "KPN_02306   1.370632   1.370632   1.370632   1.370632   1.370632   1.370632   \n",
        "KPN_02197   1.370632   1.370632   1.370632   1.370632   1.370632   1.370632   \n",
        "KPN_00174   1.370632   1.370632   1.370632   1.370632   1.370632   1.370632   \n",
        "KPN_03607   1.370632   1.370632   1.370632   1.370632   1.370632   1.370632   \n",
        "KPN_03043   1.370632   1.370632   1.370632   1.370632   1.370632   1.370632   \n",
        "KPN_01092   0.000000   0.000000   0.000000   0.000000   0.000000   0.000000   \n",
        "KPN_04294   1.370632   1.370632   1.370632   1.370632   1.370632   1.370632   \n",
        "KPN_02419   1.370632   1.370632   1.370632   1.370632   1.370632   1.370632   \n",
        "KPN_03935   1.370632   1.370632   1.370632   1.370632   1.370632   1.370632   \n",
        "KPN_03330   1.370632   1.370632   1.370632   1.370632   1.370632   1.370632   \n",
        "KPN_00255   1.370632   1.370632   1.370632   1.370632   1.370632   1.370632   \n",
        "KPN_03825   1.370632   1.370632   1.370632   1.370632   1.370632   1.370632   \n",
        "KPN_02543   1.370632   1.370632   1.370632   1.370632   1.370632   1.370632   \n",
        "KPN_01924   1.370632   1.370632   1.370632   1.370632   1.370632   1.370632   \n",
        "KPN_00254   1.370632   1.370632   1.370632   1.370632   1.370632   1.370632   \n",
        "KPN_02199   1.370632   1.370632   1.370632   1.370632   1.370632   1.370632   \n",
        "KPN_02118   1.370632   1.370632   1.370632   1.370632   1.370632   1.370632   \n",
        "KPN_SPONT   0.000000   0.000000   0.000000   0.000000   0.000000   0.000000   \n",
        "KPN_01884   1.370632   1.370632   1.370632   1.370632   1.370632   1.370632   \n",
        "KPN_03183   1.370632   1.370632   1.370632   1.370632   1.370632   1.370632   \n",
        "KPN_00198   0.000000   0.000000   0.000000   0.000000   0.000000   0.000000   \n",
        "KPN_03665   0.000000   0.000000   0.000000   0.000000   0.000000   0.000000   \n",
        "KPN_03664   0.000000   0.000000   0.000000   0.000000   0.000000   0.000000   \n",
        "                 ...        ...        ...        ...        ...        ...   \n",
        "\n",
        "           KPN_04425  KPN_00956  KPN_02636  KPN_00282  KPN_02430  KPN_01445  \\\n",
        "KPN_03202   1.370632   1.370632   1.370632   1.370632   1.370632   1.370632   \n",
        "KPN_03491   1.370632   1.370632   1.370632   1.370632   1.370632   1.370632   \n",
        "KPN_04421   1.370632   1.370632   1.370632   1.370632   1.370632   1.370632   \n",
        "KPN_04422   1.370632   1.370632   1.370632   1.370632   1.370632   1.370632   \n",
        "KPN_04424   1.370632   1.370632   1.370632   1.370632   1.370632   1.370632   \n",
        "KPN_04423   1.370632   1.370632   1.370632   1.370632   1.370632   1.370632   \n",
        "KPN_04425   1.370632   1.370632   1.370632   1.370632   1.370632   1.370632   \n",
        "KPN_00956   1.370632   1.370632   1.370632   1.370632   1.370632   1.370632   \n",
        "KPN_02636   1.370632   1.370632   1.370632   1.370632   1.370632   1.370632   \n",
        "KPN_00282   1.370632   1.370632   1.370632   1.370632   1.370632   1.370632   \n",
        "KPN_02430   1.370632   1.370632   1.370632   1.370632   1.370632   1.370632   \n",
        "KPN_01445   1.370632   1.370632   1.370632   1.370632   1.370632   1.370632   \n",
        "KPN_04607   1.370632   1.370632   1.370632   1.370632   1.370632   1.370632   \n",
        "KPN_03244   1.370632   1.370632   1.370632   1.370632   1.370632   1.370632   \n",
        "KPN_03245   1.370632   1.370632   1.370632   1.370632   1.370632   1.370632   \n",
        "KPN_03915   1.370632   1.370632   1.370632   1.370632   1.370632   1.370632   \n",
        "KPN_04677   1.370632   1.370632   1.370632   1.370632   1.370632   1.370632   \n",
        "KPN_00408   1.370632   1.370632   1.370632   1.370632   1.370632   1.370632   \n",
        "KPN_01142   1.370632   1.370632   1.370632   1.370632   1.370632   1.370632   \n",
        "KPN_00983   0.000000   0.000000   0.000000   0.000000   0.000000   0.000000   \n",
        "KPN_00193   1.370632   1.370632   1.370632   1.370632   1.370632   1.370632   \n",
        "KPN_02122   1.370632   1.370632   1.370632   1.370632   1.370632   1.370632   \n",
        "KPN_01538   1.370632   1.370632   1.370632   1.370632   1.370632   1.370632   \n",
        "KPN_01539   1.370632   1.370632   1.370632   1.370632   1.370632   1.370632   \n",
        "KPN_01091   0.000000   0.000000   0.000000   0.000000   0.000000   0.000000   \n",
        "KPN_02713   0.000000   0.000000   0.000000   0.000000   0.000000   0.000000   \n",
        "KPN_01093   0.000000   0.000000   0.000000   0.000000   0.000000   0.000000   \n",
        "KPN_03268   1.370632   1.370632   1.370632   1.370632   1.370632   1.370632   \n",
        "KPN_02055   1.370632   1.370632   1.370632   1.370632   1.370632   1.370632   \n",
        "KPN_01540   1.370632   1.370632   1.370632   1.370632   1.370632   1.370632   \n",
        "KPN_02195   1.370632   1.370632   1.370632   1.370632   1.370632   1.370632   \n",
        "KPN_02196   1.370632   1.370632   1.370632   1.370632   1.370632   1.370632   \n",
        "KPN_02193   1.370632   1.370632   1.370632   1.370632   1.370632   1.370632   \n",
        "KPN_02194   1.370632   1.370632   1.370632   1.370632   1.370632   1.370632   \n",
        "KPN_01310   1.370632   1.370632   1.370632   1.370632   1.370632   1.370632   \n",
        "KPN_01467   1.370632   1.370632   1.370632   1.370632   1.370632   1.370632   \n",
        "KPN_00004   0.000000   0.000000   0.000000   0.000000   0.000000   0.000000   \n",
        "KPN_02306   1.370632   1.370632   1.370632   1.370632   1.370632   1.370632   \n",
        "KPN_02197   1.370632   1.370632   1.370632   1.370632   1.370632   1.370632   \n",
        "KPN_00174   1.370632   1.370632   1.370632   1.370632   1.370632   1.370632   \n",
        "KPN_03607   1.370632   1.370632   1.370632   1.370632   1.370632   1.370632   \n",
        "KPN_03043   1.370632   1.370632   1.370632   1.370632   1.370632   1.370632   \n",
        "KPN_01092   0.000000   0.000000   0.000000   0.000000   0.000000   0.000000   \n",
        "KPN_04294   1.370632   1.370632   1.370632   1.370632   1.370632   1.370632   \n",
        "KPN_02419   1.370632   1.370632   1.370632   1.370632   1.370632   1.370632   \n",
        "KPN_03935   1.370632   1.370632   1.370632   1.370632   1.370632   1.370632   \n",
        "KPN_03330   1.370632   1.370632   1.370632   1.370632   1.370632   1.370632   \n",
        "KPN_00255   1.370632   1.370632   1.370632   1.370632   1.370632   1.370632   \n",
        "KPN_03825   1.370632   1.370632   1.370632   1.370632   1.370632   1.370632   \n",
        "KPN_02543   1.370632   1.370632   1.370632   1.370632   1.370632   1.370632   \n",
        "KPN_01924   1.370632   1.370632   1.370632   1.370632   1.370632   1.370632   \n",
        "KPN_00254   1.370632   1.370632   1.370632   1.370632   1.370632   1.370632   \n",
        "KPN_02199   1.370632   1.370632   1.370632   1.370632   1.370632   1.370632   \n",
        "KPN_02118   1.370632   1.370632   1.370632   1.370632   1.370632   1.370632   \n",
        "KPN_SPONT   0.000000   0.000000   0.000000   0.000000   0.000000   0.000000   \n",
        "KPN_01884   1.370632   1.370632   1.370632   1.370632   1.370632   1.370632   \n",
        "KPN_03183   1.370632   1.370632   1.370632   1.370632   1.370632   1.370632   \n",
        "KPN_00198   0.000000   0.000000   0.000000   0.000000   0.000000   0.000000   \n",
        "KPN_03665   0.000000   0.000000   0.000000   0.000000   0.000000   0.000000   \n",
        "KPN_03664   0.000000   0.000000   0.000000   0.000000   0.000000   0.000000   \n",
        "                 ...        ...        ...        ...        ...        ...   \n",
        "\n",
        "           KPN_04607  KPN_03244  KPN_03245  KPN_03915  KPN_04677  KPN_00408  \\\n",
        "KPN_03202   1.370632   1.370632   1.370632   1.370632   1.370632   1.370632   \n",
        "KPN_03491   1.370632   1.370632   1.370632   1.370632   1.370632   1.370632   \n",
        "KPN_04421   1.370632   1.370632   1.370632   1.370632   1.370632   1.370632   \n",
        "KPN_04422   1.370632   1.370632   1.370632   1.370632   1.370632   1.370632   \n",
        "KPN_04424   1.370632   1.370632   1.370632   1.370632   1.370632   1.370632   \n",
        "KPN_04423   1.370632   1.370632   1.370632   1.370632   1.370632   1.370632   \n",
        "KPN_04425   1.370632   1.370632   1.370632   1.370632   1.370632   1.370632   \n",
        "KPN_00956   1.370632   1.370632   1.370632   1.370632   1.370632   1.370632   \n",
        "KPN_02636   1.370632   1.370632   1.370632   1.370632   1.370632   1.370632   \n",
        "KPN_00282   1.370632   1.370632   1.370632   1.370632   1.370632   1.370632   \n",
        "KPN_02430   1.370632   1.370632   1.370632   1.370632   1.370632   1.370632   \n",
        "KPN_01445   1.370632   1.370632   1.370632   1.370632   1.370632   1.370632   \n",
        "KPN_04607   1.370632   1.370632   1.370632   1.370632   1.370632   1.370632   \n",
        "KPN_03244   1.370632   1.370632   1.370632   1.370632   1.370632   1.370632   \n",
        "KPN_03245   1.370632   1.370632   1.370632   1.370632   1.370632   1.370632   \n",
        "KPN_03915   1.370632   1.370632   1.370632   1.370632   1.370632   1.370632   \n",
        "KPN_04677   1.370632   1.370632   1.370632   1.370632   1.370632   1.370632   \n",
        "KPN_00408   1.370632   1.370632   1.370632   1.370632   1.370632   1.370632   \n",
        "KPN_01142   1.370632   1.370632   1.370632   1.370632   1.370632   1.370632   \n",
        "KPN_00983   0.000000   0.000000   0.000000   0.000000   0.000000   0.000000   \n",
        "KPN_00193   1.370632   1.370632   1.370632   1.370632   1.370632   1.370632   \n",
        "KPN_02122   1.370632   1.370632   1.370632   1.370632   1.370632   1.370632   \n",
        "KPN_01538   1.370632   1.370632   1.370632   1.370632   1.370632   1.370632   \n",
        "KPN_01539   1.370632   1.370632   1.370632   1.370632   1.370632   1.370632   \n",
        "KPN_01091   0.000000   0.000000   0.000000   0.000000   0.000000   0.000000   \n",
        "KPN_02713   0.000000   0.000000   0.000000   0.000000   0.000000   0.000000   \n",
        "KPN_01093   0.000000   0.000000   0.000000   0.000000   0.000000   0.000000   \n",
        "KPN_03268   1.370632   1.370632   1.370632   1.370632   1.370632   1.370632   \n",
        "KPN_02055   1.370632   1.370632   1.370632   1.370632   1.370632   1.370632   \n",
        "KPN_01540   1.370632   1.370632   1.370632   1.370632   1.370632   1.370632   \n",
        "KPN_02195   1.370632   1.370632   1.370632   1.370632   1.370632   1.370632   \n",
        "KPN_02196   1.370632   1.370632   1.370632   1.370632   1.370632   1.370632   \n",
        "KPN_02193   1.370632   1.370632   1.370632   1.370632   1.370632   1.370632   \n",
        "KPN_02194   1.370632   1.370632   1.370632   1.370632   1.370632   1.370632   \n",
        "KPN_01310   1.370632   1.370632   1.370632   1.370632   1.370632   1.370632   \n",
        "KPN_01467   1.370632   1.370632   1.370632   1.370632   1.370632   1.370632   \n",
        "KPN_00004   0.000000   0.000000   0.000000   0.000000   0.000000   0.000000   \n",
        "KPN_02306   1.370632   1.370632   1.370632   1.370632   1.370632   1.370632   \n",
        "KPN_02197   1.370632   1.370632   1.370632   1.370632   1.370632   1.370632   \n",
        "KPN_00174   1.370632   1.370632   1.370632   1.370632   1.370632   1.370632   \n",
        "KPN_03607   1.370632   1.370632   1.370632   1.370632   1.370632   1.370632   \n",
        "KPN_03043   1.370632   1.370632   1.370632   1.370632   1.370632   1.370632   \n",
        "KPN_01092   0.000000   0.000000   0.000000   0.000000   0.000000   0.000000   \n",
        "KPN_04294   1.370632   1.370632   1.370632   1.370632   1.370632   1.370632   \n",
        "KPN_02419   1.370632   1.370632   1.370632   1.370632   1.370632   1.370632   \n",
        "KPN_03935   1.370632   1.370632   1.370632   1.370632   1.370632   1.370632   \n",
        "KPN_03330   1.370632   1.370632   1.370632   1.370632   1.370632   1.370632   \n",
        "KPN_00255   1.370632   1.370632   1.370632   1.370632   1.370632   1.370632   \n",
        "KPN_03825   1.370632   1.370632   1.370632   1.370632   1.370632   1.370632   \n",
        "KPN_02543   1.370632   1.370632   1.370632   1.370632   1.370632   1.370632   \n",
        "KPN_01924   1.370632   1.370632   1.370632   1.370632   1.370632   1.370632   \n",
        "KPN_00254   1.370632   1.370632   1.370632   1.370632   1.370632   1.370632   \n",
        "KPN_02199   1.370632   1.370632   1.370632   1.370632   1.370632   1.370632   \n",
        "KPN_02118   1.370632   1.370632   1.370632   1.370632   1.370632   1.370632   \n",
        "KPN_SPONT   0.000000   0.000000   0.000000   0.000000   0.000000   0.000000   \n",
        "KPN_01884   1.370632   1.370632   1.370632   1.370632   1.370632   1.370632   \n",
        "KPN_03183   1.370632   1.370632   1.370632   1.370632   1.370632   1.370632   \n",
        "KPN_00198   0.000000   0.000000   0.000000   0.000000   0.000000   0.000000   \n",
        "KPN_03665   0.000000   0.000000   0.000000   0.000000   0.000000   0.000000   \n",
        "KPN_03664   0.000000   0.000000   0.000000   0.000000   0.000000   0.000000   \n",
        "                 ...        ...        ...        ...        ...        ...   \n",
        "\n",
        "           KPN_01142  KPN_00983      \n",
        "KPN_03202   1.370632          0 ...  \n",
        "KPN_03491   1.370632          0 ...  \n",
        "KPN_04421   1.370632          0 ...  \n",
        "KPN_04422   1.370632          0 ...  \n",
        "KPN_04424   1.370632          0 ...  \n",
        "KPN_04423   1.370632          0 ...  \n",
        "KPN_04425   1.370632          0 ...  \n",
        "KPN_00956   1.370632          0 ...  \n",
        "KPN_02636   1.370632          0 ...  \n",
        "KPN_00282   1.370632          0 ...  \n",
        "KPN_02430   1.370632          0 ...  \n",
        "KPN_01445   1.370632          0 ...  \n",
        "KPN_04607   1.370632          0 ...  \n",
        "KPN_03244   1.370632          0 ...  \n",
        "KPN_03245   1.370632          0 ...  \n",
        "KPN_03915   1.370632          0 ...  \n",
        "KPN_04677   1.370632          0 ...  \n",
        "KPN_00408   1.370632          0 ...  \n",
        "KPN_01142   1.370632          0 ...  \n",
        "KPN_00983   0.000000          0 ...  \n",
        "KPN_00193   1.370632          0 ...  \n",
        "KPN_02122   1.370632          0 ...  \n",
        "KPN_01538   1.370632          0 ...  \n",
        "KPN_01539   1.370632          0 ...  \n",
        "KPN_01091   0.000000          0 ...  \n",
        "KPN_02713   0.000000          0 ...  \n",
        "KPN_01093   0.000000          0 ...  \n",
        "KPN_03268   1.370632          0 ...  \n",
        "KPN_02055   1.370632          0 ...  \n",
        "KPN_01540   1.370632          0 ...  \n",
        "KPN_02195   1.370632          0 ...  \n",
        "KPN_02196   1.370632          0 ...  \n",
        "KPN_02193   1.370632          0 ...  \n",
        "KPN_02194   1.370632          0 ...  \n",
        "KPN_01310   1.370632          0 ...  \n",
        "KPN_01467   1.370632          0 ...  \n",
        "KPN_00004   0.000000          0 ...  \n",
        "KPN_02306   1.370632          0 ...  \n",
        "KPN_02197   1.370632          0 ...  \n",
        "KPN_00174   1.370632          0 ...  \n",
        "KPN_03607   1.370632          0 ...  \n",
        "KPN_03043   1.370632          0 ...  \n",
        "KPN_01092   0.000000          0 ...  \n",
        "KPN_04294   1.370632          0 ...  \n",
        "KPN_02419   1.370632          0 ...  \n",
        "KPN_03935   1.370632          0 ...  \n",
        "KPN_03330   1.370632          0 ...  \n",
        "KPN_00255   1.370632          0 ...  \n",
        "KPN_03825   1.370632          0 ...  \n",
        "KPN_02543   1.370632          0 ...  \n",
        "KPN_01924   1.370632          0 ...  \n",
        "KPN_00254   1.370632          0 ...  \n",
        "KPN_02199   1.370632          0 ...  \n",
        "KPN_02118   1.370632          0 ...  \n",
        "KPN_SPONT   0.000000          0 ...  \n",
        "KPN_01884   1.370632          0 ...  \n",
        "KPN_03183   1.370632          0 ...  \n",
        "KPN_00198   0.000000          0 ...  \n",
        "KPN_03665   0.000000          0 ...  \n",
        "KPN_03664   0.000000          0 ...  \n",
        "                 ...        ...      \n",
        "\n",
        "[1229 rows x 1229 columns]"
       ]
      }
     ],
     "prompt_number": 9
    },
    {
     "cell_type": "code",
     "collapsed": false,
     "input": [
      "dkos = pd.read_csv('sal_m9_dkos.csv', index_col=0)\n",
      "essential = []\n",
      "syn_lethal = []\n",
      "for i in dkos.index:\n",
      "    if sum(dkos.ix[i]) < 0.01:\n",
      "        essential.append(i)\n",
      "    else:\n",
      "        for g in dkos.ix[i].index:\n",
      "            if dkos[g].sum() > 0.01:\n",
      "                if dkos.ix[i][g] < 0.01:\n",
      "                    syn_lethal.append(str(i)+','+str(g))"
     ],
     "language": "python",
     "metadata": {},
     "outputs": [],
     "prompt_number": 49
    },
    {
     "cell_type": "code",
     "collapsed": false,
     "input": [
      "len(essential)"
     ],
     "language": "python",
     "metadata": {},
     "outputs": [
      {
       "metadata": {},
       "output_type": "pyout",
       "prompt_number": 51,
       "text": [
        "202"
       ]
      }
     ],
     "prompt_number": 51
    },
    {
     "cell_type": "code",
     "collapsed": false,
     "input": [
      "#ype = run_all('yp_dkos.csv', 'ype')\n",
      "#eco = run_all('ijo_dkos.csv', 'eco')\n",
      "#kpn = run_all('kleb_dkos.csv', 'kpn')\n",
      "#edl = run_all('edl_dkos.csv','ece')\n",
      "\n",
      "#kpn_m9 = run_all('kpn_m9_dkos.csv', 'kpn')\n",
      "#ijo_m9 = run_all('ijo_m9_dkos.csv', 'eco')\n",
      "#edl_m9 = run_all('edl_m9_dkos.csv', 'ece')\n",
      "#ype_m9 = run_all('yp_m9_dkos.csv', 'ype')\n",
      "\n",
      "#sal_m9 = run_all('sal_m9_dkos.csv', 'stm')\n",
      "sal = run_all('sal_dkos.csv', 'stm')"
     ],
     "language": "python",
     "metadata": {},
     "outputs": [
      {
       "output_type": "stream",
       "stream": "stdout",
       "text": [
        "148 essential genes\n",
        "102 syn lethal genes\n",
        "STM3315"
       ]
      },
      {
       "output_type": "stream",
       "stream": "stdout",
       "text": [
        "\n",
        "Fetching uniprot metadata for 1 ACC seqids ...\n",
        "STM2838.S"
       ]
      },
      {
       "output_type": "stream",
       "stream": "stdout",
       "text": [
        "\n",
        "Fetching uniprot metadata for 1 ACC seqids ...\n",
        "STM2838.S"
       ]
      },
      {
       "output_type": "stream",
       "stream": "stdout",
       "text": [
        "\n",
        "Fetching uniprot metadata for 1 ACC seqids ...\n",
        "STM3315"
       ]
      },
      {
       "output_type": "stream",
       "stream": "stdout",
       "text": [
        "\n",
        "Fetching uniprot metadata for 1 ACC seqids ...\n",
        "STM1883"
       ]
      },
      {
       "output_type": "stream",
       "stream": "stdout",
       "text": [
        "\n",
        "Fetching uniprot metadata for 1 ACC seqids ...\n",
        "STM0974"
       ]
      },
      {
       "output_type": "stream",
       "stream": "stdout",
       "text": [
        "\n",
        "Fetching uniprot metadata for 1 ACC seqids ...\n",
        "STM1883"
       ]
      },
      {
       "output_type": "stream",
       "stream": "stdout",
       "text": [
        "\n",
        "Fetching uniprot metadata for 1 ACC seqids ...\n",
        "STM0542"
       ]
      },
      {
       "output_type": "stream",
       "stream": "stdout",
       "text": [
        "\n",
        "Fetching uniprot metadata for 1 ACC seqids ...\n",
        "STM0413"
       ]
      },
      {
       "output_type": "stream",
       "stream": "stdout",
       "text": [
        "\n",
        "Fetching uniprot metadata for 1 ACC seqids ...\n",
        "STM1232"
       ]
      },
      {
       "output_type": "stream",
       "stream": "stdout",
       "text": [
        "\n",
        "Fetching uniprot metadata for 1 ACC seqids ...\n",
        "STM0413"
       ]
      },
      {
       "output_type": "stream",
       "stream": "stdout",
       "text": [
        "\n",
        "Fetching uniprot metadata for 1 ACC seqids ...\n",
        "STM4366"
       ]
      },
      {
       "output_type": "stream",
       "stream": "stdout",
       "text": [
        "\n",
        "Fetching uniprot metadata for 1 ACC seqids ...\n",
        "STM1232"
       ]
      },
      {
       "output_type": "stream",
       "stream": "stdout",
       "text": [
        "\n",
        "Fetching uniprot metadata for 1 ACC seqids ...\n",
        "STM0413"
       ]
      },
      {
       "output_type": "stream",
       "stream": "stdout",
       "text": [
        "\n",
        "Fetching uniprot metadata for 1 ACC seqids ...\n",
        "STM4366"
       ]
      },
      {
       "output_type": "stream",
       "stream": "stdout",
       "text": [
        "\n",
        "Fetching uniprot metadata for 1 ACC seqids ...\n",
        "STM0413"
       ]
      },
      {
       "output_type": "stream",
       "stream": "stdout",
       "text": [
        "\n",
        "Fetching uniprot metadata for 1 ACC seqids ...\n",
        "STM0737"
       ]
      },
      {
       "output_type": "stream",
       "stream": "stdout",
       "text": [
        "\n",
        "Fetching uniprot metadata for 1 ACC seqids ...\n",
        "STM0739"
       ]
      },
      {
       "output_type": "stream",
       "stream": "stdout",
       "text": [
        "\n",
        "Fetching uniprot metadata for 1 ACC seqids ...\n",
        "STM0737"
       ]
      },
      {
       "output_type": "stream",
       "stream": "stdout",
       "text": [
        "\n",
        "Fetching uniprot metadata for 1 ACC seqids ...\n",
        "STM0738"
       ]
      },
      {
       "output_type": "stream",
       "stream": "stdout",
       "text": [
        "\n",
        "Fetching uniprot metadata for 1 ACC seqids ...\n",
        "STM0736"
       ]
      },
      {
       "output_type": "stream",
       "stream": "stdout",
       "text": [
        "\n",
        "Fetching uniprot metadata for 1 ACC seqids ...\n",
        "STM0739"
       ]
      },
      {
       "output_type": "stream",
       "stream": "stdout",
       "text": [
        "\n",
        "Fetching uniprot metadata for 1 ACC seqids ...\n",
        "STM0736"
       ]
      },
      {
       "output_type": "stream",
       "stream": "stdout",
       "text": [
        "\n",
        "Fetching uniprot metadata for 1 ACC seqids ...\n",
        "STM0738"
       ]
      },
      {
       "output_type": "stream",
       "stream": "stdout",
       "text": [
        "\n",
        "Fetching uniprot metadata for 1 ACC seqids ...\n",
        "STM0154"
       ]
      },
      {
       "output_type": "stream",
       "stream": "stdout",
       "text": [
        "\n",
        "Fetching uniprot metadata for 1 ACC seqids ...\n",
        "STM0739"
       ]
      },
      {
       "output_type": "stream",
       "stream": "stdout",
       "text": [
        "\n",
        "Fetching uniprot metadata for 1 ACC seqids ...\n",
        "STM0154"
       ]
      },
      {
       "output_type": "stream",
       "stream": "stdout",
       "text": [
        "\n",
        "Fetching uniprot metadata for 1 ACC seqids ...\n",
        "STM0738"
       ]
      },
      {
       "output_type": "stream",
       "stream": "stdout",
       "text": [
        "\n",
        "Fetching uniprot metadata for 1 ACC seqids ...\n",
        "STM0130"
       ]
      },
      {
       "output_type": "stream",
       "stream": "stdout",
       "text": [
        "\n",
        "Fetching uniprot metadata for 1 ACC seqids ...\n",
        "STM0380"
       ]
      },
      {
       "output_type": "stream",
       "stream": "stdout",
       "text": [
        "\n",
        "Fetching uniprot metadata for 1 ACC seqids ...\n",
        "STM0380"
       ]
      },
      {
       "output_type": "stream",
       "stream": "stdout",
       "text": [
        "\n",
        "Fetching uniprot metadata for 1 ACC seqids ...\n",
        "STM0130"
       ]
      },
      {
       "output_type": "stream",
       "stream": "stdout",
       "text": [
        "\n",
        "Fetching uniprot metadata for 1 ACC seqids ...\n",
        "STM1802"
       ]
      },
      {
       "output_type": "stream",
       "stream": "stdout",
       "text": [
        "\n",
        "Fetching uniprot metadata for 1 ACC seqids ...\n",
        "STM4247"
       ]
      },
      {
       "output_type": "stream",
       "stream": "stdout",
       "text": [
        "\n",
        "Fetching uniprot metadata for 1 ACC seqids ...\n",
        "STM4247"
       ]
      },
      {
       "output_type": "stream",
       "stream": "stdout",
       "text": [
        "\n",
        "Fetching uniprot metadata for 1 ACC seqids ...\n",
        "STM1802"
       ]
      },
      {
       "output_type": "stream",
       "stream": "stdout",
       "text": [
        "\n",
        "Fetching uniprot metadata for 1 ACC seqids ...\n",
        "STM0680"
       ]
      },
      {
       "output_type": "stream",
       "stream": "stdout",
       "text": [
        "\n",
        "Fetching uniprot metadata for 1 ACC seqids ...\n",
        "STM3877"
       ]
      },
      {
       "output_type": "stream",
       "stream": "stdout",
       "text": [
        "\n",
        "Fetching uniprot metadata for 1 ACC seqids ...\n",
        "STM3877"
       ]
      },
      {
       "output_type": "stream",
       "stream": "stdout",
       "text": [
        "\n",
        "Fetching uniprot metadata for 1 ACC seqids ...\n",
        "STM0680"
       ]
      },
      {
       "output_type": "stream",
       "stream": "stdout",
       "text": [
        "\n",
        "Fetching uniprot metadata for 1 ACC seqids ...\n",
        "STM0180"
       ]
      },
      {
       "output_type": "stream",
       "stream": "stdout",
       "text": [
        "\n",
        "Fetching uniprot metadata for 1 ACC seqids ...\n",
        "STM3382"
       ]
      },
      {
       "output_type": "stream",
       "stream": "stdout",
       "text": [
        "\n",
        "Fetching uniprot metadata for 1 ACC seqids ...\n",
        "STM2641"
       ]
      },
      {
       "output_type": "stream",
       "stream": "stdout",
       "text": [
        "\n",
        "Fetching uniprot metadata for 1 ACC seqids ...\n",
        "STM1004"
       ]
      },
      {
       "output_type": "stream",
       "stream": "stdout",
       "text": [
        "\n",
        "Fetching uniprot metadata for 1 ACC seqids ...\n",
        "STM0812"
       ]
      },
      {
       "output_type": "stream",
       "stream": "stdout",
       "text": [
        "\n",
        "Fetching uniprot metadata for 1 ACC seqids ...\n",
        "STM1739"
       ]
      },
      {
       "output_type": "stream",
       "stream": "stdout",
       "text": [
        "\n",
        "Fetching uniprot metadata for 1 ACC seqids ...\n",
        "STM1739"
       ]
      },
      {
       "output_type": "stream",
       "stream": "stdout",
       "text": [
        "\n",
        "Fetching uniprot metadata for 1 ACC seqids ...\n",
        "STM0812"
       ]
      },
      {
       "output_type": "stream",
       "stream": "stdout",
       "text": [
        "\n",
        "Fetching uniprot metadata for 1 ACC seqids ...\n",
        "STM1490"
       ]
      },
      {
       "output_type": "stream",
       "stream": "stdout",
       "text": [
        "\n",
        "Fetching uniprot metadata for 1 ACC seqids ...\n",
        "STM0203"
       ]
      },
      {
       "output_type": "stream",
       "stream": "stdout",
       "text": [
        "\n",
        "Fetching uniprot metadata for 1 ACC seqids ...\n",
        "STM0203"
       ]
      },
      {
       "output_type": "stream",
       "stream": "stdout",
       "text": [
        "\n",
        "Fetching uniprot metadata for 1 ACC seqids ...\n",
        "STM1490"
       ]
      },
      {
       "output_type": "stream",
       "stream": "stdout",
       "text": [
        "\n",
        "Fetching uniprot metadata for 1 ACC seqids ...\n",
        "STM0980"
       ]
      },
      {
       "output_type": "stream",
       "stream": "stdout",
       "text": [
        "\n",
        "Fetching uniprot metadata for 1 ACC seqids ...\n",
        "STM0218"
       ]
      },
      {
       "output_type": "stream",
       "stream": "stdout",
       "text": [
        "\n",
        "Fetching uniprot metadata for 1 ACC seqids ...\n",
        "STM1900"
       ]
      },
      {
       "output_type": "stream",
       "stream": "stdout",
       "text": [
        "\n",
        "Fetching uniprot metadata for 1 ACC seqids ...\n",
        "STM0137"
       ]
      },
      {
       "output_type": "stream",
       "stream": "stdout",
       "text": [
        "\n",
        "Fetching uniprot metadata for 1 ACC seqids ...\n",
        "STM0137"
       ]
      },
      {
       "output_type": "stream",
       "stream": "stdout",
       "text": [
        "\n",
        "Fetching uniprot metadata for 1 ACC seqids ...\n",
        "STM1900"
       ]
      },
      {
       "output_type": "stream",
       "stream": "stdout",
       "text": [
        "\n",
        "Fetching uniprot metadata for 1 ACC seqids ...\n",
        "STM1750"
       ]
      },
      {
       "output_type": "stream",
       "stream": "stdout",
       "text": [
        "\n",
        "Fetching uniprot metadata for 1 ACC seqids ...\n",
        "STM3001"
       ]
      },
      {
       "output_type": "stream",
       "stream": "stdout",
       "text": [
        "\n",
        "Fetching uniprot metadata for 1 ACC seqids ...\n",
        "STM3692"
       ]
      },
      {
       "output_type": "stream",
       "stream": "stdout",
       "text": [
        "\n",
        "Fetching uniprot metadata for 1 ACC seqids ...\n",
        "STM1620"
       ]
      },
      {
       "output_type": "stream",
       "stream": "stdout",
       "text": [
        "\n",
        "Fetching uniprot metadata for 1 ACC seqids ...\n",
        "STM0974"
       ]
      },
      {
       "output_type": "stream",
       "stream": "stdout",
       "text": [
        "\n",
        "Fetching uniprot metadata for 1 ACC seqids ...\n",
        "STM1883"
       ]
      },
      {
       "output_type": "stream",
       "stream": "stdout",
       "text": [
        "\n",
        "Fetching uniprot metadata for 1 ACC seqids ...\n",
        "STM3923"
       ]
      },
      {
       "output_type": "stream",
       "stream": "stdout",
       "text": [
        "\n",
        "Fetching uniprot metadata for 1 ACC seqids ...\n",
        "STM2095"
       ]
      },
      {
       "output_type": "stream",
       "stream": "stdout",
       "text": [
        "\n",
        "Fetching uniprot metadata for 1 ACC seqids ...\n",
        "STM2095"
       ]
      },
      {
       "output_type": "stream",
       "stream": "stdout",
       "text": [
        "\n",
        "Fetching uniprot metadata for 1 ACC seqids ...\n",
        "STM3923"
       ]
      },
      {
       "output_type": "stream",
       "stream": "stdout",
       "text": [
        "\n",
        "Fetching uniprot metadata for 1 ACC seqids ...\n",
        "STM2500"
       ]
      },
      {
       "output_type": "stream",
       "stream": "stdout",
       "text": [
        "\n",
        "Fetching uniprot metadata for 1 ACC seqids ...\n",
        "STM0542"
       ]
      },
      {
       "output_type": "stream",
       "stream": "stdout",
       "text": [
        "\n",
        "Fetching uniprot metadata for 1 ACC seqids ...\n",
        "STM1620"
       ]
      },
      {
       "output_type": "stream",
       "stream": "stdout",
       "text": [
        "\n",
        "Fetching uniprot metadata for 1 ACC seqids ...\n",
        "STM3692"
       ]
      },
      {
       "output_type": "stream",
       "stream": "stdout",
       "text": [
        "\n",
        "Fetching uniprot metadata for 1 ACC seqids ...\n",
        "STM4182"
       ]
      },
      {
       "output_type": "stream",
       "stream": "stdout",
       "text": [
        "\n",
        "Fetching uniprot metadata for 1 ACC seqids ...\n",
        "STM0247"
       ]
      },
      {
       "output_type": "stream",
       "stream": "stdout",
       "text": [
        "\n",
        "Fetching uniprot metadata for 1 ACC seqids ...\n",
        "STM4182"
       ]
      },
      {
       "output_type": "stream",
       "stream": "stdout",
       "text": [
        "\n",
        "Fetching uniprot metadata for 1 ACC seqids ...\n",
        "STM0246"
       ]
      },
      {
       "output_type": "stream",
       "stream": "stdout",
       "text": [
        "\n",
        "Fetching uniprot metadata for 1 ACC seqids ...\n",
        "STM4182"
       ]
      },
      {
       "output_type": "stream",
       "stream": "stdout",
       "text": [
        "\n",
        "Fetching uniprot metadata for 1 ACC seqids ...\n",
        "STM0245"
       ]
      },
      {
       "output_type": "stream",
       "stream": "stdout",
       "text": [
        "\n",
        "Fetching uniprot metadata for 1 ACC seqids ...\n",
        "STM0247"
       ]
      },
      {
       "output_type": "stream",
       "stream": "stdout",
       "text": [
        "\n",
        "Fetching uniprot metadata for 1 ACC seqids ...\n",
        "STM4182"
       ]
      },
      {
       "output_type": "stream",
       "stream": "stdout",
       "text": [
        "\n",
        "Fetching uniprot metadata for 1 ACC seqids ...\n",
        "STM0246"
       ]
      },
      {
       "output_type": "stream",
       "stream": "stdout",
       "text": [
        "\n",
        "Fetching uniprot metadata for 1 ACC seqids ...\n",
        "STM4182"
       ]
      },
      {
       "output_type": "stream",
       "stream": "stdout",
       "text": [
        "\n",
        "Fetching uniprot metadata for 1 ACC seqids ...\n",
        "STM0245"
       ]
      },
      {
       "output_type": "stream",
       "stream": "stdout",
       "text": [
        "\n",
        "Fetching uniprot metadata for 1 ACC seqids ...\n",
        "STM4182"
       ]
      },
      {
       "output_type": "stream",
       "stream": "stdout",
       "text": [
        "\n",
        "Fetching uniprot metadata for 1 ACC seqids ...\n",
        "STM4188.S"
       ]
      },
      {
       "output_type": "stream",
       "stream": "stdout",
       "text": [
        "\n",
        "Fetching uniprot metadata for 1 ACC seqids ...\n",
        "STM3965"
       ]
      },
      {
       "output_type": "stream",
       "stream": "stdout",
       "text": [
        "\n",
        "Fetching uniprot metadata for 1 ACC seqids ...\n",
        "STM3965"
       ]
      },
      {
       "output_type": "stream",
       "stream": "stdout",
       "text": [
        "\n",
        "Fetching uniprot metadata for 1 ACC seqids ...\n",
        "STM4188.S"
       ]
      },
      {
       "output_type": "stream",
       "stream": "stdout",
       "text": [
        "\n",
        "Fetching uniprot metadata for 1 ACC seqids ...\n",
        "STM0781"
       ]
      },
      {
       "output_type": "stream",
       "stream": "stdout",
       "text": [
        "\n",
        "Fetching uniprot metadata for 1 ACC seqids ...\n",
        "STM2443"
       ]
      },
      {
       "output_type": "stream",
       "stream": "stdout",
       "text": [
        "\n",
        "Fetching uniprot metadata for 1 ACC seqids ...\n",
        "STM0781"
       ]
      },
      {
       "output_type": "stream",
       "stream": "stdout",
       "text": [
        "\n",
        "Fetching uniprot metadata for 1 ACC seqids ...\n",
        "STM2442"
       ]
      },
      {
       "output_type": "stream",
       "stream": "stdout",
       "text": [
        "\n",
        "Fetching uniprot metadata for 1 ACC seqids ...\n",
        "STM0781"
       ]
      },
      {
       "output_type": "stream",
       "stream": "stdout",
       "text": [
        "\n",
        "Fetching uniprot metadata for 1 ACC seqids ...\n",
        "STM2441"
       ]
      },
      {
       "output_type": "stream",
       "stream": "stdout",
       "text": [
        "\n",
        "Fetching uniprot metadata for 1 ACC seqids ...\n",
        "STM0782"
       ]
      },
      {
       "output_type": "stream",
       "stream": "stdout",
       "text": [
        "\n",
        "Fetching uniprot metadata for 1 ACC seqids ...\n",
        "STM2443"
       ]
      },
      {
       "output_type": "stream",
       "stream": "stdout",
       "text": [
        "\n",
        "Fetching uniprot metadata for 1 ACC seqids ...\n",
        "STM0782"
       ]
      },
      {
       "output_type": "stream",
       "stream": "stdout",
       "text": [
        "\n",
        "Fetching uniprot metadata for 1 ACC seqids ...\n",
        "STM2442"
       ]
      },
      {
       "output_type": "stream",
       "stream": "stdout",
       "text": [
        "\n",
        "Fetching uniprot metadata for 1 ACC seqids ...\n",
        "STM0782"
       ]
      },
      {
       "output_type": "stream",
       "stream": "stdout",
       "text": [
        "\n",
        "Fetching uniprot metadata for 1 ACC seqids ...\n",
        "STM2441"
       ]
      },
      {
       "output_type": "stream",
       "stream": "stdout",
       "text": [
        "\n",
        "Fetching uniprot metadata for 1 ACC seqids ...\n",
        "STM0783"
       ]
      },
      {
       "output_type": "stream",
       "stream": "stdout",
       "text": [
        "\n",
        "Fetching uniprot metadata for 1 ACC seqids ...\n",
        "STM2443"
       ]
      },
      {
       "output_type": "stream",
       "stream": "stdout",
       "text": [
        "\n",
        "Fetching uniprot metadata for 1 ACC seqids ...\n",
        "STM0783"
       ]
      },
      {
       "output_type": "stream",
       "stream": "stdout",
       "text": [
        "\n",
        "Fetching uniprot metadata for 1 ACC seqids ...\n",
        "STM2442"
       ]
      },
      {
       "output_type": "stream",
       "stream": "stdout",
       "text": [
        "\n",
        "Fetching uniprot metadata for 1 ACC seqids ...\n",
        "STM0783"
       ]
      },
      {
       "output_type": "stream",
       "stream": "stdout",
       "text": [
        "\n",
        "Fetching uniprot metadata for 1 ACC seqids ...\n",
        "STM2441"
       ]
      },
      {
       "output_type": "stream",
       "stream": "stdout",
       "text": [
        "\n",
        "Fetching uniprot metadata for 1 ACC seqids ...\n",
        "STM2443"
       ]
      },
      {
       "output_type": "stream",
       "stream": "stdout",
       "text": [
        "\n",
        "Fetching uniprot metadata for 1 ACC seqids ...\n",
        "STM0781"
       ]
      },
      {
       "output_type": "stream",
       "stream": "stdout",
       "text": [
        "\n",
        "Fetching uniprot metadata for 1 ACC seqids ...\n",
        "STM2443"
       ]
      },
      {
       "output_type": "stream",
       "stream": "stdout",
       "text": [
        "\n",
        "Fetching uniprot metadata for 1 ACC seqids ...\n",
        "STM0782"
       ]
      },
      {
       "output_type": "stream",
       "stream": "stdout",
       "text": [
        "\n",
        "Fetching uniprot metadata for 1 ACC seqids ...\n",
        "STM2443"
       ]
      },
      {
       "output_type": "stream",
       "stream": "stdout",
       "text": [
        "\n",
        "Fetching uniprot metadata for 1 ACC seqids ...\n",
        "STM0783"
       ]
      },
      {
       "output_type": "stream",
       "stream": "stdout",
       "text": [
        "\n",
        "Fetching uniprot metadata for 1 ACC seqids ...\n",
        "STM2442"
       ]
      },
      {
       "output_type": "stream",
       "stream": "stdout",
       "text": [
        "\n",
        "Fetching uniprot metadata for 1 ACC seqids ...\n",
        "STM0781"
       ]
      },
      {
       "output_type": "stream",
       "stream": "stdout",
       "text": [
        "\n",
        "Fetching uniprot metadata for 1 ACC seqids ...\n",
        "STM2442"
       ]
      },
      {
       "output_type": "stream",
       "stream": "stdout",
       "text": [
        "\n",
        "Fetching uniprot metadata for 1 ACC seqids ...\n",
        "STM0782"
       ]
      },
      {
       "output_type": "stream",
       "stream": "stdout",
       "text": [
        "\n",
        "Fetching uniprot metadata for 1 ACC seqids ...\n",
        "STM2442"
       ]
      },
      {
       "output_type": "stream",
       "stream": "stdout",
       "text": [
        "\n",
        "Fetching uniprot metadata for 1 ACC seqids ...\n",
        "STM0783"
       ]
      },
      {
       "output_type": "stream",
       "stream": "stdout",
       "text": [
        "\n",
        "Fetching uniprot metadata for 1 ACC seqids ...\n",
        "STM2441"
       ]
      },
      {
       "output_type": "stream",
       "stream": "stdout",
       "text": [
        "\n",
        "Fetching uniprot metadata for 1 ACC seqids ...\n",
        "STM0781"
       ]
      },
      {
       "output_type": "stream",
       "stream": "stdout",
       "text": [
        "\n",
        "Fetching uniprot metadata for 1 ACC seqids ...\n",
        "STM2441"
       ]
      },
      {
       "output_type": "stream",
       "stream": "stdout",
       "text": [
        "\n",
        "Fetching uniprot metadata for 1 ACC seqids ...\n",
        "STM0782"
       ]
      },
      {
       "output_type": "stream",
       "stream": "stdout",
       "text": [
        "\n",
        "Fetching uniprot metadata for 1 ACC seqids ...\n",
        "STM2441"
       ]
      },
      {
       "output_type": "stream",
       "stream": "stdout",
       "text": [
        "\n",
        "Fetching uniprot metadata for 1 ACC seqids ...\n",
        "STM0783"
       ]
      },
      {
       "output_type": "stream",
       "stream": "stdout",
       "text": [
        "\n",
        "Fetching uniprot metadata for 1 ACC seqids ...\n",
        "STM0182"
       ]
      },
      {
       "output_type": "stream",
       "stream": "stdout",
       "text": [
        "\n",
        "Fetching uniprot metadata for 1 ACC seqids ...\n",
        "STM3382"
       ]
      },
      {
       "output_type": "stream",
       "stream": "stdout",
       "text": [
        "\n",
        "Fetching uniprot metadata for 1 ACC seqids ...\n",
        "STM0542"
       ]
      },
      {
       "output_type": "stream",
       "stream": "stdout",
       "text": [
        "\n",
        "Fetching uniprot metadata for 1 ACC seqids ...\n",
        "STM1883"
       ]
      },
      {
       "output_type": "stream",
       "stream": "stdout",
       "text": [
        "\n",
        "Fetching uniprot metadata for 1 ACC seqids ...\n",
        "STM0542"
       ]
      },
      {
       "output_type": "stream",
       "stream": "stdout",
       "text": [
        "\n",
        "Fetching uniprot metadata for 1 ACC seqids ...\n",
        "STM2500"
       ]
      },
      {
       "output_type": "stream",
       "stream": "stdout",
       "text": [
        "\n",
        "Fetching uniprot metadata for 1 ACC seqids ...\n",
        "STM1004"
       ]
      },
      {
       "output_type": "stream",
       "stream": "stdout",
       "text": [
        "\n",
        "Fetching uniprot metadata for 1 ACC seqids ...\n",
        "STM2641"
       ]
      },
      {
       "output_type": "stream",
       "stream": "stdout",
       "text": [
        "\n",
        "Fetching uniprot metadata for 1 ACC seqids ...\n",
        "STM1004"
       ]
      },
      {
       "output_type": "stream",
       "stream": "stdout",
       "text": [
        "\n",
        "Fetching uniprot metadata for 1 ACC seqids ...\n",
        "STM0145"
       ]
      },
      {
       "output_type": "stream",
       "stream": "stdout",
       "text": [
        "\n",
        "Fetching uniprot metadata for 1 ACC seqids ...\n",
        "STM1004"
       ]
      },
      {
       "output_type": "stream",
       "stream": "stdout",
       "text": [
        "\n",
        "Fetching uniprot metadata for 1 ACC seqids ...\n",
        "STM0756"
       ]
      },
      {
       "output_type": "stream",
       "stream": "stdout",
       "text": [
        "\n",
        "Fetching uniprot metadata for 1 ACC seqids ...\n",
        "STM0145"
       ]
      },
      {
       "output_type": "stream",
       "stream": "stdout",
       "text": [
        "\n",
        "Fetching uniprot metadata for 1 ACC seqids ...\n",
        "STM1004"
       ]
      },
      {
       "output_type": "stream",
       "stream": "stdout",
       "text": [
        "\n",
        "Fetching uniprot metadata for 1 ACC seqids ...\n",
        "STM0181"
       ]
      },
      {
       "output_type": "stream",
       "stream": "stdout",
       "text": [
        "\n",
        "Fetching uniprot metadata for 1 ACC seqids ...\n",
        "STM3382"
       ]
      },
      {
       "output_type": "stream",
       "stream": "stdout",
       "text": [
        "\n",
        "Fetching uniprot metadata for 1 ACC seqids ...\n",
        "STM3589"
       ]
      },
      {
       "output_type": "stream",
       "stream": "stdout",
       "text": [
        "\n",
        "Fetching uniprot metadata for 1 ACC seqids ...\n",
        "STM3856"
       ]
      },
      {
       "output_type": "stream",
       "stream": "stdout",
       "text": [
        "\n",
        "Fetching uniprot metadata for 1 ACC seqids ...\n",
        "STM3589"
       ]
      },
      {
       "output_type": "stream",
       "stream": "stdout",
       "text": [
        "\n",
        "Fetching uniprot metadata for 1 ACC seqids ...\n",
        "STM3857"
       ]
      },
      {
       "output_type": "stream",
       "stream": "stdout",
       "text": [
        "\n",
        "Fetching uniprot metadata for 1 ACC seqids ...\n",
        "STM3589"
       ]
      },
      {
       "output_type": "stream",
       "stream": "stdout",
       "text": [
        "\n",
        "Fetching uniprot metadata for 1 ACC seqids ...\n",
        "STM3855"
       ]
      },
      {
       "output_type": "stream",
       "stream": "stdout",
       "text": [
        "\n",
        "Fetching uniprot metadata for 1 ACC seqids ...\n",
        "STM3589"
       ]
      },
      {
       "output_type": "stream",
       "stream": "stdout",
       "text": [
        "\n",
        "Fetching uniprot metadata for 1 ACC seqids ...\n",
        "STM3854"
       ]
      },
      {
       "output_type": "stream",
       "stream": "stdout",
       "text": [
        "\n",
        "Fetching uniprot metadata for 1 ACC seqids ...\n",
        "STM3856"
       ]
      },
      {
       "output_type": "stream",
       "stream": "stdout",
       "text": [
        "\n",
        "Fetching uniprot metadata for 1 ACC seqids ...\n",
        "STM3589"
       ]
      },
      {
       "output_type": "stream",
       "stream": "stdout",
       "text": [
        "\n",
        "Fetching uniprot metadata for 1 ACC seqids ...\n",
        "STM3857"
       ]
      },
      {
       "output_type": "stream",
       "stream": "stdout",
       "text": [
        "\n",
        "Fetching uniprot metadata for 1 ACC seqids ...\n",
        "STM3589"
       ]
      },
      {
       "output_type": "stream",
       "stream": "stdout",
       "text": [
        "\n",
        "Fetching uniprot metadata for 1 ACC seqids ...\n",
        "STM3855"
       ]
      },
      {
       "output_type": "stream",
       "stream": "stdout",
       "text": [
        "\n",
        "Fetching uniprot metadata for 1 ACC seqids ...\n",
        "STM3589"
       ]
      },
      {
       "output_type": "stream",
       "stream": "stdout",
       "text": [
        "\n",
        "Fetching uniprot metadata for 1 ACC seqids ...\n",
        "STM3854"
       ]
      },
      {
       "output_type": "stream",
       "stream": "stdout",
       "text": [
        "\n",
        "Fetching uniprot metadata for 1 ACC seqids ...\n",
        "STM3589"
       ]
      },
      {
       "output_type": "stream",
       "stream": "stdout",
       "text": [
        "\n",
        "Fetching uniprot metadata for 1 ACC seqids ...\n",
        "STM3382"
       ]
      },
      {
       "output_type": "stream",
       "stream": "stdout",
       "text": [
        "\n",
        "Fetching uniprot metadata for 1 ACC seqids ...\n",
        "STM0180"
       ]
      },
      {
       "output_type": "stream",
       "stream": "stdout",
       "text": [
        "\n",
        "Fetching uniprot metadata for 1 ACC seqids ...\n",
        "STM3382"
       ]
      },
      {
       "output_type": "stream",
       "stream": "stdout",
       "text": [
        "\n",
        "Fetching uniprot metadata for 1 ACC seqids ...\n",
        "STM0182"
       ]
      },
      {
       "output_type": "stream",
       "stream": "stdout",
       "text": [
        "\n",
        "Fetching uniprot metadata for 1 ACC seqids ...\n",
        "STM3382"
       ]
      },
      {
       "output_type": "stream",
       "stream": "stdout",
       "text": [
        "\n",
        "Fetching uniprot metadata for 1 ACC seqids ...\n",
        "STM0181"
       ]
      },
      {
       "output_type": "stream",
       "stream": "stdout",
       "text": [
        "\n",
        "Fetching uniprot metadata for 1 ACC seqids ...\n",
        "STM0756"
       ]
      },
      {
       "output_type": "stream",
       "stream": "stdout",
       "text": [
        "\n",
        "Fetching uniprot metadata for 1 ACC seqids ...\n",
        "STM1004"
       ]
      },
      {
       "output_type": "stream",
       "stream": "stdout",
       "text": [
        "\n",
        "Fetching uniprot metadata for 1 ACC seqids ...\n",
        "STM0388"
       ]
      },
      {
       "output_type": "stream",
       "stream": "stdout",
       "text": [
        "\n",
        "Fetching uniprot metadata for 1 ACC seqids ...\n",
        "STM3487"
       ]
      },
      {
       "output_type": "stream",
       "stream": "stdout",
       "text": [
        "\n",
        "Fetching uniprot metadata for 1 ACC seqids ...\n",
        "STM3487"
       ]
      },
      {
       "output_type": "stream",
       "stream": "stdout",
       "text": [
        "\n",
        "Fetching uniprot metadata for 1 ACC seqids ...\n",
        "STM0388"
       ]
      },
      {
       "output_type": "stream",
       "stream": "stdout",
       "text": [
        "\n",
        "Fetching uniprot metadata for 1 ACC seqids ...\n",
        "STM0739"
       ]
      },
      {
       "output_type": "stream",
       "stream": "stdout",
       "text": [
        "\n",
        "Fetching uniprot metadata for 1 ACC seqids ...\n",
        "STM0737"
       ]
      },
      {
       "output_type": "stream",
       "stream": "stdout",
       "text": [
        "\n",
        "Fetching uniprot metadata for 1 ACC seqids ...\n",
        "STM0739"
       ]
      },
      {
       "output_type": "stream",
       "stream": "stdout",
       "text": [
        "\n",
        "Fetching uniprot metadata for 1 ACC seqids ...\n",
        "STM0736"
       ]
      },
      {
       "output_type": "stream",
       "stream": "stdout",
       "text": [
        "\n",
        "Fetching uniprot metadata for 1 ACC seqids ...\n",
        "STM0739"
       ]
      },
      {
       "output_type": "stream",
       "stream": "stdout",
       "text": [
        "\n",
        "Fetching uniprot metadata for 1 ACC seqids ...\n",
        "STM0154"
       ]
      },
      {
       "output_type": "stream",
       "stream": "stdout",
       "text": [
        "\n",
        "Fetching uniprot metadata for 1 ACC seqids ...\n",
        "STM0738"
       ]
      },
      {
       "output_type": "stream",
       "stream": "stdout",
       "text": [
        "\n",
        "Fetching uniprot metadata for 1 ACC seqids ...\n",
        "STM0737"
       ]
      },
      {
       "output_type": "stream",
       "stream": "stdout",
       "text": [
        "\n",
        "Fetching uniprot metadata for 1 ACC seqids ...\n",
        "STM0738"
       ]
      },
      {
       "output_type": "stream",
       "stream": "stdout",
       "text": [
        "\n",
        "Fetching uniprot metadata for 1 ACC seqids ...\n",
        "STM0736"
       ]
      },
      {
       "output_type": "stream",
       "stream": "stdout",
       "text": [
        "\n",
        "Fetching uniprot metadata for 1 ACC seqids ...\n",
        "STM0738"
       ]
      },
      {
       "output_type": "stream",
       "stream": "stdout",
       "text": [
        "\n",
        "Fetching uniprot metadata for 1 ACC seqids ...\n",
        "STM0154"
       ]
      },
      {
       "output_type": "stream",
       "stream": "stdout",
       "text": [
        "\n",
        "Fetching uniprot metadata for 1 ACC seqids ...\n",
        "STM2097"
       ]
      },
      {
       "output_type": "stream",
       "stream": "stdout",
       "text": [
        "\n",
        "Fetching uniprot metadata for 1 ACC seqids ...\n",
        "STM3922"
       ]
      },
      {
       "output_type": "stream",
       "stream": "stdout",
       "text": [
        "\n",
        "Fetching uniprot metadata for 1 ACC seqids ...\n",
        "STM3922"
       ]
      },
      {
       "output_type": "stream",
       "stream": "stdout",
       "text": [
        "\n",
        "Fetching uniprot metadata for 1 ACC seqids ...\n",
        "STM2097"
       ]
      },
      {
       "output_type": "stream",
       "stream": "stdout",
       "text": [
        "\n",
        "Fetching uniprot metadata for 1 ACC seqids ...\n",
        "STM3001"
       ]
      },
      {
       "output_type": "stream",
       "stream": "stdout",
       "text": [
        "\n",
        "Fetching uniprot metadata for 1 ACC seqids ...\n",
        "STM1750"
       ]
      },
      {
       "output_type": "stream",
       "stream": "stdout",
       "text": [
        "\n",
        "Fetching uniprot metadata for 1 ACC seqids ...\n",
        "STM0776"
       ]
      },
      {
       "output_type": "stream",
       "stream": "stdout",
       "text": [
        "\n",
        "Fetching uniprot metadata for 1 ACC seqids ...\n",
        "STM0775"
       ]
      },
      {
       "output_type": "stream",
       "stream": "stdout",
       "text": [
        "\n",
        "Fetching uniprot metadata for 1 ACC seqids ...\n",
        "STM0775"
       ]
      },
      {
       "output_type": "stream",
       "stream": "stdout",
       "text": [
        "\n",
        "Fetching uniprot metadata for 1 ACC seqids ...\n",
        "STM0776"
       ]
      },
      {
       "output_type": "stream",
       "stream": "stdout",
       "text": [
        "\n",
        "Fetching uniprot metadata for 1 ACC seqids ...\n",
        "STM0218"
       ]
      },
      {
       "output_type": "stream",
       "stream": "stdout",
       "text": [
        "\n",
        "Fetching uniprot metadata for 1 ACC seqids ...\n",
        "STM0980"
       ]
      },
      {
       "output_type": "stream",
       "stream": "stdout",
       "text": [
        "\n",
        "Fetching uniprot metadata for 1 ACC seqids ...\n",
        "STM2084"
       ]
      },
      {
       "output_type": "stream",
       "stream": "stdout",
       "text": [
        "\n",
        "Fetching uniprot metadata for 1 ACC seqids ...\n",
        "STM2105.S"
       ]
      },
      {
       "output_type": "stream",
       "stream": "stdout",
       "text": [
        "\n",
        "STM2105.S\n",
        "STM2084\n",
        "Fetching uniprot metadata for 1 ACC seqids ...\n",
        "STM2104"
       ]
      },
      {
       "output_type": "stream",
       "stream": "stdout",
       "text": [
        "\n",
        "Fetching uniprot metadata for 1 ACC seqids ...\n",
        "STM2083"
       ]
      },
      {
       "output_type": "stream",
       "stream": "stdout",
       "text": [
        "\n",
        "Fetching uniprot metadata for 1 ACC seqids ...\n",
        "STM2083"
       ]
      },
      {
       "output_type": "stream",
       "stream": "stdout",
       "text": [
        "\n",
        "Fetching uniprot metadata for 1 ACC seqids ...\n",
        "STM2104"
       ]
      },
      {
       "output_type": "stream",
       "stream": "stdout",
       "text": [
        "\n",
        "Fetching uniprot metadata for 1 ACC seqids ...\n",
        "STM2079"
       ]
      },
      {
       "output_type": "stream",
       "stream": "stdout",
       "text": [
        "\n",
        "Fetching uniprot metadata for 1 ACC seqids ...\n",
        "STM0589"
       ]
      },
      {
       "output_type": "stream",
       "stream": "stdout",
       "text": [
        "\n",
        "Fetching uniprot metadata for 1 ACC seqids ...\n",
        "STM0589"
       ]
      },
      {
       "output_type": "stream",
       "stream": "stdout",
       "text": [
        "\n",
        "Fetching uniprot metadata for 1 ACC seqids ...\n",
        "STM2079"
       ]
      },
      {
       "output_type": "stream",
       "stream": "stdout",
       "text": [
        "\n",
        "Fetching uniprot metadata for 1 ACC seqids ...\n",
        "Fetching uniprot metadata for 1 ACC seqids ..."
       ]
      },
      {
       "output_type": "stream",
       "stream": "stdout",
       "text": [
        "\n",
        "Fetching uniprot metadata for 1 ACC seqids ..."
       ]
      },
      {
       "output_type": "stream",
       "stream": "stdout",
       "text": [
        "\n",
        "Fetching uniprot metadata for 1 ACC seqids ..."
       ]
      },
      {
       "output_type": "stream",
       "stream": "stdout",
       "text": [
        "\n",
        "Fetching uniprot metadata for 1 ACC seqids ..."
       ]
      },
      {
       "output_type": "stream",
       "stream": "stdout",
       "text": [
        "\n",
        "Fetching uniprot metadata for 1 ACC seqids ..."
       ]
      },
      {
       "output_type": "stream",
       "stream": "stdout",
       "text": [
        "\n",
        "Fetching uniprot metadata for 1 ACC seqids ..."
       ]
      },
      {
       "output_type": "stream",
       "stream": "stdout",
       "text": [
        "\n",
        "Fetching uniprot metadata for 1 ACC seqids ..."
       ]
      },
      {
       "output_type": "stream",
       "stream": "stdout",
       "text": [
        "\n",
        "Fetching uniprot metadata for 1 ACC seqids ..."
       ]
      },
      {
       "output_type": "stream",
       "stream": "stdout",
       "text": [
        "\n",
        "Fetching uniprot metadata for 1 ACC seqids ..."
       ]
      },
      {
       "output_type": "stream",
       "stream": "stdout",
       "text": [
        "\n",
        "Fetching uniprot metadata for 1 ACC seqids ..."
       ]
      },
      {
       "output_type": "stream",
       "stream": "stdout",
       "text": [
        "\n",
        "Fetching uniprot metadata for 1 ACC seqids ..."
       ]
      },
      {
       "output_type": "stream",
       "stream": "stdout",
       "text": [
        "\n",
        "Fetching uniprot metadata for 1 ACC seqids ..."
       ]
      },
      {
       "output_type": "stream",
       "stream": "stdout",
       "text": [
        "\n",
        "Fetching uniprot metadata for 1 ACC seqids ..."
       ]
      },
      {
       "output_type": "stream",
       "stream": "stdout",
       "text": [
        "\n",
        "Fetching uniprot metadata for 1 ACC seqids ..."
       ]
      },
      {
       "output_type": "stream",
       "stream": "stdout",
       "text": [
        "\n",
        "Fetching uniprot metadata for 1 ACC seqids ..."
       ]
      },
      {
       "output_type": "stream",
       "stream": "stdout",
       "text": [
        "\n",
        "Fetching uniprot metadata for 1 ACC seqids ..."
       ]
      },
      {
       "output_type": "stream",
       "stream": "stdout",
       "text": [
        "\n",
        "Fetching uniprot metadata for 1 ACC seqids ..."
       ]
      },
      {
       "output_type": "stream",
       "stream": "stdout",
       "text": [
        "\n",
        "Fetching uniprot metadata for 1 ACC seqids ..."
       ]
      },
      {
       "output_type": "stream",
       "stream": "stdout",
       "text": [
        "\n",
        "Fetching uniprot metadata for 1 ACC seqids ..."
       ]
      },
      {
       "output_type": "stream",
       "stream": "stdout",
       "text": [
        "\n",
        "Fetching uniprot metadata for 1 ACC seqids ..."
       ]
      },
      {
       "output_type": "stream",
       "stream": "stdout",
       "text": [
        "\n",
        "Fetching uniprot metadata for 1 ACC seqids ..."
       ]
      },
      {
       "output_type": "stream",
       "stream": "stdout",
       "text": [
        "\n",
        "Fetching uniprot metadata for 1 ACC seqids ..."
       ]
      },
      {
       "output_type": "stream",
       "stream": "stdout",
       "text": [
        "\n",
        "Fetching uniprot metadata for 1 ACC seqids ..."
       ]
      },
      {
       "output_type": "stream",
       "stream": "stdout",
       "text": [
        "\n",
        "Fetching uniprot metadata for 1 ACC seqids ..."
       ]
      },
      {
       "output_type": "stream",
       "stream": "stdout",
       "text": [
        "\n",
        "Fetching uniprot metadata for 1 ACC seqids ..."
       ]
      },
      {
       "output_type": "stream",
       "stream": "stdout",
       "text": [
        "\n",
        "Fetching uniprot metadata for 1 ACC seqids ..."
       ]
      },
      {
       "output_type": "stream",
       "stream": "stdout",
       "text": [
        "\n",
        "Fetching uniprot metadata for 1 ACC seqids ..."
       ]
      },
      {
       "output_type": "stream",
       "stream": "stdout",
       "text": [
        "\n",
        "Fetching uniprot metadata for 1 ACC seqids ..."
       ]
      },
      {
       "output_type": "stream",
       "stream": "stdout",
       "text": [
        "\n",
        "Fetching uniprot metadata for 1 ACC seqids ..."
       ]
      },
      {
       "output_type": "stream",
       "stream": "stdout",
       "text": [
        "\n",
        "Fetching uniprot metadata for 1 ACC seqids ..."
       ]
      },
      {
       "output_type": "stream",
       "stream": "stdout",
       "text": [
        "\n",
        "Fetching uniprot metadata for 1 ACC seqids ..."
       ]
      },
      {
       "output_type": "stream",
       "stream": "stdout",
       "text": [
        "\n",
        "Fetching uniprot metadata for 1 ACC seqids ..."
       ]
      },
      {
       "output_type": "stream",
       "stream": "stdout",
       "text": [
        "\n",
        "Fetching uniprot metadata for 1 ACC seqids ..."
       ]
      },
      {
       "output_type": "stream",
       "stream": "stdout",
       "text": [
        "\n",
        "Fetching uniprot metadata for 1 ACC seqids ..."
       ]
      },
      {
       "output_type": "stream",
       "stream": "stdout",
       "text": [
        "\n",
        "Fetching uniprot metadata for 1 ACC seqids ..."
       ]
      },
      {
       "output_type": "stream",
       "stream": "stdout",
       "text": [
        "\n",
        "Fetching uniprot metadata for 1 ACC seqids ..."
       ]
      },
      {
       "output_type": "stream",
       "stream": "stdout",
       "text": [
        "\n",
        "Fetching uniprot metadata for 1 ACC seqids ..."
       ]
      },
      {
       "output_type": "stream",
       "stream": "stdout",
       "text": [
        "\n",
        "Fetching uniprot metadata for 1 ACC seqids ..."
       ]
      },
      {
       "output_type": "stream",
       "stream": "stdout",
       "text": [
        "\n",
        "Fetching uniprot metadata for 1 ACC seqids ..."
       ]
      },
      {
       "output_type": "stream",
       "stream": "stdout",
       "text": [
        "\n",
        "Fetching uniprot metadata for 1 ACC seqids ..."
       ]
      },
      {
       "output_type": "stream",
       "stream": "stdout",
       "text": [
        "\n",
        "Fetching uniprot metadata for 1 ACC seqids ..."
       ]
      },
      {
       "output_type": "stream",
       "stream": "stdout",
       "text": [
        "\n",
        "Fetching uniprot metadata for 1 ACC seqids ..."
       ]
      },
      {
       "output_type": "stream",
       "stream": "stdout",
       "text": [
        "\n",
        "Fetching uniprot metadata for 1 ACC seqids ..."
       ]
      },
      {
       "output_type": "stream",
       "stream": "stdout",
       "text": [
        "\n",
        "Fetching uniprot metadata for 1 ACC seqids ..."
       ]
      },
      {
       "output_type": "stream",
       "stream": "stdout",
       "text": [
        "\n",
        "Fetching uniprot metadata for 1 ACC seqids ..."
       ]
      },
      {
       "output_type": "stream",
       "stream": "stdout",
       "text": [
        "\n",
        "Fetching uniprot metadata for 1 ACC seqids ..."
       ]
      },
      {
       "output_type": "stream",
       "stream": "stdout",
       "text": [
        "\n",
        "Fetching uniprot metadata for 1 ACC seqids ..."
       ]
      },
      {
       "output_type": "stream",
       "stream": "stdout",
       "text": [
        "\n",
        "Fetching uniprot metadata for 1 ACC seqids ..."
       ]
      },
      {
       "output_type": "stream",
       "stream": "stdout",
       "text": [
        "\n",
        "Fetching uniprot metadata for 1 ACC seqids ..."
       ]
      },
      {
       "output_type": "stream",
       "stream": "stdout",
       "text": [
        "\n",
        "Fetching uniprot metadata for 1 ACC seqids ..."
       ]
      },
      {
       "output_type": "stream",
       "stream": "stdout",
       "text": [
        "\n",
        "Fetching uniprot metadata for 1 ACC seqids ..."
       ]
      },
      {
       "output_type": "stream",
       "stream": "stdout",
       "text": [
        "\n",
        "Fetching uniprot metadata for 1 ACC seqids ..."
       ]
      },
      {
       "output_type": "stream",
       "stream": "stdout",
       "text": [
        "\n",
        "Fetching uniprot metadata for 1 ACC seqids ..."
       ]
      },
      {
       "output_type": "stream",
       "stream": "stdout",
       "text": [
        "\n",
        "Fetching uniprot metadata for 1 ACC seqids ..."
       ]
      },
      {
       "output_type": "stream",
       "stream": "stdout",
       "text": [
        "\n",
        "Fetching uniprot metadata for 1 ACC seqids ..."
       ]
      },
      {
       "output_type": "stream",
       "stream": "stdout",
       "text": [
        "\n",
        "Fetching uniprot metadata for 1 ACC seqids ..."
       ]
      },
      {
       "output_type": "stream",
       "stream": "stdout",
       "text": [
        "\n",
        "Fetching uniprot metadata for 1 ACC seqids ..."
       ]
      },
      {
       "output_type": "stream",
       "stream": "stdout",
       "text": [
        "\n",
        "Fetching uniprot metadata for 1 ACC seqids ..."
       ]
      },
      {
       "output_type": "stream",
       "stream": "stdout",
       "text": [
        "\n",
        "Fetching uniprot metadata for 1 ACC seqids ..."
       ]
      },
      {
       "output_type": "stream",
       "stream": "stdout",
       "text": [
        "\n",
        "Fetching uniprot metadata for 1 ACC seqids ..."
       ]
      },
      {
       "output_type": "stream",
       "stream": "stdout",
       "text": [
        "\n",
        "Fetching uniprot metadata for 1 ACC seqids ..."
       ]
      },
      {
       "output_type": "stream",
       "stream": "stdout",
       "text": [
        "\n",
        "Fetching uniprot metadata for 1 ACC seqids ..."
       ]
      },
      {
       "output_type": "stream",
       "stream": "stdout",
       "text": [
        "\n",
        "Fetching uniprot metadata for 1 ACC seqids ..."
       ]
      },
      {
       "output_type": "stream",
       "stream": "stdout",
       "text": [
        "\n",
        "Fetching uniprot metadata for 1 ACC seqids ..."
       ]
      },
      {
       "output_type": "stream",
       "stream": "stdout",
       "text": [
        "\n",
        "Fetching uniprot metadata for 1 ACC seqids ..."
       ]
      },
      {
       "output_type": "stream",
       "stream": "stdout",
       "text": [
        "\n",
        "Fetching uniprot metadata for 1 ACC seqids ..."
       ]
      },
      {
       "output_type": "stream",
       "stream": "stdout",
       "text": [
        "\n",
        "Fetching uniprot metadata for 1 ACC seqids ..."
       ]
      },
      {
       "output_type": "stream",
       "stream": "stdout",
       "text": [
        "\n",
        "Fetching uniprot metadata for 1 ACC seqids ..."
       ]
      },
      {
       "output_type": "stream",
       "stream": "stdout",
       "text": [
        "\n",
        "Fetching uniprot metadata for 1 ACC seqids ..."
       ]
      },
      {
       "output_type": "stream",
       "stream": "stdout",
       "text": [
        "\n",
        "Fetching uniprot metadata for 1 ACC seqids ..."
       ]
      },
      {
       "output_type": "stream",
       "stream": "stdout",
       "text": [
        "\n",
        "Fetching uniprot metadata for 1 ACC seqids ..."
       ]
      },
      {
       "output_type": "stream",
       "stream": "stdout",
       "text": [
        "\n",
        "Fetching uniprot metadata for 1 ACC seqids ..."
       ]
      },
      {
       "output_type": "stream",
       "stream": "stdout",
       "text": [
        "\n",
        "Fetching uniprot metadata for 1 ACC seqids ..."
       ]
      },
      {
       "output_type": "stream",
       "stream": "stdout",
       "text": [
        "\n",
        "Fetching uniprot metadata for 1 ACC seqids ..."
       ]
      },
      {
       "output_type": "stream",
       "stream": "stdout",
       "text": [
        "\n",
        "Fetching uniprot metadata for 1 ACC seqids ..."
       ]
      },
      {
       "output_type": "stream",
       "stream": "stdout",
       "text": [
        "\n",
        "Fetching uniprot metadata for 1 ACC seqids ..."
       ]
      },
      {
       "output_type": "stream",
       "stream": "stdout",
       "text": [
        "\n",
        "Fetching uniprot metadata for 1 ACC seqids ..."
       ]
      },
      {
       "output_type": "stream",
       "stream": "stdout",
       "text": [
        "\n",
        "Fetching uniprot metadata for 1 ACC seqids ..."
       ]
      },
      {
       "output_type": "stream",
       "stream": "stdout",
       "text": [
        "\n",
        "Fetching uniprot metadata for 1 ACC seqids ..."
       ]
      },
      {
       "output_type": "stream",
       "stream": "stdout",
       "text": [
        "\n",
        "Fetching uniprot metadata for 1 ACC seqids ..."
       ]
      },
      {
       "output_type": "stream",
       "stream": "stdout",
       "text": [
        "\n",
        "Fetching uniprot metadata for 1 ACC seqids ..."
       ]
      },
      {
       "output_type": "stream",
       "stream": "stdout",
       "text": [
        "\n",
        "Fetching uniprot metadata for 1 ACC seqids ..."
       ]
      },
      {
       "output_type": "stream",
       "stream": "stdout",
       "text": [
        "\n",
        "Fetching uniprot metadata for 1 ACC seqids ..."
       ]
      },
      {
       "output_type": "stream",
       "stream": "stdout",
       "text": [
        "\n",
        "Fetching uniprot metadata for 1 ACC seqids ..."
       ]
      },
      {
       "output_type": "stream",
       "stream": "stdout",
       "text": [
        "\n",
        "Fetching uniprot metadata for 1 ACC seqids ..."
       ]
      },
      {
       "output_type": "stream",
       "stream": "stdout",
       "text": [
        "\n",
        "Fetching uniprot metadata for 1 ACC seqids ..."
       ]
      },
      {
       "output_type": "stream",
       "stream": "stdout",
       "text": [
        "\n",
        "Fetching uniprot metadata for 1 ACC seqids ..."
       ]
      },
      {
       "output_type": "stream",
       "stream": "stdout",
       "text": [
        "\n",
        "Fetching uniprot metadata for 1 ACC seqids ..."
       ]
      },
      {
       "output_type": "stream",
       "stream": "stdout",
       "text": [
        "\n",
        "Fetching uniprot metadata for 1 ACC seqids ..."
       ]
      },
      {
       "output_type": "stream",
       "stream": "stdout",
       "text": [
        "\n",
        "Fetching uniprot metadata for 1 ACC seqids ..."
       ]
      },
      {
       "output_type": "stream",
       "stream": "stdout",
       "text": [
        "\n",
        "Fetching uniprot metadata for 1 ACC seqids ..."
       ]
      },
      {
       "output_type": "stream",
       "stream": "stdout",
       "text": [
        "\n",
        "Fetching uniprot metadata for 1 ACC seqids ..."
       ]
      },
      {
       "output_type": "stream",
       "stream": "stdout",
       "text": [
        "\n",
        "Fetching uniprot metadata for 1 ACC seqids ..."
       ]
      },
      {
       "output_type": "stream",
       "stream": "stdout",
       "text": [
        "\n",
        "Fetching uniprot metadata for 1 ACC seqids ..."
       ]
      },
      {
       "output_type": "stream",
       "stream": "stdout",
       "text": [
        "\n",
        "Fetching uniprot metadata for 1 ACC seqids ..."
       ]
      },
      {
       "output_type": "stream",
       "stream": "stdout",
       "text": [
        "\n",
        "Fetching uniprot metadata for 1 ACC seqids ..."
       ]
      },
      {
       "output_type": "stream",
       "stream": "stdout",
       "text": [
        "\n",
        "Fetching uniprot metadata for 1 ACC seqids ..."
       ]
      },
      {
       "output_type": "stream",
       "stream": "stdout",
       "text": [
        "\n",
        "Fetching uniprot metadata for 1 ACC seqids ..."
       ]
      },
      {
       "output_type": "stream",
       "stream": "stdout",
       "text": [
        "\n",
        "Fetching uniprot metadata for 1 ACC seqids ..."
       ]
      },
      {
       "output_type": "stream",
       "stream": "stdout",
       "text": [
        "\n",
        "Fetching uniprot metadata for 1 ACC seqids ..."
       ]
      },
      {
       "output_type": "stream",
       "stream": "stdout",
       "text": [
        "\n",
        "Fetching uniprot metadata for 1 ACC seqids ..."
       ]
      },
      {
       "output_type": "stream",
       "stream": "stdout",
       "text": [
        "\n",
        "Fetching uniprot metadata for 1 ACC seqids ..."
       ]
      },
      {
       "output_type": "stream",
       "stream": "stdout",
       "text": [
        "\n",
        "Fetching uniprot metadata for 1 ACC seqids ..."
       ]
      },
      {
       "output_type": "stream",
       "stream": "stdout",
       "text": [
        "\n",
        "Fetching uniprot metadata for 1 ACC seqids ..."
       ]
      },
      {
       "output_type": "stream",
       "stream": "stdout",
       "text": [
        "\n",
        "Fetching uniprot metadata for 1 ACC seqids ..."
       ]
      },
      {
       "output_type": "stream",
       "stream": "stdout",
       "text": [
        "\n",
        "Fetching uniprot metadata for 1 ACC seqids ..."
       ]
      },
      {
       "output_type": "stream",
       "stream": "stdout",
       "text": [
        "\n",
        "Fetching uniprot metadata for 1 ACC seqids ..."
       ]
      },
      {
       "output_type": "stream",
       "stream": "stdout",
       "text": [
        "\n",
        "Fetching uniprot metadata for 1 ACC seqids ..."
       ]
      },
      {
       "output_type": "stream",
       "stream": "stdout",
       "text": [
        "\n",
        "Fetching uniprot metadata for 1 ACC seqids ..."
       ]
      },
      {
       "output_type": "stream",
       "stream": "stdout",
       "text": [
        "\n",
        "Fetching uniprot metadata for 1 ACC seqids ..."
       ]
      },
      {
       "output_type": "stream",
       "stream": "stdout",
       "text": [
        "\n",
        "Fetching uniprot metadata for 1 ACC seqids ..."
       ]
      },
      {
       "output_type": "stream",
       "stream": "stdout",
       "text": [
        "\n",
        "Fetching uniprot metadata for 1 ACC seqids ..."
       ]
      },
      {
       "output_type": "stream",
       "stream": "stdout",
       "text": [
        "\n",
        "Fetching uniprot metadata for 1 ACC seqids ..."
       ]
      },
      {
       "output_type": "stream",
       "stream": "stdout",
       "text": [
        "\n",
        "Fetching uniprot metadata for 1 ACC seqids ..."
       ]
      },
      {
       "output_type": "stream",
       "stream": "stdout",
       "text": [
        "\n",
        "Fetching uniprot metadata for 1 ACC seqids ..."
       ]
      },
      {
       "output_type": "stream",
       "stream": "stdout",
       "text": [
        "\n",
        "Fetching uniprot metadata for 1 ACC seqids ..."
       ]
      },
      {
       "output_type": "stream",
       "stream": "stdout",
       "text": [
        "\n",
        "Fetching uniprot metadata for 1 ACC seqids ..."
       ]
      },
      {
       "output_type": "stream",
       "stream": "stdout",
       "text": [
        "\n",
        "Fetching uniprot metadata for 1 ACC seqids ..."
       ]
      },
      {
       "output_type": "stream",
       "stream": "stdout",
       "text": [
        "\n",
        "Fetching uniprot metadata for 1 ACC seqids ..."
       ]
      },
      {
       "output_type": "stream",
       "stream": "stdout",
       "text": [
        "\n",
        "Fetching uniprot metadata for 1 ACC seqids ..."
       ]
      },
      {
       "output_type": "stream",
       "stream": "stdout",
       "text": [
        "\n",
        "Fetching uniprot metadata for 1 ACC seqids ..."
       ]
      },
      {
       "output_type": "stream",
       "stream": "stdout",
       "text": [
        "\n",
        "Fetching uniprot metadata for 1 ACC seqids ..."
       ]
      },
      {
       "output_type": "stream",
       "stream": "stdout",
       "text": [
        "\n",
        "Fetching uniprot metadata for 1 ACC seqids ..."
       ]
      },
      {
       "output_type": "stream",
       "stream": "stdout",
       "text": [
        "\n",
        "Fetching uniprot metadata for 1 ACC seqids ..."
       ]
      },
      {
       "output_type": "stream",
       "stream": "stdout",
       "text": [
        "\n",
        "Fetching uniprot metadata for 1 ACC seqids ..."
       ]
      },
      {
       "output_type": "stream",
       "stream": "stdout",
       "text": [
        "\n",
        "Fetching uniprot metadata for 1 ACC seqids ..."
       ]
      },
      {
       "output_type": "stream",
       "stream": "stdout",
       "text": [
        "\n",
        "Fetching uniprot metadata for 1 ACC seqids ..."
       ]
      },
      {
       "output_type": "stream",
       "stream": "stdout",
       "text": [
        "\n",
        "Fetching uniprot metadata for 1 ACC seqids ..."
       ]
      },
      {
       "output_type": "stream",
       "stream": "stdout",
       "text": [
        "\n",
        "Fetching uniprot metadata for 1 ACC seqids ..."
       ]
      },
      {
       "output_type": "stream",
       "stream": "stdout",
       "text": [
        "\n",
        "Fetching uniprot metadata for 1 ACC seqids ..."
       ]
      },
      {
       "output_type": "stream",
       "stream": "stdout",
       "text": [
        "\n",
        "Fetching uniprot metadata for 1 ACC seqids ..."
       ]
      },
      {
       "output_type": "stream",
       "stream": "stdout",
       "text": [
        "\n",
        "Fetching uniprot metadata for 1 ACC seqids ..."
       ]
      },
      {
       "output_type": "stream",
       "stream": "stdout",
       "text": [
        "\n",
        "Fetching uniprot metadata for 1 ACC seqids ..."
       ]
      },
      {
       "output_type": "stream",
       "stream": "stdout",
       "text": [
        "\n",
        "Fetching uniprot metadata for 1 ACC seqids ..."
       ]
      },
      {
       "output_type": "stream",
       "stream": "stdout",
       "text": [
        "\n",
        "Fetching uniprot metadata for 1 ACC seqids ..."
       ]
      },
      {
       "output_type": "stream",
       "stream": "stdout",
       "text": [
        "\n",
        "Fetching uniprot metadata for 1 ACC seqids ..."
       ]
      },
      {
       "output_type": "stream",
       "stream": "stdout",
       "text": [
        "\n",
        "Fetching uniprot metadata for 1 ACC seqids ..."
       ]
      },
      {
       "output_type": "stream",
       "stream": "stdout",
       "text": [
        "\n",
        "Fetching uniprot metadata for 1 ACC seqids ..."
       ]
      },
      {
       "output_type": "stream",
       "stream": "stdout",
       "text": [
        "\n",
        "Fetching uniprot metadata for 1 ACC seqids ..."
       ]
      },
      {
       "output_type": "stream",
       "stream": "stdout",
       "text": [
        "\n",
        "Fetching uniprot metadata for 1 ACC seqids ..."
       ]
      },
      {
       "output_type": "stream",
       "stream": "stdout",
       "text": [
        "\n",
        "Fetching uniprot metadata for 1 ACC seqids ..."
       ]
      },
      {
       "output_type": "stream",
       "stream": "stdout",
       "text": [
        "\n",
        "Fetching uniprot metadata for 1 ACC seqids ..."
       ]
      },
      {
       "output_type": "stream",
       "stream": "stdout",
       "text": [
        "\n",
        "Fetching uniprot metadata for 1 ACC seqids ..."
       ]
      },
      {
       "output_type": "stream",
       "stream": "stdout",
       "text": [
        "\n",
        "Fetching uniprot metadata for 1 ACC seqids ..."
       ]
      },
      {
       "output_type": "stream",
       "stream": "stdout",
       "text": [
        "\n",
        "Fetching uniprot metadata for 1 ACC seqids ..."
       ]
      },
      {
       "output_type": "stream",
       "stream": "stdout",
       "text": [
        "\n"
       ]
      }
     ],
     "prompt_number": 27
    },
    {
     "cell_type": "code",
     "collapsed": false,
     "input": [
      "len(sal['syn'])"
     ],
     "language": "python",
     "metadata": {},
     "outputs": [
      {
       "metadata": {},
       "output_type": "pyout",
       "prompt_number": 29,
       "text": [
        "102"
       ]
      }
     ],
     "prompt_number": 29
    },
    {
     "cell_type": "code",
     "collapsed": false,
     "input": [
      "from cPickle import dump, load\n",
      "dump(sal_m9, open('sal_m9.pickle','w'))"
     ],
     "language": "python",
     "metadata": {},
     "outputs": [],
     "prompt_number": 60
    },
    {
     "cell_type": "code",
     "collapsed": false,
     "input": [
      "sal = load(open('sal.pickle','r'))"
     ],
     "language": "python",
     "metadata": {},
     "outputs": [],
     "prompt_number": 19
    },
    {
     "cell_type": "code",
     "collapsed": false,
     "input": [
      "#pd.DataFrame(kpn).to_csv('/media/users/jmonk/kleb_syn_lethals.csv')\n",
      "#pd.DataFrame(eco).to_csv('/media/users/jmonk/eco_syn_lethals.csv')\n",
      "#pd.DataFrame(edl933).to_csv('/media/users/jmonk/edl_syn_lethals.csv')\n",
      "#pd.DataFrame(ype).to_csv('/media/users/jmonk/ype_syn_lethals.csv')\n",
      "\n",
      "#pd.DataFrame(ijo_m9).to_csv('/media/users/jmonk/ijo_m9_syn_lethals.csv')\n",
      "#pd.DataFrame(edl_m9).to_csv('/media/users/jmonk/edl_m9_syn_lethals.csv')\n",
      "#pd.DataFrame(kpn_m9).to_csv('/media/users/jmonk/kpn_m9_syn_lethals.csv')\n",
      "\n",
      "pd.DataFrame(sal['syn']).to_csv('/media/users/jmonk/sal_syn_lethals.csv')\n",
      "#pd.DataFrame(sal_m9['syn']).to_csv('/media/users/jmonk/sal_m9_syn_lethals.csv')\n",
      "\n",
      "#pd.DataFrame(ype_m9['syn']).to_csv('/media/users/jmonk/ype_m9_syn_lethals.csv')"
     ],
     "language": "python",
     "metadata": {},
     "outputs": [],
     "prompt_number": 30
    },
    {
     "cell_type": "code",
     "collapsed": false,
     "input": [
      "kpn = pd.read_csv('/media/users/jmonk/kleb_syn_lethals.csv', index_col=0)\n",
      "eco = pd.read_csv('/media/users/jmonk/eco_syn_lethals.csv', index_col=0)\n",
      "edl933 = pd.read_csv('/media/users/jmonk/edl_syn_lethals.csv', index_col=0)\n",
      "ype = pd.read_csv('/media/users/jmonk/ype_syn_lethals.csv', index_col=0)\n",
      "\n",
      "kpn_m9 = pd.read_csv('/media/users/jmonk/kpn_m9_syn_lethals.csv', index_col=0)\n",
      "eco_m9 = pd.read_csv('/media/users/jmonk/ijo_m9_syn_lethals.csv', index_col=0)\n",
      "edl_m9 = pd.read_csv('/media/users/jmonk/edl_m9_syn_lethals.csv', index_col=0)\n",
      "ype_m9 = pd.read_csv('/media/users/jmonk/ype_m9_syn_lethals.csv', index_col=0)\n",
      "\n",
      "sal_m9 = pd.read_csv('/media/users/jmonk/sal_m9_syn_lethals.csv', index_col=0)\n",
      "sal = pd.read_csv('/media/users/jmonk/sal_syn_lethals.csv', index_col=0)"
     ],
     "language": "python",
     "metadata": {},
     "outputs": [],
     "prompt_number": 10
    },
    {
     "cell_type": "code",
     "collapsed": false,
     "input": [
      "kpn[kpn.gene1=='rmlD']"
     ],
     "language": "python",
     "metadata": {},
     "outputs": [
      {
       "html": [
        "<div style=\"max-height:1000px;max-width:1500px;overflow:auto;\">\n",
        "<table border=\"1\" class=\"dataframe\">\n",
        "  <thead>\n",
        "    <tr style=\"text-align: right;\">\n",
        "      <th></th>\n",
        "      <th>gene1</th>\n",
        "      <th>gene2</th>\n",
        "      <th>locus1</th>\n",
        "      <th>locus2</th>\n",
        "    </tr>\n",
        "  </thead>\n",
        "  <tbody>\n",
        "    <tr>\n",
        "      <th>122</th>\n",
        "      <td> rmlD</td>\n",
        "      <td> rmlD</td>\n",
        "      <td> KPN_02495</td>\n",
        "      <td> KPN_02489</td>\n",
        "    </tr>\n",
        "    <tr>\n",
        "      <th>123</th>\n",
        "      <td> rmlD</td>\n",
        "      <td> rmlD</td>\n",
        "      <td> KPN_02489</td>\n",
        "      <td> KPN_02495</td>\n",
        "    </tr>\n",
        "  </tbody>\n",
        "</table>\n",
        "<p>2 rows \u00d7 4 columns</p>\n",
        "</div>"
       ],
       "metadata": {},
       "output_type": "pyout",
       "prompt_number": 24,
       "text": [
        "    gene1 gene2     locus1     locus2\n",
        "122  rmlD  rmlD  KPN_02495  KPN_02489\n",
        "123  rmlD  rmlD  KPN_02489  KPN_02495\n",
        "\n",
        "[2 rows x 4 columns]"
       ]
      }
     ],
     "prompt_number": 24
    },
    {
     "cell_type": "code",
     "collapsed": false,
     "input": [
      "def organize_dkos(df):\n",
      "    out = []\n",
      "    for i in df.index:\n",
      "        data = df.ix[i]\n",
      "        gene1 = str(data['gene1'])\n",
      "        gene2 = str(data['gene2'])\n",
      "        genes = [gene1, gene2]\n",
      "        out.append(','.join(sorted(genes)))\n",
      "    out = pd.Series(out).drop_duplicates()\n",
      "    return out"
     ],
     "language": "python",
     "metadata": {},
     "outputs": [],
     "prompt_number": 12
    },
    {
     "cell_type": "code",
     "collapsed": false,
     "input": [
      "kpn2 = organize_dkos(kpn)\n",
      "eco2 = organize_dkos(eco)\n",
      "edl2 = organize_dkos(edl933)\n",
      "ype2 = organize_dkos(ype)\n",
      "sal2 = organize_dkos(sal)\n",
      "\n",
      "kpn_m92 = organize_dkos(kpn_m9)\n",
      "eco_m92 = organize_dkos(eco_m9)\n",
      "edl_m92 = organize_dkos(edl_m9)\n",
      "ype_m92 = organize_dkos(ype_m9)\n",
      "sal_m92 = organize_dkos(sal_m9)\n"
     ],
     "language": "python",
     "metadata": {},
     "outputs": [],
     "prompt_number": 39
    },
    {
     "cell_type": "code",
     "collapsed": false,
     "input": [
      "kpn2 = organize_dkos(kpn)"
     ],
     "language": "python",
     "metadata": {},
     "outputs": [],
     "prompt_number": 13
    },
    {
     "cell_type": "code",
     "collapsed": false,
     "input": [
      "kpn2.tolist()"
     ],
     "language": "python",
     "metadata": {},
     "outputs": [
      {
       "metadata": {},
       "output_type": "pyout",
       "prompt_number": 17,
       "text": [
        "['gutQ,yrbH',\n",
        " 'folD,purT',\n",
        " 'KPN_01464,argE',\n",
        " 'adk,ndk',\n",
        " 'adk,prsA',\n",
        " 'adk,phnN',\n",
        " 'purB,tsx',\n",
        " 'purA,tsx',\n",
        " 'purK,tsx',\n",
        " 'purE,tsx',\n",
        " 'purF,tsx',\n",
        " 'purD,tsx',\n",
        " 'purM,tsx',\n",
        " 'purC,tsx',\n",
        " 'purL,tsx',\n",
        " 'lpdA,sucD',\n",
        " 'lpdA,sucC',\n",
        " 'sucB,sucD',\n",
        " 'sucB,sucC',\n",
        " 'sucA,sucD',\n",
        " 'sucA,sucC',\n",
        " 'ddl,ddl',\n",
        " 'alr,alr',\n",
        " 'glyA,serC',\n",
        " 'glyA,serA',\n",
        " 'glyA,serB',\n",
        " 'argG,argH',\n",
        " 'asnA,asnB',\n",
        " 'metL,thrA',\n",
        " 'aspC,ybdL',\n",
        " 'carA,carB',\n",
        " 'clsA,ybhO',\n",
        " 'cmk,surE',\n",
        " 'cmk,pyrH',\n",
        " 'tdk,thyA',\n",
        " 'acpH,fadD',\n",
        " 'acpH,pldA',\n",
        " 'hutG,icdA',\n",
        " 'KPN_01770,icdA',\n",
        " 'galE,galK',\n",
        " 'folD,purN',\n",
        " 'KPN_01021,glnA',\n",
        " 'KPN_02014,yadF',\n",
        " 'hutH,icdA',\n",
        " 'metA,metQ',\n",
        " 'metA,metI',\n",
        " 'metA,metN',\n",
        " 'hutI,icdA',\n",
        " 'hutU,icdA',\n",
        " 'leuA,leuA',\n",
        " 'metB,metQ',\n",
        " 'metB,metI',\n",
        " 'metB,metN',\n",
        " 'folD,pflA',\n",
        " 'pgpA,pgpB',\n",
        " 'pitA,pstC',\n",
        " 'pitA,pstB',\n",
        " 'pitA,pstA',\n",
        " 'pitA,pstS',\n",
        " 'phnN,prsA',\n",
        " 'aroE,aroE',\n",
        " 'aroK,aroL',\n",
        " 'rmlC,rmlC',\n",
        " 'rmlD,rmlD',\n",
        " 'galE,galT']"
       ]
      }
     ],
     "prompt_number": 17
    },
    {
     "cell_type": "code",
     "collapsed": false,
     "input": [
      "kpn3 = set(kpn2.values.tolist())\n",
      "eco3 = set(eco2.values.tolist())\n",
      "edl3 = set(edl2.values.tolist())\n",
      "ype3 = set(ype2.values.tolist())\n",
      "sal3 = set(sal2.values.tolist())\n",
      "\n",
      "kpn_m93 = set(kpn_m92.values.tolist())\n",
      "eco_m93 = set(eco_m92.values.tolist())\n",
      "edl_m93 = set(edl_m92.values.tolist())\n",
      "ype_m93 = set(ype_m92.values.tolist())\n",
      "sal_m93 = set(sal_m92.values.tolist())"
     ],
     "language": "python",
     "metadata": {},
     "outputs": [],
     "prompt_number": 35
    },
    {
     "cell_type": "code",
     "collapsed": false,
     "input": [
      "ype_m93 & sal_m93 & kpn_m93 & edl_m93"
     ],
     "language": "python",
     "metadata": {},
     "outputs": [
      {
       "metadata": {},
       "output_type": "pyout",
       "prompt_number": 65,
       "text": [
        "{'asnA,asnB', 'cmk,pyrH', 'glyA,serA', 'glyA,serB', 'purN,purT'}"
       ]
      }
     ],
     "prompt_number": 65
    },
    {
     "cell_type": "code",
     "collapsed": false,
     "input": [
      "ype3"
     ],
     "language": "python",
     "metadata": {},
     "outputs": [
      {
       "metadata": {},
       "output_type": "pyout",
       "prompt_number": 357,
       "text": [
        "{'YPO3967,nan',\n",
        " 'YPO3967,pstA',\n",
        " 'YPO3967,pstB2',\n",
        " 'YPO3967,pstS',\n",
        " 'acnA,acnB',\n",
        " 'argA,proA',\n",
        " 'argA,proB',\n",
        " 'argA,proC',\n",
        " 'argA,y4106',\n",
        " 'argB,proA',\n",
        " 'argB,proB',\n",
        " 'argB,proC',\n",
        " 'argB,y4106',\n",
        " 'argC,proA',\n",
        " 'argC,proB',\n",
        " 'argC,proC',\n",
        " 'argC,y4106',\n",
        " 'argE,proA',\n",
        " 'argE,proB',\n",
        " 'argE,proC',\n",
        " 'argE,y4106',\n",
        " 'aroE,nan',\n",
        " 'asd,hisM',\n",
        " 'asd,hisP',\n",
        " 'asd,hisQ',\n",
        " 'asnA,asnB',\n",
        " 'astC,proC',\n",
        " 'astC,y4106',\n",
        " 'cdsA,ynbB',\n",
        " 'cmk,pyrH',\n",
        " 'dapA,hisM',\n",
        " 'dapA,hisP',\n",
        " 'dapA,hisQ',\n",
        " 'dapB,hisM',\n",
        " 'dapB,hisP',\n",
        " 'dapB,hisQ',\n",
        " 'dapD,hisM',\n",
        " 'dapD,hisP',\n",
        " 'dapD,hisQ',\n",
        " 'dapE,hisM',\n",
        " 'dapE,hisP',\n",
        " 'dapE,hisQ',\n",
        " 'dapF,hisM',\n",
        " 'dapF,hisP',\n",
        " 'dapF,hisQ',\n",
        " 'fba,tpiA',\n",
        " 'focA,purT',\n",
        " 'folD,purN',\n",
        " 'folD,purT',\n",
        " 'galE,pgm',\n",
        " 'galK,pgm',\n",
        " 'galT,pgm',\n",
        " 'gdhA,gltD2',\n",
        " 'gdhA,nan',\n",
        " 'glyA,serA',\n",
        " 'glyA,serB',\n",
        " 'glyA,serC',\n",
        " 'hisM,lysA',\n",
        " 'hisP,lysA',\n",
        " 'hisQ,lysA',\n",
        " 'lpdA,sucC',\n",
        " 'lpdA,sucD',\n",
        " 'mdh,ppc',\n",
        " 'mutT,ntpA',\n",
        " 'nupC,purA',\n",
        " 'nupC,purB',\n",
        " 'nupC,thyA',\n",
        " 'panB,panF',\n",
        " 'panC,panF',\n",
        " 'panD,panF',\n",
        " 'pgpA,pgpB',\n",
        " 'proC,y4106',\n",
        " 'rpe,tal',\n",
        " 'sucA,sucC',\n",
        " 'sucA,sucD',\n",
        " 'sucB,sucC',\n",
        " 'sucB,sucD',\n",
        " 'tdk,thyA',\n",
        " 'tyrA,tyrP'}"
       ]
      }
     ],
     "prompt_number": 357
    },
    {
     "cell_type": "code",
     "collapsed": false,
     "input": [
      "kpn3 & ype3 & edl3 & eco3"
     ],
     "language": "python",
     "metadata": {},
     "outputs": [
      {
       "metadata": {},
       "output_type": "pyout",
       "prompt_number": 121,
       "text": [
        "{'asnA,asnB', 'cmk,pyrH'}"
       ]
      }
     ],
     "prompt_number": 121
    },
    {
     "cell_type": "code",
     "collapsed": false,
     "input": [
      "essential = []\n",
      "syn_lethal = []\n",
      "for i in dkos.index[:2]:\n",
      "    if sum(dkos.ix[i]) < 0.01:\n",
      "        essential.append(i)\n",
      "    else:\n",
      "        for g in dkos.ix[i].index:\n",
      "            if dkos[g].sum() > 0.01:\n",
      "                if dkos.ix[i][g] < 0.01:\n",
      "                    syn_lethal.append(str(i)+','+str(g))\n",
      "     "
     ],
     "language": "python",
     "metadata": {},
     "outputs": [],
     "prompt_number": 39
    },
    {
     "cell_type": "code",
     "collapsed": false,
     "input": [
      "dkos['Z2333'].sum()"
     ],
     "language": "python",
     "metadata": {},
     "outputs": [
      {
       "metadata": {},
       "output_type": "pyout",
       "prompt_number": 110,
       "text": [
        "4118.7385938073221"
       ]
      }
     ],
     "prompt_number": 110
    },
    {
     "cell_type": "code",
     "collapsed": false,
     "input": [
      "syn_lethal"
     ],
     "language": "python",
     "metadata": {},
     "outputs": [
      {
       "metadata": {},
       "output_type": "pyout",
       "prompt_number": 41,
       "text": [
        "['KPN_03202,KPN_00983',\n",
        " 'KPN_03202,KPN_01091',\n",
        " 'KPN_03202,KPN_02713',\n",
        " 'KPN_03202,KPN_01093',\n",
        " 'KPN_03202,KPN_00004',\n",
        " 'KPN_03202,KPN_01092',\n",
        " 'KPN_03202,KPN_SPONT',\n",
        " 'KPN_03202,KPN_03665',\n",
        " 'KPN_03202,KPN_00198',\n",
        " 'KPN_03202,KPN_03664',\n",
        " 'KPN_03202,KPN_02706',\n",
        " 'KPN_03202,KPN_04248',\n",
        " 'KPN_03202,KPN_03226',\n",
        " 'KPN_03202,KPN_03112',\n",
        " 'KPN_03202,KPN_03963',\n",
        " 'KPN_03202,KPN_03436',\n",
        " 'KPN_03202,KPN_04247',\n",
        " 'KPN_03202,KPN_04388',\n",
        " 'KPN_03202,KPN_01256',\n",
        " 'KPN_03202,KPN_01257',\n",
        " 'KPN_03202,KPN_03799',\n",
        " 'KPN_03202,KPN_02475',\n",
        " 'KPN_03202,KPN_03453',\n",
        " 'KPN_03202,KPN_02922',\n",
        " 'KPN_03202,KPN_02920',\n",
        " 'KPN_03202,KPN_02719',\n",
        " 'KPN_03202,KPN_00941',\n",
        " 'KPN_03202,KPN_03124',\n",
        " 'KPN_03202,KPN_03252',\n",
        " 'KPN_03202,KPN_04308',\n",
        " 'KPN_03202,KPN_00188',\n",
        " 'KPN_03202,KPN_03996',\n",
        " 'KPN_03202,KPN_04270',\n",
        " 'KPN_03202,KPN_00039',\n",
        " 'KPN_03202,KPN_02812',\n",
        " 'KPN_03202,KPN_03760',\n",
        " 'KPN_03202,KPN_00073',\n",
        " 'KPN_03202,KPN_04273',\n",
        " 'KPN_03202,KPN_01096',\n",
        " 'KPN_03202,KPN_01284',\n",
        " 'KPN_03202,KPN_03119',\n",
        " 'KPN_03202,KPN_03118',\n",
        " 'KPN_03202,KPN_04135',\n",
        " 'KPN_03202,KPN_04429',\n",
        " 'KPN_03202,KPN_03952',\n",
        " 'KPN_03202,KPN_02202',\n",
        " 'KPN_03202,KPN_04134',\n",
        " 'KPN_03202,KPN_02492',\n",
        " 'KPN_03202,KPN_04256',\n",
        " 'KPN_03202,KPN_00214',\n",
        " 'KPN_03202,KPN_02833',\n",
        " 'KPN_03202,KPN_02476',\n",
        " 'KPN_03202,KPN_02478',\n",
        " 'KPN_03202,KPN_00003',\n",
        " 'KPN_03202,KPN_04394',\n",
        " 'KPN_03202,KPN_02477',\n",
        " 'KPN_03202,KPN_02479',\n",
        " 'KPN_03202,KPN_02481',\n",
        " 'KPN_03202,KPN_01255',\n",
        " 'KPN_03202,KPN_04269',\n",
        " 'KPN_03202,KPN_02834',\n",
        " 'KPN_03202,KPN_00079',\n",
        " 'KPN_03202,KPN_00077',\n",
        " 'KPN_03202,KPN_00078',\n",
        " 'KPN_03202,KPN_03608',\n",
        " 'KPN_03202,KPN_02230',\n",
        " 'KPN_03202,KPN_00195',\n",
        " 'KPN_03202,KPN_01515',\n",
        " 'KPN_03202,KPN_01090',\n",
        " 'KPN_03202,KPN_04659',\n",
        " 'KPN_03202,KPN_00329',\n",
        " 'KPN_03202,KPN_00091',\n",
        " 'KPN_03202,KPN_03117',\n",
        " 'KPN_03202,KPN_03586',\n",
        " 'KPN_03202,KPN_02410',\n",
        " 'KPN_03202,KPN_02482',\n",
        " 'KPN_03202,KPN_02480',\n",
        " 'KPN_03202,KPN_00936',\n",
        " 'KPN_03202,KPN_04557',\n",
        " 'KPN_03202,KPN_02908',\n",
        " 'KPN_03202,KPN_00236',\n",
        " 'KPN_03202,KPN_03114',\n",
        " 'KPN_03202,KPN_03113',\n",
        " 'KPN_03202,KPN_02805',\n",
        " 'KPN_03202,KPN_04233',\n",
        " 'KPN_03202,KPN_00942',\n",
        " 'KPN_03202,KPN_00179',\n",
        " 'KPN_03202,KPN_01254',\n",
        " 'KPN_03202,KPN_01253',\n",
        " 'KPN_03202,KPN_00192',\n",
        " 'KPN_03202,KPN_00089',\n",
        " 'KPN_03202,KPN_00194',\n",
        " 'KPN_03202,KPN_03599',\n",
        " 'KPN_03202,KPN_00094',\n",
        " 'KPN_03202,KPN_00092',\n",
        " 'KPN_03202,KPN_00095',\n",
        " 'KPN_03202,KPN_04350',\n",
        " 'KPN_03202,KPN_02493',\n",
        " 'KPN_03202,KPN_00090',\n",
        " 'KPN_03202,KPN_00100',\n",
        " 'KPN_03202,KPN_00480',\n",
        " 'KPN_03491,KPN_00983',\n",
        " 'KPN_03491,KPN_01091',\n",
        " 'KPN_03491,KPN_02713',\n",
        " 'KPN_03491,KPN_01093',\n",
        " 'KPN_03491,KPN_00004',\n",
        " 'KPN_03491,KPN_01092',\n",
        " 'KPN_03491,KPN_SPONT',\n",
        " 'KPN_03491,KPN_03665',\n",
        " 'KPN_03491,KPN_00198',\n",
        " 'KPN_03491,KPN_03664',\n",
        " 'KPN_03491,KPN_02706',\n",
        " 'KPN_03491,KPN_04248',\n",
        " 'KPN_03491,KPN_03226',\n",
        " 'KPN_03491,KPN_03112',\n",
        " 'KPN_03491,KPN_03963',\n",
        " 'KPN_03491,KPN_03436',\n",
        " 'KPN_03491,KPN_04247',\n",
        " 'KPN_03491,KPN_04388',\n",
        " 'KPN_03491,KPN_01256',\n",
        " 'KPN_03491,KPN_01257',\n",
        " 'KPN_03491,KPN_03799',\n",
        " 'KPN_03491,KPN_02475',\n",
        " 'KPN_03491,KPN_03453',\n",
        " 'KPN_03491,KPN_02922',\n",
        " 'KPN_03491,KPN_02920',\n",
        " 'KPN_03491,KPN_02719',\n",
        " 'KPN_03491,KPN_00941',\n",
        " 'KPN_03491,KPN_03124',\n",
        " 'KPN_03491,KPN_03252',\n",
        " 'KPN_03491,KPN_04308',\n",
        " 'KPN_03491,KPN_00188',\n",
        " 'KPN_03491,KPN_03996',\n",
        " 'KPN_03491,KPN_04270',\n",
        " 'KPN_03491,KPN_00039',\n",
        " 'KPN_03491,KPN_02812',\n",
        " 'KPN_03491,KPN_03760',\n",
        " 'KPN_03491,KPN_00073',\n",
        " 'KPN_03491,KPN_04273',\n",
        " 'KPN_03491,KPN_01096',\n",
        " 'KPN_03491,KPN_01284',\n",
        " 'KPN_03491,KPN_03119',\n",
        " 'KPN_03491,KPN_03118',\n",
        " 'KPN_03491,KPN_04135',\n",
        " 'KPN_03491,KPN_04429',\n",
        " 'KPN_03491,KPN_03952',\n",
        " 'KPN_03491,KPN_02202',\n",
        " 'KPN_03491,KPN_04134',\n",
        " 'KPN_03491,KPN_02492',\n",
        " 'KPN_03491,KPN_04256',\n",
        " 'KPN_03491,KPN_00214',\n",
        " 'KPN_03491,KPN_02833',\n",
        " 'KPN_03491,KPN_02476',\n",
        " 'KPN_03491,KPN_02478',\n",
        " 'KPN_03491,KPN_00003',\n",
        " 'KPN_03491,KPN_04394',\n",
        " 'KPN_03491,KPN_02477',\n",
        " 'KPN_03491,KPN_02479',\n",
        " 'KPN_03491,KPN_02481',\n",
        " 'KPN_03491,KPN_01255',\n",
        " 'KPN_03491,KPN_04269',\n",
        " 'KPN_03491,KPN_02834',\n",
        " 'KPN_03491,KPN_00079',\n",
        " 'KPN_03491,KPN_00077',\n",
        " 'KPN_03491,KPN_00078',\n",
        " 'KPN_03491,KPN_03608',\n",
        " 'KPN_03491,KPN_02230',\n",
        " 'KPN_03491,KPN_00195',\n",
        " 'KPN_03491,KPN_01515',\n",
        " 'KPN_03491,KPN_01090',\n",
        " 'KPN_03491,KPN_04659',\n",
        " 'KPN_03491,KPN_00329',\n",
        " 'KPN_03491,KPN_00091',\n",
        " 'KPN_03491,KPN_03117',\n",
        " 'KPN_03491,KPN_03586',\n",
        " 'KPN_03491,KPN_02410',\n",
        " 'KPN_03491,KPN_02482',\n",
        " 'KPN_03491,KPN_02480',\n",
        " 'KPN_03491,KPN_00936',\n",
        " 'KPN_03491,KPN_04557',\n",
        " 'KPN_03491,KPN_02908',\n",
        " 'KPN_03491,KPN_00236',\n",
        " 'KPN_03491,KPN_03114',\n",
        " 'KPN_03491,KPN_03113',\n",
        " 'KPN_03491,KPN_02805',\n",
        " 'KPN_03491,KPN_04233',\n",
        " 'KPN_03491,KPN_00942',\n",
        " 'KPN_03491,KPN_00179',\n",
        " 'KPN_03491,KPN_01254',\n",
        " 'KPN_03491,KPN_01253',\n",
        " 'KPN_03491,KPN_00192',\n",
        " 'KPN_03491,KPN_00089',\n",
        " 'KPN_03491,KPN_00194',\n",
        " 'KPN_03491,KPN_03599',\n",
        " 'KPN_03491,KPN_00094',\n",
        " 'KPN_03491,KPN_00092',\n",
        " 'KPN_03491,KPN_00095',\n",
        " 'KPN_03491,KPN_04350',\n",
        " 'KPN_03491,KPN_02493',\n",
        " 'KPN_03491,KPN_00090',\n",
        " 'KPN_03491,KPN_00100',\n",
        " 'KPN_03491,KPN_00480']"
       ]
      }
     ],
     "prompt_number": 41
    },
    {
     "cell_type": "code",
     "collapsed": false,
     "input": [],
     "language": "python",
     "metadata": {},
     "outputs": [],
     "prompt_number": 29
    },
    {
     "cell_type": "code",
     "collapsed": false,
     "input": [
      "#uniprot_map = kegg_mapper('eco')\n",
      "#uniprot_map = kegg_mapper('ece') # edl933\n",
      "uniprot_map = kegg_mapper('kpn') # klebsiella\n",
      "print uniprot_map"
     ],
     "language": "python",
     "metadata": {},
     "outputs": [
      {
       "output_type": "stream",
       "stream": "stdout",
       "text": [
        "{'KPN_03415': 'A6TDZ0', 'KPN_03817': 'A6TF70', 'KPN_03831': 'A6TF84', 'KPN_03830': 'A6TF83', 'KPN_03833': 'A6TF86', 'KPN_03832': 'A6TF85', 'KPN_01279': 'A6T7Z1', 'KPN_01278': 'A6T7Z0', 'KPN_03837': 'A6TF90', 'KPN_03836': 'A6TF89', 'KPN_01275': 'A6T7Y7', 'KPN_01274': 'A6T7Y6', 'KPN_01277': 'A6T7Y9', 'KPN_01276': 'A6T7Y8', 'KPN_01271': 'A6T7Y3', 'KPN_01270': 'A6T7Y2', 'KPN_01273': 'A6T7Y5', 'KPN_01272': 'A6T7Y4', 'KPN_04306': 'A6TGJ0', 'KPN_04307': 'A6TGJ1', 'KPN_04304': 'A6TGI8', 'KPN_04305': 'A6TGI9', 'KPN_04302': 'A6TGI6', 'KPN_04303': 'A6TGI7', 'KPN_00339': 'A6T5C0', 'KPN_00338': 'A6T5B9', 'KPN_00337': 'A6T5B8', 'KPN_00336': 'A6T5B7', 'KPN_00335': 'A6T5B6', 'KPN_00334': 'A6T5B5', 'KPN_00333': 'A6T5B4', 'KPN_00332': 'A6T5B3', 'KPN_00331': 'A6T5B2', 'KPN_00330': 'A6T5B1', 'KPN_02780': 'A6TC69', 'KPN_02781': 'A6TC70', 'KPN_02782': 'A6TC71', 'KPN_02783': 'A6TC72', 'KPN_02784': 'A6TC73', 'KPN_02785': 'A6TC74', 'KPN_02786': 'A6TC75', 'KPN_02787': 'A6TC76', 'KPN_02318': 'A6TAX3', 'KPN_02789': 'A6TC78', 'KPN_04677': 'A6THJ4', 'KPN_04763': 'A6THS5', 'KPN_03815': 'A6TF68', 'KPN_04594': 'A6THB1', 'KPN_00258': 'A6T540', 'KPN_00259': 'A6T541', 'KPN_03785': 'A6TF38', 'KPN_03784': 'A6TF37', 'KPN_03783': 'A6TF36', 'KPN_03782': 'A6TF35', 'KPN_03781': 'A6TF34', 'KPN_03780': 'A6TF33', 'KPN_00250': 'A6T532', 'KPN_00251': 'A6T533', 'KPN_00252': 'A6T534', 'KPN_00253': 'A6T535', 'KPN_00254': 'A6T536', 'KPN_00255': 'A6T537', 'KPN_00256': 'A6T538', 'KPN_00257': 'A6T539', 'KPN_01301': 'A6T813', 'KPN_01300': 'A6T812', 'KPN_01303': 'A6T815', 'KPN_01302': 'A6T814', 'KPN_01305': 'A6T817', 'KPN_01304': 'A6T816', 'KPN_01875': 'A6T9N5', 'KPN_01306': 'A6T818', 'KPN_01309': 'A6T820', 'KPN_01308': 'A6T819', 'KPN_01879': 'A6T9N9', 'KPN_01878': 'A6T9N8', 'KPN_04236': 'A6TGD1', 'KPN_04237': 'A6TGD2', 'KPN_04234': 'A6TGC9', 'KPN_04235': 'A6TGD0', 'KPN_02876': 'A6TCG5', 'KPN_02877': 'A6TCG6', 'KPN_02874': 'A6TCG3', 'KPN_02875': 'A6TCG4', 'KPN_02872': 'A6TCG1', 'KPN_02873': 'A6TCG2', 'KPN_02870': 'A6TCF9', 'KPN_02871': 'A6TCG0', 'KPN_03835': 'A6TF88', 'KPN_02878': 'A6TCG7', 'KPN_02879': 'A6TCG8', 'KPN_01899': 'A6T9Q9', 'KPN_01898': 'A6T9Q8', 'KPN_pKPN3p05940': 'A6TI96', 'KPN_01891': 'A6T9Q1', 'KPN_01890': 'A6T9Q0', 'KPN_01893': 'A6T9Q3', 'KPN_01892': 'A6T9Q2', 'KPN_01895': 'A6T9Q5', 'KPN_01894': 'A6T9Q4', 'KPN_01897': 'A6T9Q7', 'KPN_01896': 'A6T9Q6', 'KPN_03839': 'A6TF92', 'KPN_pKPN3p05942': 'A6TI98', 'KPN_03838': 'A6TF91', 'KPN_03990': 'A6TFP1', 'KPN_pKPN3p05945': 'A6TIA1', 'KPN_pKPN3p05944': 'A6TIA0', 'KPN_03659': 'A6TER7', 'KPN_03658': 'A6TER6', 'KPN_04155': 'A6TG54', 'KPN_04154': 'A6TG53', 'KPN_04153': 'A6TG52', 'KPN_04152': 'A6TG51', 'KPN_04151': 'A6TG50', 'KPN_04150': 'A6TG49', 'KPN_03651': 'A6TEQ9', 'KPN_03650': 'A6TEQ8', 'KPN_03653': 'A6TER1', 'KPN_03652': 'A6TER0', 'KPN_03655': 'A6TER3', 'KPN_03654': 'A6TER2', 'KPN_03657': 'A6TER5', 'KPN_03656': 'A6TER4', 'KPN_pKPN3p05948': 'A6TIA4', 'KPN_03811': 'A6TF64', 'KPN_02124': 'A6TAD1', 'KPN_02125': 'A6TAD2', 'KPN_02126': 'A6TAD3', 'KPN_02127': 'A6TAD4', 'KPN_02120': 'A6TAC7', 'KPN_02121': 'A6TAC8', 'KPN_01608': 'A6T8W8', 'KPN_02123': 'A6TAD0', 'KPN_02128': 'A6TAD5', 'KPN_02129': 'A6TAD6', 'KPN_04419': 'A6TGU0', 'KPN_03534': 'A6TEE5', 'KPN_03535': 'A6TEE6', 'KPN_03536': 'A6TEE7', 'KPN_03537': 'A6TEE8', 'KPN_03530': 'A6TEE1', 'KPN_03531': 'A6TEE2', 'KPN_03532': 'A6TEE3', 'KPN_03533': 'A6TEE4', 'KPN_03538': 'A6TEE9', 'KPN_03539': 'A6TEF0', 'KPN_pKPN5p08235': 'A6TIK6', 'KPN_01609': 'A6T8W9', 'KPN_02724': 'A6TC20', 'KPN_pKPN5p08200': 'A6TJ07', 'KPN_04301': 'A6TGI5', 'KPN_01619': 'A6T8X9', 'KPN_01618': 'A6T8X8', 'KPN_pKPN4p07156': 'A6TII9', 'KPN_02018': 'A6TA25', 'KPN_02019': 'A6TA26', 'KPN_00928': 'A6T6Z3', 'KPN_00929': 'A6T6Z4', 'KPN_00922': 'A6T6Y7', 'KPN_00923': 'A6T6Y8', 'KPN_00920': 'A6T6Y5', 'KPN_00921': 'A6T6Y6', 'KPN_00926': 'A6T6Z1', 'KPN_00927': 'A6T6Z2', 'KPN_00924': 'A6T6Y9', 'KPN_00925': 'A6T6Z0', 'KPN_03228': 'A6TDF5', 'KPN_03229': 'A6TDF6', 'KPN_04308': 'A6TGJ2', 'KPN_03220': 'A6TDE7', 'KPN_03221': 'A6TDE8', 'KPN_03222': 'A6TDE9', 'KPN_03223': 'A6TDF0', 'KPN_03224': 'A6TDF1', 'KPN_03225': 'A6TDF2', 'KPN_03226': 'A6TDF3', 'KPN_03227': 'A6TDF4', 'KPN_02078': 'A6TA85', 'KPN_04227': 'A6TGC2', 'KPN_02079': 'A6TA86', 'KPN_pKPN4p07090': 'A6TIP6', 'KPN_02076': 'A6TA83', 'KPN_04424': 'A6TGU5', 'KPN_02077': 'A6TA84', 'KPN_02249': 'A6TAQ4', 'KPN_02248': 'A6TAQ3', 'KPN_01477': 'A6T8I8', 'KPN_01476': 'A6T8I7', 'KPN_01475': 'A6T8I6', 'KPN_01474': 'A6T8I5', 'KPN_01473': 'A6T8I4', 'KPN_01472': 'A6T8I3', 'KPN_01471': 'A6T8I2', 'KPN_01470': 'A6T8I1', 'KPN_02304': 'A6TAV9', 'KPN_02305': 'A6TAW0', 'KPN_02306': 'A6TAW1', 'KPN_02307': 'A6TAW2', 'KPN_02300': 'A6TAV5', 'KPN_02301': 'A6TAV6', 'KPN_01479': 'A6T8J0', 'KPN_01478': 'A6T8I9', 'KPN_03318': 'A6TDP4', 'KPN_03319': 'A6TDP5', 'KPN_03314': 'A6TDP1', 'KPN_03316': 'A6TDP2', 'KPN_02527': 'A6TBH4', 'KPN_03310': 'A6TDN7', 'KPN_03311': 'A6TDN8', 'KPN_03312': 'A6TDN9', 'KPN_03313': 'A6TDP0', 'KPN_04445': 'A6TGW6', 'KPN_02241': 'A6TAP6', 'KPN_04447': 'A6TGW8', 'KPN_04446': 'A6TGW7', 'KPN_04441': 'A6TGW2', 'KPN_04440': 'A6TGW1', 'KPN_04443': 'A6TGW4', 'KPN_02240': 'A6TAP5', 'KPN_04241': 'A6TGD6', 'KPN_04449': 'A6TGX0', 'KPN_04448': 'A6TGW9', 'KPN_00654': 'A6T683', 'KPN_00655': 'A6T684', 'KPN_00656': 'A6T685', 'KPN_00657': 'A6T686', 'KPN_00650': 'A6T679', 'KPN_00651': 'A6T680', 'KPN_00652': 'A6T681', 'KPN_00653': 'A6T682', 'KPN_01785': 'A6T9E5', 'KPN_01784': 'A6T9E4', 'KPN_01787': 'A6T9E7', 'KPN_01786': 'A6T9E6', 'KPN_00658': 'A6T687', 'KPN_00659': 'A6T688', 'KPN_01783': 'A6T9E3', 'KPN_01782': 'A6T9E2', 'KPN_04599': 'A6THB6', 'KPN_02270': 'A6TAS5', 'KPN_02271': 'A6TAS6', 'KPN_02272': 'A6TAS7', 'KPN_02273': 'A6TAS8', 'KPN_02274': 'A6TAS9', 'KPN_02275': 'A6TAT0', 'KPN_02276': 'A6TAT1', 'KPN_02277': 'A6TAT2', 'KPN_02278': 'A6TAT3', 'KPN_02279': 'A6TAT4', 'KPN_03000': 'A6TCT5', 'KPN_03001': 'A6TCT6', 'KPN_03002': 'A6TCT7', 'KPN_03003': 'A6TCT8', 'KPN_03004': 'A6TCT9', 'KPN_03005': 'A6TCU0', 'KPN_03006': 'A6TCU1', 'KPN_03007': 'A6TCU2', 'KPN_03008': 'A6TCU3', 'KPN_03009': 'A6TCU4', 'KPN_pKPN3p06021': 'A6TIH7', 'KPN_pKPN5p08169': 'A6TIQ9', 'KPN_04226': 'A6TGC1', 'KPN_03744': 'A6TEZ7', 'KPN_pKPN4p07152': 'A6TII5', 'KPN_pKPN4p07151': 'A6TIV7', 'KPN_pKPN4p07150': 'A6TIV6', 'KPN_pKPN3p05989': 'A6TIE5', 'KPN_02602': 'A6TBP9', 'KPN_pKPN4p07155': 'A6TII8', 'KPN_pKPN4p07154': 'A6TII7', 'KPN_pKPN3p05985': 'A6TIE1', 'KPN_pKPN3p05984': 'A6TIE0', 'KPN_pKPN3p05987': 'A6TIE3', 'KPN_pKPN3p05986': 'A6TIE2', 'KPN_pKPN3p05981': 'A6TID7', 'KPN_pKPN3p05980': 'A6TID6', 'KPN_pKPN3p05983': 'A6TID9', 'KPN_pKPN3p05982': 'A6TID8', 'KPN_01091': 'A6T7F3', 'KPN_01090': 'A6T7F2', 'KPN_01093': 'A6T7F5', 'KPN_01092': 'A6T7F4', 'KPN_01095': 'A6T7F7', 'KPN_01094': 'A6T7F6', 'KPN_01097': 'A6T7F9', 'KPN_01096': 'A6T7F8', 'KPN_01099': 'A6T7G1', 'KPN_01098': 'A6T7G0', 'KPN_pKPN5p08186': 'A6TIZ3', 'KPN_pKPN5p08187': 'A6TIZ4', 'KPN_pKPN3p05941': 'A6TI97', 'KPN_pKPN5p08181': 'A6TIY8', 'KPN_pKPN5p08182': 'A6TF77', 'KPN_04592': 'A6THA9', 'KPN_00786': 'A6T6K1', 'KPN_00787': 'A6T6K2', 'KPN_00784': 'A6T6J9', 'KPN_00785': 'A6T6K0', 'KPN_00782': 'A6T6J7', 'KPN_00783': 'A6T6J8', 'KPN_00780': 'A6T6J5', 'KPN_00781': 'A6T6J6', 'KPN_01657': 'A6T917', 'KPN_01656': 'A6T916', 'KPN_01655': 'A6T915', 'KPN_01654': 'A6T914', 'KPN_01653': 'A6T913', 'KPN_01652': 'A6T912', 'KPN_00788': 'A6T6K3', 'KPN_00789': 'A6T6K4', 'KPN_04621': 'A6THD8', 'KPN_03914': 'A6TFG6', 'KPN_03628': 'A6TEN7', 'KPN_03629': 'A6TEN8', 'KPN_04256': 'A6TGF1', 'KPN_02859': 'A6TCE8', 'KPN_04610': 'A6THC7', 'KPN_04086': 'A6TFY5', 'KPN_pKPN3p06035': 'A6TIJ1', 'KPN_pKPN5p08233': 'A6TJ40', 'KPN_02663': 'A6TBV9', 'KPN_02662': 'A6TBV8', 'KPN_02661': 'A6TBV7', 'KPN_02660': 'A6TBV6', 'KPN_00438': 'A6T5L9', 'KPN_00439': 'A6T5M0', 'KPN_02665': 'A6TBW1', 'KPN_02664': 'A6TBW0', 'KPN_00434': 'A6T5L5', 'KPN_00435': 'A6T5L6', 'KPN_00436': 'A6T5L7', 'KPN_00437': 'A6T5L8', 'KPN_00430': 'A6T5L1', 'KPN_00431': 'A6T5L2', 'KPN_00432': 'A6T5L3', 'KPN_00433': 'A6T5L4', 'KPN_02461': 'A6TBA8', 'KPN_02460': 'A6TBA7', 'KPN_02463': 'A6TBB0', 'KPN_02462': 'A6TBA9', 'KPN_02465': 'A6TBB2', 'KPN_02464': 'A6TBB1', 'KPN_02467': 'A6TBB4', 'KPN_02466': 'A6TBB3', 'KPN_02469': 'A6TBB6', 'KPN_02468': 'A6TBB5', 'KPN_03789': 'A6TF42', 'KPN_03788': 'A6TF41', 'KPN_01873': 'A6T9N3', 'KPN_01872': 'A6T9N2', 'KPN_04750': 'A6THR2', 'KPN_01871': 'A6T9N1', 'KPN_04484': 'A6TH05', 'KPN_03822': 'A6TF75', 'KPN_03823': 'A6TF76', 'KPN_03820': 'A6TF73', 'KPN_01870': 'A6T9N0', 'KPN_03826': 'A6TF79', 'KPN_03827': 'A6TF80', 'KPN_01268': 'A6T7Y0', 'KPN_01269': 'A6T7Y1', 'KPN_01266': 'A6T7X8', 'KPN_01267': 'A6T7X9', 'KPN_01264': 'A6T7X6', 'KPN_01265': 'A6T7X7', 'KPN_01262': 'A6T7X4', 'KPN_01263': 'A6T7X5', 'KPN_01260': 'A6T7X2', 'KPN_01261': 'A6T7X3', 'KPN_00320': 'A6T5A1', 'KPN_00321': 'A6T5A2', 'KPN_00322': 'A6T5A3', 'KPN_00323': 'A6T5A4', 'KPN_00324': 'A6T5A5', 'KPN_00325': 'A6T5A6', 'KPN_00326': 'A6T5A7', 'KPN_00327': 'A6T5A8', 'KPN_00328': 'A6T5A9', 'KPN_00329': 'A6T5B0', 'KPN_01874': 'A6T9N4', 'KPN_03918': 'A6TFH0', 'KPN_04232': 'A6TGC7', 'KPN_04499': 'A6TH20', 'KPN_04233': 'A6TGC8', 'KPN_04252': 'A6TGE7', 'KPN_04230': 'A6TGC5', 'KPN_03798': 'A6TF51', 'KPN_03799': 'A6TF52', 'KPN_04328': 'A6TGL2', 'KPN_04231': 'A6TGC6', 'KPN_03790': 'A6TF43', 'KPN_03791': 'A6TF44', 'KPN_03792': 'A6TF45', 'KPN_03793': 'A6TF46', 'KPN_03794': 'A6TF47', 'KPN_03795': 'A6TF48', 'KPN_03796': 'A6TF49', 'KPN_03797': 'A6TF50', 'KPN_pKPN3p05947': 'A6TIA3', 'KPN_00229': 'A6T512', 'KPN_00228': 'A6T511', 'KPN_04253': 'A6TGE8', 'KPN_00225': 'A6T508', 'KPN_00224': 'A6T507', 'KPN_00227': 'A6T510', 'KPN_00226': 'A6T509', 'KPN_00221': 'A6T504', 'KPN_00223': 'A6T506', 'KPN_00222': 'A6T505', 'KPN_01312': 'A6T823', 'KPN_01313': 'A6T824', 'KPN_01310': 'A6T821', 'KPN_01311': 'A6T822', 'KPN_01316': 'A6T827', 'KPN_01317': 'A6T828', 'KPN_01314': 'A6T825', 'KPN_01315': 'A6T826', 'KPN_02843': 'A6TCD2', 'KPN_02842': 'A6TCD1', 'KPN_01318': 'A6T829', 'KPN_01319': 'A6T830', 'KPN_01868': 'A6T9M8', 'KPN_01869': 'A6T9M9', 'KPN_02845': 'A6TCD4', 'KPN_02844': 'A6TCD3', 'KPN_02689': 'A6TBY5', 'KPN_02688': 'A6TBY4', 'KPN_02681': 'A6TBX7', 'KPN_02680': 'A6TBX6', 'KPN_02683': 'A6TBX9', 'KPN_02682': 'A6TBX8', 'KPN_02685': 'A6TBY1', 'KPN_02684': 'A6TBY0', 'KPN_02687': 'A6TBY3', 'KPN_02686': 'A6TBY2', 'KPN_01888': 'A6T9P8', 'KPN_01889': 'A6T9P9', 'KPN_04619': 'A6THD6', 'KPN_01882': 'A6T9P2', 'KPN_01883': 'A6T9P3', 'KPN_01880': 'A6T9P0', 'KPN_01881': 'A6T9P1', 'KPN_01886': 'A6T9P6', 'KPN_01887': 'A6T9P7', 'KPN_01884': 'A6T9P4', 'KPN_01885': 'A6T9P5', 'KPN_04148': 'A6TG47', 'KPN_04149': 'A6TG48', 'KPN_pKPN3p06029': 'A6TII5', 'KPN_04242': 'A6TGD7', 'KPN_02384': 'A6TB39', 'KPN_04140': 'A6TG39', 'KPN_04141': 'A6TG40', 'KPN_04142': 'A6TG41', 'KPN_04143': 'A6TG42', 'KPN_04144': 'A6TG43', 'KPN_04145': 'A6TG44', 'KPN_04146': 'A6TG45', 'KPN_04147': 'A6TG46', 'KPN_00131': 'A6T4S0', 'KPN_00130': 'A6T4R9', 'KPN_00133': 'A6T4S2', 'KPN_00132': 'A6T4S1', 'KPN_00135': 'A6T4S4', 'KPN_00134': 'A6T4S3', 'KPN_00137': 'A6T4S6', 'KPN_00136': 'A6T4S5', 'KPN_00139': 'A6T4S8', 'KPN_00138': 'A6T4S7', 'KPN_03640': 'A6TEP9', 'KPN_03641': 'A6TEQ0', 'KPN_03647': 'A6TEQ5', 'KPN_03644': 'A6TEQ3', 'KPN_03645': 'A6TEQ4', 'KPN_04421': 'A6TGU2', 'KPN_03397': 'A6TDX3', 'KPN_02732': 'A6TC27', 'KPN_04859': 'A6TE52', 'KPN_01764': 'A6T9C4', 'KPN_03962': 'A6TFL3', 'KPN_02852': 'A6TCE1', 'KPN_02928': 'A6TCL3', 'KPN_02853': 'A6TCE2', 'KPN_03756': 'A6TF09', 'KPN_02929': 'A6TCL4', 'KPN_02849': 'A6TCD8', 'KPN_pKPN4p07051': 'A6TIK8', 'KPN_02069': 'A6TA76', 'KPN_02068': 'A6T555', 'KPN_00919': 'A6T6Y4', 'KPN_00918': 'A6T6Y3', 'KPN_00917': 'A6T6Y2', 'KPN_00916': 'A6T6Y1', 'KPN_00915': 'A6T6Y0', 'KPN_00914': 'A6T6X9', 'KPN_00913': 'A6T6X8', 'KPN_00912': 'A6T6X7', 'KPN_00911': 'A6T6X6', 'KPN_00910': 'A6T6X5', 'KPN_03999': 'A6TFQ0', 'KPN_03259': 'A6TDI6', 'KPN_03258': 'A6TDI5', 'KPN_03255': 'A6TDI2', 'KPN_03254': 'A6TDI1', 'KPN_03257': 'A6TDI4', 'KPN_03256': 'A6TDI3', 'KPN_03251': 'A6TDH8', 'KPN_03250': 'A6TDH7', 'KPN_03253': 'A6TDI0', 'KPN_03252': 'A6TDH9', 'KPN_04868': 'A6TE61', 'KPN_03499': 'A6TEB0', 'KPN_03498': 'A6TEA9', 'KPN_03493': 'A6TEA4', 'KPN_03492': 'A6TEA3', 'KPN_03491': 'A6TEA2', 'KPN_03490': 'A6TEA1', 'KPN_03497': 'A6TEA8', 'KPN_03496': 'A6TEA7', 'KPN_03495': 'A6TEA6', 'KPN_02212': 'A6TAL7', 'KPN_pKPN3p06013': 'A6TIG9', 'KPN_pKPN4p07073': 'A6TIM9', 'KPN_04486': 'A6TH07', 'KPN_04156': 'A6TG55', 'KPN_03441': 'A6TE16', 'KPN_01468': 'A6T8H9', 'KPN_01469': 'A6T8I0', 'KPN_04460': 'A6TGY1', 'KPN_01460': 'A6T8H1', 'KPN_01461': 'A6T8H2', 'KPN_01462': 'A6T8H3', 'KPN_01463': 'A6T8H4', 'KPN_01464': 'A6T8H5', 'KPN_01465': 'A6T8H6', 'KPN_01466': 'A6T8H7', 'KPN_01467': 'A6T8H8', 'KPN_03090': 'A6TD20', 'KPN_03828': 'A6TF81', 'KPN_04668': 'A6THI5', 'KPN_04502': 'A6TH23', 'KPN_04322': 'A6TGK6', 'KPN_04617': 'A6THD4', 'KPN_03901': 'A6TBL9', 'KPN_04457': 'A6TGX8', 'KPN_04454': 'A6TGX5', 'KPN_04455': 'A6TGX6', 'KPN_04452': 'A6TGX3', 'KPN_04453': 'A6TGX4', 'KPN_04450': 'A6TGX1', 'KPN_03867': 'A6TFC0', 'KPN_04458': 'A6TGX9', 'KPN_04459': 'A6TGY0', 'KPN_03710': 'A6TEW3', 'KPN_pKPN4p07064': 'A6TIM0', 'KPN_pKPN5p08225': 'A6TJ32', 'KPN_01798': 'A6T9F8', 'KPN_01799': 'A6T9F9', 'KPN_01796': 'A6T9F6', 'KPN_01797': 'A6T9F7', 'KPN_01794': 'A6T9F4', 'KPN_01795': 'A6T9F5', 'KPN_01792': 'A6T9F2', 'KPN_01793': 'A6T9F3', 'KPN_01790': 'A6T9F0', 'KPN_01791': 'A6T9F1', 'KPN_04508': 'A6TH29', 'KPN_03713': 'A6TEW6', 'KPN_04509': 'A6TH30', 'KPN_03714': 'A6TEW7', 'KPN_03861': 'A6TFB4', 'KPN_03715': 'A6TEW8', 'KPN_02205': 'A6TAL2', 'KPN_02204': 'A6TAL1', 'KPN_02206': 'A6TAL3', 'KPN_02201': 'A6TAK8', 'KPN_02200': 'A6TAK7', 'KPN_02203': 'A6TAL0', 'KPN_02202': 'A6TAK9', 'KPN_03717': 'A6TEX0', 'KPN_02209': 'A6TAL4', 'KPN_04664': 'A6THI1', 'KPN_03075': 'A6TD05', 'KPN_03074': 'A6TD04', 'KPN_03077': 'A6TD07', 'KPN_03076': 'A6TD06', 'KPN_03071': 'A6TD01', 'KPN_03070': 'A6TD00', 'KPN_03073': 'A6TD03', 'KPN_03072': 'A6TD02', 'KPN_04801': 'A6THW3', 'KPN_04666': 'A6THI3', 'KPN_03079': 'A6TD09', 'KPN_03078': 'A6TD08', 'KPN_04800': 'A6THW2', 'KPN_pKPN4p07140': 'A6TIU6', 'KPN_pKPN4p07141': 'A6TIU7', 'KPN_pKPN3p05998': 'A6TIF4', 'KPN_pKPN3p05999': 'A6TIF5', 'KPN_pKPN4p07144': 'A6TIV0', 'KPN_pKPN4p07145': 'A6TIH8', 'KPN_03774': 'A6TF27', 'KPN_pKPN4p07147': 'A6TII0', 'KPN_pKPN3p05992': 'A6TIE8', 'KPN_pKPN3p05993': 'A6TIE9', 'KPN_pKPN3p05990': 'A6TIE6', 'KPN_pKPN3p05991': 'A6TIE7', 'KPN_pKPN3p05996': 'A6TIF2', 'KPN_pKPN3p05997': 'A6TIF3', 'KPN_pKPN3p05994': 'A6TIF0', 'KPN_pKPN3p05995': 'A6TIF1', 'KPN_01082': 'A6T7E4', 'KPN_01083': 'A6T7E5', 'KPN_01080': 'A6T7E2', 'KPN_01081': 'A6T7E3', 'KPN_01086': 'A6T7E8', 'KPN_01087': 'A6T7E9', 'KPN_01084': 'A6T7E6', 'KPN_01085': 'A6T7E7', 'KPN_01088': 'A6T7F0', 'KPN_01089': 'A6T7F1', 'KPN_02632': 'A6TBS8', 'KPN_01640': 'A6T900', 'KPN_01641': 'A6T901', 'KPN_01642': 'A6T902', 'KPN_01643': 'A6T903', 'KPN_01644': 'A6T904', 'KPN_01645': 'A6T905', 'KPN_01646': 'A6T906', 'KPN_01647': 'A6T907', 'KPN_01648': 'A6T908', 'KPN_01649': 'A6T909', 'KPN_02513': 'A6TBG0', 'KPN_02512': 'A6TBF9', 'KPN_02515': 'A6TBG2', 'KPN_02514': 'A6TBG1', 'KPN_02517': 'A6TBG4', 'KPN_02516': 'A6TBG3', 'KPN_03109': 'A6TD39', 'KPN_03108': 'A6TD38', 'KPN_02848': 'A6TCD7', 'KPN_03101': 'A6TD31', 'KPN_03100': 'A6TD30', 'KPN_03103': 'A6TD33', 'KPN_03102': 'A6TD32', 'KPN_03105': 'A6TD35', 'KPN_03104': 'A6TD34', 'KPN_03107': 'A6TD37', 'KPN_03106': 'A6TD36', 'KPN_pKPN4p07091': 'A6TIP7', 'KPN_04604': 'A6THC1', 'KPN_02922': 'A6TCK7', 'KPN_03381': 'A6TDV7', 'KPN_02733': 'A6TC28', 'KPN_02674': 'A6TBX0', 'KPN_02675': 'A6TBX1', 'KPN_02676': 'A6TBX2', 'KPN_02677': 'A6TBX3', 'KPN_02670': 'A6TBW6', 'KPN_02671': 'A6TBW7', 'KPN_02672': 'A6TBW8', 'KPN_02673': 'A6TBW9', 'KPN_pKPN5p08249': 'A6TJ56', 'KPN_pKPN5p08248': 'A6TJ55', 'KPN_02678': 'A6TBX4', 'KPN_02679': 'A6TBX5', 'KPN_02734': 'A6TC29', 'KPN_02472': 'A6TBB9', 'KPN_02473': 'A6TBC0', 'KPN_02470': 'A6TBB7', 'KPN_02471': 'A6TBB8', 'KPN_02476': 'A6TBC3', 'KPN_02477': 'A6TBC4', 'KPN_02474': 'A6TBC1', 'KPN_02475': 'A6TBC2', 'KPN_00687': 'A6T6B6', 'KPN_00686': 'A6T6B5', 'KPN_00685': 'A6T6B4', 'KPN_00684': 'A6T6B3', 'KPN_00683': 'A6T6B2', 'KPN_00682': 'A6T6B1', 'KPN_00681': 'A6T6B0', 'KPN_00680': 'A6T6A9', 'KPN_02739': 'A6TC34', 'KPN_pKPN3p05943': 'A6TI99', 'KPN_02738': 'A6TC33', 'KPN_01524': 'A6T8N4', 'KPN_04408': 'A6TGS9', 'KPN_03906': 'A6TFF8', 'KPN_03992': 'A6TFP3', 'KPN_04240': 'A6TGD5', 'KPN_01253': 'A6T7W5', 'KPN_01252': 'A6T7W4', 'KPN_01251': 'A6T7W3', 'KPN_01250': 'A6T7W2', 'KPN_01257': 'A6T7W9', 'KPN_01256': 'A6T7W8', 'KPN_01255': 'A6T7W7', 'KPN_01254': 'A6T7W6', 'KPN_04324': 'A6TGK8', 'KPN_04325': 'A6TGK9', 'KPN_01259': 'A6T7X1', 'KPN_01258': 'A6T7X0', 'KPN_04320': 'A6TGK4', 'KPN_04321': 'A6TGK5', 'KPN_03819': 'A6TF72', 'KPN_03818': 'A6TF71', 'KPN_00355': 'A6T5D6', 'KPN_00354': 'A6T5D5', 'KPN_00357': 'A6T5D8', 'KPN_00356': 'A6T5D7', 'KPN_00351': 'A6T5D2', 'KPN_00350': 'A6T5D1', 'KPN_00353': 'A6T5D4', 'KPN_00352': 'A6T5D3', 'KPN_04247': 'A6TGE2', 'KPN_00359': 'A6T5E0', 'KPN_00358': 'A6T5D9', 'KPN_pKPN3p05887': 'A6TI44', 'KPN_03194': 'A6TDC1', 'KPN_03181': 'A6TDA8', 'KPN_pKPN3p05970': 'A6TIC6', 'KPN_pKPN3p05882': 'A6TI40', 'KPN_03180': 'A6TDA7', 'KPN_04246': 'A6TGE1', 'KPN_04157': 'A6TG56', 'KPN_03183': 'A6TDB0', 'KPN_04338': 'A6TGM2', 'KPN_03182': 'A6TDA9', 'KPN_03018': 'A6TCV3', 'KPN_00238': 'A6T520', 'KPN_00239': 'A6T521', 'KPN_00236': 'A6T518', 'KPN_00237': 'A6T519', 'KPN_00234': 'A6T516', 'KPN_00235': 'A6T517', 'KPN_00232': 'A6T514', 'KPN_00233': 'A6T515', 'KPN_00230': 'A6T513', 'KPN_03184': 'A6TDB1', 'KPN_01327': 'A6T838', 'KPN_01326': 'A6T837', 'KPN_01325': 'A6T836', 'KPN_01324': 'A6T835', 'KPN_01323': 'A6T834', 'KPN_01322': 'A6T833', 'KPN_01321': 'A6T832', 'KPN_01320': 'A6T831', 'KPN_02854': 'A6TCE3', 'KPN_02855': 'A6TCE4', 'KPN_02856': 'A6TCE5', 'KPN_02358': 'A6TB13', 'KPN_02850': 'A6TCD9', 'KPN_02851': 'A6TCE0', 'KPN_01329': 'A6T840', 'KPN_01328': 'A6T839', 'KPN_03189': 'A6TDB6', 'KPN_02698': 'A6TBZ4', 'KPN_02699': 'A6TBZ5', 'KPN_03188': 'A6TDB5', 'KPN_02692': 'A6TBY8', 'KPN_02693': 'A6TBY9', 'KPN_02690': 'A6TBY6', 'KPN_02691': 'A6TBY7', 'KPN_02696': 'A6TBZ2', 'KPN_02697': 'A6TBZ3', 'KPN_02694': 'A6TBZ0', 'KPN_02695': 'A6TBZ1', 'KPN_04700': 'A6THL6', 'KPN_04139': 'A6TG38', 'KPN_02351': 'A6TB06', 'KPN_04135': 'A6TG34', 'KPN_04134': 'A6TG33', 'KPN_04137': 'A6TG36', 'KPN_02350': 'A6TB05', 'KPN_03447': 'A6TE22', 'KPN_04130': 'A6TG29', 'KPN_04133': 'A6TG32', 'KPN_04132': 'A6TG31', 'KPN_00122': 'A6T4R1', 'KPN_00123': 'A6T4R2', 'KPN_00120': 'A6T4Q9', 'KPN_00121': 'A6T4R0', 'KPN_00126': 'A6T4R5', 'KPN_00127': 'A6T4R6', 'KPN_00124': 'A6T4R3', 'KPN_00125': 'A6T4R4', 'KPN_00128': 'A6T4R7', 'KPN_00129': 'A6T4R8', 'KPN_03673': 'A6TET1', 'KPN_03672': 'A6TET0', 'KPN_03671': 'A6TES9', 'KPN_03670': 'A6TES8', 'KPN_03432': 'A6TE07', 'KPN_03063': 'A6TCZ3', 'KPN_04703': 'A6THL9', 'KPN_03061': 'A6TCZ1', 'KPN_02939': 'A6TCM4', 'KPN_04683': 'A6THK0', 'KPN_04682': 'A6THJ9', 'KPN_04681': 'A6THJ8', 'KPN_04680': 'A6THJ7', 'KPN_04687': 'A6THK3', 'KPN_04685': 'A6THK2', 'KPN_04684': 'A6THK1', 'KPN_04689': 'A6THK5', 'KPN_04688': 'A6THK4', 'KPN_04041': 'A6TFU0', 'KPN_04040': 'A6TFT9', 'KPN_04043': 'A6TFU2', 'KPN_04042': 'A6TFU1', 'KPN_04045': 'A6TFU4', 'KPN_04044': 'A6TFU3', 'KPN_04047': 'A6TFU6', 'KPN_04046': 'A6TFU5', 'KPN_04049': 'A6TFU8', 'KPN_04048': 'A6TFU7', 'KPN_02938': 'A6TCM3', 'KPN_pKPN4p07041': 'A6TIJ8', 'KPN_04249': 'A6TGE4', 'KPN_04612': 'A6THC9', 'KPN_04248': 'A6TGE3', 'KPN_03178': 'A6TDA5', 'KPN_02623': 'A6TBS0', 'KPN_03834': 'A6TF87', 'KPN_04275': 'A6TGG3', 'KPN_03917': 'A6TFG9', 'KPN_00900': 'A6T6W5', 'KPN_00901': 'A6T6W6', 'KPN_00902': 'A6T6W7', 'KPN_00903': 'A6T6W8', 'KPN_00904': 'A6T6W9', 'KPN_00905': 'A6T6X0', 'KPN_00906': 'A6T6X1', 'KPN_00907': 'A6T6X2', 'KPN_00908': 'A6T6X3', 'KPN_00909': 'A6T6X4', 'KPN_02074': 'A6TA81', 'KPN_02075': 'A6TA82', 'KPN_02072': 'A6TA79', 'KPN_02073': 'A6TA80', 'KPN_02070': 'A6TA77', 'KPN_02071': 'A6TA78', 'KPN_04243': 'A6TGD8', 'KPN_pKPN3p05964': 'A6TIC0', 'KPN_03248': 'A6TDH5', 'KPN_03249': 'A6TDH6', 'KPN_03246': 'A6TDH3', 'KPN_03247': 'A6TDH4', 'KPN_03244': 'A6TDH1', 'KPN_03245': 'A6TDH2', 'KPN_03242': 'A6TDG9', 'KPN_03243': 'A6TDH0', 'KPN_03240': 'A6TDG7', 'KPN_03241': 'A6TDG8', 'KPN_04597': 'A6THB4', 'KPN_04596': 'A6THB3', 'KPN_04595': 'A6THB2', 'KPN_03919': 'A6TFH1', 'KPN_03488': 'A6TE99', 'KPN_03489': 'A6TEA0', 'KPN_04591': 'A6THA8', 'KPN_04590': 'A6THA7', 'KPN_03484': 'A6TE95', 'KPN_03485': 'A6TE96', 'KPN_03486': 'A6TE97', 'KPN_03487': 'A6TE98', 'KPN_03480': 'A6TE91', 'KPN_03481': 'A6TE92', 'KPN_03482': 'A6TE93', 'KPN_03483': 'A6TE94', 'KPN_04245': 'A6TGE0', 'KPN_pKPN5p08219': 'A6TJ26', 'KPN_04244': 'A6TGD9', 'KPN_pKPN3p06028': 'A6TII4', 'KPN_01217': 'A6T7S9', 'KPN_04330': 'A6TGL4', 'KPN_01419': 'A6T8D0', 'KPN_01418': 'A6T8C9', 'KPN_01216': 'A6T7S8', 'KPN_01415': 'A6T8C6', 'KPN_01414': 'A6T8C5', 'KPN_01417': 'A6T8C8', 'KPN_01416': 'A6T8C7', 'KPN_01411': 'A6T8C2', 'KPN_01410': 'A6T8C1', 'KPN_01413': 'A6T8C4', 'KPN_01412': 'A6T8C3', 'KPN_04363': 'A6TGN8', 'KPN_pKPN3p05969': 'A6TIC5', 'KPN_pKPN4p07047': 'A6TIK4', 'KPN_02883': 'A6TCH2', 'KPN_pKPN3p05968': 'A6TIC4', 'KPN_02882': 'A6TCH1', 'KPN_04469': 'A6TGZ0', 'KPN_04468': 'A6TGY9', 'KPN_04837': 'A6THZ6', 'KPN_04366': 'A6TGP1', 'KPN_04463': 'A6TGY4', 'KPN_04462': 'A6TGY3', 'KPN_04461': 'A6TGY2', 'KPN_04367': 'A6TGP2', 'KPN_04467': 'A6TGY8', 'KPN_04466': 'A6TGY7', 'KPN_04465': 'A6TGY6', 'KPN_04464': 'A6TGY5', 'KPN_04669': 'A6THI6', 'KPN_02924': 'A6TCK9', 'KPN_02925': 'A6TCL0', 'KPN_04661': 'A6THH8', 'KPN_01738': 'A6T998', 'KPN_04663': 'A6THI0', 'KPN_04662': 'A6THH9', 'KPN_04665': 'A6THI2', 'KPN_02926': 'A6TCL1', 'KPN_04667': 'A6THI4', 'KPN_01739': 'A6T999', 'KPN_pKPN5p08247': 'A6TJ54', 'KPN_02393': 'A6TB48', 'KPN_02927': 'A6TCL2', 'KPN_02392': 'A6TB47', 'KPN_02920': 'A6TCK5', 'KPN_02391': 'A6TB46', 'KPN_02921': 'A6TCK6', 'KPN_01521': 'A6T8N1', 'KPN_01520': 'A6T8N0', 'KPN_01523': 'A6T8N3', 'KPN_01522': 'A6T8N2', 'KPN_01525': 'A6T8N5', 'KPN_00317': 'A6T598', 'KPN_01527': 'A6T8N7', 'KPN_01526': 'A6T8N6', 'KPN_01529': 'A6T8N9', 'KPN_01528': 'A6T8N8', 'KPN_01218': 'A6T7T0', 'KPN_04335': 'A6TGL9', 'KPN_pKPN5p08246': 'A6TJ53', 'KPN_02396': 'A6TB51', 'KPN_02216': 'A6TAM1', 'KPN_02217': 'A6TAM2', 'KPN_02214': 'A6TAL9', 'KPN_02215': 'A6TAM0', 'KPN_01650': 'A6T910', 'KPN_02213': 'A6TAL8', 'KPN_02210': 'A6TAL5', 'KPN_02211': 'A6TAL6', 'KPN_02394': 'A6TB49', 'KPN_02218': 'A6TAM3', 'KPN_02219': 'A6TAM4', 'KPN_03066': 'A6TCZ6', 'KPN_02010': 'A6TA17', 'KPN_03064': 'A6TCZ4', 'KPN_03065': 'A6TCZ5', 'KPN_03062': 'A6TCZ2', 'KPN_01732': 'A6T992', 'KPN_03060': 'A6TCZ0', 'KPN_02011': 'A6TA18', 'KPN_04334': 'A6TGL8', 'KPN_01733': 'A6T993', 'KPN_pKPN5p08245': 'A6TJ52', 'KPN_02012': 'A6TA19', 'KPN_03068': 'A6TCZ8', 'KPN_03069': 'A6TCZ9', 'KPN_pKPN3p05967': 'A6TIC3', 'KPN_pKPN3p05966': 'A6TIC2', 'KPN_pKPN3p05965': 'A6TIC1', 'KPN_02013': 'A6TA20', 'KPN_04758': 'A6THS0', 'KPN_pKPN3p05962': 'A6TI40', 'KPN_pKPN3p05961': 'A6TIB7', 'KPN_pKPN3p05960': 'A6TIB6', 'KPN_02014': 'A6TA21', 'KPN_04373': 'A6TGP8', 'KPN_02508': 'A6TBF5', 'KPN_04863': 'A6TE56', 'KPN_02015': 'A6TA22', 'KPN_pKPN5p08221': 'A6TJ28', 'KPN_02509': 'A6TBF6', 'KPN_02016': 'A6TA23', 'KPN_pKPN5p08244': 'A6TJ51', 'KPN_02017': 'A6TA24', 'KPN_04051': 'A6TFV0', 'KPN_01635': 'A6T8Z5', 'KPN_01634': 'A6T8Z4', 'KPN_01637': 'A6T8Z7', 'KPN_01636': 'A6T8Z6', 'KPN_01631': 'A6T8Z1', 'KPN_01630': 'A6T8Z0', 'KPN_01633': 'A6T8Z3', 'KPN_01632': 'A6T8Z2', 'KPN_02502': 'A6TBE9', 'KPN_02503': 'A6TBF0', 'KPN_02500': 'A6TBE7', 'KPN_02501': 'A6TBE8', 'KPN_01639': 'A6T8Z9', 'KPN_01638': 'A6T8Z8', 'KPN_02504': 'A6TBF1', 'KPN_02505': 'A6TBF2', 'KPN_pKPN5p08238': 'A6TIK4', 'KPN_03118': 'A6TD48', 'KPN_03119': 'A6TD49', 'KPN_03112': 'A6TD42', 'KPN_03113': 'A6TD43', 'KPN_03110': 'A6TD40', 'KPN_03111': 'A6TD41', 'KPN_03116': 'A6TD46', 'KPN_03117': 'A6TD47', 'KPN_03114': 'A6TD44', 'KPN_03115': 'A6TD45', 'KPN_03385': 'A6TDW1', 'KPN_04834': 'A6THZ3', 'KPN_02506': 'A6TBF3', 'KPN_03384': 'A6TDW0', 'KPN_04158': 'A6TG57', 'KPN_02507': 'A6TBF4', 'KPN_pKPN5p08250': 'A6TJ57', 'KPN_pKPN5p08251': 'A6TJ58', 'KPN_pKPN5p08252': 'A6TJ59', 'KPN_pKPN5p08253': 'A6TIK6', 'KPN_pKPN5p08254': 'A6TJ61', 'KPN_pKPN5p08255': 'A6TJ62', 'KPN_pKPN5p08256': 'A6TJ63', 'KPN_pKPN5p08257': 'A6TJ64', 'KPN_02654': 'A6TBV0', 'KPN_04479': 'A6TH00', 'KPN_01749': 'A6T9A9', 'KPN_01748': 'A6T9A8', 'KPN_02445': 'A6TB94', 'KPN_02444': 'A6TB93', 'KPN_02443': 'A6TB92', 'KPN_00695': 'A6T6B7', 'KPN_00696': 'A6T6B8', 'KPN_00697': 'A6T6B9', 'KPN_00698': 'A6T6C0', 'KPN_00699': 'A6T6C1', 'KPN_01743': 'A6T9A3', 'KPN_01742': 'A6T9A2', 'KPN_01745': 'A6T9A5', 'KPN_01744': 'A6T9A4', 'KPN_01747': 'A6T9A7', 'KPN_01746': 'A6T9A6', 'KPN_pKPN4p07063': 'A6TIL9', 'KPN_pKPN3p05911': 'A6TI69', 'KPN_04054': 'A6TFV3', 'KPN_02521': 'A6TBG8', 'KPN_03808': 'A6TF61', 'KPN_03809': 'A6TF62', 'KPN_03800': 'A6TF53', 'KPN_03801': 'A6TF54', 'KPN_03802': 'A6TF55', 'KPN_03803': 'A6TF56', 'KPN_03804': 'A6TF57', 'KPN_03564': 'A6TEH5', 'KPN_03806': 'A6TF59', 'KPN_03807': 'A6TF60', 'KPN_01244': 'A6T7V6', 'KPN_01245': 'A6T7V7', 'KPN_01246': 'A6T7V8', 'KPN_01247': 'A6T7V9', 'KPN_01240': 'A6T7V2', 'KPN_01241': 'A6T7V3', 'KPN_01242': 'A6T7V4', 'KPN_01243': 'A6T7V5', 'KPN_02995': 'A6TCT0', 'KPN_02994': 'A6TCS9', 'KPN_02997': 'A6TCT2', 'KPN_02996': 'A6TCT1', 'KPN_01248': 'A6T7W0', 'KPN_01249': 'A6T7W1', 'KPN_02993': 'A6TCS8', 'KPN_02992': 'A6TCS7', 'KPN_00346': 'A6T5C7', 'KPN_00347': 'A6T5C8', 'KPN_00344': 'A6T5C5', 'KPN_00345': 'A6T5C6', 'KPN_00342': 'A6T5C3', 'KPN_00343': 'A6T5C4', 'KPN_00340': 'A6T5C1', 'KPN_00341': 'A6T5C2', 'KPN_00348': 'A6T5C9', 'KPN_00349': 'A6T5D0', 'KPN_03845': 'A6TF98', 'KPN_pKPN4p07055': 'A6TIL2', 'KPN_02336': 'A6TAZ1', 'KPN_04100': 'A6TFZ9', 'KPN_04101': 'A6TG00', 'KPN_04295': 'A6TGI3', 'KPN_01338': 'A6T849', 'KPN_01339': 'A6T850', 'KPN_00201': 'A6T4Z0', 'KPN_00200': 'A6T4Y9', 'KPN_00207': 'A6T4Z6', 'KPN_00206': 'A6T4Z5', 'KPN_00205': 'A6T4Z4', 'KPN_00204': 'A6T4Z3', 'KPN_01330': 'A6T841', 'KPN_01331': 'A6T842', 'KPN_01332': 'A6T843', 'KPN_01333': 'A6T844', 'KPN_01334': 'A6T845', 'KPN_01335': 'A6T846', 'KPN_01336': 'A6T847', 'KPN_01337': 'A6T848', 'KPN_04265': 'A6TGF3', 'KPN_04264': 'A6TGF2', 'KPN_04267': 'A6TGF5', 'KPN_04266': 'A6TGF4', 'KPN_pKPN3p06007': 'A6TIG3', 'KPN_04108': 'A6TG07', 'KPN_03187': 'A6TDB4', 'KPN_04269': 'A6TGF7', 'KPN_04268': 'A6TGF6', 'KPN_04109': 'A6TG08', 'KPN_pKPN3p05963': 'A6TIB2', 'KPN_04628': 'A6THE5', 'KPN_02620': 'A6TBR7', 'KPN_04633': 'A6THF0', 'KPN_03606': 'A6TEL5', 'KPN_pKPN5p08203': 'A6TJ10', 'KPN_03607': 'A6TEL6', 'KPN_03186': 'A6TDB3', 'KPN_03741': 'A6TEZ4', 'KPN_03604': 'A6TEL3', 'KPN_pKPN3p05876': 'A6TI34', 'KPN_03605': 'A6TEL4', 'KPN_04128': 'A6TG27', 'KPN_04129': 'A6TG28', 'KPN_04126': 'A6TG25', 'KPN_01859': 'A6T9L9', 'KPN_04124': 'A6TG23', 'KPN_04125': 'A6TG24', 'KPN_04122': 'A6TG21', 'KPN_04123': 'A6TG22', 'KPN_04120': 'A6TG19', 'KPN_01858': 'A6T9L8', 'KPN_00117': 'A6T4Q6', 'KPN_00116': 'A6T4Q5', 'KPN_00115': 'A6T4Q4', 'KPN_00114': 'A6T4Q3', 'KPN_00113': 'A6T4Q2', 'KPN_00112': 'A6T4Q1', 'KPN_00111': 'A6T4Q0', 'KPN_00110': 'A6T4P9', 'KPN_03668': 'A6TES6', 'KPN_03669': 'A6TES7', 'KPN_03740': 'A6TEZ3', 'KPN_03601': 'A6TEL0', 'KPN_04843': 'A6TI02', 'KPN_00119': 'A6T4Q8', 'KPN_00118': 'A6T4Q7', 'KPN_04639': 'A6THF6', 'KPN_01857': 'A6T9L7', 'KPN_03747': 'A6TF00', 'KPN_pKPN3p05988': 'A6TIE4', 'KPN_02528': 'A6TBH5', 'KPN_04694': 'A6THL0', 'KPN_02766': 'A6TC55', 'KPN_04696': 'A6THL2', 'KPN_04697': 'A6THL3', 'KPN_04690': 'A6THK6', 'KPN_04691': 'A6THK7', 'KPN_04692': 'A6THK8', 'KPN_02767': 'A6TC56', 'KPN_04698': 'A6THL4', 'KPN_02764': 'A6TC53', 'KPN_04052': 'A6TFV1', 'KPN_02959': 'A6TCP4', 'KPN_04050': 'A6TFU9', 'KPN_02765': 'A6TC54', 'KPN_04056': 'A6TFV5', 'KPN_04057': 'A6TFV6', 'KPN_03746': 'A6TEZ9', 'KPN_02811': 'A6TCA0', 'KPN_02762': 'A6TC51', 'KPN_04058': 'A6TFV7', 'KPN_04059': 'A6TFV8', 'KPN_02763': 'A6TC52', 'KPN_02760': 'A6TC49', 'KPN_pKPN3p06012': 'A6TIG8', 'KPN_02761': 'A6TC50', 'KPN_04377': 'A6TGQ2', 'KPN_04365': 'A6TGP0', 'KPN_00975': 'A6T740', 'KPN_00974': 'A6T739', 'KPN_00977': 'A6T742', 'KPN_00976': 'A6T741', 'KPN_00971': 'A6T736', 'KPN_00970': 'A6T735', 'KPN_00973': 'A6T738', 'KPN_00972': 'A6T737', 'KPN_02049': 'A6TA56', 'KPN_02048': 'A6TA55', 'KPN_00979': 'A6T744', 'KPN_00978': 'A6T743', 'KPN_03273': 'A6TDK0', 'KPN_02951': 'A6TCN6', 'KPN_03271': 'A6TDJ8', 'KPN_03270': 'A6TDJ7', 'KPN_03277': 'A6TDK4', 'KPN_03276': 'A6TDK3', 'KPN_03275': 'A6TDK2', 'KPN_02950': 'A6TCN5', 'KPN_04580': 'A6TH97', 'KPN_04581': 'A6TH98', 'KPN_03279': 'A6TDK6', 'KPN_03278': 'A6TDK5', 'KPN_04584': 'A6THA1', 'KPN_04585': 'A6THA2', 'KPN_04586': 'A6THA3', 'KPN_02442': 'A6TB91', 'KPN_03471': 'A6TE46', 'KPN_03470': 'A6TE45', 'KPN_03473': 'A6TE48', 'KPN_03472': 'A6TE47', 'KPN_03475': 'A6TE50', 'KPN_02441': 'A6TB90', 'KPN_03477': 'A6TE88', 'KPN_03479': 'A6TE90', 'KPN_03478': 'A6TE89', 'KPN_02440': 'A6TB89', 'KPN_03274': 'A6TDK1', 'KPN_01741': 'A6T9A1', 'KPN_pKPN5p08236': 'A6TJ43', 'KPN_01740': 'A6T9A0', 'KPN_pKPN4p07075': 'A6TIN1', 'KPN_02308': 'A6TAW3', 'KPN_02309': 'A6TAW4', 'KPN_00809': 'A6T6M4', 'KPN_00808': 'A6T6M3', 'KPN_01408': 'A6T8B9', 'KPN_01409': 'A6T8C0', 'KPN_00801': 'A6T6L6', 'KPN_00800': 'A6T6L5', 'KPN_00803': 'A6T6L8', 'KPN_00802': 'A6T6L7', 'KPN_00805': 'A6T6M0', 'KPN_00804': 'A6T6L9', 'KPN_00807': 'A6T6M2', 'KPN_00806': 'A6T6M1', 'KPN_pKPN5p08237': 'A6TJ44', 'KPN_02449': 'A6TB96', 'KPN_04880': 'A6TE73', 'KPN_02195': 'A6TAK2', 'KPN_02194': 'A6TAK1', 'KPN_02197': 'A6TAK4', 'KPN_02196': 'A6TAK3', 'KPN_02191': 'A6TAJ8', 'KPN_02190': 'A6TAJ7', 'KPN_02193': 'A6TAK0', 'KPN_02192': 'A6TAJ9', 'KPN_04474': 'A6TGZ5', 'KPN_04475': 'A6TGZ6', 'KPN_04476': 'A6TGZ7', 'KPN_04477': 'A6TGZ8', 'KPN_02199': 'A6TAK6', 'KPN_02198': 'A6TAK5', 'KPN_04472': 'A6TGZ3', 'KPN_04473': 'A6TGZ4', 'KPN_03585': 'A6TEJ4', 'KPN_03587': 'A6TEJ6', 'KPN_03586': 'A6TEJ5', 'KPN_03581': 'A6TEJ1', 'KPN_02302': 'A6TAV7', 'KPN_03583': 'A6TEJ3', 'KPN_03582': 'A6TEJ2', 'KPN_04672': 'A6THI9', 'KPN_04673': 'A6THJ0', 'KPN_04670': 'A6THI7', 'KPN_02303': 'A6TAV8', 'KPN_03589': 'A6TEJ8', 'KPN_03588': 'A6TEJ7', 'KPN_02385': 'A6TB40', 'KPN_04675': 'A6THJ2', 'KPN_pKPN5p08174': 'A6TIQ4', 'KPN_03633': 'A6TEP2', 'KPN_04200': 'A6TG95', 'KPN_01532': 'A6T8P2', 'KPN_01533': 'A6T8P3', 'KPN_01530': 'A6T8P0', 'KPN_01531': 'A6T8P1', 'KPN_01536': 'A6T8P6', 'KPN_01537': 'A6T8P7', 'KPN_01534': 'A6T8P4', 'KPN_01535': 'A6T8P5', 'KPN_02223': 'A6TAM8', 'KPN_02222': 'A6TAM7', 'KPN_01538': 'A6T8P8', 'KPN_01539': 'A6T8P9', 'KPN_02227': 'A6TAN2', 'KPN_02226': 'A6TAN1', 'KPN_02225': 'A6TAN0', 'KPN_02224': 'A6TAM9', 'KPN_03059': 'A6TCY9', 'KPN_03058': 'A6TCY8', 'KPN_04079': 'A6TFX8', 'KPN_03053': 'A6TCY3', 'KPN_03052': 'A6TCY2', 'KPN_03051': 'A6TCY1', 'KPN_03050': 'A6TCY0', 'KPN_03057': 'A6TCY7', 'KPN_03056': 'A6TCY6', 'KPN_03055': 'A6TCY5', 'KPN_03054': 'A6TCY4', 'KPN_03299': 'A6TDM6', 'KPN_03298': 'A6TDM5', 'KPN_04770': 'A6THT2', 'KPN_03291': 'A6TDL8', 'KPN_03290': 'A6TDL7', 'KPN_03293': 'A6TDM0', 'KPN_03292': 'A6TDL9', 'KPN_03295': 'A6TDM2', 'KPN_03294': 'A6TDM1', 'KPN_03297': 'A6TDM4', 'KPN_03296': 'A6TDM3', 'KPN_00593': 'A6T622', 'KPN_00592': 'A6T621', 'KPN_00591': 'A6T620', 'KPN_00590': 'A6T619', 'KPN_00597': 'A6T626', 'KPN_00596': 'A6T625', 'KPN_00595': 'A6T624', 'KPN_00594': 'A6T623', 'KPN_00599': 'A6T628', 'KPN_00598': 'A6T627', 'KPN_pKPN3p05978': 'A6TID4', 'KPN_pKPN3p05979': 'A6TID5', 'KPN_00755': 'A6T6H0', 'KPN_00754': 'A6T6G9', 'KPN_00757': 'A6T6H2', 'KPN_00756': 'A6T6H1', 'KPN_00759': 'A6T6H4', 'KPN_00758': 'A6T6H3', 'KPN_04812': 'A6THX4', 'KPN_01626': 'A6T8Y6', 'KPN_01627': 'A6T8Y7', 'KPN_01624': 'A6T8Y4', 'KPN_01625': 'A6T8Y5', 'KPN_01622': 'A6T8Y2', 'KPN_01623': 'A6T8Y3', 'KPN_01620': 'A6T8Y0', 'KPN_01621': 'A6T8Y1', 'KPN_02537': 'A6TBI4', 'KPN_02536': 'A6TBI3', 'KPN_02535': 'A6TBI2', 'KPN_02534': 'A6TBI1', 'KPN_02533': 'A6TBI0', 'KPN_02532': 'A6TBH9', 'KPN_01628': 'A6T8Y8', 'KPN_01629': 'A6T8Y9', 'KPN_03129': 'A6TD59', 'KPN_03128': 'A6TD58', 'KPN_03127': 'A6TD57', 'KPN_03126': 'A6TD56', 'KPN_03125': 'A6TD55', 'KPN_03124': 'A6TD54', 'KPN_03123': 'A6TD53', 'KPN_03122': 'A6TD52', 'KPN_03121': 'A6TD51', 'KPN_03120': 'A6TD50', 'KPN_04293': 'A6TGI1', 'KPN_pKPN5p08231': 'A6TJ37', 'KPN_04442': 'A6TGW3', 'KPN_03738': 'A6TEZ1', 'KPN_03805': 'A6TF58', 'KPN_02458': 'A6TBA5', 'KPN_02459': 'A6TBA6', 'KPN_03739': 'A6TEZ2', 'KPN_02450': 'A6TB97', 'KPN_02451': 'A6TB98', 'KPN_02452': 'A6TB99', 'KPN_02453': 'A6TBA0', 'KPN_02454': 'A6TBA1', 'KPN_02455': 'A6TBA2', 'KPN_02456': 'A6TBA3', 'KPN_02457': 'A6TBA4', 'KPN_04542': 'A6TH62', 'KPN_01758': 'A6T9B8', 'KPN_01759': 'A6T9B9', 'KPN_01752': 'A6T9B2', 'KPN_01753': 'A6T9B3', 'KPN_01750': 'A6T9B0', 'KPN_01751': 'A6T9B1', 'KPN_01756': 'A6T9B6', 'KPN_01757': 'A6T9B7', 'KPN_01754': 'A6T9B4', 'KPN_01755': 'A6T9B5', 'KPN_03732': 'A6TEY5', 'KPN_02858': 'A6TCE7', 'KPN_04572': 'A6TH89', 'KPN_03733': 'A6TEY6', 'KPN_02999': 'A6TCT4', 'KPN_pKPN4p07160': 'A6TIJ3', 'KPN_04525': 'A6TH45', 'KPN_04131': 'A6TG30', 'KPN_02998': 'A6TCT3', 'KPN_03731': 'A6TEY4', 'KPN_03879': 'A6TFD2', 'KPN_03878': 'A6TFD1', 'KPN_03875': 'A6TFC8', 'KPN_03874': 'A6TFC7', 'KPN_03877': 'A6TFD0', 'KPN_03876': 'A6TFC9', 'KPN_03871': 'A6TFC4', 'KPN_02488': 'A6TBD5', 'KPN_03873': 'A6TFC6', 'KPN_03872': 'A6TFC5', 'KPN_04870': 'A6TE63', 'KPN_04867': 'A6TE60', 'KPN_00379': 'A6T5G0', 'KPN_00378': 'A6T5F9', 'KPN_04874': 'A6TE67', 'KPN_04875': 'A6TE68', 'KPN_02988': 'A6TCS3', 'KPN_02989': 'A6TCS4', 'KPN_00373': 'A6T5F4', 'KPN_00372': 'A6T5F3', 'KPN_00371': 'A6T5F2', 'KPN_00370': 'A6T5F1', 'KPN_00377': 'A6T5F8', 'KPN_00376': 'A6T5F7', 'KPN_00375': 'A6T5F6', 'KPN_00374': 'A6T5F5', 'KPN_00579': 'A6T608', 'KPN_00578': 'A6T607', 'KPN_04864': 'A6TE57', 'KPN_00571': 'A6T600', 'KPN_00570': 'A6T5Z9', 'KPN_00573': 'A6T602', 'KPN_00572': 'A6T601', 'KPN_00575': 'A6T604', 'KPN_00574': 'A6T603', 'KPN_00577': 'A6T606', 'KPN_00576': 'A6T605', 'KPN_pKPN5p08191': 'A6TIZ8', 'KPN_04813': 'A6THX5', 'KPN_04861': 'A6TE54', 'KPN_04860': 'A6TE53', 'KPN_01781': 'A6T9E1', 'KPN_01780': 'A6T9E0', 'KPN_00214': 'A6T503', 'KPN_03900': 'A6TBL8', 'KPN_03903': 'A6TFF5', 'KPN_00210': 'A6T4Z9', 'KPN_00211': 'A6T500', 'KPN_00212': 'A6T501', 'KPN_00213': 'A6T502', 'KPN_01345': 'A6T856', 'KPN_01344': 'A6T855', 'KPN_01347': 'A6T858', 'KPN_01346': 'A6T857', 'KPN_01341': 'A6T852', 'KPN_01340': 'A6T851', 'KPN_01343': 'A6T854', 'KPN_01342': 'A6T853', 'KPN_04276': 'A6TGG4', 'KPN_04277': 'A6TGG5', 'KPN_01189': 'A6T7Q1', 'KPN_01188': 'A6T7Q0', 'KPN_04272': 'A6TGG0', 'KPN_02614': 'A6TBR1', 'KPN_04270': 'A6TGF8', 'KPN_04271': 'A6TGF9', 'KPN_01183': 'A6T7P5', 'KPN_01182': 'A6T7P4', 'KPN_01181': 'A6T7P3', 'KPN_01180': 'A6T7P2', 'KPN_01187': 'A6T7P9', 'KPN_01186': 'A6T7P8', 'KPN_01185': 'A6T7P7', 'KPN_01184': 'A6T7P6', 'KPN_03179': 'A6TDA6', 'KPN_02618': 'A6TBR5', 'KPN_02619': 'A6TBR6', 'KPN_00108': 'A6T4P7', 'KPN_00109': 'A6T4P8', 'KPN_04111': 'A6TG10', 'KPN_04110': 'A6TG09', 'KPN_04117': 'A6TG16', 'KPN_04116': 'A6TG15', 'KPN_04115': 'A6TG14', 'KPN_04114': 'A6TG13', 'KPN_00100': 'A6T4N9', 'KPN_00101': 'A6T4P0', 'KPN_00102': 'A6T4P1', 'KPN_00103': 'A6T4P2', 'KPN_00104': 'A6T4P3', 'KPN_00105': 'A6T4P4', 'KPN_00106': 'A6T4P5', 'KPN_00107': 'A6T4P6', 'KPN_01983': 'A6T9Z3', 'KPN_01982': 'A6T9Z2', 'KPN_01981': 'A6T9Z1', 'KPN_01980': 'A6T9Z0', 'KPN_01987': 'A6T9Z7', 'KPN_01986': 'A6T9Z6', 'KPN_01985': 'A6T9Z5', 'KPN_01984': 'A6T9Z4', 'KPN_01989': 'A6T9Z9', 'KPN_01988': 'A6T9Z8', 'KPN_03619': 'A6TEM8', 'KPN_03618': 'A6TEM7', 'KPN_03555': 'A6TEG6', 'KPN_01299': 'A6T811', 'KPN_01298': 'A6T810', 'KPN_01297': 'A6T809', 'KPN_01296': 'A6T808', 'KPN_01295': 'A6T807', 'KPN_01294': 'A6T806', 'KPN_01293': 'A6T805', 'KPN_01292': 'A6T804', 'KPN_01291': 'A6T803', 'KPN_01290': 'A6T802', 'KPN_01969': 'A6T9X9', 'KPN_01968': 'A6T9X8', 'KPN_01961': 'A6T9X1', 'KPN_01960': 'A6T9X0', 'KPN_01963': 'A6T9X3', 'KPN_01962': 'A6T9X2', 'KPN_01965': 'A6T9X5', 'KPN_01964': 'A6T9X4', 'KPN_01967': 'A6T9X7', 'KPN_01966': 'A6T9X6', 'KPN_03174': 'A6TDA1', 'KPN_02538': 'A6TBI5', 'KPN_03729': 'A6TEY2', 'KPN_03728': 'A6TEY1', 'KPN_04065': 'A6TFW4', 'KPN_04064': 'A6TFW3', 'KPN_04063': 'A6TFW2', 'KPN_04062': 'A6TFW1', 'KPN_04061': 'A6TFW0', 'KPN_04060': 'A6TFV9', 'KPN_03721': 'A6TEX4', 'KPN_03720': 'A6TEX3', 'KPN_03723': 'A6TEX6', 'KPN_03722': 'A6TEX5', 'KPN_03725': 'A6TEX8', 'KPN_03724': 'A6TEX7', 'KPN_03727': 'A6TEY0', 'KPN_03726': 'A6TEX9', 'KPN_pKPN3p06019': 'A6TIH5', 'KPN_02371': 'A6TB26', 'KPN_03175': 'A6TDA2', 'KPN_03162': 'A6TD92', 'KPN_04400': 'A6TGS1', 'KPN_pKPN3p05865': 'A6TI23', 'KPN_pKPN3p06037': 'A6TIJ3', 'KPN_03161': 'A6TD91', 'KPN_00966': 'A6T731', 'KPN_00967': 'A6T732', 'KPN_00964': 'A6T729', 'KPN_00965': 'A6T730', 'KPN_00962': 'A6T727', 'KPN_00963': 'A6T728', 'KPN_00960': 'A6T725', 'KPN_00961': 'A6T726', 'KPN_pKPN4p07142': 'A6TIU8', 'KPN_02058': 'A6TA65', 'KPN_02059': 'A6TA66', 'KPN_00968': 'A6T733', 'KPN_00969': 'A6T734', 'KPN_03264': 'A6TDJ1', 'KPN_03176': 'A6TDA3', 'KPN_03266': 'A6TDJ3', 'KPN_03267': 'A6TDJ4', 'KPN_03260': 'A6TDI7', 'KPN_03261': 'A6TDI8', 'KPN_03262': 'A6TDI9', 'KPN_03263': 'A6TDJ0', 'KPN_03164': 'A6TD94', 'KPN_03268': 'A6TDJ5', 'KPN_03269': 'A6TDJ6', 'KPN_03462': 'A6TE37', 'KPN_03463': 'A6TE38', 'KPN_03460': 'A6TE35', 'KPN_03461': 'A6TE36', 'KPN_03466': 'A6TE41', 'KPN_03467': 'A6TE42', 'KPN_03170': 'A6TD97', 'KPN_03465': 'A6TE40', 'KPN_02923': 'A6TCK8', 'KPN_03468': 'A6TE43', 'KPN_03469': 'A6TE44', 'KPN_pKPN5p08161': 'A6TIW8', 'KPN_04613': 'A6THD0', 'KPN_pKPN4p07159': 'A6TIJ2', 'KPN_04174': 'A6TG69', 'KPN_pKPN5p08167': 'A6TIX4', 'KPN_01433': 'A6T8E4', 'KPN_01432': 'A6T8E3', 'KPN_00818': 'A6T6N3', 'KPN_00819': 'A6T6N4', 'KPN_01437': 'A6T8E8', 'KPN_01436': 'A6T8E7', 'KPN_01435': 'A6T8E6', 'KPN_01434': 'A6T8E5', 'KPN_00812': 'A6T6M7', 'KPN_00813': 'A6T6M8', 'KPN_00810': 'A6T6M5', 'KPN_00811': 'A6T6M6', 'KPN_00816': 'A6T6N1', 'KPN_00817': 'A6T6N2', 'KPN_00814': 'A6T6M9', 'KPN_00815': 'A6T6N0', 'KPN_pKPN5p08178': 'A6TIY5', 'KPN_03995': 'A6TFP6', 'KPN_04583': 'A6THA0', 'KPN_04862': 'A6TE55', 'KPN_02186': 'A6TAJ3', 'KPN_00203': 'A6T4Z2', 'KPN_02184': 'A6TAJ1', 'KPN_02185': 'A6TAJ2', 'KPN_02182': 'A6TAI9', 'KPN_02183': 'A6TAJ0', 'KPN_02180': 'A6TAI7', 'KPN_00202': 'A6T4Z1', 'KPN_04489': 'A6TH10', 'KPN_04488': 'A6TH09', 'KPN_03171': 'A6TD98', 'KPN_02188': 'A6TAJ5', 'KPN_02189': 'A6TAJ6', 'KPN_03596': 'A6TEK5', 'KPN_03597': 'A6TEK6', 'KPN_03594': 'A6TEK3', 'KPN_03595': 'A6TEK4', 'KPN_03592': 'A6TEK1', 'KPN_03593': 'A6TEK2', 'KPN_03590': 'A6TEJ9', 'KPN_03591': 'A6TEK0', 'KPN_04647': 'A6THG4', 'KPN_04646': 'A6THG3', 'KPN_04645': 'A6THG2', 'KPN_04644': 'A6THG1', 'KPN_04643': 'A6THG0', 'KPN_04642': 'A6THF9', 'KPN_03598': 'A6TEK7', 'KPN_03599': 'A6TEK8', 'KPN_pKPN4p07153': 'A6TIV9', 'KPN_pKPN4p07065': 'A6TIM1', 'KPN_04309': 'A6TGJ3', 'KPN_03387': 'A6TDW3', 'KPN_01507': 'A6T8L7', 'KPN_01506': 'A6T8L6', 'KPN_01505': 'A6T8L5', 'KPN_01504': 'A6T8L4', 'KPN_01503': 'A6T8L3', 'KPN_01502': 'A6T8L2', 'KPN_01501': 'A6T8L1', 'KPN_01500': 'A6T8L0', 'KPN_02234': 'A6TAN9', 'KPN_02235': 'A6TAP0', 'KPN_02236': 'A6TAP1', 'KPN_02237': 'A6TAP2', 'KPN_02230': 'A6TAN5', 'KPN_00209': 'A6T4Z8', 'KPN_01509': 'A6T8L9', 'KPN_01508': 'A6T8L8', 'KPN_03764': 'A6TF17', 'KPN_00208': 'A6T4Z7', 'KPN_03048': 'A6TCX8', 'KPN_03049': 'A6TCX9', 'KPN_03044': 'A6TCX4', 'KPN_03045': 'A6TCX5', 'KPN_03046': 'A6TCX6', 'KPN_03047': 'A6TCX7', 'KPN_03040': 'A6TCX0', 'KPN_03041': 'A6TCX1', 'KPN_03042': 'A6TCX2', 'KPN_02531': 'A6TBH8', 'KPN_03288': 'A6TDL5', 'KPN_03289': 'A6TDL6', 'KPN_03282': 'A6TDK9', 'KPN_03283': 'A6TDL0', 'KPN_03280': 'A6TDK7', 'KPN_03281': 'A6TDK8', 'KPN_03286': 'A6TDL3', 'KPN_03287': 'A6TDL4', 'KPN_03284': 'A6TDL1', 'KPN_03285': 'A6TDL2', 'KPN_00584': 'A6T613', 'KPN_00585': 'A6T614', 'KPN_00586': 'A6T615', 'KPN_00587': 'A6T616', 'KPN_00580': 'A6T609', 'KPN_00581': 'A6T610', 'KPN_00582': 'A6T611', 'KPN_00583': 'A6T612', 'KPN_pKPN3p05949': 'A6TIA5', 'KPN_03775': 'A6TF28', 'KPN_03464': 'A6TE39', 'KPN_00588': 'A6T617', 'KPN_00589': 'A6T618', 'KPN_00742': 'A6T6G4', 'KPN_00743': 'A6T6G5', 'KPN_00740': 'A6T6G2', 'KPN_00741': 'A6T6G3', 'KPN_00746': 'A6T6G8', 'KPN_00744': 'A6T6G6', 'KPN_00745': 'A6T6G7', 'KPN_01613': 'A6T8X3', 'KPN_01612': 'A6T8X2', 'KPN_01611': 'A6T8X1', 'KPN_01610': 'A6T8X0', 'KPN_01617': 'A6T8X7', 'KPN_01616': 'A6T8X6', 'KPN_01615': 'A6T8X5', 'KPN_01614': 'A6T8X4', 'KPN_02520': 'A6TBG7', 'KPN_02414': 'A6TB66', 'KPN_02522': 'A6TBG9', 'KPN_02523': 'A6TBH0', 'KPN_02524': 'A6TBH1', 'KPN_02525': 'A6TBH2', 'KPN_02526': 'A6TBH3', 'KPN_02415': 'A6TB67', 'KPN_02390': 'A6TB45', 'KPN_02529': 'A6TBH6', 'KPN_02416': 'A6TB68', 'KPN_04088': 'A6TFY7', 'KPN_03130': 'A6TD60', 'KPN_03131': 'A6TD61', 'KPN_03132': 'A6TD62', 'KPN_02417': 'A6TB69', 'KPN_03134': 'A6TD64', 'KPN_03135': 'A6TD65', 'KPN_03136': 'A6TD66', 'KPN_03137': 'A6TD67', 'KPN_03138': 'A6TD68', 'KPN_02410': 'A6TB62', 'KPN_04364': 'A6TGN9', 'KPN_pKPN5p08201': 'A6TJ08', 'KPN_02411': 'A6TB63', 'KPN_04811': 'A6THX3', 'KPN_02412': 'A6TB64', 'KPN_02397': 'A6TB52', 'KPN_02413': 'A6TB65', 'KPN_pKPN5p08184': 'A6TIZ1', 'KPN_02429': 'A6TB81', 'KPN_02428': 'A6TB80', 'KPN_pKPN5p08185': 'A6TIZ2', 'KPN_02425': 'A6TB77', 'KPN_02424': 'A6TB76', 'KPN_02427': 'A6TB79', 'KPN_02426': 'A6TB78', 'KPN_02421': 'A6TB73', 'KPN_02420': 'A6TB72', 'KPN_02423': 'A6TB75', 'KPN_02422': 'A6TB74', 'KPN_01422': 'A6T8D3', 'KPN_01769': 'A6T9C9', 'KPN_01768': 'A6T9C8', 'KPN_01767': 'A6T9C7', 'KPN_01766': 'A6T9C6', 'KPN_01765': 'A6T9C5', 'KPN_01423': 'A6T8D4', 'KPN_01763': 'A6T9C3', 'KPN_01762': 'A6T9C2', 'KPN_01761': 'A6T9C1', 'KPN_01760': 'A6T9C0', 'KPN_pKPN5p08183': 'A6TIZ0', 'KPN_04878': 'A6TE71', 'KPN_02122': 'A6TAC9', 'KPN_02395': 'A6TB50', 'KPN_04543': 'A6TH63', 'KPN_pKPN4p07038': 'A6TI17', 'KPN_03868': 'A6TFC1', 'KPN_03869': 'A6TFC2', 'KPN_03866': 'A6TFB9', 'KPN_01428': 'A6T8D9', 'KPN_03864': 'A6TFB7', 'KPN_03865': 'A6TFB8', 'KPN_03862': 'A6TFB5', 'KPN_03863': 'A6TFB6', 'KPN_03860': 'A6TFB3', 'KPN_01429': 'A6T8E0', 'KPN_04805': 'A6THW7', 'KPN_04804': 'A6THW6', 'KPN_04807': 'A6THW9', 'KPN_04806': 'A6THW8', 'KPN_00368': 'A6T5E9', 'KPN_00369': 'A6T5F0', 'KPN_04803': 'A6THW5', 'KPN_04802': 'A6THW4', 'KPN_00364': 'A6T5E5', 'KPN_00365': 'A6T5E6', 'KPN_00366': 'A6T5E7', 'KPN_00367': 'A6T5E8', 'KPN_00360': 'A6T5E1', 'KPN_00361': 'A6T5E2', 'KPN_00362': 'A6T5E3', 'KPN_00363': 'A6T5E4', 'KPN_02731': 'A6TC26', 'KPN_02730': 'A6TC25', 'KPN_00568': 'A6T5Z7', 'KPN_00569': 'A6T5Z8', 'KPN_02735': 'A6TC30', 'KPN_01659': 'A6T919', 'KPN_02737': 'A6TC32', 'KPN_02736': 'A6TC31', 'KPN_00562': 'A6T5Z1', 'KPN_00563': 'A6T5Z2', 'KPN_00560': 'A6T5Y9', 'KPN_00561': 'A6T5Z0', 'KPN_00566': 'A6T5Z5', 'KPN_00567': 'A6T5Z6', 'KPN_00564': 'A6T5Z3', 'KPN_00565': 'A6T5Z4', 'KPN_04705': 'A6THM1', 'KPN_04317': 'A6TGK1', 'KPN_pKPN5p08220': 'A6TJ27', 'KPN_pKPN3p06001': 'A6TIF7', 'KPN_04412': 'A6TGT3', 'KPN_04316': 'A6TGK0', 'KPN_03912': 'A6TFG4', 'KPN_03913': 'A6TFG5', 'KPN_03910': 'A6TFG2', 'KPN_03911': 'A6TFG3', 'KPN_03916': 'A6TFG8', 'KPN_01651': 'A6T911', 'KPN_01358': 'A6T869', 'KPN_01359': 'A6T870', 'KPN_01356': 'A6T867', 'KPN_01357': 'A6T868', 'KPN_01354': 'A6T865', 'KPN_01355': 'A6T866', 'KPN_01352': 'A6T863', 'KPN_01353': 'A6T864', 'KPN_01350': 'A6T861', 'KPN_01351': 'A6T862', 'KPN_02887': 'A6TCH6', 'KPN_02886': 'A6TCH5', 'KPN_02885': 'A6TCH4', 'KPN_02884': 'A6TCH3', 'KPN_01198': 'A6T7R0', 'KPN_01199': 'A6T7R1', 'KPN_02881': 'A6TCH0', 'KPN_02880': 'A6TCG9', 'KPN_01194': 'A6T7Q6', 'KPN_01195': 'A6T7Q7', 'KPN_01196': 'A6T7Q8', 'KPN_01197': 'A6T7Q9', 'KPN_01190': 'A6T7Q2', 'KPN_01191': 'A6T7Q3', 'KPN_01192': 'A6T7Q4', 'KPN_01193': 'A6T7Q5', 'KPN_04239': 'A6TGD4', 'KPN_pKPN4p07056': 'A6TIL3', 'KPN_pKPN5p08211': 'A6TJ18', 'KPN_03627': 'A6TEN6', 'KPN_04209': 'A6TGA4', 'KPN_04559': 'A6TH79', 'KPN_04104': 'A6TG03', 'KPN_04105': 'A6TG04', 'KPN_04106': 'A6TG05', 'KPN_04107': 'A6TG06', 'KPN_00179': 'A6T4W8', 'KPN_00178': 'A6T4W7', 'KPN_04102': 'A6TG01', 'KPN_04103': 'A6TG02', 'KPN_00175': 'A6T4W4', 'KPN_00174': 'A6T4W3', 'KPN_00177': 'A6T4W6', 'KPN_00176': 'A6T4W5', 'KPN_00171': 'A6T4W0', 'KPN_00170': 'A6T4V9', 'KPN_00173': 'A6T4W2', 'KPN_00172': 'A6T4W1', 'KPN_01994': 'A6TA04', 'KPN_01995': 'A6TA05', 'KPN_01996': 'A6TA06', 'KPN_01997': 'A6TA07', 'KPN_01990': 'A6TA00', 'KPN_01991': 'A6TA01', 'KPN_01992': 'A6TA02', 'KPN_01993': 'A6TA03', 'KPN_pKPN5p08224': 'A6TJ31', 'KPN_01998': 'A6TA08', 'KPN_01999': 'A6TA09', 'KPN_03608': 'A6TEL7', 'KPN_03609': 'A6TEL8', 'KPN_01280': 'A6T7Z2', 'KPN_01281': 'A6T7Z3', 'KPN_01282': 'A6T7Z4', 'KPN_01283': 'A6T7Z5', 'KPN_01284': 'A6T7Z6', 'KPN_01285': 'A6T7Z7', 'KPN_01286': 'A6T7Z8', 'KPN_01287': 'A6T7Z9', 'KPN_01288': 'A6T800', 'KPN_01289': 'A6T801', 'KPN_02953': 'A6TCN8', 'KPN_02952': 'A6TCN7', 'KPN_02955': 'A6TCP0', 'KPN_02954': 'A6TCN9', 'KPN_02957': 'A6TCP2', 'KPN_02956': 'A6TCP1', 'KPN_01978': 'A6T9Y8', 'KPN_01979': 'A6T9Y9', 'KPN_03810': 'A6TF63', 'KPN_01972': 'A6T9Y2', 'KPN_01973': 'A6T9Y3', 'KPN_01970': 'A6T9Y0', 'KPN_01971': 'A6T9Y1', 'KPN_01976': 'A6T9Y6', 'KPN_01977': 'A6T9Y7', 'KPN_01974': 'A6T9Y4', 'KPN_01975': 'A6T9Y5', 'KPN_04078': 'A6TFX7', 'KPN_03743': 'A6TEZ6', 'KPN_03778': 'A6TF31', 'KPN_04555': 'A6TH75', 'KPN_03742': 'A6TEZ5', 'KPN_04070': 'A6TFW9', 'KPN_04071': 'A6TFX0', 'KPN_04072': 'A6TFX1', 'KPN_04073': 'A6TFX2', 'KPN_04074': 'A6TFX3', 'KPN_03602': 'A6TEL1', 'KPN_04076': 'A6TFX5', 'KPN_04077': 'A6TFX6', 'KPN_00001': 'A6T4E1', 'KPN_04799': 'A6THW1', 'KPN_00003': 'A6T4E3', 'KPN_00002': 'A6T4E2', 'KPN_00005': 'A6T4E5', 'KPN_00004': 'A6T4E4', 'KPN_00007': 'A6T4E7', 'KPN_00006': 'A6T4E6', 'KPN_00009': 'A6T4E9', 'KPN_00008': 'A6T4E8', 'KPN_03730': 'A6TEY3', 'KPN_02359': 'A6TB14', 'KPN_03736': 'A6TEY9', 'KPN_03737': 'A6TEZ0', 'KPN_03734': 'A6TEY7', 'KPN_03735': 'A6TEY8', 'KPN_03779': 'A6TF32', 'KPN_04653': 'A6THH0', 'KPN_03745': 'A6TEZ8', 'KPN_04835': 'A6THZ4', 'KPN_03603': 'A6TEL2', 'KPN_04836': 'A6THZ5', 'KPN_03660': 'A6TER8', 'KPN_03163': 'A6TD93', 'KPN_pKPN5p08164': 'A6TIX1', 'KPN_03661': 'A6TER9', 'KPN_04788': 'A6THV0', 'KPN_04830': 'A6THY9', 'KPN_04657': 'A6THH4', 'KPN_03662': 'A6TES0', 'KPN_04831': 'A6THZ0', 'KPN_04658': 'A6THH5', 'KPN_04816': 'A6THX8', 'KPN_03663': 'A6TES1', 'KPN_04832': 'A6THZ1', 'KPN_04659': 'A6THH6', 'KPN_03600': 'A6TEK9', 'KPN_04833': 'A6THZ2', 'KPN_04793': 'A6THV5', 'KPN_03665': 'A6TES3', 'KPN_03457': 'A6TE32', 'KPN_03456': 'A6TE31', 'KPN_03455': 'A6TE30', 'KPN_03454': 'A6TE29', 'KPN_03453': 'A6TE28', 'KPN_03452': 'A6TE27', 'KPN_03451': 'A6TE26', 'KPN_03450': 'A6TE25', 'KPN_04795': 'A6THV7', 'KPN_03667': 'A6TES5', 'KPN_pKPN5p08234': 'A6TJ41', 'KPN_03459': 'A6TE34', 'KPN_03458': 'A6TE33', 'KPN_04817': 'A6THX9', 'KPN_03981': 'A6TFN2', 'KPN_pKPN4p07082': 'A6TIN8', 'KPN_03980': 'A6TFN1', 'KPN_04578': 'A6TH95', 'KPN_02667': 'A6TBW3', 'KPN_03983': 'A6TFN4', 'KPN_02666': 'A6TBW2', 'KPN_01424': 'A6T8D5', 'KPN_01425': 'A6T8D6', 'KPN_01426': 'A6T8D7', 'KPN_01427': 'A6T8D8', 'KPN_01420': 'A6T8D1', 'KPN_01421': 'A6T8D2', 'KPN_00829': 'A6T6P4', 'KPN_00828': 'A6T6P3', 'KPN_00827': 'A6T6P2', 'KPN_00826': 'A6T6P1', 'KPN_00825': 'A6T6P0', 'KPN_00824': 'A6T6N9', 'KPN_00823': 'A6T6N8', 'KPN_00822': 'A6T6N7', 'KPN_00821': 'A6T6N6', 'KPN_00820': 'A6T6N5', 'KPN_04558': 'A6TH78', 'KPN_pKPN4p07042': 'A6TI21', 'KPN_03394': 'A6TDX0', 'KPN_pKPN3p06000': 'A6TIF6', 'KPN_pKPN4p07045': 'A6TIK2', 'KPN_03317': 'A6TDP3', 'KPN_02669': 'A6TBW5', 'KPN_pKPN4p07044': 'A6TI23', 'KPN_04492': 'A6TH13', 'KPN_04493': 'A6TH14', 'KPN_04490': 'A6TH11', 'KPN_02668': 'A6TBW4', 'KPN_04496': 'A6TH17', 'KPN_04497': 'A6TH18', 'KPN_04494': 'A6TH15', 'KPN_04495': 'A6TH16', 'KPN_pKPN3p06005': 'A6TIG1', 'KPN_04498': 'A6TH19', 'KPN_04189': 'A6TG84', 'KPN_04222': 'A6TGB7', 'KPN_02838': 'A6T6H4', 'KPN_02705': 'A6TC01', 'KPN_04650': 'A6THG7', 'KPN_04651': 'A6THG8', 'KPN_00959': 'A6T724', 'KPN_00958': 'A6T723', 'KPN_04654': 'A6THH1', 'KPN_04655': 'A6THH2', 'KPN_04656': 'A6THH3', 'KPN_03043': 'A6TCX3', 'KPN_00953': 'A6T718', 'KPN_00952': 'A6T717', 'KPN_00951': 'A6T716', 'KPN_00950': 'A6T715', 'KPN_00957': 'A6T722', 'KPN_00956': 'A6T721', 'KPN_00955': 'A6T720', 'KPN_00954': 'A6T719', 'KPN_01518': 'A6T8M8', 'KPN_01519': 'A6T8M9', 'KPN_04456': 'A6TGX7', 'KPN_04213': 'A6TGA8', 'KPN_01510': 'A6T8M0', 'KPN_01511': 'A6T8M1', 'KPN_01512': 'A6T8M2', 'KPN_01513': 'A6T8M3', 'KPN_01514': 'A6T8M4', 'KPN_01515': 'A6T8M5', 'KPN_01516': 'A6T8M6', 'KPN_01517': 'A6T8M7', 'KPN_01009': 'A6T773', 'KPN_04671': 'A6THI8', 'KPN_04401': 'A6TGS2', 'KPN_04214': 'A6TGA9', 'KPN_02089': 'A6TA96', 'KPN_02088': 'A6TA95', 'KPN_02087': 'A6TA94', 'KPN_02086': 'A6TA93', 'KPN_02085': 'A6TA92', 'KPN_02084': 'A6TA91', 'KPN_02083': 'A6TA90', 'KPN_02082': 'A6TA89', 'KPN_02081': 'A6TA88', 'KPN_02080': 'A6TA87', 'KPN_pKPN4p07098': 'A6TIQ4', 'KPN_02834': 'A6TCC3', 'KPN_02835': 'A6TCC4', 'KPN_04215': 'A6TGB0', 'KPN_04810': 'A6THX2', 'KPN_01006': 'A6T771', 'KPN_01007': 'A6T772', 'KPN_00777': 'A6T6J2', 'KPN_00776': 'A6T6J1', 'KPN_00775': 'A6T6J0', 'KPN_00774': 'A6T6I9', 'KPN_00773': 'A6T6I8', 'KPN_00772': 'A6T6I7', 'KPN_00771': 'A6T6I6', 'KPN_00770': 'A6T6I5', 'KPN_01604': 'A6T8W4', 'KPN_01605': 'A6T8W5', 'KPN_01606': 'A6T8W6', 'KPN_01607': 'A6T8W7', 'KPN_01600': 'A6T8W0', 'KPN_01601': 'A6T8W1', 'KPN_00779': 'A6T6J4', 'KPN_00778': 'A6T6J3', 'KPN_02555': 'A6TBK2', 'KPN_02554': 'A6TBK1', 'KPN_02557': 'A6TBK4', 'KPN_02556': 'A6TBK3', 'KPN_02551': 'A6TBJ8', 'KPN_02550': 'A6TBJ7', 'KPN_02553': 'A6TBK0', 'KPN_02552': 'A6TBJ9', 'KPN_03927': 'A6TFH9', 'KPN_02559': 'A6TBK6', 'KPN_02558': 'A6TBK5', 'KPN_03145': 'A6TD75', 'KPN_03144': 'A6TD74', 'KPN_03147': 'A6TD77', 'KPN_03146': 'A6TD76', 'KPN_03141': 'A6TD71', 'KPN_03140': 'A6TD70', 'KPN_03143': 'A6TD73', 'KPN_03142': 'A6TD72', 'KPN_03149': 'A6TD79', 'KPN_03148': 'A6TD78', 'KPN_04217': 'A6TGB2', 'KPN_pKPN4p07086': 'A6TIP2', 'KPN_00489': 'A6T5R8', 'KPN_00488': 'A6T5R7', 'KPN_00485': 'A6T5R5', 'KPN_00484': 'A6T5R4', 'KPN_00487': 'A6T5R6', 'KPN_00481': 'A6T5R1', 'KPN_00480': 'A6T5R0', 'KPN_00483': 'A6T5R3', 'KPN_00482': 'A6T5R2', 'KPN_pKPN5p08223': 'A6TJ30', 'KPN_02439': 'A6TB88', 'KPN_02436': 'A6TB86', 'KPN_02437': 'A6TB87', 'KPN_02434': 'A6TB84', 'KPN_02435': 'A6TB85', 'KPN_02432': 'A6TB83', 'KPN_02430': 'A6TB82', 'KPN_01770': 'A6T9D0', 'KPN_01771': 'A6T9D1', 'KPN_01772': 'A6T9D2', 'KPN_01773': 'A6T9D3', 'KPN_01774': 'A6T9D4', 'KPN_01775': 'A6T9D5', 'KPN_01776': 'A6T9D6', 'KPN_01777': 'A6T9D7', 'KPN_01778': 'A6T9D8', 'KPN_01779': 'A6T555', 'KPN_pKPN5p08258': 'A6TIL8', 'KPN_pKPN3p05958': 'A6TIB4', 'KPN_pKPN3p05959': 'A6TIB5', 'KPN_04850': 'A6TI09', 'KPN_04759': 'A6THS1', 'KPN_pKPN3p05954': 'A6TIB0', 'KPN_pKPN3p05955': 'A6TI40', 'KPN_pKPN3p05952': 'A6TIA8', 'KPN_pKPN3p05953': 'A6TIA9', 'KPN_pKPN3p05950': 'A6TIA6', 'KPN_03401': 'A6TDX6', 'KPN_03853': 'A6TFA6', 'KPN_03852': 'A6TFA5', 'KPN_03851': 'A6TFA4', 'KPN_03850': 'A6TFA3', 'KPN_03857': 'A6TFB0', 'KPN_03856': 'A6TFA9', 'KPN_03855': 'A6TFA8', 'KPN_03854': 'A6TFA7', 'KPN_03859': 'A6TFB2', 'KPN_03858': 'A6TFB1', 'KPN_04738': 'A6THQ4', 'KPN_00391': 'A6T5H2', 'KPN_00390': 'A6T5H1', 'KPN_00393': 'A6T5H4', 'KPN_00392': 'A6T5H3', 'KPN_00395': 'A6T5H6', 'KPN_00394': 'A6T5H5', 'KPN_00397': 'A6T5H8', 'KPN_00396': 'A6T5H7', 'KPN_00399': 'A6T5I0', 'KPN_00398': 'A6T5H9', 'KPN_pKPN3p06025': 'A6TII1', 'KPN_pKPN3p06024': 'A6TII0', 'KPN_pKPN3p06023': 'A6TIH9', 'KPN_pKPN3p06022': 'A6TIH8', 'KPN_04818': 'A6THY0', 'KPN_04819': 'A6THY1', 'KPN_02722': 'A6TC18', 'KPN_02723': 'A6TC19', 'KPN_02720': 'A6TC16', 'KPN_02721': 'A6TC17', 'KPN_02726': 'A6TC22', 'KPN_02727': 'A6TC23', 'KPN_00559': 'A6T5Y8', 'KPN_00558': 'A6T5Y7', 'KPN_00557': 'A6T5Y6', 'KPN_00556': 'A6T5Y5', 'KPN_00555': 'A6T5Y4', 'KPN_00554': 'A6T5Y3', 'KPN_00553': 'A6T5Y2', 'KPN_00552': 'A6T5Y1', 'KPN_00551': 'A6T5Y0', 'KPN_00550': 'A6T5X9', 'KPN_pKPN4p07043': 'A6TI22', 'KPN_03396': 'A6TDX2', 'KPN_pKPN5p08214': 'A6TJ21', 'KPN_04429': 'A6TGV0', 'KPN_04053': 'A6TFV2', 'KPN_04709': 'A6THM5', 'KPN_04428': 'A6TGU9', 'KPN_03940': 'A6TFJ2', 'KPN_01363': 'A6T874', 'KPN_01362': 'A6T873', 'KPN_01361': 'A6T872', 'KPN_01360': 'A6T871', 'KPN_01367': 'A6T878', 'KPN_01366': 'A6T877', 'KPN_01365': 'A6T876', 'KPN_01364': 'A6T875', 'KPN_02890': 'A6TCH9', 'KPN_02891': 'A6TCI0', 'KPN_01369': 'A6T880', 'KPN_01368': 'A6T879', 'KPN_02894': 'A6TCI3', 'KPN_02895': 'A6TCI4', 'KPN_02896': 'A6TCI5', 'KPN_02897': 'A6TCI6', 'KPN_01161': 'A6T7M3', 'KPN_01160': 'A6T7M2', 'KPN_01163': 'A6T7M5', 'KPN_01162': 'A6T7M4', 'KPN_01165': 'A6T7M7', 'KPN_01164': 'A6T7M6', 'KPN_01167': 'A6T7M9', 'KPN_01166': 'A6T7M8', 'KPN_01169': 'A6T7N1', 'KPN_01168': 'A6T7N0', 'KPN_04055': 'A6TFV4', 'KPN_04339': 'A6TGM3', 'KPN_03821': 'A6TF74', 'KPN_03338': 'A6TDR4', 'KPN_04420': 'A6TGU1', 'KPN_pKPN5p08216': 'A6TJ23', 'KPN_04332': 'A6TGL6', 'KPN_03824': 'A6TF77', 'KPN_03825': 'A6TF78', 'KPN_04333': 'A6TGL7', 'KPN_03639': 'A6TEP8', 'KPN_03615': 'A6TEM4', 'KPN_00168': 'A6T4V7', 'KPN_00169': 'A6T4V8', 'KPN_00166': 'A6T4V5', 'KPN_00167': 'A6T4V6', 'KPN_00164': 'A6T4V3', 'KPN_00165': 'A6T4V4', 'KPN_00162': 'A6T4V1', 'KPN_00163': 'A6T4V2', 'KPN_00160': 'A6T4U9', 'KPN_00161': 'A6T4V0', 'KPN_03829': 'A6TF82', 'KPN_04337': 'A6TGM1', 'KPN_01909': 'A6T9R9', 'KPN_04336': 'A6TGM0', 'KPN_03614': 'A6TEM3', 'KPN_02948': 'A6TCN3', 'KPN_01908': 'A6T9R8', 'KPN_01867': 'A6T9M7', 'KPN_02942': 'A6TCM7', 'KPN_02943': 'A6TCM8', 'KPN_02940': 'A6TCM5', 'KPN_02941': 'A6TCM6', 'KPN_02946': 'A6TCN1', 'KPN_02947': 'A6TCN2', 'KPN_02944': 'A6TCM9', 'KPN_02945': 'A6TCN0', 'KPN_00449': 'A6T5N0', 'KPN_01949': 'A6T9V9', 'KPN_00448': 'A6T5M9', 'KPN_01947': 'A6T9V7', 'KPN_01946': 'A6T9V6', 'KPN_01945': 'A6T9V5', 'KPN_01944': 'A6T9V4', 'KPN_01943': 'A6T9V3', 'KPN_01942': 'A6T9V2', 'KPN_01941': 'A6T9V1', 'KPN_01940': 'A6T9V0', 'KPN_01903': 'A6T9R3', 'KPN_03885': 'A6TFD8', 'KPN_04565': 'A6TH82', 'KPN_03925': 'A6TFH7', 'KPN_04008': 'A6TFQ9', 'KPN_01902': 'A6T9R2', 'KPN_04005': 'A6TFQ6', 'KPN_04004': 'A6TFQ5', 'KPN_04007': 'A6TFQ8', 'KPN_04006': 'A6TFQ7', 'KPN_04001': 'A6TFQ2', 'KPN_04000': 'A6TFQ1', 'KPN_04003': 'A6TFQ4', 'KPN_04002': 'A6TFQ3', 'KPN_00012': 'A6T4F2', 'KPN_00013': 'A6T4F3', 'KPN_00010': 'A6T4F0', 'KPN_00011': 'A6T4F1', 'KPN_00016': 'A6T4F6', 'KPN_00017': 'A6T4F7', 'KPN_00014': 'A6T4F4', 'KPN_00015': 'A6T4F5', 'KPN_03707': 'A6TEW0', 'KPN_03706': 'A6TEV9', 'KPN_00018': 'A6T4F8', 'KPN_03704': 'A6TEV7', 'KPN_03703': 'A6TEV6', 'KPN_03702': 'A6TEV5', 'KPN_03701': 'A6TEV4', 'KPN_03700': 'A6TEV3', 'KPN_01389': 'A6T8A0', 'KPN_01388': 'A6T899', 'KPN_pKPN5p08212': 'A6TJ19', 'KPN_01381': 'A6T892', 'KPN_01380': 'A6T891', 'KPN_01383': 'A6T894', 'KPN_01382': 'A6T893', 'KPN_01385': 'A6T896', 'KPN_01384': 'A6T895', 'KPN_01387': 'A6T898', 'KPN_01386': 'A6T897', 'KPN_02043': 'A6TA50', 'KPN_02042': 'A6TA49', 'KPN_pKPN3p05971': 'A6TIC7', 'KPN_02041': 'A6TA48', 'KPN_01862': 'A6T9M2', 'KPN_03448': 'A6TE23', 'KPN_03449': 'A6TE24', 'KPN_02040': 'A6TA47', 'KPN_pKPN5p08213': 'A6TJ20', 'KPN_01149': 'A6T7L1', 'KPN_03440': 'A6TE15', 'KPN_02047': 'A6TA54', 'KPN_03442': 'A6TE17', 'KPN_01148': 'A6T7L0', 'KPN_03444': 'A6TE19', 'KPN_03445': 'A6TE20', 'KPN_03446': 'A6TE21', 'KPN_02046': 'A6TA53', 'KPN_04711': 'A6THM7', 'KPN_04710': 'A6THM6', 'KPN_04713': 'A6THM9', 'KPN_04712': 'A6THM8', 'KPN_04715': 'A6THN1', 'KPN_02045': 'A6TA52', 'KPN_04717': 'A6THN3', 'KPN_04716': 'A6THN2', 'KPN_04719': 'A6THN5', 'KPN_04718': 'A6THN4', 'KPN_02044': 'A6TA51', 'KPN_02289': 'A6TAU4', 'KPN_01863': 'A6T9M3', 'KPN_04369': 'A6TGP4', 'KPN_01602': 'A6T8W2', 'KPN_pKPN3p06003': 'A6TIF9', 'KPN_04204': 'A6TG99', 'KPN_01603': 'A6T8W3', 'KPN_00830': 'A6T6P5', 'KPN_00831': 'A6T6P6', 'KPN_00832': 'A6T6P7', 'KPN_00833': 'A6T6P8', 'KPN_00834': 'A6T6P9', 'KPN_00835': 'A6T6Q0', 'KPN_00836': 'A6T6Q1', 'KPN_00837': 'A6T6Q2', 'KPN_00838': 'A6T6Q3', 'KPN_00839': 'A6T6Q4', 'KPN_02288': 'A6TAU3', 'KPN_04841': 'A6TI00', 'KPN_04198': 'A6TG93', 'KPN_04588': 'A6THA5', 'KPN_00541': 'A6T5X0', 'KPN_03272': 'A6TDJ9', 'KPN_04372': 'A6TGP7', 'KPN_03924': 'A6TFH6', 'KPN_04625': 'A6THE2', 'KPN_04503': 'A6TH24', 'KPN_04627': 'A6THE4', 'KPN_04626': 'A6THE3', 'KPN_00948': 'A6T713', 'KPN_00949': 'A6T714', 'KPN_04623': 'A6THE0', 'KPN_04622': 'A6THD9', 'KPN_00944': 'A6T709', 'KPN_00945': 'A6T710', 'KPN_00946': 'A6T711', 'KPN_00947': 'A6T712', 'KPN_00940': 'A6T705', 'KPN_00941': 'A6T706', 'KPN_00942': 'A6T707', 'KPN_00943': 'A6T708', 'KPN_01569': 'A6T8S9', 'KPN_01568': 'A6T8S8', 'KPN_01565': 'A6T8S5', 'KPN_01564': 'A6T8S4', 'KPN_01567': 'A6T8S7', 'KPN_01566': 'A6T8S6', 'KPN_01561': 'A6T8S1', 'KPN_01560': 'A6T8S0', 'KPN_01563': 'A6T8S3', 'KPN_01562': 'A6T8S2', 'KPN_pKPN5p08222': 'A6TJ29', 'KPN_04582': 'A6TH99', 'KPN_02090': 'A6TA97', 'KPN_02091': 'A6TA98', 'KPN_02092': 'A6TA99', 'KPN_02093': 'A6TAA0', 'KPN_02094': 'A6TAA1', 'KPN_02095': 'A6TAA2', 'KPN_02096': 'A6TAA3', 'KPN_01658': 'A6T918', 'KPN_02098': 'A6TAA5', 'KPN_02099': 'A6TAA6', 'KPN_04539': 'A6TH59', 'KPN_04538': 'A6TH58', 'KPN_pKPN5p08165': 'A6TIX2', 'KPN_04531': 'A6TH51', 'KPN_04530': 'A6TH50', 'KPN_04533': 'A6TH53', 'KPN_04532': 'A6TH52', 'KPN_04535': 'A6TH55', 'KPN_04534': 'A6TH54', 'KPN_04537': 'A6TH57', 'KPN_04536': 'A6TH56', 'KPN_00768': 'A6T6I3', 'KPN_00769': 'A6T6I4', 'KPN_00760': 'A6T6H5', 'KPN_00761': 'A6T6H6', 'KPN_00762': 'A6T6H7', 'KPN_00763': 'A6T6H8', 'KPN_00764': 'A6T6H9', 'KPN_00765': 'A6T6I0', 'KPN_00766': 'A6T6I1', 'KPN_00767': 'A6T6I2', 'KPN_04203': 'A6TG98', 'KPN_pKPN5p08217': 'A6TJ24', 'KPN_03474': 'A6TE49', 'KPN_02546': 'A6TBJ3', 'KPN_02547': 'A6TBJ4', 'KPN_02544': 'A6TBJ1', 'KPN_02545': 'A6TBJ2', 'KPN_02542': 'A6TBI9', 'KPN_02543': 'A6TBJ0', 'KPN_02540': 'A6TBI7', 'KPN_02541': 'A6TBI8', 'KPN_03711': 'A6TEW4', 'KPN_02548': 'A6TBJ5', 'KPN_02549': 'A6TBJ6', 'KPN_03156': 'A6TD86', 'KPN_03157': 'A6TD87', 'KPN_03154': 'A6TD84', 'KPN_03155': 'A6TD85', 'KPN_03152': 'A6TD82', 'KPN_03153': 'A6TD83', 'KPN_03150': 'A6TD80', 'KPN_03151': 'A6TD81', 'KPN_03158': 'A6TD88', 'KPN_03159': 'A6TD89', 'KPN_03391': 'A6TDW7', 'KPN_00498': 'A6T5S7', 'KPN_00499': 'A6T5S8', 'KPN_00496': 'A6T5S5', 'KPN_00497': 'A6T5S6', 'KPN_00494': 'A6T5S3', 'KPN_00495': 'A6T5S4', 'KPN_00492': 'A6T5S1', 'KPN_00493': 'A6T5S2', 'KPN_00490': 'A6T5R9', 'KPN_00491': 'A6T5S0', 'KPN_02403': 'A6TB58', 'KPN_02402': 'A6TB57', 'KPN_02401': 'A6TB56', 'KPN_02400': 'A6TB55', 'KPN_pKPN3p06008': 'A6TIG4', 'KPN_02406': 'A6TB61', 'KPN_02405': 'A6TB60', 'KPN_02404': 'A6TB59', 'KPN_02281': 'A6TAT6', 'KPN_01705': 'A6T965', 'KPN_01704': 'A6T964', 'KPN_01707': 'A6T967', 'KPN_01706': 'A6T966', 'KPN_01701': 'A6T961', 'KPN_01700': 'A6T960', 'KPN_01703': 'A6T963', 'KPN_01702': 'A6T962', 'KPN_04075': 'A6TFX4', 'KPN_01709': 'A6T969', 'KPN_01708': 'A6T968', 'KPN_pKPN7p10262': 'A6TJ71', 'KPN_pKPN7p10263': 'A6TJ72', 'KPN_pKPN3p05929': 'A6TI87', 'KPN_pKPN3p05928': 'A6TI86', 'KPN_pKPN7p10266': 'A6TJ75', 'KPN_pKPN7p10264': 'A6TJ73', 'KPN_pKPN7p10265': 'A6TJ74', 'KPN_pKPN3p05923': 'A6TI81', 'KPN_pKPN3p05922': 'A6TI80', 'KPN_02280': 'A6TAT5', 'KPN_pKPN3p05920': 'A6TI78', 'KPN_pKPN3p05927': 'A6TI85', 'KPN_pKPN3p05926': 'A6TI84', 'KPN_pKPN3p05925': 'A6TI83', 'KPN_pKPN3p05924': 'A6TI82', 'KPN_03844': 'A6TF97', 'KPN_01864': 'A6T9M4', 'KPN_03846': 'A6TF99', 'KPN_03847': 'A6TFA0', 'KPN_03840': 'A6TF93', 'KPN_03841': 'A6TF94', 'KPN_03842': 'A6TF95', 'KPN_01865': 'A6T9M5', 'KPN_04395': 'A6TGR6', 'KPN_04394': 'A6TGR5', 'KPN_04397': 'A6TGR8', 'KPN_04396': 'A6TGR7', 'KPN_03848': 'A6TFA1', 'KPN_01866': 'A6T9M6', 'KPN_04393': 'A6TGR4', 'KPN_pKPN4p07134': 'A6TIU0', 'KPN_00382': 'A6T5G3', 'KPN_00383': 'A6T5G4', 'KPN_00380': 'A6T5G1', 'KPN_00381': 'A6T5G2', 'KPN_00386': 'A6T5G7', 'KPN_00387': 'A6T5G8', 'KPN_00384': 'A6T5G5', 'KPN_00385': 'A6T5G6', 'KPN_pKPN3p06034': 'A6TIJ0', 'KPN_01860': 'A6T9M0', 'KPN_00388': 'A6T5G9', 'KPN_00389': 'A6T5H0', 'KPN_pKPN3p06030': 'A6TII6', 'KPN_pKPN3p06031': 'A6TII7', 'KPN_pKPN3p06032': 'A6TII8', 'KPN_01861': 'A6T9M1', 'KPN_01019': 'A6T783', 'KPN_01018': 'A6T782', 'KPN_00542': 'A6T5X1', 'KPN_00543': 'A6T5X2', 'KPN_00544': 'A6T5X3', 'KPN_00545': 'A6T5X4', 'KPN_00546': 'A6T5X5', 'KPN_00547': 'A6T5X6', 'KPN_01011': 'A6T775', 'KPN_01010': 'A6T774', 'KPN_01013': 'A6T777', 'KPN_01012': 'A6T776', 'KPN_01015': 'A6T779', 'KPN_01014': 'A6T778', 'KPN_01017': 'A6T781', 'KPN_01016': 'A6T780', 'KPN_04207': 'A6TGA2', 'KPN_pKPN5p08209': 'A6TJ16', 'KPN_pKPN4p07084': 'A6T724', 'KPN_04206': 'A6TGA1', 'KPN_02841': 'A6TCD0', 'KPN_03716': 'A6TEW9', 'KPN_03938': 'A6TFJ0', 'KPN_03939': 'A6TFJ1', 'KPN_02840': 'A6TCC9', 'KPN_04205': 'A6TGA0', 'KPN_03930': 'A6TFI2', 'KPN_02847': 'A6TCD6', 'KPN_03932': 'A6TFI4', 'KPN_03933': 'A6TFI5', 'KPN_03934': 'A6TFI6', 'KPN_03935': 'A6TFI7', 'KPN_03936': 'A6TFI8', 'KPN_02846': 'A6TCD5', 'KPN_01374': 'A6T885', 'KPN_01375': 'A6T886', 'KPN_01376': 'A6T887', 'KPN_01377': 'A6T888', 'KPN_01370': 'A6T881', 'KPN_01371': 'A6T882', 'KPN_01372': 'A6T883', 'KPN_01373': 'A6T884', 'KPN_03890': 'A6TFE3', 'KPN_01378': 'A6T889', 'KPN_01379': 'A6T890', 'KPN_pKPN6p09259': 'A6TJ67', 'KPN_01172': 'A6T7N4', 'KPN_01173': 'A6T7N5', 'KPN_01170': 'A6T7N2', 'KPN_01171': 'A6T7N3', 'KPN_01176': 'A6T7N8', 'KPN_01177': 'A6T7N9', 'KPN_01174': 'A6T7N6', 'KPN_01175': 'A6T7N7', 'KPN_04809': 'A6THX1', 'KPN_01178': 'A6T7P0', 'KPN_01179': 'A6T7P1', 'KPN_pKPN5p08207': 'A6TJ14', 'KPN_01406': 'A6T8B7', 'KPN_01430': 'A6T8E1', 'KPN_01407': 'A6T8B8', 'KPN_01404': 'A6T8B5', 'KPN_pKPN5p08226': 'A6TJ33', 'KPN_01405': 'A6T8B6', 'KPN_04808': 'A6THX0', 'KPN_01402': 'A6T8B3', 'KPN_pKPN5p08206': 'A6TJ02', 'KPN_01403': 'A6T8B4', 'KPN_00153': 'A6T4U2', 'KPN_00152': 'A6T4U1', 'KPN_00151': 'A6T4U0', 'KPN_00150': 'A6T4T9', 'KPN_00157': 'A6T4U6', 'KPN_00156': 'A6T4U5', 'KPN_00155': 'A6T4U4', 'KPN_00154': 'A6T4U3', 'KPN_03624': 'A6TEN3', 'KPN_03625': 'A6TEN4', 'KPN_00159': 'A6T4U8', 'KPN_00158': 'A6T4U7', 'KPN_03620': 'A6TEM9', 'KPN_03621': 'A6TEN0', 'KPN_03622': 'A6TEN1', 'KPN_03623': 'A6TEN2', 'KPN_04202': 'A6TG97', 'KPN_04855': 'A6TI14', 'KPN_02242': 'A6TAP7', 'KPN_pKPN5p08205': 'A6TJ12', 'KPN_00540': 'A6T5W9', 'KPN_04815': 'A6THX7', 'KPN_04274': 'A6TGG2', 'KPN_02979': 'A6TCR4', 'KPN_02978': 'A6TCR3', 'KPN_02977': 'A6TCR2', 'KPN_02976': 'A6TCR1', 'KPN_02975': 'A6TCR0', 'KPN_02974': 'A6TCQ9', 'KPN_02973': 'A6TCQ8', 'KPN_02972': 'A6TCQ7', 'KPN_02971': 'A6TCQ6', 'KPN_02970': 'A6TCQ5', 'KPN_01950': 'A6T9W0', 'KPN_01951': 'A6T9W1', 'KPN_01952': 'A6T9W2', 'KPN_01953': 'A6T9W3', 'KPN_01954': 'A6T9W4', 'KPN_01955': 'A6T9W5', 'KPN_01956': 'A6T9W6', 'KPN_01957': 'A6T9W7', 'KPN_01958': 'A6T9W8', 'KPN_01959': 'A6T9W9', 'KPN_pKPN5p08204': 'A6TJ11', 'KPN_04854': 'A6TI13', 'KPN_pKPN4p07081': 'A6TIN7', 'KPN_04018': 'A6TFR9', 'KPN_04019': 'A6TFS0', 'KPN_04016': 'A6TFR7', 'KPN_04017': 'A6TFR8', 'KPN_04014': 'A6TFR5', 'KPN_04015': 'A6TFR6', 'KPN_04012': 'A6TFR3', 'KPN_04013': 'A6TFR4', 'KPN_04010': 'A6TFR1', 'KPN_04011': 'A6TFR2', 'KPN_00027': 'A6T4G6', 'KPN_00026': 'A6T4G5', 'KPN_00025': 'A6T4G4', 'KPN_00024': 'A6T4G3', 'KPN_00023': 'A6T4G2', 'KPN_00022': 'A6T4G1', 'KPN_00021': 'A6T4G0', 'KPN_00020': 'A6T4F9', 'KPN_03718': 'A6TEX1', 'KPN_03719': 'A6TEX2', 'KPN_pKPN4p07080': 'A6TIN6', 'KPN_04551': 'A6TH71', 'KPN_00029': 'A6T4G8', 'KPN_00028': 'A6T4G7', 'KPN_02640': 'A6TBT6', 'KPN_01398': 'A6T8A9', 'KPN_01399': 'A6T8B0', 'KPN_01392': 'A6T8A3', 'KPN_01393': 'A6T8A4', 'KPN_01390': 'A6T8A1', 'KPN_01391': 'A6T8A2', 'KPN_01396': 'A6T8A7', 'KPN_01397': 'A6T8A8', 'KPN_01394': 'A6T8A5', 'KPN_01395': 'A6T8A6', 'KPN_pKPN3p06002': 'A6TIF8', 'KPN_01877': 'A6T9N7', 'KPN_04379': 'A6TGQ4', 'KPN_pKPN5p08202': 'A6TJ09', 'KPN_03816': 'A6TF69', 'KPN_pKPN3p05956': 'A6TIB2', 'KPN_03439': 'A6TE14', 'KPN_03438': 'A6TE13', 'KPN_pKPN3p05957': 'A6TIB3', 'KPN_03435': 'A6TE10', 'KPN_03434': 'A6TE09', 'KPN_03437': 'A6TE12', 'KPN_03436': 'A6TE11', 'KPN_03431': 'A6TE06', 'KPN_03430': 'A6TE05', 'KPN_03433': 'A6TE08', 'KPN_01876': 'A6T9N6', 'KPN_04702': 'A6THL8', 'KPN_04023': 'A6TFS3', 'KPN_03905': 'A6TFF7', 'KPN_04378': 'A6TGQ3', 'KPN_04706': 'A6THM2', 'KPN_04707': 'A6THM3', 'KPN_04704': 'A6THM0', 'KPN_04022': 'A6TFS2', 'KPN_04708': 'A6THM4', 'KPN_03985': 'A6TFN6', 'KPN_pKPN5p08188': 'A6TIK6', 'KPN_04331': 'A6TGL5', 'KPN_pKPN4p07059': 'A6TIL6', 'KPN_03067': 'A6TCZ7', 'KPN_03664': 'A6TES2', 'KPN_pKPN3p05951': 'A6TIA7', 'KPN_pKPN3p06004': 'A6TIG0', 'KPN_04570': 'A6TH87', 'KPN_00845': 'A6T6R0', 'KPN_00844': 'A6T6Q9', 'KPN_00847': 'A6T6R2', 'KPN_00846': 'A6T6R1', 'KPN_00841': 'A6T6Q6', 'KPN_00840': 'A6T6Q5', 'KPN_00843': 'A6T6Q8', 'KPN_00842': 'A6T6Q7', 'KPN_04470': 'A6TGZ1', 'KPN_02399': 'A6TB54', 'KPN_02398': 'A6TB53', 'KPN_00849': 'A6T6R4', 'KPN_00848': 'A6T6R3', 'KPN_pKPN5p08232': 'A6TJ39', 'KPN_04471': 'A6TGZ2', 'KPN_02151': 'A6TAF8', 'KPN_02150': 'A6TAF7', 'KPN_02153': 'A6TAG0', 'KPN_02152': 'A6TAF9', 'KPN_02155': 'A6TAG2', 'KPN_02154': 'A6TAG1', 'KPN_02157': 'A6TAG4', 'KPN_02156': 'A6TAG3', 'KPN_02159': 'A6TAG6', 'KPN_02158': 'A6TAG5', 'KPN_03389': 'A6TDW5', 'KPN_03388': 'A6TDW4', 'KPN_04029': 'A6TFS8', 'KPN_04376': 'A6TGQ1', 'KPN_03541': 'A6TEF2', 'KPN_03540': 'A6TEF1', 'KPN_03543': 'A6TEF4', 'KPN_03542': 'A6TEF3', 'KPN_03545': 'A6TEF6', 'KPN_03544': 'A6TEF5', 'KPN_03547': 'A6TEF8', 'KPN_03546': 'A6TEF7', 'KPN_03549': 'A6TEG0', 'KPN_03548': 'A6TEF9', 'KPN_04678': 'A6THJ5', 'KPN_pKPN4p07057': 'A6TIL4', 'KPN_04636': 'A6THF3', 'KPN_04637': 'A6THF4', 'KPN_04634': 'A6THF1', 'KPN_04635': 'A6THF2', 'KPN_04632': 'A6THE9', 'KPN_03666': 'A6TES4', 'KPN_04630': 'A6THE7', 'KPN_04631': 'A6THE8', 'KPN_pKPN3p06006': 'A6TIG2', 'KPN_04571': 'A6TH88', 'KPN_04375': 'A6TGQ0', 'KPN_04638': 'A6THF5', 'KPN_03580': 'A6TEJ0', 'KPN_03626': 'A6TEN5', 'KPN_01578': 'A6T8T8', 'KPN_01579': 'A6T8T9', 'KPN_01576': 'A6T8T6', 'KPN_01577': 'A6T8T7', 'KPN_01574': 'A6T8T4', 'KPN_01575': 'A6T8T5', 'KPN_01572': 'A6T8T2', 'KPN_01573': 'A6T8T3', 'KPN_01570': 'A6T8T0', 'KPN_01571': 'A6T8T1', 'KPN_03649': 'A6TEQ7', 'KPN_04374': 'A6TGP9', 'KPN_pKPN3p05895': 'A6T555', 'KPN_03097': 'A6TD27', 'KPN_03096': 'A6TD26', 'KPN_03095': 'A6TD25', 'KPN_03094': 'A6TD24', 'KPN_03093': 'A6TD23', 'KPN_03092': 'A6TD22', 'KPN_03091': 'A6TD21', 'KPN_02638': 'A6TBT4', 'KPN_04579': 'A6TH96', 'KPN_03762': 'A6TF15', 'KPN_04814': 'A6THX6', 'KPN_03099': 'A6TD29', 'KPN_03098': 'A6TD28', 'KPN_03642': 'A6TEQ1', 'KPN_04528': 'A6TH48', 'KPN_04529': 'A6TH49', 'KPN_04674': 'A6THJ1', 'KPN_03643': 'A6TEQ2', 'KPN_04522': 'A6TDR3', 'KPN_02649': 'A6TBU5', 'KPN_04520': 'A6TH41', 'KPN_04521': 'A6TBL9', 'KPN_04526': 'A6TH46', 'KPN_04527': 'A6TH47', 'KPN_04524': 'A6TH44', 'KPN_02648': 'A6TBU4', 'KPN_pKPN4p07067': 'A6TIM3', 'KPN_00719': 'A6T6E1', 'KPN_00718': 'A6T6E0', 'KPN_pKPN4p07066': 'A6TIM2', 'KPN_00715': 'A6T6D7', 'KPN_00714': 'A6T6D6', 'KPN_00717': 'A6T6D9', 'KPN_00716': 'A6T6D8', 'KPN_00711': 'A6T6D3', 'KPN_00710': 'A6T6D2', 'KPN_00713': 'A6T6D5', 'KPN_00712': 'A6T6D4', 'KPN_pKPN3p06027': 'A6TII3', 'KPN_02579': 'A6TBM6', 'KPN_02578': 'A6TBM5', 'KPN_02788': 'A6TC77', 'KPN_02573': 'A6TBM0', 'KPN_02572': 'A6TBL9', 'KPN_02571': 'A6TBL8', 'KPN_02570': 'A6TBL7', 'KPN_02577': 'A6TBM4', 'KPN_02576': 'A6TBM3', 'KPN_02575': 'A6TBM2', 'KPN_02574': 'A6TBM1', 'KPN_02379': 'A6TB34', 'KPN_02378': 'A6TB33', 'KPN_03169': 'A6TD96', 'KPN_03168': 'A6TD95', 'KPN_pKPN4p07061': 'A6TIL7', 'KPN_pKPN4p07053': 'A6TIL0', 'KPN_01788': 'A6T9E8', 'KPN_02370': 'A6TB25', 'KPN_02373': 'A6TB28', 'KPN_02372': 'A6TB27', 'KPN_02375': 'A6TB30', 'KPN_02374': 'A6TB29', 'KPN_02377': 'A6TB32', 'KPN_02376': 'A6TB31', 'KPN_03369': 'A6TDU5', 'KPN_03368': 'A6TDU4', 'KPN_04371': 'A6TGP6', 'KPN_03361': 'A6TDT7', 'KPN_03360': 'A6TDT6', 'KPN_03363': 'A6TDT9', 'KPN_03362': 'A6TDT8', 'KPN_03365': 'A6TDU1', 'KPN_03364': 'A6TDU0', 'KPN_03367': 'A6TDU3', 'KPN_03366': 'A6TDU2', 'KPN_04695': 'A6THL1', 'KPN_pKPN4p07050': 'A6TIK7', 'KPN_02719': 'A6TC15', 'KPN_04238': 'A6TGD3', 'KPN_02489': 'A6TBD6', 'KPN_00621': 'A6T650', 'KPN_00620': 'A6T649', 'KPN_00623': 'A6T652', 'KPN_00622': 'A6T651', 'KPN_00625': 'A6T654', 'KPN_00624': 'A6T653', 'KPN_00627': 'A6T656', 'KPN_00626': 'A6T655', 'KPN_00629': 'A6T658', 'KPN_00628': 'A6T657', 'KPN_02418': 'A6TB70', 'KPN_02419': 'A6TB71', 'KPN_01716': 'A6T976', 'KPN_01717': 'A6T977', 'KPN_01714': 'A6T974', 'KPN_01715': 'A6T975', 'KPN_01712': 'A6T972', 'KPN_01713': 'A6T973', 'KPN_01710': 'A6T970', 'KPN_01711': 'A6T971', 'KPN_03937': 'A6TFI9', 'KPN_02725': 'A6TC21', 'KPN_02229': 'A6TAN4', 'KPN_01718': 'A6T978', 'KPN_01719': 'A6T979', 'KPN_pKPN3p05938': 'A6TI94', 'KPN_pKPN3p05939': 'A6TI95', 'KPN_02228': 'A6TAN3', 'KPN_pKPN3p05930': 'A6TI88', 'KPN_pKPN3p05931': 'A6TI89', 'KPN_pKPN3p05932': 'A6TI90', 'KPN_pKPN3p05933': 'A6TI91', 'KPN_02728': 'A6TC24', 'KPN_pKPN3p05937': 'A6TI93', 'KPN_04838': 'A6THZ7', 'KPN_04839': 'A6THZ8', 'KPN_04388': 'A6TGR3', 'KPN_02061': 'A6TA68', 'KPN_04387': 'A6TGR2', 'KPN_04384': 'A6TGQ9', 'KPN_04385': 'A6TGR0', 'KPN_04382': 'A6TGQ7', 'KPN_04383': 'A6TGQ8', 'KPN_04380': 'A6TGQ5', 'KPN_04381': 'A6TGQ6', 'KPN_02708': 'A6TC04', 'KPN_02709': 'A6TC05', 'KPN_02485': 'A6TBD2', 'KPN_03987': 'A6TFN8', 'KPN_02700': 'A6TBZ6', 'KPN_02701': 'A6TBZ7', 'KPN_02702': 'A6TBZ8', 'KPN_02484': 'A6TBD1', 'KPN_02704': 'A6TC00', 'KPN_02221': 'A6TAM6', 'KPN_02706': 'A6TC02', 'KPN_02707': 'A6TC03', 'KPN_00535': 'A6T5W4', 'KPN_00534': 'A6T5W3', 'KPN_00537': 'A6T5W6', 'KPN_00536': 'A6T5W5', 'KPN_00531': 'A6T5W0', 'KPN_00530': 'A6T5V9', 'KPN_00533': 'A6T5W2', 'KPN_00532': 'A6T5W1', 'KPN_01002': 'A6T767', 'KPN_01003': 'A6T768', 'KPN_01000': 'A6T765', 'KPN_01001': 'A6T766', 'KPN_00539': 'A6T5W8', 'KPN_00538': 'A6T5W7', 'KPN_01004': 'A6T769', 'KPN_01005': 'A6T770', 'KPN_pKPN3p05859': 'A6TI17', 'KPN_04620': 'A6THD7', 'KPN_02839': 'A6T6H5', 'KPN_04879': 'A6TE72', 'KPN_03192': 'A6TDB9', 'KPN_04598': 'A6THB5', 'KPN_03949': 'A6TFK0', 'KPN_03948': 'A6TFJ9', 'KPN_03193': 'A6TDC0', 'KPN_03945': 'A6TFJ6', 'KPN_03944': 'A6TFJ5', 'KPN_03947': 'A6TFJ8', 'KPN_03946': 'A6TFJ7', 'KPN_03190': 'A6TDB7', 'KPN_03943': 'A6TFJ4', 'KPN_03942': 'A6TFJ3', 'KPN_03191': 'A6TDB8', 'KPN_03196': 'A6TDC3', 'KPN_pKPN3p06038': 'A6TIJ4', 'KPN_03197': 'A6TDC4', 'KPN_01147': 'A6T7K9', 'KPN_01146': 'A6T7K8', 'KPN_01145': 'A6T7K7', 'KPN_01144': 'A6T7K6', 'KPN_01143': 'A6T7K5', 'KPN_01142': 'A6T7K4', 'KPN_01141': 'A6T7K3', 'KPN_01140': 'A6T7K2', 'KPN_00441': 'A6T5M2', 'KPN_00440': 'A6T5M1', 'KPN_00443': 'A6T5M4', 'KPN_00442': 'A6T5M3', 'KPN_00445': 'A6T5M6', 'KPN_00444': 'A6T5M5', 'KPN_00447': 'A6T5M8', 'KPN_00446': 'A6T5M7', 'KPN_04518': 'A6TH39', 'KPN_pKPN4p07143': 'A6TIU9', 'KPN_04386': 'A6TGR1', 'KPN_04224': 'A6TGB9', 'KPN_00144': 'A6T4T3', 'KPN_00145': 'A6T4T4', 'KPN_00146': 'A6T4T5', 'KPN_00147': 'A6T4T6', 'KPN_00140': 'A6T4S9', 'KPN_00141': 'A6T4T0', 'KPN_00142': 'A6T4T1', 'KPN_00143': 'A6T4T2', 'KPN_04714': 'A6THN0', 'KPN_00148': 'A6T4T7', 'KPN_00149': 'A6T4T8', 'KPN_04409': 'A6TGT0', 'KPN_03899': 'A6TFF2', 'KPN_03898': 'A6TFF1', 'KPN_03897': 'A6TFF0', 'KPN_03896': 'A6TFE9', 'KPN_03895': 'A6TFE8', 'KPN_03894': 'A6TFE7', 'KPN_03893': 'A6TFE6', 'KPN_03892': 'A6TFE5', 'KPN_03891': 'A6TFE4', 'KPN_03423': 'A6TDZ8', 'KPN_02960': 'A6TCP5', 'KPN_02961': 'A6TCP6', 'KPN_02962': 'A6TCP7', 'KPN_02963': 'A6TCP8', 'KPN_02964': 'A6TCP9', 'KPN_02965': 'A6TCQ0', 'KPN_02966': 'A6TCQ1', 'KPN_02967': 'A6TCQ2', 'KPN_02968': 'A6TCQ3', 'KPN_02969': 'A6TCQ4', 'KPN_01925': 'A6T9T5', 'KPN_01924': 'A6T9T4', 'KPN_01927': 'A6T9T7', 'KPN_01926': 'A6T9T6', 'KPN_01921': 'A6T9T1', 'KPN_01920': 'A6T9T0', 'KPN_01923': 'A6T9T3', 'KPN_01922': 'A6T9T2', 'KPN_pKPN6p09262': 'A6TJ70', 'KPN_01929': 'A6T9T9', 'KPN_01928': 'A6T9T8', 'KPN_pKPN5p08215': 'A6TJ22', 'KPN_03683': 'A6TET6', 'KPN_00038': 'A6T4H7', 'KPN_00039': 'A6T4H8', 'KPN_04021': 'A6TFS1', 'KPN_04734': 'A6THQ0', 'KPN_04027': 'A6TFS6', 'KPN_04026': 'A6TFS5', 'KPN_04024': 'A6TFS4', 'KPN_00030': 'A6T4G9', 'KPN_00031': 'A6T4H0', 'KPN_00032': 'A6T4H1', 'KPN_00033': 'A6T4H2', 'KPN_00034': 'A6T4H3', 'KPN_00035': 'A6T4H4', 'KPN_00036': 'A6T4H5', 'KPN_00037': 'A6T4H6', 'KPN_03765': 'A6TF18', 'KPN_02898': 'A6TCI7', 'KPN_03767': 'A6TF20', 'KPN_03766': 'A6TF19', 'KPN_03761': 'A6TF14', 'KPN_03760': 'A6TF13', 'KPN_03763': 'A6TF16', 'KPN_02899': 'A6TCI8', 'KPN_04798': 'A6THW0', 'KPN_04329': 'A6TGL3', 'KPN_03769': 'A6TF22', 'KPN_03768': 'A6TF21', 'KPN_04404': 'A6TGS5', 'KPN_01811': 'A6T9H1', 'KPN_01810': 'A6T9H0', 'KPN_01813': 'A6T9H3', 'KPN_01812': 'A6T9H2', 'KPN_01815': 'A6T9H5', 'KPN_01814': 'A6T9H4', 'KPN_01817': 'A6T9H7', 'KPN_01816': 'A6T9H6', 'KPN_01819': 'A6T9H9', 'KPN_01818': 'A6T9H8', 'KPN_03922': 'A6TFH4', 'KPN_pKPN3p05974': 'A6TID0', 'KPN_03921': 'A6TFH3', 'KPN_pKPN3p05975': 'A6T7P4', 'KPN_03920': 'A6TFH2', 'KPN_pKPN3p05976': 'A6TID2', 'KPN_pKPN3p06036': 'A6TIJ2', 'KPN_04254': 'A6TGE9', 'KPN_pKPN3p05977': 'A6TID3', 'KPN_03428': 'A6TE03', 'KPN_03429': 'A6TE04', 'KPN_03426': 'A6TE01', 'KPN_03427': 'A6TE02', 'KPN_03424': 'A6TDZ9', 'KPN_03425': 'A6TE00', 'KPN_03422': 'A6TDZ7', 'KPN_02892': 'A6TCI1', 'KPN_03420': 'A6TDZ5', 'KPN_03421': 'A6TDZ6', 'KPN_04737': 'A6THQ3', 'KPN_04736': 'A6THQ2', 'KPN_04735': 'A6THQ1', 'KPN_02893': 'A6TCI2', 'KPN_04733': 'A6THP9', 'KPN_04732': 'A6THP8', 'KPN_04731': 'A6THP7', 'KPN_04730': 'A6THP6', 'KPN_04250': 'A6TGE5', 'KPN_pKPN3p05973': 'A6TIC9', 'KPN_04739': 'A6THQ5', 'KPN_04251': 'A6TGE6', 'KPN_pKPN4p07149': 'A6TII2', 'KPN_03929': 'A6TFI1', 'KPN_03928': 'A6TFI0', 'KPN_02987': 'A6TCS2', 'KPN_04856': 'A6TI15', 'KPN_00856': 'A6T6S1', 'KPN_00857': 'A6T6S2', 'KPN_00854': 'A6T6R9', 'KPN_00855': 'A6T6S0', 'KPN_00852': 'A6T6R7', 'KPN_00853': 'A6T6R8', 'KPN_00850': 'A6T6R5', 'KPN_00851': 'A6T6R6', 'KPN_02388': 'A6TB43', 'KPN_02389': 'A6TB44', 'KPN_00858': 'A6T6S3', 'KPN_00859': 'A6T6S4', 'KPN_02142': 'A6TAE9', 'KPN_02143': 'A6TAF0', 'KPN_02140': 'A6TAE7', 'KPN_02141': 'A6TAE8', 'KPN_02146': 'A6TAF3', 'KPN_02147': 'A6TAF4', 'KPN_02144': 'A6TAF1', 'KPN_02145': 'A6TAF2', 'KPN_02759': 'A6TC48', 'KPN_02148': 'A6TAF5', 'KPN_02149': 'A6TAF6', 'KPN_03398': 'A6TDX4', 'KPN_03552': 'A6TEG3', 'KPN_03553': 'A6TEG4', 'KPN_03550': 'A6TEG1', 'KPN_03551': 'A6TEG2', 'KPN_03556': 'A6TEG7', 'KPN_03557': 'A6TEG8', 'KPN_03554': 'A6TEG5', 'KPN_02837': 'A6TCC6', 'KPN_04603': 'A6THC0', 'KPN_04602': 'A6THB9', 'KPN_03558': 'A6TEG9', 'KPN_03559': 'A6TEH0', 'KPN_04607': 'A6THC4', 'KPN_04606': 'A6THC3', 'KPN_04605': 'A6THC2', 'KPN_04342': 'A6TGM6', 'KPN_02949': 'A6TCN4', 'KPN_02758': 'A6TC47', 'KPN_02985': 'A6TCS0', 'KPN_01543': 'A6T8Q3', 'KPN_01542': 'A6T8Q2', 'KPN_01541': 'A6T8Q1', 'KPN_01540': 'A6T8Q0', 'KPN_01547': 'A6T8Q7', 'KPN_01546': 'A6T8Q6', 'KPN_01545': 'A6T8Q5', 'KPN_01544': 'A6T8Q4', 'KPN_04319': 'A6TGK3', 'KPN_01549': 'A6T8Q9', 'KPN_01548': 'A6T8Q8', 'KPN_02386': 'A6TB41', 'KPN_04318': 'A6TGK2', 'KPN_03088': 'A6TD18', 'KPN_03089': 'A6TD19', 'KPN_pKPN4p07146': 'A6TIH9', 'KPN_02387': 'A6TB42', 'KPN_pKPN3p05935': 'A6TI92', 'KPN_02982': 'A6TCR7', 'KPN_03080': 'A6TD10', 'KPN_02380': 'A6TB35', 'KPN_03082': 'A6TD12', 'KPN_03083': 'A6TD13', 'KPN_03084': 'A6TD14', 'KPN_03085': 'A6TD15', 'KPN_03086': 'A6TD16', 'KPN_02381': 'A6TB36', 'KPN_04751': 'A6THR3', 'KPN_02382': 'A6TB37', 'KPN_pKPN3p06033': 'A6TII9', 'KPN_02383': 'A6TB38', 'KPN_02065': 'A6TA72', 'KPN_04519': 'A6TH40', 'KPN_02064': 'A6TA71', 'KPN_04517': 'A6TH38', 'KPN_04516': 'A6TH37', 'KPN_04515': 'A6TH36', 'KPN_04514': 'A6TH35', 'KPN_04513': 'A6TH34', 'KPN_02067': 'A6TA74', 'KPN_04511': 'A6TH32', 'KPN_04510': 'A6TH31', 'KPN_02066': 'A6TA73', 'KPN_pKPN4p07089': 'A6TIP5', 'KPN_pKPN4p07088': 'A6TIP4', 'KPN_00708': 'A6T6D0', 'KPN_00709': 'A6T6D1', 'KPN_00706': 'A6T6C8', 'KPN_00707': 'A6T6C9', 'KPN_00704': 'A6T6C6', 'KPN_00705': 'A6T6C7', 'KPN_00702': 'A6T6C4', 'KPN_00703': 'A6T6C5', 'KPN_00700': 'A6T6C2', 'KPN_00701': 'A6T6C3', 'KPN_pKPN5p08197': 'A6TJ04', 'KPN_02568': 'A6TBL5', 'KPN_02063': 'A6TA70', 'KPN_02564': 'A6TBL1', 'KPN_02565': 'A6TBL2', 'KPN_02566': 'A6TBL3', 'KPN_02062': 'A6TA69', 'KPN_02560': 'A6TBK7', 'KPN_02561': 'A6TBK8', 'KPN_02562': 'A6TBK9', 'KPN_02563': 'A6TBL0', 'KPN_01494': 'A6T8K5', 'KPN_01497': 'A6T8K7', 'KPN_01496': 'A6T8K6', 'KPN_01491': 'A6T8K2', 'KPN_01490': 'A6T8K1', 'KPN_01493': 'A6T8K4', 'KPN_01492': 'A6T8K3', 'KPN_02362': 'A6TB17', 'KPN_02363': 'A6TB18', 'KPN_01400': 'A6T8B1', 'KPN_02361': 'A6TB16', 'KPN_01499': 'A6T8K9', 'KPN_01498': 'A6T8K8', 'KPN_02364': 'A6TB19', 'KPN_02365': 'A6TB20', 'KPN_pKPN5p08196': 'A6TJ03', 'KPN_03378': 'A6TDV4', 'KPN_03379': 'A6TDV5', 'KPN_04693': 'A6THK9', 'KPN_03372': 'A6TDU8', 'KPN_03373': 'A6TDU9', 'KPN_03370': 'A6TDU6', 'KPN_03371': 'A6TDU7', 'KPN_03376': 'A6TDV2', 'KPN_03377': 'A6TDV3', 'KPN_03374': 'A6TDV0', 'KPN_03375': 'A6TDV1', 'KPN_03392': 'A6TDW8', 'KPN_01401': 'A6T8B2', 'KPN_03393': 'A6TDW9', 'KPN_pKPN5p08195': 'A6TJ02', 'KPN_00632': 'A6T661', 'KPN_00633': 'A6T662', 'KPN_00630': 'A6T659', 'KPN_00631': 'A6T660', 'KPN_00636': 'A6T665', 'KPN_00637': 'A6T666', 'KPN_00634': 'A6T663', 'KPN_00635': 'A6T664', 'KPN_01723': 'A6T983', 'KPN_01722': 'A6T982', 'KPN_00638': 'A6T667', 'KPN_00639': 'A6T668', 'KPN_01727': 'A6T987', 'KPN_01726': 'A6T986', 'KPN_01725': 'A6T985', 'KPN_01724': 'A6T984', 'KPN_pKPN4p07119': 'A6TIS5', 'KPN_pKPN5p08194': 'A6TJ01', 'KPN_pKPN3p05905': 'A6TI63', 'KPN_pKPN3p05904': 'A6TI62', 'KPN_pKPN3p05907': 'A6T973', 'KPN_pKPN3p05906': 'A6TI64', 'KPN_pKPN3p05901': 'A6TI59', 'KPN_pKPN3p05900': 'A6TI58', 'KPN_pKPN3p05903': 'A6TI61', 'KPN_pKPN3p05902': 'A6TI60', 'KPN_03674': 'A6TET2', 'KPN_pKPN3p05909': 'A6TI67', 'KPN_pKPN3p05908': 'A6TI66', 'KPN_04087': 'A6TFY6', 'KPN_04652': 'A6THG9', 'KPN_pKPN5p08193': 'A6TJ00', 'KPN_04609': 'A6THC6', 'KPN_04869': 'A6TE62', 'KPN_pKPN3p06017': 'A6TIH3', 'KPN_pKPN3p06014': 'A6TIH0', 'KPN_04608': 'A6THC5', 'KPN_02656': 'A6TBV2', 'KPN_02778': 'A6TC67', 'KPN_pKPN3p06010': 'A6TIG6', 'KPN_pKPN3p06011': 'A6TIG7', 'KPN_02775': 'A6TC64', 'KPN_02774': 'A6TC63', 'KPN_02777': 'A6TC66', 'KPN_01840': 'A6T9K0', 'KPN_02771': 'A6TC60', 'KPN_02770': 'A6TC59', 'KPN_02773': 'A6TC62', 'KPN_02772': 'A6TC61', 'KPN_00526': 'A6T5V5', 'KPN_00527': 'A6T5V6', 'KPN_00524': 'A6T5V3', 'KPN_00525': 'A6T5V4', 'KPN_00522': 'A6T5V1', 'KPN_00523': 'A6T5V2', 'KPN_00520': 'A6T5U9', 'KPN_01038': 'A6T7A2', 'KPN_01037': 'A6T7A1', 'KPN_01036': 'A6T7A0', 'KPN_01035': 'A6T799', 'KPN_01034': 'A6T798', 'KPN_01033': 'A6T797', 'KPN_01032': 'A6T796', 'KPN_00528': 'A6T5V7', 'KPN_01030': 'A6T794', 'KPN_02657': 'A6TBV3', 'KPN_03638': 'A6TEP7', 'KPN_01841': 'A6T9K1', 'KPN_04601': 'A6THB8', 'KPN_04600': 'A6THB7', 'KPN_03958': 'A6TFK9', 'KPN_03959': 'A6TFL0', 'KPN_03956': 'A6TFK7', 'KPN_03957': 'A6TFK8', 'KPN_03954': 'A6TFK5', 'KPN_03955': 'A6TFK6', 'KPN_03952': 'A6TFK3', 'KPN_03953': 'A6TFK4', 'KPN_03950': 'A6TFK1', 'KPN_03951': 'A6TFK2', 'KPN_01158': 'A6T7M0', 'KPN_01159': 'A6T7M1', 'KPN_04285': 'A6TGH3', 'KPN_04284': 'A6TGH2', 'KPN_04283': 'A6TGH1', 'KPN_04282': 'A6TGH0', 'KPN_04281': 'A6TGG9', 'KPN_03632': 'A6TEP1', 'KPN_01150': 'A6T7L2', 'KPN_01151': 'A6T7L3', 'KPN_01152': 'A6T7L4', 'KPN_01153': 'A6T7L5', 'KPN_01154': 'A6T7L6', 'KPN_01155': 'A6T7L7', 'KPN_01156': 'A6T7L8', 'KPN_01157': 'A6T7L9', 'KPN_02601': 'A6TBP8', 'KPN_02600': 'A6TBP7', 'KPN_00458': 'A6T5N8', 'KPN_00459': 'A6T5N9', 'KPN_02605': 'A6TBQ2', 'KPN_02604': 'A6TBQ1', 'KPN_02607': 'A6TBQ4', 'KPN_02606': 'A6TBQ3', 'KPN_00452': 'A6T5N3', 'KPN_00453': 'A6T5N4', 'KPN_00450': 'A6T5N1', 'KPN_00451': 'A6T5N2', 'KPN_00456': 'A6T5N7', 'KPN_00454': 'A6T5N5', 'KPN_00455': 'A6T5N6', 'KPN_pKPN4p07117': 'A6TIS3', 'KPN_04767': 'A6THS9', 'KPN_pKPN3p05879': 'A6TI37', 'KPN_03635': 'A6TEP4', 'KPN_pKPN3p05875': 'A6TI33', 'KPN_pKPN3p05874': 'A6TF77', 'KPN_pKPN3p05877': 'A6TI35', 'KPN_03634': 'A6TEP3', 'KPN_pKPN3p05871': 'A6TI29', 'KPN_pKPN3p05870': 'A6TI28', 'KPN_pKPN3p05873': 'A6TI31', 'KPN_pKPN3p05872': 'A6TI30', 'KPN_pKPN5p08230': 'A6TJ38', 'KPN_04229': 'A6TGC4', 'KPN_04370': 'A6TGP5', 'KPN_04228': 'A6TGC3', 'KPN_04865': 'A6TE58', 'KPN_pKPN4p07112': 'A6TIR9', 'KPN_03133': 'A6TD63', 'KPN_03880': 'A6TFD3', 'KPN_03881': 'A6TFD4', 'KPN_03882': 'A6TFD5', 'KPN_03883': 'A6TFD6', 'KPN_03884': 'A6TFD7', 'KPN_01848': 'A6T9K8', 'KPN_03886': 'A6TFD9', 'KPN_03887': 'A6TFE0', 'KPN_03888': 'A6TFE1', 'KPN_03889': 'A6TFE2', 'KPN_01849': 'A6T9K9', 'KPN_04359': 'A6TGN4', 'KPN_04357': 'A6TEX7', 'KPN_02915': 'A6TCK0', 'KPN_04221': 'A6TGB6', 'KPN_02917': 'A6TCK2', 'KPN_02916': 'A6TCK1', 'KPN_02910': 'A6TCJ9', 'KPN_04220': 'A6TGB5', 'KPN_02757': 'A6TC46', 'KPN_02919': 'A6TCK4', 'KPN_02918': 'A6TCK3', 'KPN_02756': 'A6TC45', 'KPN_01936': 'A6T9U6', 'KPN_01937': 'A6T9U7', 'KPN_01934': 'A6T9U4', 'KPN_01935': 'A6T9U5', 'KPN_01932': 'A6T9U2', 'KPN_01933': 'A6T9U3', 'KPN_01930': 'A6T9U0', 'KPN_01931': 'A6T9U1', 'KPN_04225': 'A6TGC0', 'KPN_04358': 'A6TGN3', 'KPN_pKPN4p07157': 'A6TIJ0', 'KPN_01938': 'A6T9U8', 'KPN_01939': 'A6T9U9', 'KPN_04034': 'A6TFT3', 'KPN_04035': 'A6TFT4', 'KPN_04036': 'A6TFT5', 'KPN_04037': 'A6TFT6', 'KPN_00049': 'A6T4I8', 'KPN_00048': 'A6T4I7', 'KPN_04032': 'A6TFT1', 'KPN_04033': 'A6TFT2', 'KPN_00045': 'A6T4I4', 'KPN_00044': 'A6T4I3', 'KPN_00047': 'A6T4I6', 'KPN_00046': 'A6T4I5', 'KPN_00041': 'A6T4I0', 'KPN_00040': 'A6T4H9', 'KPN_00043': 'A6T4I2', 'KPN_00042': 'A6T4I1', 'KPN_03776': 'A6TF29', 'KPN_03777': 'A6TF30', 'KPN_00289': 'A6T570', 'KPN_00288': 'A6T569', 'KPN_03772': 'A6TF25', 'KPN_03773': 'A6TF26', 'KPN_03770': 'A6TF23', 'KPN_03771': 'A6TF24', 'KPN_00283': 'A6T564', 'KPN_00282': 'A6T563', 'KPN_00281': 'A6T562', 'KPN_00280': 'A6T561', 'KPN_00287': 'A6T568', 'KPN_00286': 'A6T567', 'KPN_00285': 'A6T566', 'KPN_00284': 'A6T565', 'KPN_01802': 'A6T9G2', 'KPN_01803': 'A6T9G3', 'KPN_01800': 'A6T9G0', 'KPN_01801': 'A6T9G1', 'KPN_01806': 'A6T9G6', 'KPN_01807': 'A6T9G7', 'KPN_01804': 'A6T9G4', 'KPN_01805': 'A6T9G5', 'KPN_02821': 'A6TCB0', 'KPN_02820': 'A6TCA9', 'KPN_01808': 'A6T9G8', 'KPN_01809': 'A6T9G9', 'KPN_02825': 'A6TCB4', 'KPN_02824': 'A6TCB3', 'KPN_02827': 'A6TCB6', 'KPN_02826': 'A6TCB5', 'KPN_02862': 'A6TCF1', 'KPN_03849': 'A6TFA2', 'KPN_03413': 'A6TDY8', 'KPN_03412': 'A6TDY7', 'KPN_03411': 'A6TDY6', 'KPN_03410': 'A6TDY5', 'KPN_03417': 'A6TDZ2', 'KPN_03416': 'A6TDZ1', 'KPN_02991': 'A6TCS6', 'KPN_03414': 'A6TDY9', 'KPN_04720': 'A6THN6', 'KPN_04721': 'A6THN7', 'KPN_03419': 'A6TDZ4', 'KPN_03418': 'A6TDZ3', 'KPN_04724': 'A6THP0', 'KPN_04725': 'A6THP1', 'KPN_04726': 'A6THP2', 'KPN_04727': 'A6THP3', 'KPN_pKPN3p06026': 'A6TII2', 'KPN_04362': 'A6TGN7', 'KPN_02817': 'A6TCA6', 'KPN_04089': 'A6TFY8', 'KPN_00199': 'A6T4Y8', 'KPN_00198': 'A6T4Y7', 'KPN_00197': 'A6T4Y6', 'KPN_00196': 'A6T4Y5', 'KPN_00195': 'A6T4Y4', 'KPN_00194': 'A6T4Y3', 'KPN_00193': 'A6T4Y2', 'KPN_00192': 'A6T4Y1', 'KPN_00191': 'A6T4Y0', 'KPN_00190': 'A6T4X9', 'KPN_04857': 'A6TI16', 'KPN_03382': 'A6TDV8', 'KPN_03139': 'A6TD69', 'KPN_02177': 'A6TAI4', 'KPN_02176': 'A6TAI3', 'KPN_02175': 'A6TAI2', 'KPN_02174': 'A6TAI1', 'KPN_02173': 'A6TAI0', 'KPN_02172': 'A6TAH9', 'KPN_02171': 'A6TAH8', 'KPN_02170': 'A6TAH7', 'KPN_03648': 'A6TEQ6', 'KPN_02179': 'A6TAI6', 'KPN_02178': 'A6TAI5', 'KPN_03567': 'A6TEH8', 'KPN_03566': 'A6TEH7', 'KPN_03565': 'A6TEH6', 'KPN_02958': 'A6TCP3', 'KPN_03563': 'A6TEH4', 'KPN_03562': 'A6TEH3', 'KPN_03561': 'A6TEH2', 'KPN_03560': 'A6TEH1', 'KPN_04614': 'A6THD1', 'KPN_04615': 'A6THD2', 'KPN_04616': 'A6THD3', 'KPN_01948': 'A6T9V8', 'KPN_04487': 'A6TH08', 'KPN_04611': 'A6THC8', 'KPN_03569': 'A6TEI0', 'KPN_03568': 'A6TEH9', 'KPN_00997': 'A6T762', 'KPN_00996': 'A6T761', 'KPN_00995': 'A6T760', 'KPN_00994': 'A6T759', 'KPN_00993': 'A6T758', 'KPN_00992': 'A6T757', 'KPN_00991': 'A6T756', 'KPN_00990': 'A6T755', 'KPN_03087': 'A6TD17', 'KPN_00999': 'A6T764', 'KPN_00998': 'A6T763', 'KPN_01554': 'A6T8R4', 'KPN_01555': 'A6T8R5', 'KPN_01556': 'A6T8R6', 'KPN_01557': 'A6T8R7', 'KPN_01550': 'A6T8R0', 'KPN_01551': 'A6T8R1', 'KPN_01552': 'A6T8R2', 'KPN_01553': 'A6T8R3', 'KPN_02285': 'A6TAU0', 'KPN_02284': 'A6TAT9', 'KPN_02287': 'A6TAU2', 'KPN_02286': 'A6TAU1', 'KPN_01558': 'A6T8R8', 'KPN_01559': 'A6T8R9', 'KPN_02283': 'A6TAT8', 'KPN_02282': 'A6TAT7', 'KPN_pKPN5p08173': 'A6TIY0', 'KPN_04351': 'A6TGN0', 'KPN_pKPN4p07158': 'A6TIJ1', 'KPN_pKPN4p07161': 'A6TIJ4', 'KPN_02990': 'A6TCS5', 'KPN_pKPN4p07062': 'A6TIL8', 'KPN_04500': 'A6TH21', 'KPN_04501': 'A6TH22', 'KPN_00869': 'A6T6T4', 'KPN_00868': 'A6T6T3', 'KPN_04504': 'A6TH25', 'KPN_04505': 'A6TH26', 'KPN_04506': 'A6TH27', 'KPN_04507': 'A6TH28', 'KPN_00863': 'A6T6S8', 'KPN_00862': 'A6T6S7', 'KPN_00861': 'A6T6S6', 'KPN_00860': 'A6T6S5', 'KPN_00867': 'A6T6T2', 'KPN_00866': 'A6T6T1', 'KPN_00865': 'A6T6T0', 'KPN_00864': 'A6T6S9', 'KPN_00733': 'A6T6F5', 'KPN_00732': 'A6T6F4', 'KPN_00731': 'A6T6F3', 'KPN_00730': 'A6T6F2', 'KPN_00737': 'A6T6F9', 'KPN_00736': 'A6T6F8', 'KPN_00735': 'A6T6F7', 'KPN_00734': 'A6T6F6', 'KPN_pKPN4p07092': 'A6TIP8', 'KPN_pKPN4p07093': 'A6TIP9', 'KPN_00739': 'A6T6G1', 'KPN_00738': 'A6T6G0', 'KPN_pKPN4p07096': 'A6TIQ2', 'KPN_pKPN4p07097': 'A6TIQ3', 'KPN_pKPN4p07094': 'A6TIQ0', 'KPN_pKPN4p07095': 'A6TIQ1', 'KPN_02591': 'A6TBN8', 'KPN_02590': 'A6TBN7', 'KPN_02593': 'A6TBP0', 'KPN_02592': 'A6TBN9', 'KPN_02595': 'A6TBP2', 'KPN_02594': 'A6TBP1', 'KPN_02597': 'A6TBP4', 'KPN_02596': 'A6TBP3', 'KPN_02599': 'A6TBP6', 'KPN_02598': 'A6TBP5', 'KPN_03395': 'A6TDX1', 'KPN_01486': 'A6T8J7', 'KPN_01487': 'A6T8J8', 'KPN_01484': 'A6T8J5', 'KPN_01485': 'A6T8J6', 'KPN_01482': 'A6T8J3', 'KPN_01483': 'A6T8J4', 'KPN_01480': 'A6T8J1', 'KPN_01481': 'A6T8J2', 'KPN_02357': 'A6TB12', 'KPN_02356': 'A6TB11', 'KPN_02355': 'A6TB10', 'KPN_02354': 'A6TB09', 'KPN_02353': 'A6TB08', 'KPN_02352': 'A6TB07', 'KPN_01488': 'A6T8J9', 'KPN_01489': 'A6T8K0', 'KPN_03016': 'A6TCV1', 'KPN_03349': 'A6TDS5', 'KPN_03348': 'A6TDS4', 'KPN_03347': 'A6TDS3', 'KPN_03346': 'A6TDS2', 'KPN_03345': 'A6TDS1', 'KPN_03344': 'A6TDS0', 'KPN_03343': 'A6TDR9', 'KPN_03342': 'A6TDR8', 'KPN_03341': 'A6TDR7', 'KPN_03340': 'A6TDR6', 'KPN_pKPN3p06009': 'A6TIG5', 'KPN_04858': 'A6TE51', 'KPN_04451': 'A6TGX2', 'KPN_03870': 'A6TFC3', 'KPN_00607': 'A6T636', 'KPN_00606': 'A6T635', 'KPN_00605': 'A6T634', 'KPN_00604': 'A6T633', 'KPN_00603': 'A6T632', 'KPN_00602': 'A6T631', 'KPN_00601': 'A6T630', 'KPN_00600': 'A6T629', 'KPN_01734': 'A6T994', 'KPN_01735': 'A6T995', 'KPN_01736': 'A6T996', 'KPN_01737': 'A6T997', 'KPN_01730': 'A6T990', 'KPN_01731': 'A6T991', 'KPN_00609': 'A6T638', 'KPN_00608': 'A6T637', 'KPN_02888': 'A6TCH7', 'KPN_03709': 'A6TEW2', 'KPN_04871': 'A6TE64', 'KPN_04292': 'A6TGI0', 'KPN_03708': 'A6TEW1', 'KPN_04641': 'A6THF8', 'KPN_04872': 'A6TE65', 'KPN_04327': 'A6TGL1', 'KPN_04512': 'A6TH33', 'KPN_pKPN3p05912': 'A6TI70', 'KPN_pKPN3p05913': 'A6TI71', 'KPN_pKPN3p05910': 'A6TI68', 'KPN_04873': 'A6TE66', 'KPN_pKPN3p05916': 'A6TI74', 'KPN_pKPN3p05917': 'A6TI75', 'KPN_pKPN3p05914': 'A6TI72', 'KPN_pKPN3p05915': 'A6TI73', 'KPN_03390': 'A6TDW6', 'KPN_pKPN3p05918': 'A6TI76', 'KPN_pKPN3p05919': 'A6TI77', 'KPN_03705': 'A6TEV8', 'KPN_04169': 'A6TG64', 'KPN_04876': 'A6TE69', 'KPN_04877': 'A6TE70', 'KPN_03195': 'A6TDC2', 'KPN_02986': 'A6TCS1', 'KPN_00519': 'A6T5U8', 'KPN_00518': 'A6T5U7', 'KPN_02768': 'A6TC57', 'KPN_02769': 'A6TC58', 'KPN_00513': 'A6T5U2', 'KPN_00512': 'A6T5U1', 'KPN_00511': 'A6T5U0', 'KPN_00510': 'A6T5T9', 'KPN_00517': 'A6T5U6', 'KPN_00516': 'A6T5U5', 'KPN_00515': 'A6T5U4', 'KPN_00514': 'A6T5U3', 'KPN_01020': 'A6T784', 'KPN_01021': 'A6T785', 'KPN_01022': 'A6T786', 'KPN_01023': 'A6T787', 'KPN_01024': 'A6T788', 'KPN_01025': 'A6T789', 'KPN_01026': 'A6T790', 'KPN_01027': 'A6T791', 'KPN_01028': 'A6T792', 'KPN_01029': 'A6T793', 'KPN_pKPN4p07039': 'A6TI18', 'KPN_02983': 'A6TCR8', 'KPN_pKPN4p07085': 'A6TIP1', 'KPN_04368': 'A6TGP3', 'KPN_02980': 'A6TCR5', 'KPN_04418': 'A6TGT9', 'KPN_02981': 'A6TCR6', 'KPN_pKPN4p07087': 'A6TIP3', 'KPN_03963': 'A6TFL4', 'KPN_02627': 'A6TBS3', 'KPN_03961': 'A6TFL2', 'KPN_03960': 'A6TFL1', 'KPN_03967': 'A6TFL8', 'KPN_03966': 'A6TFL7', 'KPN_03965': 'A6TFL6', 'KPN_03964': 'A6TFL5', 'KPN_04290': 'A6TGH8', 'KPN_04291': 'A6TGH9', 'KPN_03969': 'A6TFM0', 'KPN_03968': 'A6TFL9', 'KPN_04294': 'A6TGI2', 'KPN_02625': 'A6TBS2', 'KPN_04296': 'A6TGI4', 'KPN_03998': 'A6TFP9', 'KPN_pKPN5p08210': 'A6TJ17', 'KPN_02624': 'A6TBS1', 'KPN_01129': 'A6T7J1', 'KPN_01128': 'A6T7J0', 'KPN_01125': 'A6T7I7', 'KPN_01124': 'A6T7I6', 'KPN_01127': 'A6T7I9', 'KPN_01126': 'A6T7I8', 'KPN_01121': 'A6T7I3', 'KPN_01120': 'A6T7I2', 'KPN_01123': 'A6T7I5', 'KPN_01122': 'A6T7I4', 'KPN_02612': 'A6TBQ9', 'KPN_02613': 'A6TBR0', 'KPN_02610': 'A6TBQ7', 'KPN_02611': 'A6TBQ8', 'KPN_02616': 'A6TBR3', 'KPN_02617': 'A6TBR4', 'KPN_00469': 'A6T5P9', 'KPN_00468': 'A6T5P8', 'KPN_00467': 'A6T5P7', 'KPN_00466': 'A6T5P6', 'KPN_00465': 'A6T5P5', 'KPN_00464': 'A6T5P4', 'KPN_00463': 'A6T5P3', 'KPN_00462': 'A6T5P2', 'KPN_00461': 'A6T5P1', 'KPN_00460': 'A6T5P0', 'KPN_pKPN3p05868': 'A6TI26', 'KPN_pKPN3p05869': 'A6TI27', 'KPN_pKPN3p05862': 'A6TI20', 'KPN_pKPN3p05863': 'A6TI21', 'KPN_pKPN3p05860': 'A6TI18', 'KPN_pKPN3p05861': 'A6TI19', 'KPN_pKPN3p05866': 'A6TI24', 'KPN_pKPN3p05867': 'A6TI25', 'KPN_pKPN3p05864': 'A6TI22', 'KPN_02569': 'A6TBL6', 'KPN_04593': 'A6THB0', 'KPN_pKPN4p07083': 'A6T725', 'KPN_03757': 'A6TF10', 'KPN_pKPN5p08218': 'A6TJ25', 'KPN_01231': 'A6T7U3', 'KPN_01230': 'A6T7U2', 'KPN_01233': 'A6T7U5', 'KPN_01232': 'A6T7U4', 'KPN_01235': 'A6T7U7', 'KPN_01234': 'A6T7U6', 'KPN_01237': 'A6T7U9', 'KPN_01236': 'A6T7U8', 'KPN_01239': 'A6T7V1', 'KPN_01238': 'A6T7V0', 'KPN_04340': 'A6TGM4', 'KPN_04341': 'A6TGM5', 'KPN_04649': 'A6THG6', 'KPN_04344': 'A6TGM8', 'KPN_02906': 'A6TCJ5', 'KPN_02907': 'A6TCJ6', 'KPN_02904': 'A6TCJ3', 'KPN_02905': 'A6TCJ4', 'KPN_02902': 'A6TCJ1', 'KPN_02903': 'A6TCJ2', 'KPN_02900': 'A6TCI9', 'KPN_02901': 'A6TCJ0', 'KPN_02641': 'A6TBT7', 'KPN_02908': 'A6TCJ7', 'KPN_02909': 'A6TCJ8', 'KPN_03353': 'A6TDS9', 'KPN_04648': 'A6THG5', 'KPN_02368': 'A6TB23', 'KPN_03749': 'A6TF02', 'KPN_02369': 'A6TB24', 'KPN_04851': 'A6TI10', 'KPN_00058': 'A6T4J7', 'KPN_00059': 'A6T4J8', 'KPN_00056': 'A6T4J5', 'KPN_00057': 'A6T4J6', 'KPN_00054': 'A6T4J3', 'KPN_00055': 'A6T4J4', 'KPN_00052': 'A6T4J1', 'KPN_00053': 'A6T4J2', 'KPN_00050': 'A6T4I9', 'KPN_00051': 'A6T4J0', 'KPN_03989': 'A6TFP0', 'KPN_03988': 'A6TFN9', 'KPN_04849': 'A6TI08', 'KPN_00298': 'A6T579', 'KPN_00299': 'A6T580', 'KPN_00294': 'A6T575', 'KPN_00295': 'A6T576', 'KPN_00296': 'A6T577', 'KPN_00297': 'A6T578', 'KPN_00290': 'A6T571', 'KPN_00291': 'A6T572', 'KPN_00292': 'A6T573', 'KPN_00293': 'A6T574', 'KPN_01837': 'A6T9J7', 'KPN_01836': 'A6T9J6', 'KPN_01835': 'A6T9J5', 'KPN_01834': 'A6T9J4', 'KPN_01833': 'A6T9J3', 'KPN_01832': 'A6T9J2', 'KPN_01831': 'A6T9J1', 'KPN_01830': 'A6T9J0', 'KPN_02832': 'A6TCC1', 'KPN_02833': 'A6TCC2', 'KPN_02830': 'A6TCB9', 'KPN_02831': 'A6TCC0', 'KPN_02836': 'A6TCC5', 'KPN_02360': 'A6TB15', 'KPN_01839': 'A6T9J9', 'KPN_01838': 'A6T9J8', 'KPN_02779': 'A6TC68', 'KPN_03177': 'A6TDA4', 'KPN_02366': 'A6TB21', 'KPN_03524': 'A6TED5', 'KPN_02367': 'A6TB22', 'KPN_03404': 'A6TDX9', 'KPN_03405': 'A6TDY0', 'KPN_03406': 'A6TDY1', 'KPN_03407': 'A6TDY2', 'KPN_03400': 'A6TDX5', 'KPN_03172': 'A6TD99', 'KPN_03402': 'A6TDX7', 'KPN_03403': 'A6TDX8', 'KPN_04755': 'A6THR7', 'KPN_04754': 'A6THR6', 'KPN_04757': 'A6THR9', 'KPN_03173': 'A6TDA0', 'KPN_03408': 'A6TDY3', 'KPN_03409': 'A6TDY4', 'KPN_04753': 'A6THR5', 'KPN_04752': 'A6THR4', 'KPN_03993': 'A6TFP4', 'KPN_04199': 'A6TG94', 'KPN_03443': 'A6TE18', 'KPN_04701': 'A6THL7', 'KPN_04193': 'A6TG88', 'KPN_04192': 'A6TG87', 'KPN_04191': 'A6TG86', 'KPN_04190': 'A6TG85', 'KPN_04197': 'A6TG92', 'KPN_04196': 'A6TG91', 'KPN_04195': 'A6TG90', 'KPN_04194': 'A6TG89', 'KPN_00180': 'A6T4W9', 'KPN_00181': 'A6T4X0', 'KPN_00182': 'A6T4X1', 'KPN_00183': 'A6T4X2', 'KPN_00184': 'A6T4X3', 'KPN_00185': 'A6T4X4', 'KPN_00186': 'A6T4X5', 'KPN_00187': 'A6T4X6', 'KPN_00188': 'A6T4X7', 'KPN_00189': 'A6T4X8', 'KPN_01901': 'A6T9R1', 'KPN_01900': 'A6T9R0', 'KPN_01907': 'A6T9R7', 'KPN_01906': 'A6T9R6', 'KPN_01905': 'A6T9R5', 'KPN_01904': 'A6T9R4', 'KPN_02168': 'A6TAH5', 'KPN_02169': 'A6TAH6', 'KPN_02160': 'A6TAG7', 'KPN_02161': 'A6TAG8', 'KPN_02162': 'A6TAG9', 'KPN_02163': 'A6TAH0', 'KPN_02164': 'A6TAH1', 'KPN_02165': 'A6TAH2', 'KPN_02166': 'A6TAH3', 'KPN_02167': 'A6TAH4', 'KPN_03578': 'A6TEI9', 'KPN_pKPN4p07121': 'A6TIS7', 'KPN_03570': 'A6TEI1', 'KPN_03571': 'A6TEI2', 'KPN_03572': 'A6TEI3', 'KPN_03573': 'A6TEI4', 'KPN_03574': 'A6TEI5', 'KPN_03575': 'A6TEI6', 'KPN_03576': 'A6TEI7', 'KPN_03577': 'A6TEI8', 'KPN_00988': 'A6T753', 'KPN_00989': 'A6T754', 'KPN_04416': 'A6TGT7', 'KPN_pKPN5p08227': 'A6TJ34', 'KPN_00980': 'A6T745', 'KPN_00981': 'A6T746', 'KPN_00982': 'A6T747', 'KPN_00983': 'A6T748', 'KPN_00984': 'A6T749', 'KPN_00985': 'A6T750', 'KPN_00986': 'A6T751', 'KPN_00987': 'A6T752', 'KPN_pKPN5p08241': 'A6TJ48', 'KPN_01349': 'A6T860', 'KPN_03996': 'A6TFP7', 'KPN_04828': 'A6THY7', 'KPN_03904': 'A6TFF6', 'KPN_04417': 'A6TGT8', 'KPN_pKPN6p09258': 'A6TJ66', 'KPN_03907': 'A6TFF9', 'KPN_02298': 'A6TAV3', 'KPN_02299': 'A6TAV4', 'KPN_02296': 'A6TAV1', 'KPN_02297': 'A6TAV2', 'KPN_02294': 'A6TAU9', 'KPN_02295': 'A6TAV0', 'KPN_02292': 'A6TAU7', 'KPN_02293': 'A6TAU8', 'KPN_02290': 'A6TAU5', 'KPN_02291': 'A6TAU6', 'KPN_03909': 'A6TFG1', 'KPN_04080': 'A6TFX9', 'KPN_03908': 'A6TFG0', 'KPN_03997': 'A6TFP8', 'KPN_04360': 'A6TGN5', 'KPN_04847': 'A6TI06', 'KPN_04575': 'A6TH92', 'KPN_04574': 'A6TH91', 'KPN_04577': 'A6TH94', 'KPN_04576': 'A6TH93', 'KPN_00878': 'A6T6U3', 'KPN_00879': 'A6T6U4', 'KPN_04573': 'A6TH90', 'KPN_03994': 'A6TFP5', 'KPN_00874': 'A6T6T9', 'KPN_00875': 'A6T6U0', 'KPN_00876': 'A6T6U1', 'KPN_00877': 'A6T6U2', 'KPN_00870': 'A6T6T5', 'KPN_00871': 'A6T6T6', 'KPN_00872': 'A6T6T7', 'KPN_00873': 'A6T6T8', 'KPN_00724': 'A6T6E6', 'KPN_00725': 'A6T6E7', 'KPN_00726': 'A6T6E8', 'KPN_00727': 'A6T6E9', 'KPN_00720': 'A6T6E2', 'KPN_00721': 'A6T6E3', 'KPN_00722': 'A6T6E4', 'KPN_00723': 'A6T6E5', 'KPN_00728': 'A6T6F0', 'KPN_00729': 'A6T6F1', 'KPN_pKPN4p07058': 'A6TIL5', 'KPN_pKPN4p07068': 'A6TIM4', 'KPN_02582': 'A6TBM9', 'KPN_02583': 'A6TBN0', 'KPN_02580': 'A6TBM7', 'KPN_02581': 'A6TBM8', 'KPN_02586': 'A6TBN3', 'KPN_02587': 'A6TBN4', 'KPN_02584': 'A6TBN1', 'KPN_02585': 'A6TBN2', 'KPN_02588': 'A6TBN5', 'KPN_02589': 'A6TBN6', 'KPN_02639': 'A6TBT5', 'KPN_04273': 'A6TGG1', 'KPN_02340': 'A6TAZ5', 'KPN_02341': 'A6TAZ6', 'KPN_02342': 'A6TAZ7', 'KPN_02343': 'A6TAZ8', 'KPN_02344': 'A6TAZ9', 'KPN_02345': 'A6TB00', 'KPN_02346': 'A6TB01', 'KPN_02347': 'A6TB02', 'KPN_02348': 'A6TB03', 'KPN_02349': 'A6TB04', 'KPN_03198': 'A6TDC5', 'KPN_03199': 'A6TDC6', 'KPN_01729': 'A6T989', 'KPN_03383': 'A6TDV9', 'KPN_03350': 'A6TDS6', 'KPN_03351': 'A6TDS7', 'KPN_03352': 'A6TDS8', 'KPN_01728': 'A6T988', 'KPN_03354': 'A6TDT0', 'KPN_03355': 'A6TDT1', 'KPN_03356': 'A6TDT2', 'KPN_03357': 'A6TDT3', 'KPN_03358': 'A6TDT4', 'KPN_03359': 'A6TDT5', 'KPN_04403': 'A6TGS4', 'KPN_04402': 'A6TGS3', 'KPN_04405': 'A6TGS6', 'KPN_02931': 'A6TCL6', 'KPN_04407': 'A6TGS8', 'KPN_04406': 'A6TGS7', 'KPN_00618': 'A6T647', 'KPN_00619': 'A6T648', 'KPN_02930': 'A6TCL5', 'KPN_00610': 'A6T639', 'KPN_00611': 'A6T640', 'KPN_00612': 'A6T641', 'KPN_00613': 'A6T642', 'KPN_00614': 'A6T643', 'KPN_00615': 'A6T644', 'KPN_00616': 'A6T645', 'KPN_00617': 'A6T646', 'KPN_04278': 'A6TGG6', 'KPN_04848': 'A6TI07', 'KPN_04279': 'A6TGG7', 'KPN_01721': 'A6T981', 'KPN_01720': 'A6T980', 'KPN_01589': 'A6T8U9', 'KPN_01588': 'A6T8U8', 'KPN_01587': 'A6T8U7', 'KPN_01586': 'A6T8U6', 'KPN_01585': 'A6T8U5', 'KPN_01584': 'A6T8U4', 'KPN_01583': 'A6T8U3', 'KPN_01582': 'A6T8U2', 'KPN_01581': 'A6T8U1', 'KPN_01580': 'A6T8U0', 'KPN_pKPN5p08239': 'A6TIK3', 'KPN_04846': 'A6TI05', 'KPN_pKPN5p08172': 'A6TIX9', 'KPN_02519': 'A6TBG6', 'KPN_04323': 'A6TGK7', 'KPN_02518': 'A6TBG5', 'KPN_03380': 'A6TDV6', 'KPN_pKPN4p07116': 'A6TIS2', 'KPN_04699': 'A6THL5', 'KPN_pKPN4p07114': 'A6TIS0', 'KPN_pKPN4p07113': 'A6TIR3', 'KPN_04491': 'A6TH12', 'KPN_pKPN4p07111': 'A6TIR8', 'KPN_pKPN4p07110': 'A6TIR7', 'KPN_02750': 'A6TC43', 'KPN_00508': 'A6T5T7', 'KPN_00509': 'A6T5T8', 'KPN_02755': 'A6TC44', 'KPN_00504': 'A6T5T3', 'KPN_00505': 'A6T5T4', 'KPN_00506': 'A6T5T5', 'KPN_00507': 'A6T5T6', 'KPN_00500': 'A6T5S9', 'KPN_00501': 'A6T5T0', 'KPN_00502': 'A6T5T1', 'KPN_00503': 'A6T5T2', 'KPN_01054': 'A6T7B7', 'KPN_01057': 'A6T7B9', 'KPN_01056': 'A6T7B8', 'KPN_01051': 'A6T7B4', 'KPN_01050': 'A6T7B3', 'KPN_01053': 'A6T7B6', 'KPN_01052': 'A6T7B5', 'KPN_01059': 'A6T7C1', 'KPN_01058': 'A6T7C0', 'KPN_02511': 'A6TBF8', 'KPN_02004': 'A6TA14', 'KPN_02510': 'A6TBF7', 'KPN_04350': 'A6TGM9', 'KPN_03974': 'A6TFM5', 'KPN_03975': 'A6TFM6', 'KPN_03976': 'A6TFM7', 'KPN_03977': 'A6TFM8', 'KPN_03386': 'A6TDW2', 'KPN_03971': 'A6TFM2', 'KPN_03972': 'A6TFM3', 'KPN_03973': 'A6TFM4', 'KPN_03978': 'A6TFM9', 'KPN_03979': 'A6TFN0', 'KPN_04640': 'A6THF7', 'KPN_04550': 'A6TH70', 'KPN_01138': 'A6T7K0', 'KPN_01139': 'A6T7K1', 'KPN_01136': 'A6T7J8', 'KPN_01137': 'A6T7J9', 'KPN_01134': 'A6T7J6', 'KPN_01135': 'A6T7J7', 'KPN_01132': 'A6T7J4', 'KPN_01133': 'A6T7J5', 'KPN_01130': 'A6T7J2', 'KPN_01131': 'A6T7J3', 'KPN_00470': 'A6T5Q0', 'KPN_00471': 'A6T5Q1', 'KPN_00472': 'A6T5Q2', 'KPN_00473': 'A6T5Q3', 'KPN_00474': 'A6T5Q4', 'KPN_00475': 'A6T5Q5', 'KPN_00476': 'A6T5Q6', 'KPN_00477': 'A6T5Q7', 'KPN_00478': 'A6T5Q8', 'KPN_00479': 'A6T5Q9', 'KPN_02629': 'A6TBS5', 'KPN_02628': 'A6TBS4', 'KPN_pKPN3p05897': 'A6TI55', 'KPN_pKPN3p05896': 'A6TI54', 'KPN_04113': 'A6TG12', 'KPN_pKPN3p05894': 'A6TI52', 'KPN_pKPN3p05893': 'A6TI51', 'KPN_pKPN3p05892': 'A6TI50', 'KPN_pKPN3p05891': 'A6TI49', 'KPN_pKPN3p05890': 'A6TI48', 'KPN_pKPN5p08240': 'A6TIK6', 'KPN_pKPN3p05899': 'A6TI57', 'KPN_pKPN3p05898': 'A6TI56', 'KPN_04823': 'A6THY5', 'KPN_04679': 'A6THJ6', 'KPN_04028': 'A6TFS7', 'KPN_04112': 'A6TG11', 'KPN_04548': 'A6TH68', 'KPN_04549': 'A6TH69', 'KPN_01222': 'A6T7T4', 'KPN_01223': 'A6T7T5', 'KPN_01220': 'A6T7T2', 'KPN_01221': 'A6T7T3', 'KPN_01226': 'A6T7T8', 'KPN_01227': 'A6T7T9', 'KPN_01224': 'A6T7T6', 'KPN_01225': 'A6T7T7', 'KPN_02933': 'A6TCL8', 'KPN_02932': 'A6TCL7', 'KPN_01228': 'A6T7U0', 'KPN_01229': 'A6T7U1', 'KPN_02937': 'A6TCM2', 'KPN_02936': 'A6TCM1', 'KPN_02935': 'A6TCM0', 'KPN_02934': 'A6TCL9', 'KPN_04545': 'A6TH65', 'KPN_03758': 'A6TF11', 'KPN_03759': 'A6TF12', 'KPN_04840': 'A6THZ9', 'KPN_02633': 'A6TBS9', 'KPN_pKPN4p07138': 'A6TIU4', 'KPN_00063': 'A6T4K2', 'KPN_00062': 'A6T4K1', 'KPN_00061': 'A6T4K0', 'KPN_00060': 'A6T4J9', 'KPN_00067': 'A6T4K6', 'KPN_00066': 'A6T4K5', 'KPN_00065': 'A6T4K4', 'KPN_00064': 'A6T4K3', 'KPN_03754': 'A6TF07', 'KPN_03755': 'A6TF08', 'KPN_00069': 'A6T4K8', 'KPN_00068': 'A6T4K7', 'KPN_03750': 'A6TF03', 'KPN_03751': 'A6TF04', 'KPN_03752': 'A6TF05', 'KPN_03753': 'A6TF06', 'KPN_00261': 'A6T543', 'KPN_00260': 'A6T542', 'KPN_00263': 'A6T545', 'KPN_00262': 'A6T544', 'KPN_00265': 'A6T547', 'KPN_00264': 'A6T546', 'KPN_00267': 'A6T549', 'KPN_00266': 'A6T548', 'KPN_00269': 'A6T551', 'KPN_00268': 'A6T550', 'KPN_01822': 'A6T9I2', 'KPN_01823': 'A6T9I3', 'KPN_01824': 'A6T9I4', 'KPN_01825': 'A6T9I5', 'KPN_01826': 'A6T9I6', 'KPN_01827': 'A6T9I7', 'KPN_pKPN5p08162': 'A6TIW9', 'KPN_02809': 'A6TC98', 'KPN_02808': 'A6TC97', 'KPN_02807': 'A6TC96', 'KPN_02806': 'A6TC95', 'KPN_02805': 'A6TC94', 'KPN_02804': 'A6TC93', 'KPN_02803': 'A6TC92', 'KPN_02802': 'A6TC91', 'KPN_02801': 'A6TC90', 'KPN_02800': 'A6TC89', 'KPN_01828': 'A6T9I8', 'KPN_04842': 'A6TI01', 'KPN_01829': 'A6T9I9', 'KPN_03617': 'A6TEM6', 'KPN_pKPN5p08163': 'A6TIK6', 'KPN_03616': 'A6TEM5', 'KPN_04748': 'A6THR0', 'KPN_04749': 'A6THR1', 'KPN_03611': 'A6TEM0', 'KPN_04742': 'A6THQ8', 'KPN_04743': 'A6THQ9', 'KPN_04740': 'A6THQ6', 'KPN_03610': 'A6TEL9', 'KPN_04845': 'A6TI04', 'KPN_pKPN3p06016': 'A6TIH2', 'KPN_04781': 'A6THU3', 'KPN_04188': 'A6TG83', 'KPN_03613': 'A6TEM2', 'KPN_pKPN5p08242': 'A6TJ49', 'KPN_04184': 'A6TG79', 'KPN_04185': 'A6TG80', 'KPN_04186': 'A6TG81', 'KPN_03612': 'A6TEM1', 'KPN_04180': 'A6TG75', 'KPN_04181': 'A6TG76', 'KPN_04182': 'A6TG77', 'KPN_04183': 'A6TG78', 'KPN_01820': 'A6T9I0', 'KPN_pKPN3p06015': 'A6TIH1', 'KPN_01918': 'A6T9S8', 'KPN_01919': 'A6T9S9', 'KPN_01821': 'A6T9I1', 'KPN_01914': 'A6T9S4', 'KPN_01915': 'A6T9S5', 'KPN_01916': 'A6T9S6', 'KPN_01917': 'A6T9S7', 'KPN_01910': 'A6T9S0', 'KPN_01911': 'A6T9S1', 'KPN_01912': 'A6T9S2', 'KPN_01913': 'A6T9S3', 'KPN_03991': 'A6TFP2', 'KPN_02119': 'A6TAC6', 'KPN_02118': 'A6TAC5', 'KPN_02115': 'A6TAC2', 'KPN_02114': 'A6TAC1', 'KPN_02117': 'A6TAC4', 'KPN_02116': 'A6TAC3', 'KPN_02111': 'A6TAB8', 'KPN_02110': 'A6TAB7', 'KPN_02113': 'A6TAC0', 'KPN_02112': 'A6TAB9', 'KPN_03494': 'A6TEA5', 'KPN_03509': 'A6TEC0', 'KPN_03508': 'A6TEB9', 'KPN_03505': 'A6TEB6', 'KPN_03504': 'A6TEB5', 'KPN_03507': 'A6TEB8', 'KPN_03506': 'A6TEB7', 'KPN_03501': 'A6TEB2', 'KPN_03500': 'A6TEB1', 'KPN_03503': 'A6TEB4', 'KPN_03502': 'A6TEB3', 'KPN_02776': 'A6TC65', 'KPN_pKPN3p05921': 'A6TI79', 'KPN_04352': 'A6TGN1', 'KPN_pKPN5p08166': 'A6TIX3', 'KPN_03630': 'A6TEN9', 'KPN_00089': 'A6T4M8', 'KPN_00088': 'A6T4M7', 'KPN_pKPN4p07077': 'A6TIN3', 'KPN_pKPN3p06018': 'A6TIH4', 'KPN_00081': 'A6T4M0', 'KPN_00080': 'A6T4L9', 'KPN_00083': 'A6T4M2', 'KPN_00082': 'A6T4M1', 'KPN_00085': 'A6T4M4', 'KPN_00084': 'A6T4M3', 'KPN_00087': 'A6T4M6', 'KPN_00086': 'A6T4M5', 'KPN_pKPN6p09261': 'A6TJ69', 'KPN_pKPN6p09260': 'A6TJ68', 'KPN_03982': 'A6TFN3', 'KPN_04676': 'A6THJ3', 'KPN_02021': 'A6TA28', 'KPN_02020': 'A6TA27', 'KPN_02023': 'A6TA30', 'KPN_02022': 'A6TA29', 'KPN_02025': 'A6TA32', 'KPN_02024': 'A6TA31', 'KPN_02027': 'A6TA34', 'KPN_02026': 'A6TA33', 'KPN_02029': 'A6TA36', 'KPN_02028': 'A6TA35', 'KPN_04280': 'A6TGG8', 'KPN_04119': 'A6TG18', 'KPN_03211': 'A6TDD8', 'KPN_03210': 'A6TDD7', 'KPN_03213': 'A6TDE0', 'KPN_03212': 'A6TDD9', 'KPN_03215': 'A6TDE2', 'KPN_01039': 'A6T7A3', 'KPN_03217': 'A6TDE4', 'KPN_03216': 'A6TDE3', 'KPN_03219': 'A6TDE6', 'KPN_03218': 'A6TDE5', 'KPN_00521': 'A6T5V0', 'KPN_02319': 'A6TAX4', 'KPN_00881': 'A6T6U6', 'KPN_00880': 'A6T6U5', 'KPN_00883': 'A6T6U8', 'KPN_00882': 'A6T6U7', 'KPN_00885': 'A6T6V0', 'KPN_00884': 'A6T6U9', 'KPN_00887': 'A6T6V2', 'KPN_00886': 'A6T6V1', 'KPN_00889': 'A6T6V4', 'KPN_00888': 'A6T6V3', 'KPN_04118': 'A6TG17', 'KPN_02478': 'A6TBC5', 'KPN_04255': 'A6TGF0', 'KPN_04569': 'A6TH86', 'KPN_pKPN4p07074': 'A6TIN0', 'KPN_04618': 'A6THD5', 'KPN_pKPN4p07076': 'A6TIN2', 'KPN_02479': 'A6TBC6', 'KPN_pKPN4p07070': 'A6TI92', 'KPN_pKPN4p07071': 'A6TIM7', 'KPN_pKPN4p07072': 'A6TIM8', 'KPN_03984': 'A6TFN5', 'KPN_pKPN5p08192': 'A6TIZ9', 'KPN_pKPN4p07078': 'A6TIN4', 'KPN_pKPN4p07079': 'A6TIN5', 'KPN_01031': 'A6T795', 'KPN_00529': 'A6T5V8', 'KPN_02311': 'A6TAW6', 'KPN_02335': 'A6TAZ0', 'KPN_02334': 'A6TAY9', 'KPN_02337': 'A6TAZ2', 'KPN_02310': 'A6TAW5', 'KPN_02331': 'A6TAY6', 'KPN_02330': 'A6TAY5', 'KPN_02333': 'A6TAY8', 'KPN_02332': 'A6TAY7', 'KPN_02339': 'A6TAZ4', 'KPN_02338': 'A6TAZ3', 'KPN_03325': 'A6TDQ1', 'KPN_03324': 'A6TDQ0', 'KPN_03327': 'A6TDQ3', 'KPN_03326': 'A6TDQ2', 'KPN_03321': 'A6TDP7', 'KPN_03320': 'A6TDP6', 'KPN_03323': 'A6TDP9', 'KPN_03322': 'A6TDP8', 'KPN_03748': 'A6TF01', 'KPN_04413': 'A6TGT4', 'KPN_04410': 'A6TGT1', 'KPN_04411': 'A6TGT2', 'KPN_03329': 'A6TDQ5', 'KPN_03328': 'A6TDQ4', 'KPN_04414': 'A6TGT5', 'KPN_04415': 'A6TGT6', 'KPN_02703': 'A6TBZ9', 'KPN_03637': 'A6TEP6', 'KPN_03986': 'A6TFN7', 'KPN_00669': 'A6T698', 'KPN_00668': 'A6T697', 'KPN_00665': 'A6T694', 'KPN_00664': 'A6T693', 'KPN_00667': 'A6T696', 'KPN_00666': 'A6T695', 'KPN_00661': 'A6T690', 'KPN_00660': 'A6T689', 'KPN_00663': 'A6T692', 'KPN_00662': 'A6T691', 'KPN_03308': 'A6TDN5', 'KPN_pKPN5p08168': 'A6TIX5', 'KPN_01590': 'A6T8V0', 'KPN_01591': 'A6T8V1', 'KPN_01592': 'A6T8V2', 'KPN_01593': 'A6T8V3', 'KPN_01594': 'A6T8V4', 'KPN_01595': 'A6T8V5', 'KPN_01596': 'A6T8V6', 'KPN_01597': 'A6T8V7', 'KPN_01598': 'A6T8V8', 'KPN_01599': 'A6T8V9', 'KPN_02243': 'A6TAP8', 'KPN_02097': 'A6TAA4', 'KPN_02245': 'A6TAQ0', 'KPN_02244': 'A6TAP9', 'KPN_02247': 'A6TAQ2', 'KPN_02246': 'A6TAQ1', 'KPN_03039': 'A6TCW9', 'KPN_03038': 'A6TCW8', 'KPN_03302': 'A6TDM9', 'KPN_03031': 'A6TCW1', 'KPN_03030': 'A6TCW0', 'KPN_03033': 'A6TCW3', 'KPN_03032': 'A6TCW2', 'KPN_03035': 'A6TCW5', 'KPN_03034': 'A6TCW4', 'KPN_03037': 'A6TCW7', 'KPN_03036': 'A6TCW6', 'KPN_pKPN4p07108': 'A6TIR5', 'KPN_pKPN4p07109': 'A6TIR6', 'KPN_pKPN4p07104': 'A6TIR0', 'KPN_pKPN4p07105': 'A6TIR1', 'KPN_pKPN4p07106': 'A6TIR2', 'KPN_pKPN4p07107': 'A6TIR4', 'KPN_pKPN4p07100': 'A6TIQ6', 'KPN_pKPN4p07101': 'A6TIQ7', 'KPN_pKPN4p07102': 'A6TIQ8', 'KPN_pKPN4p07103': 'A6TIQ9', 'KPN_02744': 'A6TC39', 'KPN_02745': 'A6TC40', 'KPN_02740': 'A6TC35', 'KPN_02741': 'A6TC36', 'KPN_02742': 'A6TC37', 'KPN_02743': 'A6TC38', 'KPN_03304': 'A6TDN1', 'KPN_02748': 'A6TC41', 'KPN_02749': 'A6TC42', 'KPN_01046': 'A6T7B0', 'KPN_01047': 'A6T7B1', 'KPN_01044': 'A6T7A8', 'KPN_01045': 'A6T7A9', 'KPN_01042': 'A6T7A6', 'KPN_01043': 'A6T7A7', 'KPN_01040': 'A6T7A4', 'KPN_01041': 'A6T7A5', 'KPN_01048': 'A6T7B2', 'KPN_03636': 'A6TEP5', 'KPN_pKPN4p07069': 'A6TIM5', 'KPN_04434': 'A6TGV5', 'KPN_04741': 'A6THQ7', 'KPN_04435': 'A6TGV6', 'KPN_04067': 'A6TFW6', 'KPN_04066': 'A6TFW5', 'KPN_04361': 'A6TGN6', 'KPN_01103': 'A6T7G5', 'KPN_01102': 'A6T7G4', 'KPN_01101': 'A6T7G3', 'KPN_01100': 'A6T7G2', 'KPN_01107': 'A6T7G9', 'KPN_01106': 'A6T7G8', 'KPN_01105': 'A6T7G7', 'KPN_01104': 'A6T7G6', 'KPN_02630': 'A6TBS6', 'KPN_02631': 'A6TBS7', 'KPN_01109': 'A6T7H1', 'KPN_01108': 'A6T7H0', 'KPN_02634': 'A6TBT0', 'KPN_02635': 'A6TBT1', 'KPN_02636': 'A6TBT2', 'KPN_02637': 'A6TBT3', 'KPN_00405': 'A6T5I6', 'KPN_00404': 'A6T5I5', 'KPN_00407': 'A6T5I8', 'KPN_00406': 'A6T5I7', 'KPN_00401': 'A6T5I2', 'KPN_00400': 'A6T5I1', 'KPN_00403': 'A6T5I4', 'KPN_00402': 'A6T5I3', 'KPN_00409': 'A6T5J0', 'KPN_00408': 'A6T5I9', 'KPN_pKPN3p05884': 'A6TF77', 'KPN_pKPN3p05885': 'A6TI43', 'KPN_pKPN3p05886': 'A6TI45', 'KPN_03814': 'A6TF67', 'KPN_pKPN3p05880': 'A6TI38', 'KPN_pKPN3p05881': 'A6TI39', 'KPN_03160': 'A6TD90', 'KPN_pKPN3p05883': 'A6TI41', 'KPN_03813': 'A6TF66', 'KPN_pKPN3p05888': 'A6TI46', 'KPN_pKPN3p05889': 'A6TI47', 'KPN_03812': 'A6TF65', 'KPN_02984': 'A6TCR9', 'KPN_04187': 'A6TG82', 'KPN_03699': 'A6TEV2', 'KPN_03698': 'A6TEV1', 'KPN_03695': 'A6TEU8', 'KPN_03694': 'A6TEU7', 'KPN_03697': 'A6TEV0', 'KPN_03696': 'A6TEU9', 'KPN_03691': 'A6TEU4', 'KPN_03690': 'A6TEU3', 'KPN_03693': 'A6TEU6', 'KPN_03692': 'A6TEU5', 'KPN_04852': 'A6TI11', 'KPN_04478': 'A6TGZ9', 'KPN_03931': 'A6TFI3', 'KPN_04069': 'A6TFW8', 'KPN_04853': 'A6TI12', 'KPN_04827': 'A6THY6', 'KPN_04068': 'A6TFW7', 'KPN_04326': 'A6TGL0', 'KPN_pKPN4p07148': 'A6TII1', 'KPN_00319': 'A6T5A0', 'KPN_00318': 'A6T599', 'KPN_01215': 'A6T7S7', 'KPN_01214': 'A6T7S6', 'KPN_01213': 'A6T7S5', 'KPN_01212': 'A6T7S4', 'KPN_01211': 'A6T7S3', 'KPN_01210': 'A6T7S2', 'KPN_00311': 'A6T592', 'KPN_00310': 'A6T591', 'KPN_00313': 'A6T594', 'KPN_00312': 'A6T593', 'KPN_00315': 'A6T596', 'KPN_00314': 'A6T595', 'KPN_01219': 'A6T7T1', 'KPN_00316': 'A6T597', 'KPN_04289': 'A6TGH7', 'KPN_04288': 'A6TGH6', 'KPN_04589': 'A6THA6', 'KPN_02889': 'A6TCH8', 'KPN_pKPN5p08243': 'A6TJ50', 'KPN_02603': 'A6TBQ0', 'KPN_00074': 'A6T4L3', 'KPN_00075': 'A6T4L4', 'KPN_00076': 'A6T4L5', 'KPN_00077': 'A6T4L6', 'KPN_00070': 'A6T4K9', 'KPN_00071': 'A6T4L0', 'KPN_00072': 'A6T4L1', 'KPN_00073': 'A6T4L2', 'KPN_00078': 'A6T4L7', 'KPN_00079': 'A6T4L8', 'KPN_pKPN4p07040': 'A6TI19', 'KPN_00272': 'A6T554', 'KPN_00273': 'A6T555', 'KPN_00270': 'A6T552', 'KPN_00271': 'A6T553', 'KPN_00276': 'A6T558', 'KPN_00277': 'A6T559', 'KPN_00274': 'A6T556', 'KPN_00275': 'A6T557', 'KPN_01855': 'A6T9L5', 'KPN_01854': 'A6T9L4', 'KPN_00278': 'A6T560', 'KPN_01856': 'A6T9L6', 'KPN_01851': 'A6T9L1', 'KPN_01850': 'A6T9L0', 'KPN_01853': 'A6T9L3', 'KPN_01852': 'A6T9L2', 'KPN_02810': 'A6TC99', 'KPN_02609': 'A6TBQ6', 'KPN_02812': 'A6TCA1', 'KPN_02813': 'A6TCA2', 'KPN_02814': 'A6TCA3', 'KPN_02815': 'A6TCA4', 'KPN_02816': 'A6TCA5', 'KPN_02608': 'A6TBQ5', 'KPN_02818': 'A6TCA7', 'KPN_02819': 'A6TCA8', 'KPN_02054': 'A6TA61', 'KPN_02055': 'A6TA62', 'KPN_02056': 'A6TA63', 'KPN_04773': 'A6THT5', 'KPN_04772': 'A6THT4', 'KPN_04771': 'A6THT3', 'KPN_02057': 'A6TA64', 'KPN_04777': 'A6THT9', 'KPN_04776': 'A6THT8', 'KPN_04775': 'A6THT7', 'KPN_04774': 'A6THT6', 'KPN_pKPN3p05946': 'A6TIA2', 'KPN_02050': 'A6TA57', 'KPN_04779': 'A6THU1', 'KPN_04778': 'A6THU0', 'KPN_02051': 'A6TA58', 'KPN_04171': 'A6TG66', 'KPN_04170': 'A6TG65', 'KPN_04173': 'A6TG68', 'KPN_04172': 'A6TG67', 'KPN_04175': 'A6TG70', 'KPN_02052': 'A6TA59', 'KPN_04177': 'A6TG72', 'KPN_04176': 'A6TG71', 'KPN_04179': 'A6TG74', 'KPN_04178': 'A6TG73', 'KPN_02053': 'A6TA60', 'KPN_pKPN5p08180': 'A6TIY7', 'KPN_04287': 'A6TGH5', 'KPN_pKPN5p08208': 'A6TJ15', 'KPN_pKPN3p05878': 'A6TI36', 'KPN_02108': 'A6TAB5', 'KPN_02109': 'A6TAB6', 'KPN_02106': 'A6TAB3', 'KPN_02107': 'A6TAB4', 'KPN_02104': 'A6TAB1', 'KPN_02105': 'A6TAB2', 'KPN_02102': 'A6TAA9', 'KPN_02103': 'A6TAB0', 'KPN_02100': 'A6TAA7', 'KPN_02101': 'A6TAA8', 'KPN_pKPN5p08190': 'A6TIZ7', 'KPN_03518': 'A6TEC9', 'KPN_03519': 'A6TED0', 'KPN_03516': 'A6TEC7', 'KPN_03517': 'A6TEC8', 'KPN_03514': 'A6TEC5', 'KPN_03515': 'A6TEC6', 'KPN_03512': 'A6TEC3', 'KPN_03513': 'A6TEC4', 'KPN_03510': 'A6TEC1', 'KPN_03511': 'A6TEC2', 'KPN_pKPN4p07046': 'A6TIK3', 'KPN_04660': 'A6THH7', 'KPN_03265': 'A6TDJ2', 'KPN_03787': 'A6TF40', 'KPN_03915': 'A6TFG7', 'KPN_04085': 'A6TFY4', 'KPN_04084': 'A6TFY3', 'KPN_00098': 'A6T4N7', 'KPN_00099': 'A6T4N8', 'KPN_04081': 'A6TFY0', 'KPN_03970': 'A6TFM1', 'KPN_04083': 'A6TFY2', 'KPN_04082': 'A6TFY1', 'KPN_00092': 'A6T4N1', 'KPN_00093': 'A6T4N2', 'KPN_00090': 'A6T4M9', 'KPN_00091': 'A6T4N0', 'KPN_00096': 'A6T4N5', 'KPN_00097': 'A6T4N6', 'KPN_00094': 'A6T4N3', 'KPN_00095': 'A6T4N4', 'KPN_03786': 'A6TF39', 'KPN_03712': 'A6TEW5', 'KPN_04822': 'A6THY4', 'KPN_02032': 'A6TA39', 'KPN_02033': 'A6TA40', 'KPN_02030': 'A6TA37', 'KPN_02031': 'A6TA38', 'KPN_02036': 'A6TA43', 'KPN_02037': 'A6TA44', 'KPN_02034': 'A6TA41', 'KPN_02035': 'A6TA42', 'KPN_02038': 'A6TA45', 'KPN_02039': 'A6TA46', 'KPN_03202': 'A6TDC9', 'KPN_03203': 'A6TDD0', 'KPN_03200': 'A6TDC7', 'KPN_03201': 'A6TDC8', 'KPN_03206': 'A6TDD3', 'KPN_03207': 'A6TDD4', 'KPN_03204': 'A6TDD1', 'KPN_03205': 'A6TDD2', 'KPN_04553': 'A6TH73', 'KPN_04552': 'A6TH72', 'KPN_03208': 'A6TDD5', 'KPN_03209': 'A6TDD6', 'KPN_04557': 'A6TH77', 'KPN_04556': 'A6TH76', 'KPN_04127': 'A6TG26', 'KPN_04554': 'A6TH74', 'KPN_00892': 'A6T6V7', 'KPN_00893': 'A6T6V8', 'KPN_00890': 'A6T6V5', 'KPN_00891': 'A6T6V6', 'KPN_00896': 'A6T6W1', 'KPN_00897': 'A6T6W2', 'KPN_00894': 'A6T6V9', 'KPN_00895': 'A6T6W0', 'KPN_04791': 'A6THV3', 'KPN_04790': 'A6THV2', 'KPN_00898': 'A6T6W3', 'KPN_00899': 'A6T6W4', 'KPN_04159': 'A6TG58', 'KPN_04794': 'A6THV6', 'KPN_04797': 'A6THV9', 'KPN_04796': 'A6THV8', 'KPN_01693': 'A6T953', 'KPN_01692': 'A6T952', 'KPN_01691': 'A6T951', 'KPN_01690': 'A6T950', 'KPN_01697': 'A6T957', 'KPN_01696': 'A6T956', 'KPN_01695': 'A6T955', 'KPN_01694': 'A6T954', 'KPN_pKPN4p07049': 'A6TIK6', 'KPN_pKPN4p07048': 'A6TIK5', 'KPN_01699': 'A6T959', 'KPN_01698': 'A6T958', 'KPN_04286': 'A6TGH4', 'KPN_01451': 'A6T8G2', 'KPN_01450': 'A6T8G1', 'KPN_01453': 'A6T8G4', 'KPN_01452': 'A6T8G3', 'KPN_01455': 'A6T8G6', 'KPN_01454': 'A6T8G5', 'KPN_01457': 'A6T8G8', 'KPN_01456': 'A6T8G7', 'KPN_01459': 'A6T8H0', 'KPN_01458': 'A6T8G9', 'KPN_pKPN4p07054': 'A6TIL1', 'KPN_02326': 'A6TAY1', 'KPN_02327': 'A6TAY2', 'KPN_02324': 'A6TAX9', 'KPN_02325': 'A6TAY0', 'KPN_02322': 'A6TAX7', 'KPN_02323': 'A6TAX8', 'KPN_02320': 'A6TAX5', 'KPN_02321': 'A6TAX6', 'KPN_pKPN4p07052': 'A6T8W5', 'KPN_04756': 'A6THR8', 'KPN_02328': 'A6TAY3', 'KPN_02329': 'A6TAY4', 'KPN_03336': 'A6TDR2', 'KPN_03337': 'A6TDR3', 'KPN_03334': 'A6TDR0', 'KPN_03335': 'A6TDR1', 'KPN_03332': 'A6TDQ8', 'KPN_03333': 'A6TDQ9', 'KPN_03330': 'A6TDQ6', 'KPN_03331': 'A6TDQ7', 'KPN_04427': 'A6TGU8', 'KPN_04426': 'A6TGU7', 'KPN_04425': 'A6TGU6', 'KPN_03010': 'A6TCU5', 'KPN_04423': 'A6TGU4', 'KPN_04422': 'A6TGU3', 'KPN_02530': 'A6TBH7', 'KPN_03339': 'A6TDR5', 'KPN_pKPN4p07126': 'A6TIT2', 'KPN_00678': 'A6T6A7', 'KPN_00679': 'A6T6A8', 'KPN_00676': 'A6T6A5', 'KPN_00677': 'A6T6A6', 'KPN_00674': 'A6T6A3', 'KPN_00675': 'A6T6A4', 'KPN_00672': 'A6T6A1', 'KPN_00673': 'A6T6A2', 'KPN_00670': 'A6T699', 'KPN_00671': 'A6T6A0', 'KPN_pKPN4p07099': 'A6TIQ5', 'KPN_03185': 'A6TDB2', 'KPN_02258': 'A6TAR3', 'KPN_02259': 'A6TAR4', 'KPN_02622': 'A6TBR9', 'KPN_02252': 'A6TAQ7', 'KPN_02253': 'A6TAQ8', 'KPN_02250': 'A6TAQ5', 'KPN_02251': 'A6TAQ6', 'KPN_02256': 'A6TAR1', 'KPN_02257': 'A6TAR2', 'KPN_02254': 'A6TAQ9', 'KPN_02255': 'A6TAR0', 'KPN_pKPN3p06020': 'A6TIH6', 'KPN_03028': 'A6TCV8', 'KPN_03029': 'A6TCV9', 'KPN_03022': 'A6TCV7', 'KPN_03020': 'A6TCV5', 'KPN_03021': 'A6TCV6', 'KPN_04624': 'A6THE1', 'KPN_pKPN4p07139': 'A6TIU5', 'KPN_04210': 'A6TGA5', 'KPN_pKPN4p07118': 'A6TIS4', 'KPN_02621': 'A6TBR8', 'KPN_04211': 'A6TGA6', 'KPN_pKPN4p07131': 'A6TIT7', 'KPN_pKPN4p07130': 'A6TIT6', 'KPN_pKPN4p07133': 'A6TIT9', 'KPN_pKPN4p07132': 'A6TIT8', 'KPN_pKPN4p07135': 'A6TIU1', 'KPN_04212': 'A6TGA7', 'KPN_pKPN4p07137': 'A6TIU3', 'KPN_pKPN4p07136': 'A6TIU2', 'KPN_04009': 'A6TFR0', 'KPN_01079': 'A6T7E1', 'KPN_01078': 'A6T7E0', 'KPN_pKPN3p05972': 'A6TIC8', 'KPN_01073': 'A6T7D5', 'KPN_01072': 'A6T7D4', 'KPN_01071': 'A6T7D3', 'KPN_01070': 'A6T7D2', 'KPN_01077': 'A6T7D9', 'KPN_01076': 'A6T7D8', 'KPN_01075': 'A6T7D7', 'KPN_01074': 'A6T7D6', 'KPN_01679': 'A6T939', 'KPN_01678': 'A6T938', 'KPN_04121': 'A6TG20', 'KPN_04216': 'A6TGB1', 'KPN_04587': 'A6THA4', 'KPN_01671': 'A6T931', 'KPN_01670': 'A6T930', 'KPN_01673': 'A6T933', 'KPN_01672': 'A6T932', 'KPN_01675': 'A6T935', 'KPN_01674': 'A6T934', 'KPN_01677': 'A6T937', 'KPN_01676': 'A6T936', 'KPN_04218': 'A6TGB3', 'KPN_04629': 'A6THE6', 'KPN_04219': 'A6TGB4', 'KPN_04844': 'A6TI03', 'KPN_02857': 'A6TCE6', 'KPN_pKPN5p08179': 'A6TIY6', 'KPN_01431': 'A6T8E2', 'KPN_01114': 'A6T7H6', 'KPN_01115': 'A6T7H7', 'KPN_01116': 'A6T7H8', 'KPN_01117': 'A6T7H9', 'KPN_01110': 'A6T7H2', 'KPN_01111': 'A6T7H3', 'KPN_01112': 'A6T7H4', 'KPN_01113': 'A6T7H5', 'KPN_02645': 'A6TBU1', 'KPN_02644': 'A6TBU0', 'KPN_02647': 'A6TBU3', 'KPN_02646': 'A6TBU2', 'KPN_01118': 'A6T7I0', 'KPN_01119': 'A6T7I1', 'KPN_02643': 'A6TBT9', 'KPN_02642': 'A6TBT8', 'KPN_00416': 'A6T5J7', 'KPN_00417': 'A6T5J8', 'KPN_00414': 'A6T5J5', 'KPN_00415': 'A6T5J6', 'KPN_00412': 'A6T5J3', 'KPN_00413': 'A6T5J4', 'KPN_00410': 'A6T5J1', 'KPN_00411': 'A6T5J2', 'KPN_02483': 'A6TBD0', 'KPN_02482': 'A6TBC9', 'KPN_02481': 'A6TBC8', 'KPN_02480': 'A6TBC7', 'KPN_02487': 'A6TBD4', 'KPN_02486': 'A6TBD3', 'KPN_00418': 'A6T5J9', 'KPN_00419': 'A6T5K0', 'KPN_04889': 'A6TE82', 'KPN_04888': 'A6TE81', 'KPN_04885': 'A6TE78', 'KPN_04884': 'A6TE77', 'KPN_04887': 'A6TE80', 'KPN_04886': 'A6TE79', 'KPN_04881': 'A6TE74', 'KPN_01439': 'A6T8F0', 'KPN_04883': 'A6TE76', 'KPN_04882': 'A6TE75', 'KPN_02231': 'A6TAN6', 'KPN_01438': 'A6T8E9', 'KPN_02717': 'A6TC13', 'KPN_03688': 'A6TEU1', 'KPN_03689': 'A6TEU2', 'KPN_03686': 'A6TET9', 'KPN_03687': 'A6TEU0', 'KPN_03684': 'A6TET7', 'KPN_03685': 'A6TET8', 'KPN_03682': 'A6TET5', 'KPN_01668': 'A6T928', 'KPN_03680': 'A6TET3', 'KPN_03681': 'A6TET4', 'KPN_01208': 'A6T7S0', 'KPN_01209': 'A6T7S1', 'KPN_01669': 'A6T929', 'KPN_04792': 'A6THV4', 'KPN_01200': 'A6T7R2', 'KPN_01201': 'A6T7R3', 'KPN_01202': 'A6T7R4', 'KPN_01203': 'A6T7R5', 'KPN_01204': 'A6T7R6', 'KPN_01205': 'A6T7R7', 'KPN_01206': 'A6T7R8', 'KPN_01207': 'A6T7R9', 'KPN_04315': 'A6TGJ9', 'KPN_04314': 'A6TGJ8', 'KPN_00308': 'A6T589', 'KPN_00309': 'A6T590', 'KPN_04311': 'A6TGJ5', 'KPN_04310': 'A6TGJ4', 'KPN_04313': 'A6TGJ7', 'KPN_04312': 'A6TGJ6', 'KPN_00302': 'A6T583', 'KPN_00303': 'A6T584', 'KPN_00300': 'A6T581', 'KPN_00301': 'A6T582', 'KPN_00306': 'A6T587', 'KPN_00307': 'A6T588', 'KPN_00304': 'A6T585', 'KPN_00305': 'A6T586', 'KPN_02799': 'A6TC88', 'KPN_02798': 'A6TC87', 'KPN_02797': 'A6TC86', 'KPN_02796': 'A6TC85', 'KPN_02795': 'A6TC84', 'KPN_02794': 'A6TC83', 'KPN_02793': 'A6TC82', 'KPN_02792': 'A6TC81', 'KPN_02791': 'A6TC80', 'KPN_02790': 'A6TC79', 'KPN_01666': 'A6T926', 'KPN_01667': 'A6T927', 'KPN_00247': 'A6T529', 'KPN_00246': 'A6T528', 'KPN_00245': 'A6T527', 'KPN_00244': 'A6T526', 'KPN_00243': 'A6T525', 'KPN_00242': 'A6T524', 'KPN_00241': 'A6T523', 'KPN_00240': 'A6T522', 'KPN_01846': 'A6T9K6', 'KPN_01847': 'A6T9K7', 'KPN_01844': 'A6T9K4', 'KPN_01845': 'A6T9K5', 'KPN_01842': 'A6T9K2', 'KPN_01843': 'A6T9K3', 'KPN_00249': 'A6T531', 'KPN_00248': 'A6T530', 'KPN_02865': 'A6TCF4', 'KPN_02864': 'A6TCF3', 'KPN_02867': 'A6TCF6', 'KPN_02866': 'A6TCF5', 'KPN_02861': 'A6TCF0', 'KPN_02860': 'A6TCE9', 'KPN_02863': 'A6TCF2', 'KPN_02060': 'A6TA67', 'KPN_02869': 'A6TCF8', 'KPN_02868': 'A6TCF7', 'KPN_04481': 'A6TH02', 'KPN_02187': 'A6TAJ4', 'KPN_04483': 'A6TH04', 'KPN_04444': 'A6TGW5', 'KPN_04764': 'A6THS6', 'KPN_04765': 'A6THS7', 'KPN_04766': 'A6THS8', 'KPN_04482': 'A6TH03', 'KPN_04760': 'A6THS2', 'KPN_04761': 'A6THS3', 'KPN_04762': 'A6THS4', 'KPN_04208': 'A6TGA3', 'KPN_04485': 'A6TH06', 'KPN_04768': 'A6THT0', 'KPN_04769': 'A6THT1', 'KPN_03214': 'A6TDE1', 'KPN_04160': 'A6TG59', 'KPN_04166': 'A6TG61', 'KPN_04167': 'A6TG62', 'KPN_04165': 'A6TG60', 'KPN_04168': 'A6TG63', 'KPN_02181': 'A6TAI8', 'KPN_04030': 'A6TFS9', 'KPN_02716': 'A6TC12', 'KPN_04031': 'A6TFT0', 'KPN_02133': 'A6TAE0', 'KPN_02132': 'A6TAD9', 'KPN_02131': 'A6TAD8', 'KPN_02130': 'A6TAD7', 'KPN_02137': 'A6TAE4', 'KPN_02136': 'A6TAE3', 'KPN_02135': 'A6TAE2', 'KPN_02134': 'A6TAE1', 'KPN_02139': 'A6TAE6', 'KPN_02138': 'A6TAE5', 'KPN_04829': 'A6THY8', 'KPN_03523': 'A6TED4', 'KPN_03522': 'A6TED3', 'KPN_03521': 'A6TED2', 'KPN_03520': 'A6TED1', 'KPN_03527': 'A6TED8', 'KPN_03526': 'A6TED7', 'KPN_03525': 'A6TED6', 'KPN_02710': 'A6TC06', 'KPN_04399': 'A6TGS0', 'KPN_03529': 'A6TEE0', 'KPN_03528': 'A6TED9', 'KPN_pKPN4p07115': 'A6TIS1', 'KPN_04398': 'A6TGR9', 'KPN_04566': 'A6TH83', 'KPN_04136': 'A6TG35', 'KPN_04138': 'A6TG37', 'KPN_04866': 'A6TE59', 'KPN_04567': 'A6TH84', 'KPN_04038': 'A6TFT7', 'KPN_03843': 'A6TF96', 'KPN_04564': 'A6TH81', 'KPN_04039': 'A6TFT8', 'KPN_04096': 'A6TFZ5', 'KPN_04097': 'A6TFZ6', 'KPN_04094': 'A6TFZ3', 'KPN_04095': 'A6TFZ4', 'KPN_04092': 'A6TFZ1', 'KPN_04093': 'A6TFZ2', 'KPN_04090': 'A6TFY9', 'KPN_04091': 'A6TFZ0', 'KPN_02539': 'A6TBI6', 'KPN_04821': 'A6THY3', 'KPN_04098': 'A6TFZ7', 'KPN_04099': 'A6TFZ8', 'KPN_00939': 'A6T704', 'KPN_00938': 'A6T703', 'KPN_04820': 'A6THY2', 'KPN_04560': 'A6TH80', 'KPN_00931': 'A6T6Z6', 'KPN_00930': 'A6T6Z5', 'KPN_00933': 'A6T6Z8', 'KPN_00932': 'A6T6Z7', 'KPN_00935': 'A6T700', 'KPN_00934': 'A6T6Z9', 'KPN_00937': 'A6T702', 'KPN_00936': 'A6T701', 'KPN_pKPN5p08189': 'A6TIZ6', 'KPN_01789': 'A6T9E9', 'KPN_02003': 'A6TA13', 'KPN_02002': 'A6TA12', 'KPN_02001': 'A6TA11', 'KPN_02000': 'A6TA10', 'KPN_02009': 'A6TA16', 'KPN_02008': 'A6TA15', 'KPN_03237': 'A6TDG4', 'KPN_03236': 'A6TDG3', 'KPN_03235': 'A6TDG2', 'KPN_03234': 'A6TDG1', 'KPN_03233': 'A6TDG0', 'KPN_03232': 'A6TDF9', 'KPN_03231': 'A6TDF8', 'KPN_03230': 'A6TDF7', 'KPN_04544': 'A6TH64', 'KPN_04343': 'A6TGM7', 'KPN_04546': 'A6TH66', 'KPN_04547': 'A6TH67', 'KPN_04540': 'A6TH60', 'KPN_04541': 'A6TH61', 'KPN_03239': 'A6TDG6', 'KPN_03238': 'A6TDG5', 'KPN_03926': 'A6TFH8', 'KPN_04789': 'A6THV1', 'KPN_04568': 'A6TH85', 'KPN_04782': 'A6THU4', 'KPN_04783': 'A6THU5', 'KPN_04780': 'A6THU2', 'KPN_02447': 'A6TB95', 'KPN_04786': 'A6THU8', 'KPN_04787': 'A6THU9', 'KPN_04784': 'A6THU6', 'KPN_04785': 'A6THU7', 'KPN_01684': 'A6T944', 'KPN_01685': 'A6T945', 'KPN_01686': 'A6T946', 'KPN_01687': 'A6T947', 'KPN_01680': 'A6T940', 'KPN_01681': 'A6T941', 'KPN_01682': 'A6T942', 'KPN_01683': 'A6T943', 'KPN_04201': 'A6TG96', 'KPN_01688': 'A6T948', 'KPN_01689': 'A6T949', 'KPN_01442': 'A6T8F3', 'KPN_01443': 'A6T8F4', 'KPN_01440': 'A6T8F1', 'KPN_01441': 'A6T8F2', 'KPN_01446': 'A6T8F7', 'KPN_01447': 'A6T8F8', 'KPN_01444': 'A6T8F5', 'KPN_01445': 'A6T8F6', 'KPN_02313': 'A6TAW8', 'KPN_02312': 'A6TAW7', 'KPN_01448': 'A6T8F9', 'KPN_01449': 'A6T8G0', 'KPN_02317': 'A6TAX2', 'KPN_02316': 'A6TAX1', 'KPN_02315': 'A6TAX0', 'KPN_02314': 'A6TAW9', 'KPN_02829': 'A6TCB8', 'KPN_03309': 'A6TDN6', 'KPN_02655': 'A6TBV1', 'KPN_02828': 'A6TCB7', 'KPN_03303': 'A6TDN0', 'KPN_02652': 'A6TBU8', 'KPN_03301': 'A6TDM8', 'KPN_03300': 'A6TDM7', 'KPN_03307': 'A6TDN4', 'KPN_03306': 'A6TDN3', 'KPN_03305': 'A6TDN2', 'KPN_02653': 'A6TBU9', 'KPN_04430': 'A6TGV1', 'KPN_04431': 'A6TGV2', 'KPN_04432': 'A6TGV3', 'KPN_04433': 'A6TGV4', 'KPN_04223': 'A6TGB8', 'KPN_02650': 'A6TBU6', 'KPN_04436': 'A6TGV7', 'KPN_04437': 'A6TGV8', 'KPN_04438': 'A6TGV9', 'KPN_04439': 'A6TGW0', 'KPN_02651': 'A6TBU7', 'KPN_04722': 'A6THN8', 'KPN_00643': 'A6T672', 'KPN_00642': 'A6T671', 'KPN_00641': 'A6T670', 'KPN_00640': 'A6T669', 'KPN_00647': 'A6T676', 'KPN_00646': 'A6T675', 'KPN_00645': 'A6T674', 'KPN_00644': 'A6T673', 'KPN_00649': 'A6T678', 'KPN_00648': 'A6T677', 'KPN_03923': 'A6TFH5', 'KPN_02715': 'A6TC11', 'KPN_02714': 'A6TC10', 'KPN_02713': 'A6TC09', 'KPN_04723': 'A6THN9', 'KPN_02823': 'A6TCB2', 'KPN_02712': 'A6TC08', 'KPN_02822': 'A6TCB1', 'KPN_02711': 'A6TC07', 'KPN_02269': 'A6TAS4', 'KPN_02268': 'A6TAS3', 'KPN_02267': 'A6TAS2', 'KPN_02266': 'A6TAS1', 'KPN_02265': 'A6TAS0', 'KPN_02264': 'A6TAR9', 'KPN_02263': 'A6TAR8', 'KPN_02262': 'A6TAR7', 'KPN_02261': 'A6TAR6', 'KPN_02260': 'A6TAR5', 'KPN_pKPN5p08175': 'A6TIY2', 'KPN_00548': 'A6T5X7', 'KPN_pKPN5p08177': 'A6TIK6', 'KPN_pKPN5p08176': 'A6TIQ2', 'KPN_pKPN5p08171': 'A6TIX8', 'KPN_pKPN5p08170': 'A6TIX7', 'KPN_03019': 'A6TCV4', 'KPN_00549': 'A6T5X8', 'KPN_03017': 'A6TCV2', 'KPN_02238': 'A6TAP3', 'KPN_03015': 'A6TCV0', 'KPN_03014': 'A6TCU9', 'KPN_03013': 'A6TCU8', 'KPN_03012': 'A6TCU7', 'KPN_03011': 'A6TCU6', 'KPN_02239': 'A6TAP4', 'KPN_03631': 'A6TEP0', 'KPN_pKPN4p07127': 'A6TIT3', 'KPN_pKPN4p07124': 'A6TIT0', 'KPN_pKPN4p07125': 'A6TIT1', 'KPN_pKPN4p07122': 'A6TIF5', 'KPN_pKPN4p07123': 'A6TIS9', 'KPN_pKPN4p07120': 'A6TIS6', 'KPN_02718': 'A6TC14', 'KPN_pKPN4p07128': 'A6TIT4', 'KPN_pKPN4p07129': 'A6TIT5', 'KPN_03081': 'A6TD11', 'KPN_01068': 'A6T7D0', 'KPN_01069': 'A6T7D1', 'KPN_pKPN5p08199': 'A6TJ06', 'KPN_pKPN5p08198': 'A6TJ05', 'KPN_01064': 'A6T7C6', 'KPN_01065': 'A6T7C7', 'KPN_01066': 'A6T7C8', 'KPN_01067': 'A6T7C9', 'KPN_01060': 'A6T7C2', 'KPN_01061': 'A6T7C3', 'KPN_01062': 'A6T7C4', 'KPN_01063': 'A6T7C5', 'KPN_00795': 'A6T6L0', 'KPN_00794': 'A6T6K9', 'KPN_00797': 'A6T6L2', 'KPN_00796': 'A6T6L1', 'KPN_00791': 'A6T6K6', 'KPN_00790': 'A6T6K5', 'KPN_00793': 'A6T6K8', 'KPN_00792': 'A6T6K7', 'KPN_01662': 'A6T922', 'KPN_01663': 'A6T923', 'KPN_01660': 'A6T920', 'KPN_01661': 'A6T921', 'KPN_00799': 'A6T6L4', 'KPN_00798': 'A6T6L3', 'KPN_01664': 'A6T924', 'KPN_01665': 'A6T925', 'KPN_02232': 'A6TAN7', 'KPN_02233': 'A6TAN8', 'KPN_02567': 'A6TBL4', 'KPN_02615': 'A6TBR2', 'KPN_pKPN5p08229': 'A6TIK6', 'KPN_pKPN5p08228': 'A6TJ35', 'KPN_00429': 'A6T5L0', 'KPN_00428': 'A6T5K9', 'KPN_02658': 'A6TBV4', 'KPN_02659': 'A6TBV5', 'KPN_00423': 'A6T5K4', 'KPN_00422': 'A6T5K3', 'KPN_00421': 'A6T5K2', 'KPN_00420': 'A6T5K1', 'KPN_00427': 'A6T5K8', 'KPN_00426': 'A6T5K7', 'KPN_00425': 'A6T5K6', 'KPN_00424': 'A6T5K5', 'KPN_04728': 'A6THP4', 'KPN_02498': 'A6TBE5', 'KPN_02499': 'A6TBE6', 'KPN_04729': 'A6THP5', 'KPN_02494': 'A6TBE1', 'KPN_02495': 'A6TBD6', 'KPN_02496': 'A6TBD7', 'KPN_02497': 'A6TBE4', 'KPN_02490': 'A6TBD7', 'KPN_02491': 'A6TBD8', 'KPN_02492': 'A6TBD9', 'KPN_02493': 'A6TBE0', 'KPN_02220': 'A6TAM5', 'KPN_04480': 'A6TH01', 'KPN_04894': 'A6TE87', 'KPN_04892': 'A6TE85', 'KPN_04893': 'A6TE86', 'KPN_04890': 'A6TE83', 'KPN_04891': 'A6TE84'}\n"
       ]
      }
     ],
     "prompt_number": 62
    },
    {
     "cell_type": "code",
     "collapsed": false,
     "input": [
      "def uniprot_metadata(uniprot_id):\n",
      "    '''\n",
      "    Input: UniProt ID\n",
      "    Output: dictionary of metadata associated with the UniProt ID\n",
      "    '''\n",
      "    import warnings\n",
      "    import uniprot\n",
      "\n",
      "    uniprot_metadata_dict = {}\n",
      "    metadata = uniprot.batch_uniprot_metadata([uniprot_id])\n",
      " \n",
      "    #if metadata[uniprot_id]['is_reviewed'] == False:\n",
      "        #warnings.warn('Warning: unreviewed UniProt entry')\n",
      "\n",
      "    uniprot_metadata_dict['UNIPROT'] = uniprot_id\n",
      "    uniprot_metadata_dict['DESCRIPTION'] = [x.encode('ascii','ignore') for x in metadata[uniprot_id]['descriptions']]\n",
      "    uniprot_metadata_dict['KEGG'] = [x.encode('ascii','ignore') for x in metadata[uniprot_id]['kegg']]\n",
      "    uniprot_metadata_dict['SEQ'] = metadata[uniprot_id]['sequence'].encode('ascii','ignore')\n",
      "    uniprot_metadata_dict['GENENAME'] = metadata[uniprot_id]['gene'].encode('ascii','ignore')\n",
      "\n",
      "    if 'pdbs' in metadata[uniprot_id]:\n",
      "        uniprot_metadata_dict['PDB'] = list(set([x.encode('ascii','ignore') for x in metadata[uniprot_id]['pdbs']]))\n",
      "    elif 'pdb' in metadata[uniprot_id]:\n",
      "        uniprot_metadata_dict['PDB'] = metadata[uniprot_id]['pdb'].encode('ascii','ignore')\n",
      "\n",
      "    return uniprot_metadata_dict"
     ],
     "language": "python",
     "metadata": {},
     "outputs": [],
     "prompt_number": 1
    },
    {
     "cell_type": "code",
     "collapsed": false,
     "input": [
      "import uniprot\n",
      "uniprot.batch_uniprot_metadata(['Q8C042'])"
     ],
     "language": "python",
     "metadata": {},
     "outputs": [
      {
       "output_type": "stream",
       "stream": "stdout",
       "text": [
        "Fetching uniprot metadata for 1 ACC seqids ...\n"
       ]
      },
      {
       "metadata": {},
       "output_type": "pyout",
       "prompt_number": 2,
       "text": [
        "{'Q8C042': {'accs': [u'Q8C042', u'E9QLA7', u'Q8BVS9', u'Q8CFL9'],\n",
        "  'comment': u'-!- ALTERNATIVE PRODUCTS:\\nEvent=Alternative splicing; Named isoforms=3;\\nName=1;\\nIsoId=Q8C042-1; Sequence=Displayed;\\nName=2;\\nIsoId=Q8C042-2; Sequence=VSP_035167;\\nName=3;\\nIsoId=Q8C042-3; Sequence=VSP_035168, VSP_035169;\\nNote=No experimental confirmation available;\\n-!- SIMILARITY: Belongs to the enolase family.\\n-!- CAUTION: Although it belongs to the enolase family, Leu-362 is\\npresent instead of the conserved Glu which is expected to be an\\nactive site residue. It is therefore unsure whether this protein\\nhas enolase activity.\\n-!- SEQUENCE CAUTION:\\nSequence=AAH23285.1; Type=Erroneous initiation;\\nSequence=BAC36444.1; Type=Erroneous initiation;\\n-----------------------------------------------------------------------\\nCopyrighted by the UniProt Consortium, see http://www.uniprot.org/terms\\nDistributed under the Creative Commons Attribution-NoDerivs License\\n-----------------------------------------------------------------------\\n',\n",
        "  'description': u'Enolase-like protein ENO4',\n",
        "  'descriptions': [u'Enolase-like protein ENO4'],\n",
        "  'gene': u'Eno4',\n",
        "  'go': [u'GO:0000015; C:phosphopyruvate hydratase complex; IEA:InterPro.',\n",
        "   u'GO:0097228; C:sperm principal piece; IDA:MGI.',\n",
        "   u'GO:0000287; F:magnesium ion binding; IEA:InterPro.',\n",
        "   u'GO:0004634; F:phosphopyruvate hydratase activity; IMP:MGI.',\n",
        "   u'GO:0005515; F:protein binding; IPI:MGI.',\n",
        "   u'GO:0046982; F:protein heterodimerization activity; IPI:MGI.',\n",
        "   u'GO:0044782; P:cilium organization; IMP:MGI.',\n",
        "   u'GO:0006096; P:glycolytic process; IMP:MGI.',\n",
        "   u'GO:0030317; P:sperm motility; IMP:MGI.'],\n",
        "  'id': u'ENO4_MOUSE',\n",
        "  'is_reviewed': True,\n",
        "  'kegg': [u'mmu:226265'],\n",
        "  'length': 619,\n",
        "  'organism': u'Mus musculus (Mouse).',\n",
        "  'pfam': [u'PF00113', u'PF03952'],\n",
        "  'refseq': [u'NP_848804.2', u'NM_178689.4'],\n",
        "  'sequence': u'MGDEDGGRRGGITRDLQKLKQQAMAYYQENDVPRKLEDLLNSTFYLQPADVYGHLKANYFSKLAKPPSICKIVGKTILDGLGLPTLQVEISCTIQNFPKYICAVAIPTHFEVVENALPEALDAEDSERAQAVNTAVQWINQSITEELWGLVPSNQAEVDHRLRTFFEHKVQEDKERKELEKSQEELVPAPPPVTLPPPPPPPPPPPSKKKGQKAGRRDTLLEKPVSPPEPPEPVLHGSMAIGAVSLAVAKASATLASDPLYLTLASLKHDQEQPSTFSMPLLMGSVLSCGKSSPGKLHLMKEVICIPSPGLTAKQSVELLLEIQKQVNRAMETLPPPKQETKKGHNGSKRAQPPITGKVSHLGCLTINYDAIEQPLLLLQGICSNLGLELGVNFHLAINCAGHELMDYSKGKYEVMVGTHKSAAEMVELYVDLINKYPSIIALIDPFRKEDAEQWDSLYAALASRCYLIAGAASGSVSKLLECRNISTLKSHGLIIKHTNQTTMSDLVEITHLINGKKLLAVFGSTDSESSDDSLVDLAVGFGARFIKLGGLSRGERMTKYNRLLAIEEELIQRGVWGFSEEHNFSFFQEDATATMAEETLGLLDSIFPTEVIEESAKT'}}"
       ]
      }
     ],
     "prompt_number": 2
    },
    {
     "cell_type": "code",
     "collapsed": false,
     "input": [
      "print uniprot_metadata('P0A9G2')"
     ],
     "language": "python",
     "metadata": {},
     "outputs": [
      {
       "output_type": "stream",
       "stream": "stdout",
       "text": [
        "Fetching uniprot metadata for 1 ACC seqids ...\n",
        "Error in fetching metadata"
       ]
      },
      {
       "output_type": "stream",
       "stream": "stdout",
       "text": [
        "\n",
        "{}\n"
       ]
      }
     ],
     "prompt_number": 48
    },
    {
     "cell_type": "code",
     "collapsed": false,
     "input": [
      "syn_lethal_genes = []\n",
      "for g in syn_lethal:\n",
      "    two = []\n",
      "    for gg in g.split(','):\n",
      "        #print gg\n",
      "        if gg in uniprot_map.keys():\n",
      "            gene = uniprot_metadata(uniprot_map[gg])['GENENAME']\n",
      "            two.append(gene)\n",
      "    syn_lethal_genes.append(','.join(two))\n",
      "    "
     ],
     "language": "python",
     "metadata": {},
     "outputs": [
      {
       "output_type": "stream",
       "stream": "stdout",
       "text": [
        "Fetching uniprot metadata for 1 ACC seqids ...\n",
        "Fetching uniprot metadata for 1 ACC seqids ..."
       ]
      },
      {
       "output_type": "stream",
       "stream": "stdout",
       "text": [
        "\n",
        "Fetching uniprot metadata for 1 ACC seqids ..."
       ]
      },
      {
       "output_type": "stream",
       "stream": "stdout",
       "text": [
        "\n",
        "Fetching uniprot metadata for 1 ACC seqids ..."
       ]
      },
      {
       "output_type": "stream",
       "stream": "stdout",
       "text": [
        "\n",
        "Fetching uniprot metadata for 1 ACC seqids ..."
       ]
      },
      {
       "output_type": "stream",
       "stream": "stdout",
       "text": [
        "\n",
        "Fetching uniprot metadata for 1 ACC seqids ..."
       ]
      },
      {
       "output_type": "stream",
       "stream": "stdout",
       "text": [
        "\n",
        "Fetching uniprot metadata for 1 ACC seqids ..."
       ]
      },
      {
       "output_type": "stream",
       "stream": "stdout",
       "text": [
        "\n",
        "Fetching uniprot metadata for 1 ACC seqids ..."
       ]
      },
      {
       "output_type": "stream",
       "stream": "stdout",
       "text": [
        "\n",
        "Fetching uniprot metadata for 1 ACC seqids ..."
       ]
      },
      {
       "output_type": "stream",
       "stream": "stdout",
       "text": [
        "\n",
        "Fetching uniprot metadata for 1 ACC seqids ..."
       ]
      },
      {
       "output_type": "stream",
       "stream": "stdout",
       "text": [
        "\n"
       ]
      },
      {
       "ename": "KeyboardInterrupt",
       "evalue": "",
       "output_type": "pyerr",
       "traceback": [
        "\u001b[1;31m---------------------------------------------------------------------------\u001b[0m\n\u001b[1;31mKeyboardInterrupt\u001b[0m                         Traceback (most recent call last)",
        "\u001b[1;32m<ipython-input-71-ffa81439cf52>\u001b[0m in \u001b[0;36m<module>\u001b[1;34m()\u001b[0m\n\u001b[0;32m      5\u001b[0m         \u001b[1;31m#print gg\u001b[0m\u001b[1;33m\u001b[0m\u001b[1;33m\u001b[0m\u001b[0m\n\u001b[0;32m      6\u001b[0m         \u001b[1;32mif\u001b[0m \u001b[0mgg\u001b[0m \u001b[1;32min\u001b[0m \u001b[0muniprot_map\u001b[0m\u001b[1;33m.\u001b[0m\u001b[0mkeys\u001b[0m\u001b[1;33m(\u001b[0m\u001b[1;33m)\u001b[0m\u001b[1;33m:\u001b[0m\u001b[1;33m\u001b[0m\u001b[0m\n\u001b[1;32m----> 7\u001b[1;33m             \u001b[0mgene\u001b[0m \u001b[1;33m=\u001b[0m \u001b[0muniprot_metadata\u001b[0m\u001b[1;33m(\u001b[0m\u001b[0muniprot_map\u001b[0m\u001b[1;33m[\u001b[0m\u001b[0mgg\u001b[0m\u001b[1;33m]\u001b[0m\u001b[1;33m)\u001b[0m\u001b[1;33m[\u001b[0m\u001b[1;34m'GENENAME'\u001b[0m\u001b[1;33m]\u001b[0m\u001b[1;33m\u001b[0m\u001b[0m\n\u001b[0m\u001b[0;32m      8\u001b[0m             \u001b[0mtwo\u001b[0m\u001b[1;33m.\u001b[0m\u001b[0mappend\u001b[0m\u001b[1;33m(\u001b[0m\u001b[0mgene\u001b[0m\u001b[1;33m)\u001b[0m\u001b[1;33m\u001b[0m\u001b[0m\n\u001b[0;32m      9\u001b[0m     \u001b[0msyn_lethal_genes\u001b[0m\u001b[1;33m.\u001b[0m\u001b[0mappend\u001b[0m\u001b[1;33m(\u001b[0m\u001b[1;34m','\u001b[0m\u001b[1;33m.\u001b[0m\u001b[0mjoin\u001b[0m\u001b[1;33m(\u001b[0m\u001b[0mtwo\u001b[0m\u001b[1;33m)\u001b[0m\u001b[1;33m)\u001b[0m\u001b[1;33m\u001b[0m\u001b[0m\n",
        "\u001b[1;32m<ipython-input-51-c396c48ada5d>\u001b[0m in \u001b[0;36muniprot_metadata\u001b[1;34m(uniprot_id)\u001b[0m\n\u001b[0;32m      8\u001b[0m \u001b[1;33m\u001b[0m\u001b[0m\n\u001b[0;32m      9\u001b[0m     \u001b[0muniprot_metadata_dict\u001b[0m \u001b[1;33m=\u001b[0m \u001b[1;33m{\u001b[0m\u001b[1;33m}\u001b[0m\u001b[1;33m\u001b[0m\u001b[0m\n\u001b[1;32m---> 10\u001b[1;33m     \u001b[0mmetadata\u001b[0m \u001b[1;33m=\u001b[0m \u001b[0muniprot\u001b[0m\u001b[1;33m.\u001b[0m\u001b[0mbatch_uniprot_metadata\u001b[0m\u001b[1;33m(\u001b[0m\u001b[1;33m[\u001b[0m\u001b[0muniprot_id\u001b[0m\u001b[1;33m]\u001b[0m\u001b[1;33m)\u001b[0m\u001b[1;33m\u001b[0m\u001b[0m\n\u001b[0m\u001b[0;32m     11\u001b[0m \u001b[1;33m\u001b[0m\u001b[0m\n\u001b[0;32m     12\u001b[0m     \u001b[1;32mif\u001b[0m \u001b[0mmetadata\u001b[0m\u001b[1;33m[\u001b[0m\u001b[0muniprot_id\u001b[0m\u001b[1;33m]\u001b[0m\u001b[1;33m[\u001b[0m\u001b[1;34m'is_reviewed'\u001b[0m\u001b[1;33m]\u001b[0m \u001b[1;33m==\u001b[0m \u001b[0mFalse\u001b[0m\u001b[1;33m:\u001b[0m\u001b[1;33m\u001b[0m\u001b[0m\n",
        "\u001b[1;32m/usr/local/lib/python2.7/dist-packages/uniprot.pyc\u001b[0m in \u001b[0;36mbatch_uniprot_metadata\u001b[1;34m(seqids, cache_basename, batch_size)\u001b[0m\n\u001b[0;32m    396\u001b[0m       \u001b[0msubset_cache\u001b[0m \u001b[1;33m=\u001b[0m \u001b[0mNone\u001b[0m\u001b[1;33m\u001b[0m\u001b[0m\n\u001b[0;32m    397\u001b[0m     metadata_subset = fetch_uniprot_metadata(\n\u001b[1;32m--> 398\u001b[1;33m         seqids_subset, cache_fname=subset_cache)\n\u001b[0m\u001b[0;32m    399\u001b[0m     \u001b[0mmetadata\u001b[0m\u001b[1;33m.\u001b[0m\u001b[0mupdate\u001b[0m\u001b[1;33m(\u001b[0m\u001b[0mmetadata_subset\u001b[0m\u001b[1;33m)\u001b[0m\u001b[1;33m\u001b[0m\u001b[0m\n\u001b[0;32m    400\u001b[0m     \u001b[0mi_seqid\u001b[0m \u001b[1;33m+=\u001b[0m \u001b[0mbatch_size\u001b[0m\u001b[1;33m\u001b[0m\u001b[0m\n",
        "\u001b[1;32m/usr/local/lib/python2.7/dist-packages/uniprot.pyc\u001b[0m in \u001b[0;36mfetch_uniprot_metadata\u001b[1;34m(seqids, cache_fname)\u001b[0m\n\u001b[0;32m    358\u001b[0m         \u001b[1;34m'http://www.uniprot.org/batch/'\u001b[0m\u001b[1;33m,\u001b[0m\u001b[1;33m\u001b[0m\u001b[0m\n\u001b[0;32m    359\u001b[0m         \u001b[0mfiles\u001b[0m\u001b[1;33m=\u001b[0m\u001b[1;33m{\u001b[0m\u001b[1;34m'file'\u001b[0m\u001b[1;33m:\u001b[0m\u001b[0mStringIO\u001b[0m\u001b[1;33m.\u001b[0m\u001b[0mStringIO\u001b[0m\u001b[1;33m(\u001b[0m\u001b[1;34m' '\u001b[0m\u001b[1;33m.\u001b[0m\u001b[0mjoin\u001b[0m\u001b[1;33m(\u001b[0m\u001b[0mprimary_seqids\u001b[0m\u001b[1;33m)\u001b[0m\u001b[1;33m)\u001b[0m\u001b[1;33m}\u001b[0m\u001b[1;33m,\u001b[0m\u001b[1;33m\u001b[0m\u001b[0m\n\u001b[1;32m--> 360\u001b[1;33m         params={'format':'txt'})\n\u001b[0m\u001b[0;32m    361\u001b[0m     \u001b[1;32mwhile\u001b[0m \u001b[1;34m'Retry-After'\u001b[0m \u001b[1;32min\u001b[0m \u001b[0mr\u001b[0m\u001b[1;33m.\u001b[0m\u001b[0mheaders\u001b[0m\u001b[1;33m:\u001b[0m\u001b[1;33m\u001b[0m\u001b[0m\n\u001b[0;32m    362\u001b[0m       \u001b[0mt\u001b[0m \u001b[1;33m=\u001b[0m \u001b[0mint\u001b[0m\u001b[1;33m(\u001b[0m\u001b[0mr\u001b[0m\u001b[1;33m.\u001b[0m\u001b[0mheaders\u001b[0m\u001b[1;33m[\u001b[0m\u001b[1;34m'Retry-After'\u001b[0m\u001b[1;33m]\u001b[0m\u001b[1;33m)\u001b[0m\u001b[1;33m\u001b[0m\u001b[0m\n",
        "\u001b[1;32m/usr/lib/python2.7/dist-packages/requests/api.pyc\u001b[0m in \u001b[0;36mpost\u001b[1;34m(url, data, **kwargs)\u001b[0m\n\u001b[0;32m     86\u001b[0m     \"\"\"\n\u001b[0;32m     87\u001b[0m \u001b[1;33m\u001b[0m\u001b[0m\n\u001b[1;32m---> 88\u001b[1;33m     \u001b[1;32mreturn\u001b[0m \u001b[0mrequest\u001b[0m\u001b[1;33m(\u001b[0m\u001b[1;34m'post'\u001b[0m\u001b[1;33m,\u001b[0m \u001b[0murl\u001b[0m\u001b[1;33m,\u001b[0m \u001b[0mdata\u001b[0m\u001b[1;33m=\u001b[0m\u001b[0mdata\u001b[0m\u001b[1;33m,\u001b[0m \u001b[1;33m**\u001b[0m\u001b[0mkwargs\u001b[0m\u001b[1;33m)\u001b[0m\u001b[1;33m\u001b[0m\u001b[0m\n\u001b[0m\u001b[0;32m     89\u001b[0m \u001b[1;33m\u001b[0m\u001b[0m\n\u001b[0;32m     90\u001b[0m \u001b[1;33m\u001b[0m\u001b[0m\n",
        "\u001b[1;32m/usr/lib/python2.7/dist-packages/requests/api.pyc\u001b[0m in \u001b[0;36mrequest\u001b[1;34m(method, url, **kwargs)\u001b[0m\n\u001b[0;32m     42\u001b[0m \u001b[1;33m\u001b[0m\u001b[0m\n\u001b[0;32m     43\u001b[0m     \u001b[0msession\u001b[0m \u001b[1;33m=\u001b[0m \u001b[0msessions\u001b[0m\u001b[1;33m.\u001b[0m\u001b[0mSession\u001b[0m\u001b[1;33m(\u001b[0m\u001b[1;33m)\u001b[0m\u001b[1;33m\u001b[0m\u001b[0m\n\u001b[1;32m---> 44\u001b[1;33m     \u001b[1;32mreturn\u001b[0m \u001b[0msession\u001b[0m\u001b[1;33m.\u001b[0m\u001b[0mrequest\u001b[0m\u001b[1;33m(\u001b[0m\u001b[0mmethod\u001b[0m\u001b[1;33m=\u001b[0m\u001b[0mmethod\u001b[0m\u001b[1;33m,\u001b[0m \u001b[0murl\u001b[0m\u001b[1;33m=\u001b[0m\u001b[0murl\u001b[0m\u001b[1;33m,\u001b[0m \u001b[1;33m**\u001b[0m\u001b[0mkwargs\u001b[0m\u001b[1;33m)\u001b[0m\u001b[1;33m\u001b[0m\u001b[0m\n\u001b[0m\u001b[0;32m     45\u001b[0m \u001b[1;33m\u001b[0m\u001b[0m\n\u001b[0;32m     46\u001b[0m \u001b[1;33m\u001b[0m\u001b[0m\n",
        "\u001b[1;32m/usr/lib/python2.7/dist-packages/requests/sessions.pyc\u001b[0m in \u001b[0;36mrequest\u001b[1;34m(self, method, url, params, data, headers, cookies, files, auth, timeout, allow_redirects, proxies, hooks, stream, verify, cert)\u001b[0m\n\u001b[0;32m    381\u001b[0m             \u001b[1;34m'allow_redirects'\u001b[0m\u001b[1;33m:\u001b[0m \u001b[0mallow_redirects\u001b[0m\u001b[1;33m,\u001b[0m\u001b[1;33m\u001b[0m\u001b[0m\n\u001b[0;32m    382\u001b[0m         }\n\u001b[1;32m--> 383\u001b[1;33m         \u001b[0mresp\u001b[0m \u001b[1;33m=\u001b[0m \u001b[0mself\u001b[0m\u001b[1;33m.\u001b[0m\u001b[0msend\u001b[0m\u001b[1;33m(\u001b[0m\u001b[0mprep\u001b[0m\u001b[1;33m,\u001b[0m \u001b[1;33m**\u001b[0m\u001b[0msend_kwargs\u001b[0m\u001b[1;33m)\u001b[0m\u001b[1;33m\u001b[0m\u001b[0m\n\u001b[0m\u001b[0;32m    384\u001b[0m \u001b[1;33m\u001b[0m\u001b[0m\n\u001b[0;32m    385\u001b[0m         \u001b[1;32mreturn\u001b[0m \u001b[0mresp\u001b[0m\u001b[1;33m\u001b[0m\u001b[0m\n",
        "\u001b[1;32m/usr/lib/python2.7/dist-packages/requests/sessions.pyc\u001b[0m in \u001b[0;36msend\u001b[1;34m(self, request, **kwargs)\u001b[0m\n\u001b[0;32m    484\u001b[0m         \u001b[0mstart\u001b[0m \u001b[1;33m=\u001b[0m \u001b[0mdatetime\u001b[0m\u001b[1;33m.\u001b[0m\u001b[0mutcnow\u001b[0m\u001b[1;33m(\u001b[0m\u001b[1;33m)\u001b[0m\u001b[1;33m\u001b[0m\u001b[0m\n\u001b[0;32m    485\u001b[0m         \u001b[1;31m# Send the request\u001b[0m\u001b[1;33m\u001b[0m\u001b[1;33m\u001b[0m\u001b[0m\n\u001b[1;32m--> 486\u001b[1;33m         \u001b[0mr\u001b[0m \u001b[1;33m=\u001b[0m \u001b[0madapter\u001b[0m\u001b[1;33m.\u001b[0m\u001b[0msend\u001b[0m\u001b[1;33m(\u001b[0m\u001b[0mrequest\u001b[0m\u001b[1;33m,\u001b[0m \u001b[1;33m**\u001b[0m\u001b[0mkwargs\u001b[0m\u001b[1;33m)\u001b[0m\u001b[1;33m\u001b[0m\u001b[0m\n\u001b[0m\u001b[0;32m    487\u001b[0m         \u001b[1;31m# Total elapsed time of the request (approximately)\u001b[0m\u001b[1;33m\u001b[0m\u001b[1;33m\u001b[0m\u001b[0m\n\u001b[0;32m    488\u001b[0m         \u001b[0mr\u001b[0m\u001b[1;33m.\u001b[0m\u001b[0melapsed\u001b[0m \u001b[1;33m=\u001b[0m \u001b[0mdatetime\u001b[0m\u001b[1;33m.\u001b[0m\u001b[0mutcnow\u001b[0m\u001b[1;33m(\u001b[0m\u001b[1;33m)\u001b[0m \u001b[1;33m-\u001b[0m \u001b[0mstart\u001b[0m\u001b[1;33m\u001b[0m\u001b[0m\n",
        "\u001b[1;32m/usr/lib/python2.7/dist-packages/requests/adapters.pyc\u001b[0m in \u001b[0;36msend\u001b[1;34m(self, request, stream, timeout, verify, cert, proxies)\u001b[0m\n\u001b[0;32m    328\u001b[0m                     \u001b[0mdecode_content\u001b[0m\u001b[1;33m=\u001b[0m\u001b[0mFalse\u001b[0m\u001b[1;33m,\u001b[0m\u001b[1;33m\u001b[0m\u001b[0m\n\u001b[0;32m    329\u001b[0m                     \u001b[0mretries\u001b[0m\u001b[1;33m=\u001b[0m\u001b[0mself\u001b[0m\u001b[1;33m.\u001b[0m\u001b[0mmax_retries\u001b[0m\u001b[1;33m,\u001b[0m\u001b[1;33m\u001b[0m\u001b[0m\n\u001b[1;32m--> 330\u001b[1;33m                     \u001b[0mtimeout\u001b[0m\u001b[1;33m=\u001b[0m\u001b[0mtimeout\u001b[0m\u001b[1;33m\u001b[0m\u001b[0m\n\u001b[0m\u001b[0;32m    331\u001b[0m                 )\n\u001b[0;32m    332\u001b[0m \u001b[1;33m\u001b[0m\u001b[0m\n",
        "\u001b[1;32m/usr/lib/python2.7/dist-packages/urllib3/connectionpool.pyc\u001b[0m in \u001b[0;36murlopen\u001b[1;34m(self, method, url, body, headers, retries, redirect, assert_same_host, timeout, pool_timeout, release_conn, **response_kw)\u001b[0m\n\u001b[0;32m    540\u001b[0m             httplib_response = self._make_request(conn, method, url,\n\u001b[0;32m    541\u001b[0m                                                   \u001b[0mtimeout\u001b[0m\u001b[1;33m=\u001b[0m\u001b[0mtimeout\u001b[0m\u001b[1;33m,\u001b[0m\u001b[1;33m\u001b[0m\u001b[0m\n\u001b[1;32m--> 542\u001b[1;33m                                                   body=body, headers=headers)\n\u001b[0m\u001b[0;32m    543\u001b[0m \u001b[1;33m\u001b[0m\u001b[0m\n\u001b[0;32m    544\u001b[0m             \u001b[1;31m# If we're going to release the connection in ``finally:``, then\u001b[0m\u001b[1;33m\u001b[0m\u001b[1;33m\u001b[0m\u001b[0m\n",
        "\u001b[1;32m/usr/lib/python2.7/dist-packages/urllib3/connectionpool.pyc\u001b[0m in \u001b[0;36m_make_request\u001b[1;34m(self, conn, method, url, timeout, **httplib_request_kw)\u001b[0m\n\u001b[0;32m    392\u001b[0m         \u001b[1;32mtry\u001b[0m\u001b[1;33m:\u001b[0m\u001b[1;33m\u001b[0m\u001b[0m\n\u001b[0;32m    393\u001b[0m             \u001b[1;32mtry\u001b[0m\u001b[1;33m:\u001b[0m \u001b[1;31m# Python 2.7+, use buffering of HTTP responses\u001b[0m\u001b[1;33m\u001b[0m\u001b[0m\n\u001b[1;32m--> 394\u001b[1;33m                 \u001b[0mhttplib_response\u001b[0m \u001b[1;33m=\u001b[0m \u001b[0mconn\u001b[0m\u001b[1;33m.\u001b[0m\u001b[0mgetresponse\u001b[0m\u001b[1;33m(\u001b[0m\u001b[0mbuffering\u001b[0m\u001b[1;33m=\u001b[0m\u001b[0mTrue\u001b[0m\u001b[1;33m)\u001b[0m\u001b[1;33m\u001b[0m\u001b[0m\n\u001b[0m\u001b[0;32m    395\u001b[0m             \u001b[1;32mexcept\u001b[0m \u001b[0mTypeError\u001b[0m\u001b[1;33m:\u001b[0m \u001b[1;31m# Python 2.6 and older\u001b[0m\u001b[1;33m\u001b[0m\u001b[0m\n\u001b[0;32m    396\u001b[0m                 \u001b[0mhttplib_response\u001b[0m \u001b[1;33m=\u001b[0m \u001b[0mconn\u001b[0m\u001b[1;33m.\u001b[0m\u001b[0mgetresponse\u001b[0m\u001b[1;33m(\u001b[0m\u001b[1;33m)\u001b[0m\u001b[1;33m\u001b[0m\u001b[0m\n",
        "\u001b[1;32m/usr/lib/python2.7/httplib.pyc\u001b[0m in \u001b[0;36mgetresponse\u001b[1;34m(self, buffering)\u001b[0m\n\u001b[0;32m   1043\u001b[0m         \u001b[0mresponse\u001b[0m \u001b[1;33m=\u001b[0m \u001b[0mself\u001b[0m\u001b[1;33m.\u001b[0m\u001b[0mresponse_class\u001b[0m\u001b[1;33m(\u001b[0m\u001b[1;33m*\u001b[0m\u001b[0margs\u001b[0m\u001b[1;33m,\u001b[0m \u001b[1;33m**\u001b[0m\u001b[0mkwds\u001b[0m\u001b[1;33m)\u001b[0m\u001b[1;33m\u001b[0m\u001b[0m\n\u001b[0;32m   1044\u001b[0m \u001b[1;33m\u001b[0m\u001b[0m\n\u001b[1;32m-> 1045\u001b[1;33m         \u001b[0mresponse\u001b[0m\u001b[1;33m.\u001b[0m\u001b[0mbegin\u001b[0m\u001b[1;33m(\u001b[0m\u001b[1;33m)\u001b[0m\u001b[1;33m\u001b[0m\u001b[0m\n\u001b[0m\u001b[0;32m   1046\u001b[0m         \u001b[1;32massert\u001b[0m \u001b[0mresponse\u001b[0m\u001b[1;33m.\u001b[0m\u001b[0mwill_close\u001b[0m \u001b[1;33m!=\u001b[0m \u001b[0m_UNKNOWN\u001b[0m\u001b[1;33m\u001b[0m\u001b[0m\n\u001b[0;32m   1047\u001b[0m         \u001b[0mself\u001b[0m\u001b[1;33m.\u001b[0m\u001b[0m__state\u001b[0m \u001b[1;33m=\u001b[0m \u001b[0m_CS_IDLE\u001b[0m\u001b[1;33m\u001b[0m\u001b[0m\n",
        "\u001b[1;32m/usr/lib/python2.7/httplib.pyc\u001b[0m in \u001b[0;36mbegin\u001b[1;34m(self)\u001b[0m\n\u001b[0;32m    407\u001b[0m         \u001b[1;31m# read until we get a non-100 response\u001b[0m\u001b[1;33m\u001b[0m\u001b[1;33m\u001b[0m\u001b[0m\n\u001b[0;32m    408\u001b[0m         \u001b[1;32mwhile\u001b[0m \u001b[0mTrue\u001b[0m\u001b[1;33m:\u001b[0m\u001b[1;33m\u001b[0m\u001b[0m\n\u001b[1;32m--> 409\u001b[1;33m             \u001b[0mversion\u001b[0m\u001b[1;33m,\u001b[0m \u001b[0mstatus\u001b[0m\u001b[1;33m,\u001b[0m \u001b[0mreason\u001b[0m \u001b[1;33m=\u001b[0m \u001b[0mself\u001b[0m\u001b[1;33m.\u001b[0m\u001b[0m_read_status\u001b[0m\u001b[1;33m(\u001b[0m\u001b[1;33m)\u001b[0m\u001b[1;33m\u001b[0m\u001b[0m\n\u001b[0m\u001b[0;32m    410\u001b[0m             \u001b[1;32mif\u001b[0m \u001b[0mstatus\u001b[0m \u001b[1;33m!=\u001b[0m \u001b[0mCONTINUE\u001b[0m\u001b[1;33m:\u001b[0m\u001b[1;33m\u001b[0m\u001b[0m\n\u001b[0;32m    411\u001b[0m                 \u001b[1;32mbreak\u001b[0m\u001b[1;33m\u001b[0m\u001b[0m\n",
        "\u001b[1;32m/usr/lib/python2.7/httplib.pyc\u001b[0m in \u001b[0;36m_read_status\u001b[1;34m(self)\u001b[0m\n\u001b[0;32m    363\u001b[0m     \u001b[1;32mdef\u001b[0m \u001b[0m_read_status\u001b[0m\u001b[1;33m(\u001b[0m\u001b[0mself\u001b[0m\u001b[1;33m)\u001b[0m\u001b[1;33m:\u001b[0m\u001b[1;33m\u001b[0m\u001b[0m\n\u001b[0;32m    364\u001b[0m         \u001b[1;31m# Initialize with Simple-Response defaults\u001b[0m\u001b[1;33m\u001b[0m\u001b[1;33m\u001b[0m\u001b[0m\n\u001b[1;32m--> 365\u001b[1;33m         \u001b[0mline\u001b[0m \u001b[1;33m=\u001b[0m \u001b[0mself\u001b[0m\u001b[1;33m.\u001b[0m\u001b[0mfp\u001b[0m\u001b[1;33m.\u001b[0m\u001b[0mreadline\u001b[0m\u001b[1;33m(\u001b[0m\u001b[0m_MAXLINE\u001b[0m \u001b[1;33m+\u001b[0m \u001b[1;36m1\u001b[0m\u001b[1;33m)\u001b[0m\u001b[1;33m\u001b[0m\u001b[0m\n\u001b[0m\u001b[0;32m    366\u001b[0m         \u001b[1;32mif\u001b[0m \u001b[0mlen\u001b[0m\u001b[1;33m(\u001b[0m\u001b[0mline\u001b[0m\u001b[1;33m)\u001b[0m \u001b[1;33m>\u001b[0m \u001b[0m_MAXLINE\u001b[0m\u001b[1;33m:\u001b[0m\u001b[1;33m\u001b[0m\u001b[0m\n\u001b[0;32m    367\u001b[0m             \u001b[1;32mraise\u001b[0m \u001b[0mLineTooLong\u001b[0m\u001b[1;33m(\u001b[0m\u001b[1;34m\"header line\"\u001b[0m\u001b[1;33m)\u001b[0m\u001b[1;33m\u001b[0m\u001b[0m\n",
        "\u001b[1;32m/usr/lib/python2.7/socket.pyc\u001b[0m in \u001b[0;36mreadline\u001b[1;34m(self, size)\u001b[0m\n\u001b[0;32m    474\u001b[0m             \u001b[1;32mwhile\u001b[0m \u001b[0mTrue\u001b[0m\u001b[1;33m:\u001b[0m\u001b[1;33m\u001b[0m\u001b[0m\n\u001b[0;32m    475\u001b[0m                 \u001b[1;32mtry\u001b[0m\u001b[1;33m:\u001b[0m\u001b[1;33m\u001b[0m\u001b[0m\n\u001b[1;32m--> 476\u001b[1;33m                     \u001b[0mdata\u001b[0m \u001b[1;33m=\u001b[0m \u001b[0mself\u001b[0m\u001b[1;33m.\u001b[0m\u001b[0m_sock\u001b[0m\u001b[1;33m.\u001b[0m\u001b[0mrecv\u001b[0m\u001b[1;33m(\u001b[0m\u001b[0mself\u001b[0m\u001b[1;33m.\u001b[0m\u001b[0m_rbufsize\u001b[0m\u001b[1;33m)\u001b[0m\u001b[1;33m\u001b[0m\u001b[0m\n\u001b[0m\u001b[0;32m    477\u001b[0m                 \u001b[1;32mexcept\u001b[0m \u001b[0merror\u001b[0m\u001b[1;33m,\u001b[0m \u001b[0me\u001b[0m\u001b[1;33m:\u001b[0m\u001b[1;33m\u001b[0m\u001b[0m\n\u001b[0;32m    478\u001b[0m                     \u001b[1;32mif\u001b[0m \u001b[0me\u001b[0m\u001b[1;33m.\u001b[0m\u001b[0margs\u001b[0m\u001b[1;33m[\u001b[0m\u001b[1;36m0\u001b[0m\u001b[1;33m]\u001b[0m \u001b[1;33m==\u001b[0m \u001b[0mEINTR\u001b[0m\u001b[1;33m:\u001b[0m\u001b[1;33m\u001b[0m\u001b[0m\n",
        "\u001b[1;31mKeyboardInterrupt\u001b[0m: "
       ]
      }
     ],
     "prompt_number": 71
    },
    {
     "cell_type": "code",
     "collapsed": false,
     "input": [
      "syn_lethal_genes"
     ],
     "language": "python",
     "metadata": {},
     "outputs": [
      {
       "metadata": {},
       "output_type": "pyout",
       "prompt_number": 72,
       "text": [
        "['pduF,fabA', 'pduF,fabG', 'pduF,fabB', 'pduF,fabF']"
       ]
      }
     ],
     "prompt_number": 72
    },
    {
     "cell_type": "code",
     "collapsed": false,
     "input": [],
     "language": "python",
     "metadata": {},
     "outputs": []
    }
   ],
   "metadata": {}
  }
 ]
}